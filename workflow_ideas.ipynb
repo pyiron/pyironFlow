{
 "cells": [
  {
   "cell_type": "markdown",
   "id": "8b4d5a34-eba5-4a83-bec9-e0e3b7d332ef",
   "metadata": {},
   "source": [
    "## Pseudocode and suggestions for pyiron_workflows"
   ]
  },
  {
   "cell_type": "markdown",
   "id": "1560f7d4-9b62-48fd-8ea7-517cd64ee34e",
   "metadata": {},
   "source": [
    "#### Extend .iter to macro programming"
   ]
  },
  {
   "cell_type": "markdown",
   "id": "66dff9ac-dadf-4a6d-bb13-c7d19ec2ffdd",
   "metadata": {},
   "source": [
    "    wf.nodes = wf.create.my_path.MyNode(a=1, b=2).iter(element=['Al', 'Fe'])"
   ]
  },
  {
   "cell_type": "markdown",
   "id": "e404821c-e416-4a99-8068-ea3c3b6ac216",
   "metadata": {},
   "source": [
    "This should be easy to achieve by taking all relevant info to perform the present definition, i.e.,\n",
    "\n",
    "    self.nodes = Workflow.create.for_node(\n",
    "        body_node_class=Workflow.create.my_path.MyNode, # extract class name from node\n",
    "        iter_on=\"element\",\n",
    "        obj='Al',\n",
    "        other=['Fe']\n",
    "    )\n",
    "\n",
    "This would be much more intuitive. During the workshop people were actually trying such a construct.    "
   ]
  },
  {
   "cell_type": "markdown",
   "id": "6224fa99-92c3-468c-ae96-f73ff2128327",
   "metadata": {},
   "source": [
    "### Some ideas/thoughts to control execution"
   ]
  },
  {
   "cell_type": "markdown",
   "id": "9b8147d8-07ce-48f8-b333-17c6f888c52d",
   "metadata": {},
   "source": [
    "#### Direct approach"
   ]
  },
  {
   "cell_type": "markdown",
   "id": "08ba0423-360c-408b-a7d5-b0d4788954f7",
   "metadata": {},
   "source": [
    "    wf.nodes = wf.create.my_path.MyNode(a=1, b=2).server(cores=4).iter(element=['Al', 'Fe', 'Pb']).server(workers=3, queue='test')\n",
    "\n",
    "Run 3 MyNode jobs simultaneously on 4 cores each, i.e., the queue test is assumed/told to provide 12 cores. This notation can be easily extended to include additional control variables (e.g. for controling the log level, gpu vs cpu), etc.    "
   ]
  },
  {
   "cell_type": "markdown",
   "id": "884e5b87-2f64-4ad5-adb5-810e1a827e37",
   "metadata": {},
   "source": [
    "#### Indirect approach via workflow"
   ]
  },
  {
   "cell_type": "markdown",
   "id": "89778b00-c3ef-4293-8050-cf097541149c",
   "metadata": {},
   "source": [
    "    wf = Workflow('my_workflow').server(cores=12, queue='test')\n",
    "\n",
    "    # run interactively (no submission to queue)\n",
    "    wf.interactive_node = wf.create.my_path.MyNode(a=1, b=2) \n",
    "\n",
    "    # run by submitting to queue (note: the number of workers is not needed, is obtained from 12 cores/ 4 cores per node)\n",
    "    wf.expensive_nodes = wf.create.my_path.MyNode(a=1, b=2).server(cores=4, to_queue=True).iter(element=['Al', 'Fe', 'Pb'])\n",
    "\n",
    "    wf.run()"
   ]
  },
  {
   "cell_type": "markdown",
   "id": "63b10af2-3296-43d0-9888-611df103ab45",
   "metadata": {},
   "source": [
    "Alternative formulation (both could be supported)\n",
    "    \n",
    "    wf = Workflow('my_workflow')\n",
    "\n",
    "    # run interactively (no submission to queue)\n",
    "    wf.interactive_node = wf.create.my_path.MyNode(a=1, b=2) \n",
    "\n",
    "    # run by submitting to queue (note: the number of workers is not needed, it is obtained from 12 cores/ 4 cores per node)\n",
    "    wf.expensive_nodes = wf.create.my_path.MyNode(a=1, b=2).server(cores=4, to_queue=True).iter(element=['Al', 'Fe', 'Pb'])\n",
    "\n",
    "    wf.server(cores=12, queue='test').run()"
   ]
  },
  {
   "cell_type": "markdown",
   "id": "24f19f46-fa4e-4f90-ac24-353c10be778d",
   "metadata": {},
   "source": [
    "### Further extensions of the server "
   ]
  },
  {
   "cell_type": "markdown",
   "id": "3c01855e-aeaa-41aa-a6c1-103b8d0dd985",
   "metadata": {},
   "source": [
    "    server(\n",
    "        hash_node = None, # take from node definition (default is False)\n",
    "        log_level = wf.definitions.log_level.default # .debug, .production etc. via autocompletion\n",
    "        \n",
    "    )"
   ]
  },
  {
   "cell_type": "markdown",
   "id": "1ffbfbca-2bb3-4bec-8ce8-7b4ed32b25fc",
   "metadata": {},
   "source": [
    "Alternatively to 'server' we may consider adding additional objects that control hashing, output etc. to prevent overloading 'server' with input arguments"
   ]
  },
  {
   "cell_type": "code",
   "execution_count": null,
   "id": "dfa0b3c1-e405-434c-873a-86e6e33d2dd6",
   "metadata": {},
   "outputs": [],
   "source": []
  }
 ],
 "metadata": {
  "kernelspec": {
   "display_name": "Python 3 (ipykernel)",
   "language": "python",
   "name": "python3"
  },
  "language_info": {
   "codemirror_mode": {
    "name": "ipython",
    "version": 3
   },
   "file_extension": ".py",
   "mimetype": "text/x-python",
   "name": "python",
   "nbconvert_exporter": "python",
   "pygments_lexer": "ipython3",
   "version": "3.12.4"
  }
 },
 "nbformat": 4,
 "nbformat_minor": 5
}
