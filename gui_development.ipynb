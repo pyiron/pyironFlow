{
 "cells": [
  {
   "cell_type": "markdown",
   "id": "2d0af57e-a8b9-4862-a9cd-92bd8ce1fa16",
   "metadata": {},
   "source": [
    "# Development and test of the PyironFlow Gui"
   ]
  },
  {
   "cell_type": "code",
   "execution_count": 1,
   "id": "3be83a1e-f2b0-4d54-91b2-34b39a903c65",
   "metadata": {},
   "outputs": [],
   "source": [
    "%config IPCompleter.evaluation='unsafe'\n",
    "\n",
    "import sys\n",
    "from pathlib import Path\n",
    "sys.path.insert(0, str(Path(Path.cwd()).parent) + '/pyiron_nodes')"
   ]
  },
  {
   "cell_type": "code",
   "execution_count": 2,
   "id": "f4d7c441-ce54-4e1a-b87c-f765de711289",
   "metadata": {
    "scrolled": true
   },
   "outputs": [
    {
     "name": "stdout",
     "output_type": "stream",
     "text": [
      "\u001b[1G\u001b[0K⠙\u001b[1G\u001b[0K\n",
      "  \u001b[37mstatic/\u001b[0m\u001b[1mwidget.js\u001b[0m    \u001b[33m1.7mb ⚠️\u001b[0m\n",
      "  \u001b[37mstatic/\u001b[0m\u001b[1mwidget.css\u001b[0m  \u001b[36m15.1kb\u001b[0m\n",
      "\n",
      "⚡ \u001b[32mDone in 151ms\u001b[0m\n",
      "\u001b[1G\u001b[0K⠙\u001b[1G\u001b[0K"
     ]
    }
   ],
   "source": [
    "!npx esbuild js/widget.jsx --minify --format=esm --bundle --outdir=static"
   ]
  },
  {
   "cell_type": "code",
   "execution_count": 3,
   "id": "005814b6-b152-407d-a130-928d32e51741",
   "metadata": {},
   "outputs": [
    {
     "data": {
      "application/vnd.jupyter.widget-view+json": {
       "model_id": "3f8d8fa6fceb4548a947a80bf9652114",
       "version_major": 2,
       "version_minor": 0
      },
      "text/plain": [
       "HBox(children=(Accordion(children=(Tree(nodes=(Node(icon_style='warning', name='databases'), Node(icon_style='…"
      ]
     },
     "execution_count": 3,
     "metadata": {},
     "output_type": "execute_result"
    }
   ],
   "source": [
    "from python.pyironflow import PyironFlow\n",
    "\n",
    "pf = PyironFlow([])\n",
    "pf.gui"
   ]
  },
  {
   "cell_type": "code",
   "execution_count": 5,
   "id": "cfe21f6e-5903-4ee2-9b78-11c605728922",
   "metadata": {},
   "outputs": [],
   "source": [
    "from pyiron_workflow import Workflow\n",
    "from python.reactflow import get_import_path"
   ]
  },
  {
   "cell_type": "code",
   "execution_count": 7,
   "id": "3385cda2-2c70-422d-b8f4-0801df9730d3",
   "metadata": {},
   "outputs": [],
   "source": [
    "wf = Workflow('phonon')\n",
    "\n",
    "import pyiron_nodes.atomistic as atomistic\n",
    "# Workflow.register(\"node_library.atomistic\", \"atomistic\") \n",
    "\n",
    "wf.bulk = atomistic.structure.build.Bulk('Al', cubic=True)\n",
    "wf.phonopy = atomistic.property.phonons.CreatePhonopy()"
   ]
  },
  {
   "cell_type": "code",
   "execution_count": 27,
   "id": "cd52899c-521d-48f9-8822-7947efc632f0",
   "metadata": {},
   "outputs": [
    {
     "data": {
      "text/plain": [
       "'node_library.atomistic.structure.build.bulk'"
      ]
     },
     "execution_count": 27,
     "metadata": {},
     "output_type": "execute_result"
    }
   ],
   "source": [
    "get_import_path(wf.bulk)"
   ]
  },
  {
   "cell_type": "code",
   "execution_count": 38,
   "id": "7f89918c-a6a2-4f15-bce1-342f0dd1c57e",
   "metadata": {},
   "outputs": [
    {
     "data": {
      "text/plain": [
       "False"
      ]
     },
     "execution_count": 38,
     "metadata": {},
     "output_type": "execute_result"
    }
   ],
   "source": [
    "'__name__' in dir(wf.phonopy)"
   ]
  },
  {
   "cell_type": "code",
   "execution_count": 37,
   "id": "307f4082-63e8-447c-b5d3-9400b5b95426",
   "metadata": {},
   "outputs": [
    {
     "ename": "AmbiguousOutputError",
     "evalue": "Tried to access the channel value of phonopy, but this is only possible when there is a single output channel -- phonopy has: ['phonopy', 'out']. Access probably occurred attempting to use this object like an output channel, e.g. with injection or to form a connection. Either make sure it has exactly one output channel, or use the particular channel you want directly.",
     "output_type": "error",
     "traceback": [
      "\u001b[0;31m---------------------------------------------------------------------------\u001b[0m",
      "\u001b[0;31mAttributeError\u001b[0m                            Traceback (most recent call last)",
      "File \u001b[0;32m~/python_projects/git_libs/pyiron_workflow/pyiron_workflow/mixin/single_output.py:58\u001b[0m, in \u001b[0;36mExploitsSingleOutput.__getattr__\u001b[0;34m(self, item)\u001b[0m\n\u001b[1;32m     57\u001b[0m \u001b[38;5;28;01mtry\u001b[39;00m:\n\u001b[0;32m---> 58\u001b[0m     \u001b[38;5;28;01mreturn\u001b[39;00m \u001b[38;5;28;43msuper\u001b[39;49m\u001b[43m(\u001b[49m\u001b[43m)\u001b[49m\u001b[38;5;241;43m.\u001b[39;49m\u001b[38;5;21;43m__getattr__\u001b[39;49m(item)\n\u001b[1;32m     59\u001b[0m \u001b[38;5;28;01mexcept\u001b[39;00m \u001b[38;5;167;01mAttributeError\u001b[39;00m \u001b[38;5;28;01mas\u001b[39;00m e1:\n",
      "\u001b[0;31mAttributeError\u001b[0m: 'super' object has no attribute '__getattr__'",
      "\nThe above exception was the direct cause of the following exception:\n",
      "\u001b[0;31mAmbiguousOutputError\u001b[0m                      Traceback (most recent call last)",
      "Cell \u001b[0;32mIn[37], line 1\u001b[0m\n\u001b[0;32m----> 1\u001b[0m \u001b[38;5;28;43mhasattr\u001b[39;49m\u001b[43m(\u001b[49m\u001b[43mwf\u001b[49m\u001b[38;5;241;43m.\u001b[39;49m\u001b[43mphonopy\u001b[49m\u001b[43m,\u001b[49m\u001b[43m \u001b[49m\u001b[38;5;124;43m'\u001b[39;49m\u001b[38;5;124;43m__name__\u001b[39;49m\u001b[38;5;124;43m'\u001b[39;49m\u001b[43m)\u001b[49m\n",
      "File \u001b[0;32m~/python_projects/git_libs/pyiron_workflow/pyiron_workflow/mixin/single_output.py:63\u001b[0m, in \u001b[0;36mExploitsSingleOutput.__getattr__\u001b[0;34m(self, item)\u001b[0m\n\u001b[1;32m     61\u001b[0m     \u001b[38;5;28;01mreturn\u001b[39;00m \u001b[38;5;28mgetattr\u001b[39m(\u001b[38;5;28mself\u001b[39m\u001b[38;5;241m.\u001b[39mchannel, item)\n\u001b[1;32m     62\u001b[0m \u001b[38;5;28;01mexcept\u001b[39;00m \u001b[38;5;167;01mException\u001b[39;00m \u001b[38;5;28;01mas\u001b[39;00m e2:\n\u001b[0;32m---> 63\u001b[0m     \u001b[38;5;28;01mraise\u001b[39;00m e2 \u001b[38;5;28;01mfrom\u001b[39;00m \u001b[38;5;21;01me1\u001b[39;00m\n",
      "File \u001b[0;32m~/python_projects/git_libs/pyiron_workflow/pyiron_workflow/mixin/single_output.py:61\u001b[0m, in \u001b[0;36mExploitsSingleOutput.__getattr__\u001b[0;34m(self, item)\u001b[0m\n\u001b[1;32m     59\u001b[0m \u001b[38;5;28;01mexcept\u001b[39;00m \u001b[38;5;167;01mAttributeError\u001b[39;00m \u001b[38;5;28;01mas\u001b[39;00m e1:\n\u001b[1;32m     60\u001b[0m     \u001b[38;5;28;01mtry\u001b[39;00m:\n\u001b[0;32m---> 61\u001b[0m         \u001b[38;5;28;01mreturn\u001b[39;00m \u001b[38;5;28mgetattr\u001b[39m(\u001b[38;5;28;43mself\u001b[39;49m\u001b[38;5;241;43m.\u001b[39;49m\u001b[43mchannel\u001b[49m, item)\n\u001b[1;32m     62\u001b[0m     \u001b[38;5;28;01mexcept\u001b[39;00m \u001b[38;5;167;01mException\u001b[39;00m \u001b[38;5;28;01mas\u001b[39;00m e2:\n\u001b[1;32m     63\u001b[0m         \u001b[38;5;28;01mraise\u001b[39;00m e2 \u001b[38;5;28;01mfrom\u001b[39;00m \u001b[38;5;21;01me1\u001b[39;00m\n",
      "File \u001b[0;32m~/python_projects/git_libs/pyiron_workflow/pyiron_workflow/mixin/single_output.py:45\u001b[0m, in \u001b[0;36mExploitsSingleOutput.channel\u001b[0;34m(self)\u001b[0m\n\u001b[1;32m     33\u001b[0m \u001b[38;5;250m\u001b[39m\u001b[38;5;124;03m\"\"\"\u001b[39;00m\n\u001b[1;32m     34\u001b[0m \u001b[38;5;124;03mThe single output channel. Fulfills the interface expectations for the\u001b[39;00m\n\u001b[1;32m     35\u001b[0m \u001b[38;5;124;03m:class:`HasChannel` mixin and allows this object to be used directly for\u001b[39;00m\n\u001b[0;32m   (...)\u001b[0m\n\u001b[1;32m     42\u001b[0m \u001b[38;5;124;03m    AmbiguousOutputError: If there is not exactly one output channel.\u001b[39;00m\n\u001b[1;32m     43\u001b[0m \u001b[38;5;124;03m\"\"\"\u001b[39;00m\n\u001b[1;32m     44\u001b[0m \u001b[38;5;28;01mif\u001b[39;00m \u001b[38;5;28mlen\u001b[39m(\u001b[38;5;28mself\u001b[39m\u001b[38;5;241m.\u001b[39moutputs) \u001b[38;5;241m!=\u001b[39m \u001b[38;5;241m1\u001b[39m:\n\u001b[0;32m---> 45\u001b[0m     \u001b[38;5;28;01mraise\u001b[39;00m AmbiguousOutputError(\n\u001b[1;32m     46\u001b[0m         \u001b[38;5;124mf\u001b[39m\u001b[38;5;124m\"\u001b[39m\u001b[38;5;124mTried to access the channel value of \u001b[39m\u001b[38;5;132;01m{\u001b[39;00m\u001b[38;5;28mself\u001b[39m\u001b[38;5;241m.\u001b[39mlabel\u001b[38;5;132;01m}\u001b[39;00m\u001b[38;5;124m, but this is only \u001b[39m\u001b[38;5;124m\"\u001b[39m\n\u001b[1;32m     47\u001b[0m         \u001b[38;5;124mf\u001b[39m\u001b[38;5;124m\"\u001b[39m\u001b[38;5;124mpossible when there is a single output channel -- \u001b[39m\u001b[38;5;132;01m{\u001b[39;00m\u001b[38;5;28mself\u001b[39m\u001b[38;5;241m.\u001b[39mlabel\u001b[38;5;132;01m}\u001b[39;00m\u001b[38;5;124m has: \u001b[39m\u001b[38;5;124m\"\u001b[39m\n\u001b[1;32m     48\u001b[0m         \u001b[38;5;124mf\u001b[39m\u001b[38;5;124m\"\u001b[39m\u001b[38;5;132;01m{\u001b[39;00m\u001b[38;5;28mself\u001b[39m\u001b[38;5;241m.\u001b[39moutputs\u001b[38;5;241m.\u001b[39mlabels\u001b[38;5;132;01m}\u001b[39;00m\u001b[38;5;124m. Access probably occurred attempting to use \u001b[39m\u001b[38;5;124m\"\u001b[39m\n\u001b[1;32m     49\u001b[0m         \u001b[38;5;124mf\u001b[39m\u001b[38;5;124m\"\u001b[39m\u001b[38;5;124mthis object like an output channel, e.g. with injection or to form a \u001b[39m\u001b[38;5;124m\"\u001b[39m\n\u001b[1;32m     50\u001b[0m         \u001b[38;5;124mf\u001b[39m\u001b[38;5;124m\"\u001b[39m\u001b[38;5;124mconnection. Either make sure it has exactly one output channel, or \u001b[39m\u001b[38;5;124m\"\u001b[39m\n\u001b[1;32m     51\u001b[0m         \u001b[38;5;124mf\u001b[39m\u001b[38;5;124m\"\u001b[39m\u001b[38;5;124muse the particular channel you want directly.\u001b[39m\u001b[38;5;124m\"\u001b[39m\n\u001b[1;32m     52\u001b[0m     )\n\u001b[1;32m     53\u001b[0m \u001b[38;5;28;01melse\u001b[39;00m:\n\u001b[1;32m     54\u001b[0m     \u001b[38;5;28;01mreturn\u001b[39;00m \u001b[38;5;28mself\u001b[39m\u001b[38;5;241m.\u001b[39moutputs[\u001b[38;5;28mself\u001b[39m\u001b[38;5;241m.\u001b[39moutputs\u001b[38;5;241m.\u001b[39mlabels[\u001b[38;5;241m0\u001b[39m]]\n",
      "\u001b[0;31mAmbiguousOutputError\u001b[0m: Tried to access the channel value of phonopy, but this is only possible when there is a single output channel -- phonopy has: ['phonopy', 'out']. Access probably occurred attempting to use this object like an output channel, e.g. with injection or to form a connection. Either make sure it has exactly one output channel, or use the particular channel you want directly."
     ]
    }
   ],
   "source": [
    "hasattr(wf.phonopy, '__name__')"
   ]
  },
  {
   "cell_type": "code",
   "execution_count": null,
   "id": "3fc8bf54-1dbf-4512-98ae-6e5a04f3274d",
   "metadata": {},
   "outputs": [],
   "source": []
  },
  {
   "cell_type": "code",
   "execution_count": 33,
   "id": "4dde90c4-8e11-4ced-8d5d-3c7fc2807650",
   "metadata": {},
   "outputs": [
    {
     "data": {
      "text/plain": [
       "'create_phonopy'"
      ]
     },
     "execution_count": 33,
     "metadata": {},
     "output_type": "execute_result"
    }
   ],
   "source": [
    "wf.phonopy.__class__.__name__"
   ]
  },
  {
   "cell_type": "code",
   "execution_count": 28,
   "id": "7f6ae97b-5402-499b-9a92-069e0f8aa18d",
   "metadata": {},
   "outputs": [
    {
     "ename": "AmbiguousOutputError",
     "evalue": "Tried to access the channel value of phonopy, but this is only possible when there is a single output channel -- phonopy has: ['phonopy', 'out']. Access probably occurred attempting to use this object like an output channel, e.g. with injection or to form a connection. Either make sure it has exactly one output channel, or use the particular channel you want directly.",
     "output_type": "error",
     "traceback": [
      "\u001b[0;31m---------------------------------------------------------------------------\u001b[0m",
      "\u001b[0;31mAttributeError\u001b[0m                            Traceback (most recent call last)",
      "File \u001b[0;32m~/python_projects/git_libs/pyiron_workflow/pyiron_workflow/mixin/single_output.py:58\u001b[0m, in \u001b[0;36mExploitsSingleOutput.__getattr__\u001b[0;34m(self, item)\u001b[0m\n\u001b[1;32m     57\u001b[0m \u001b[38;5;28;01mtry\u001b[39;00m:\n\u001b[0;32m---> 58\u001b[0m     \u001b[38;5;28;01mreturn\u001b[39;00m \u001b[38;5;28;43msuper\u001b[39;49m\u001b[43m(\u001b[49m\u001b[43m)\u001b[49m\u001b[38;5;241;43m.\u001b[39;49m\u001b[38;5;21;43m__getattr__\u001b[39;49m(item)\n\u001b[1;32m     59\u001b[0m \u001b[38;5;28;01mexcept\u001b[39;00m \u001b[38;5;167;01mAttributeError\u001b[39;00m \u001b[38;5;28;01mas\u001b[39;00m e1:\n",
      "\u001b[0;31mAttributeError\u001b[0m: 'super' object has no attribute '__getattr__'",
      "\nThe above exception was the direct cause of the following exception:\n",
      "\u001b[0;31mAmbiguousOutputError\u001b[0m                      Traceback (most recent call last)",
      "Cell \u001b[0;32mIn[28], line 1\u001b[0m\n\u001b[0;32m----> 1\u001b[0m \u001b[43mget_import_path\u001b[49m\u001b[43m(\u001b[49m\u001b[43mwf\u001b[49m\u001b[38;5;241;43m.\u001b[39;49m\u001b[43mphonopy\u001b[49m\u001b[43m)\u001b[49m\n",
      "File \u001b[0;32m~/python_projects/git_libs/pyiron-xyflow/python/reactflow.py:23\u001b[0m, in \u001b[0;36mget_import_path\u001b[0;34m(obj)\u001b[0m\n\u001b[1;32m     21\u001b[0m \u001b[38;5;28;01mdef\u001b[39;00m \u001b[38;5;21mget_import_path\u001b[39m(obj):\n\u001b[1;32m     22\u001b[0m     module \u001b[38;5;241m=\u001b[39m obj\u001b[38;5;241m.\u001b[39m\u001b[38;5;18m__module__\u001b[39m \u001b[38;5;28;01mif\u001b[39;00m \u001b[38;5;28mhasattr\u001b[39m(obj, \u001b[38;5;124m\"\u001b[39m\u001b[38;5;124m__module__\u001b[39m\u001b[38;5;124m\"\u001b[39m) \u001b[38;5;28;01melse\u001b[39;00m obj\u001b[38;5;241m.\u001b[39m\u001b[38;5;18m__class__\u001b[39m\u001b[38;5;241m.\u001b[39m\u001b[38;5;18m__module__\u001b[39m\n\u001b[0;32m---> 23\u001b[0m     name \u001b[38;5;241m=\u001b[39m obj\u001b[38;5;241m.\u001b[39m\u001b[38;5;18m__name__\u001b[39m \u001b[38;5;28;01mif\u001b[39;00m \u001b[38;5;28;43mhasattr\u001b[39;49m\u001b[43m(\u001b[49m\u001b[43mobj\u001b[49m\u001b[43m,\u001b[49m\u001b[43m \u001b[49m\u001b[38;5;124;43m\"\u001b[39;49m\u001b[38;5;124;43m__name__\u001b[39;49m\u001b[38;5;124;43m\"\u001b[39;49m\u001b[43m)\u001b[49m \u001b[38;5;28;01melse\u001b[39;00m obj\u001b[38;5;241m.\u001b[39m\u001b[38;5;18m__class__\u001b[39m\u001b[38;5;241m.\u001b[39m\u001b[38;5;18m__name__\u001b[39m\n\u001b[1;32m     24\u001b[0m     path \u001b[38;5;241m=\u001b[39m \u001b[38;5;124mf\u001b[39m\u001b[38;5;124m\"\u001b[39m\u001b[38;5;132;01m{\u001b[39;00mmodule\u001b[38;5;132;01m}\u001b[39;00m\u001b[38;5;124m.\u001b[39m\u001b[38;5;132;01m{\u001b[39;00mname\u001b[38;5;132;01m}\u001b[39;00m\u001b[38;5;124m\"\u001b[39m\n\u001b[1;32m     25\u001b[0m     \u001b[38;5;28;01mif\u001b[39;00m path \u001b[38;5;241m==\u001b[39m \u001b[38;5;124m\"\u001b[39m\u001b[38;5;124mnumpy.ndarray\u001b[39m\u001b[38;5;124m\"\u001b[39m:\n",
      "File \u001b[0;32m~/python_projects/git_libs/pyiron_workflow/pyiron_workflow/mixin/single_output.py:63\u001b[0m, in \u001b[0;36mExploitsSingleOutput.__getattr__\u001b[0;34m(self, item)\u001b[0m\n\u001b[1;32m     61\u001b[0m     \u001b[38;5;28;01mreturn\u001b[39;00m \u001b[38;5;28mgetattr\u001b[39m(\u001b[38;5;28mself\u001b[39m\u001b[38;5;241m.\u001b[39mchannel, item)\n\u001b[1;32m     62\u001b[0m \u001b[38;5;28;01mexcept\u001b[39;00m \u001b[38;5;167;01mException\u001b[39;00m \u001b[38;5;28;01mas\u001b[39;00m e2:\n\u001b[0;32m---> 63\u001b[0m     \u001b[38;5;28;01mraise\u001b[39;00m e2 \u001b[38;5;28;01mfrom\u001b[39;00m \u001b[38;5;21;01me1\u001b[39;00m\n",
      "File \u001b[0;32m~/python_projects/git_libs/pyiron_workflow/pyiron_workflow/mixin/single_output.py:61\u001b[0m, in \u001b[0;36mExploitsSingleOutput.__getattr__\u001b[0;34m(self, item)\u001b[0m\n\u001b[1;32m     59\u001b[0m \u001b[38;5;28;01mexcept\u001b[39;00m \u001b[38;5;167;01mAttributeError\u001b[39;00m \u001b[38;5;28;01mas\u001b[39;00m e1:\n\u001b[1;32m     60\u001b[0m     \u001b[38;5;28;01mtry\u001b[39;00m:\n\u001b[0;32m---> 61\u001b[0m         \u001b[38;5;28;01mreturn\u001b[39;00m \u001b[38;5;28mgetattr\u001b[39m(\u001b[38;5;28;43mself\u001b[39;49m\u001b[38;5;241;43m.\u001b[39;49m\u001b[43mchannel\u001b[49m, item)\n\u001b[1;32m     62\u001b[0m     \u001b[38;5;28;01mexcept\u001b[39;00m \u001b[38;5;167;01mException\u001b[39;00m \u001b[38;5;28;01mas\u001b[39;00m e2:\n\u001b[1;32m     63\u001b[0m         \u001b[38;5;28;01mraise\u001b[39;00m e2 \u001b[38;5;28;01mfrom\u001b[39;00m \u001b[38;5;21;01me1\u001b[39;00m\n",
      "File \u001b[0;32m~/python_projects/git_libs/pyiron_workflow/pyiron_workflow/mixin/single_output.py:45\u001b[0m, in \u001b[0;36mExploitsSingleOutput.channel\u001b[0;34m(self)\u001b[0m\n\u001b[1;32m     33\u001b[0m \u001b[38;5;250m\u001b[39m\u001b[38;5;124;03m\"\"\"\u001b[39;00m\n\u001b[1;32m     34\u001b[0m \u001b[38;5;124;03mThe single output channel. Fulfills the interface expectations for the\u001b[39;00m\n\u001b[1;32m     35\u001b[0m \u001b[38;5;124;03m:class:`HasChannel` mixin and allows this object to be used directly for\u001b[39;00m\n\u001b[0;32m   (...)\u001b[0m\n\u001b[1;32m     42\u001b[0m \u001b[38;5;124;03m    AmbiguousOutputError: If there is not exactly one output channel.\u001b[39;00m\n\u001b[1;32m     43\u001b[0m \u001b[38;5;124;03m\"\"\"\u001b[39;00m\n\u001b[1;32m     44\u001b[0m \u001b[38;5;28;01mif\u001b[39;00m \u001b[38;5;28mlen\u001b[39m(\u001b[38;5;28mself\u001b[39m\u001b[38;5;241m.\u001b[39moutputs) \u001b[38;5;241m!=\u001b[39m \u001b[38;5;241m1\u001b[39m:\n\u001b[0;32m---> 45\u001b[0m     \u001b[38;5;28;01mraise\u001b[39;00m AmbiguousOutputError(\n\u001b[1;32m     46\u001b[0m         \u001b[38;5;124mf\u001b[39m\u001b[38;5;124m\"\u001b[39m\u001b[38;5;124mTried to access the channel value of \u001b[39m\u001b[38;5;132;01m{\u001b[39;00m\u001b[38;5;28mself\u001b[39m\u001b[38;5;241m.\u001b[39mlabel\u001b[38;5;132;01m}\u001b[39;00m\u001b[38;5;124m, but this is only \u001b[39m\u001b[38;5;124m\"\u001b[39m\n\u001b[1;32m     47\u001b[0m         \u001b[38;5;124mf\u001b[39m\u001b[38;5;124m\"\u001b[39m\u001b[38;5;124mpossible when there is a single output channel -- \u001b[39m\u001b[38;5;132;01m{\u001b[39;00m\u001b[38;5;28mself\u001b[39m\u001b[38;5;241m.\u001b[39mlabel\u001b[38;5;132;01m}\u001b[39;00m\u001b[38;5;124m has: \u001b[39m\u001b[38;5;124m\"\u001b[39m\n\u001b[1;32m     48\u001b[0m         \u001b[38;5;124mf\u001b[39m\u001b[38;5;124m\"\u001b[39m\u001b[38;5;132;01m{\u001b[39;00m\u001b[38;5;28mself\u001b[39m\u001b[38;5;241m.\u001b[39moutputs\u001b[38;5;241m.\u001b[39mlabels\u001b[38;5;132;01m}\u001b[39;00m\u001b[38;5;124m. Access probably occurred attempting to use \u001b[39m\u001b[38;5;124m\"\u001b[39m\n\u001b[1;32m     49\u001b[0m         \u001b[38;5;124mf\u001b[39m\u001b[38;5;124m\"\u001b[39m\u001b[38;5;124mthis object like an output channel, e.g. with injection or to form a \u001b[39m\u001b[38;5;124m\"\u001b[39m\n\u001b[1;32m     50\u001b[0m         \u001b[38;5;124mf\u001b[39m\u001b[38;5;124m\"\u001b[39m\u001b[38;5;124mconnection. Either make sure it has exactly one output channel, or \u001b[39m\u001b[38;5;124m\"\u001b[39m\n\u001b[1;32m     51\u001b[0m         \u001b[38;5;124mf\u001b[39m\u001b[38;5;124m\"\u001b[39m\u001b[38;5;124muse the particular channel you want directly.\u001b[39m\u001b[38;5;124m\"\u001b[39m\n\u001b[1;32m     52\u001b[0m     )\n\u001b[1;32m     53\u001b[0m \u001b[38;5;28;01melse\u001b[39;00m:\n\u001b[1;32m     54\u001b[0m     \u001b[38;5;28;01mreturn\u001b[39;00m \u001b[38;5;28mself\u001b[39m\u001b[38;5;241m.\u001b[39moutputs[\u001b[38;5;28mself\u001b[39m\u001b[38;5;241m.\u001b[39moutputs\u001b[38;5;241m.\u001b[39mlabels[\u001b[38;5;241m0\u001b[39m]]\n",
      "\u001b[0;31mAmbiguousOutputError\u001b[0m: Tried to access the channel value of phonopy, but this is only possible when there is a single output channel -- phonopy has: ['phonopy', 'out']. Access probably occurred attempting to use this object like an output channel, e.g. with injection or to form a connection. Either make sure it has exactly one output channel, or use the particular channel you want directly."
     ]
    }
   ],
   "source": [
    "get_import_path(wf.phonopy)"
   ]
  },
  {
   "cell_type": "code",
   "execution_count": 20,
   "id": "08f6904e-d7a1-4e3c-8a29-80c3cb314870",
   "metadata": {},
   "outputs": [
    {
     "ename": "AmbiguousOutputError",
     "evalue": "Tried to access the channel value of phonopy, but this is only possible when there is a single output channel -- phonopy has: ['phonopy', 'out']. Access probably occurred attempting to use this object like an output channel, e.g. with injection or to form a connection. Either make sure it has exactly one output channel, or use the particular channel you want directly.",
     "output_type": "error",
     "traceback": [
      "\u001b[0;31m---------------------------------------------------------------------------\u001b[0m",
      "\u001b[0;31mAttributeError\u001b[0m                            Traceback (most recent call last)",
      "File \u001b[0;32m~/python_projects/git_libs/pyiron_workflow/pyiron_workflow/mixin/single_output.py:58\u001b[0m, in \u001b[0;36mExploitsSingleOutput.__getattr__\u001b[0;34m(self, item)\u001b[0m\n\u001b[1;32m     57\u001b[0m \u001b[38;5;28;01mtry\u001b[39;00m:\n\u001b[0;32m---> 58\u001b[0m     \u001b[38;5;28;01mreturn\u001b[39;00m \u001b[38;5;28;43msuper\u001b[39;49m\u001b[43m(\u001b[49m\u001b[43m)\u001b[49m\u001b[38;5;241;43m.\u001b[39;49m\u001b[38;5;21;43m__getattr__\u001b[39;49m(item)\n\u001b[1;32m     59\u001b[0m \u001b[38;5;28;01mexcept\u001b[39;00m \u001b[38;5;167;01mAttributeError\u001b[39;00m \u001b[38;5;28;01mas\u001b[39;00m e1:\n",
      "\u001b[0;31mAttributeError\u001b[0m: 'super' object has no attribute '__getattr__'",
      "\nThe above exception was the direct cause of the following exception:\n",
      "\u001b[0;31mAmbiguousOutputError\u001b[0m                      Traceback (most recent call last)",
      "Cell \u001b[0;32mIn[20], line 1\u001b[0m\n\u001b[0;32m----> 1\u001b[0m \u001b[43mget_import_path\u001b[49m\u001b[43m(\u001b[49m\u001b[43mwf\u001b[49m\u001b[38;5;241;43m.\u001b[39;49m\u001b[43mphonopy\u001b[49m\u001b[43m)\u001b[49m\n",
      "File \u001b[0;32m~/python_projects/git_libs/pyiron-xyflow/python/reactflow.py:23\u001b[0m, in \u001b[0;36mget_import_path\u001b[0;34m(obj)\u001b[0m\n\u001b[1;32m     21\u001b[0m \u001b[38;5;28;01mdef\u001b[39;00m \u001b[38;5;21mget_import_path\u001b[39m(obj):\n\u001b[1;32m     22\u001b[0m     module \u001b[38;5;241m=\u001b[39m obj\u001b[38;5;241m.\u001b[39m\u001b[38;5;18m__module__\u001b[39m \u001b[38;5;28;01mif\u001b[39;00m \u001b[38;5;28mhasattr\u001b[39m(obj, \u001b[38;5;124m\"\u001b[39m\u001b[38;5;124m__module__\u001b[39m\u001b[38;5;124m\"\u001b[39m) \u001b[38;5;28;01melse\u001b[39;00m obj\u001b[38;5;241m.\u001b[39m\u001b[38;5;18m__class__\u001b[39m\u001b[38;5;241m.\u001b[39m\u001b[38;5;18m__module__\u001b[39m\n\u001b[0;32m---> 23\u001b[0m     name \u001b[38;5;241m=\u001b[39m obj\u001b[38;5;241m.\u001b[39m\u001b[38;5;18m__name__\u001b[39m \u001b[38;5;28;01mif\u001b[39;00m \u001b[38;5;28;43mhasattr\u001b[39;49m\u001b[43m(\u001b[49m\u001b[43mobj\u001b[49m\u001b[43m,\u001b[49m\u001b[43m \u001b[49m\u001b[38;5;124;43m\"\u001b[39;49m\u001b[38;5;124;43m__name__\u001b[39;49m\u001b[38;5;124;43m\"\u001b[39;49m\u001b[43m)\u001b[49m \u001b[38;5;28;01melse\u001b[39;00m obj\u001b[38;5;241m.\u001b[39m\u001b[38;5;18m__class__\u001b[39m\u001b[38;5;241m.\u001b[39m\u001b[38;5;18m__name__\u001b[39m\n\u001b[1;32m     24\u001b[0m     path \u001b[38;5;241m=\u001b[39m \u001b[38;5;124mf\u001b[39m\u001b[38;5;124m\"\u001b[39m\u001b[38;5;132;01m{\u001b[39;00mmodule\u001b[38;5;132;01m}\u001b[39;00m\u001b[38;5;124m.\u001b[39m\u001b[38;5;132;01m{\u001b[39;00mname\u001b[38;5;132;01m}\u001b[39;00m\u001b[38;5;124m\"\u001b[39m\n\u001b[1;32m     25\u001b[0m     \u001b[38;5;28;01mif\u001b[39;00m path \u001b[38;5;241m==\u001b[39m \u001b[38;5;124m\"\u001b[39m\u001b[38;5;124mnumpy.ndarray\u001b[39m\u001b[38;5;124m\"\u001b[39m:\n",
      "File \u001b[0;32m~/python_projects/git_libs/pyiron_workflow/pyiron_workflow/mixin/single_output.py:63\u001b[0m, in \u001b[0;36mExploitsSingleOutput.__getattr__\u001b[0;34m(self, item)\u001b[0m\n\u001b[1;32m     61\u001b[0m     \u001b[38;5;28;01mreturn\u001b[39;00m \u001b[38;5;28mgetattr\u001b[39m(\u001b[38;5;28mself\u001b[39m\u001b[38;5;241m.\u001b[39mchannel, item)\n\u001b[1;32m     62\u001b[0m \u001b[38;5;28;01mexcept\u001b[39;00m \u001b[38;5;167;01mException\u001b[39;00m \u001b[38;5;28;01mas\u001b[39;00m e2:\n\u001b[0;32m---> 63\u001b[0m     \u001b[38;5;28;01mraise\u001b[39;00m e2 \u001b[38;5;28;01mfrom\u001b[39;00m \u001b[38;5;21;01me1\u001b[39;00m\n",
      "File \u001b[0;32m~/python_projects/git_libs/pyiron_workflow/pyiron_workflow/mixin/single_output.py:61\u001b[0m, in \u001b[0;36mExploitsSingleOutput.__getattr__\u001b[0;34m(self, item)\u001b[0m\n\u001b[1;32m     59\u001b[0m \u001b[38;5;28;01mexcept\u001b[39;00m \u001b[38;5;167;01mAttributeError\u001b[39;00m \u001b[38;5;28;01mas\u001b[39;00m e1:\n\u001b[1;32m     60\u001b[0m     \u001b[38;5;28;01mtry\u001b[39;00m:\n\u001b[0;32m---> 61\u001b[0m         \u001b[38;5;28;01mreturn\u001b[39;00m \u001b[38;5;28mgetattr\u001b[39m(\u001b[38;5;28;43mself\u001b[39;49m\u001b[38;5;241;43m.\u001b[39;49m\u001b[43mchannel\u001b[49m, item)\n\u001b[1;32m     62\u001b[0m     \u001b[38;5;28;01mexcept\u001b[39;00m \u001b[38;5;167;01mException\u001b[39;00m \u001b[38;5;28;01mas\u001b[39;00m e2:\n\u001b[1;32m     63\u001b[0m         \u001b[38;5;28;01mraise\u001b[39;00m e2 \u001b[38;5;28;01mfrom\u001b[39;00m \u001b[38;5;21;01me1\u001b[39;00m\n",
      "File \u001b[0;32m~/python_projects/git_libs/pyiron_workflow/pyiron_workflow/mixin/single_output.py:45\u001b[0m, in \u001b[0;36mExploitsSingleOutput.channel\u001b[0;34m(self)\u001b[0m\n\u001b[1;32m     33\u001b[0m \u001b[38;5;250m\u001b[39m\u001b[38;5;124;03m\"\"\"\u001b[39;00m\n\u001b[1;32m     34\u001b[0m \u001b[38;5;124;03mThe single output channel. Fulfills the interface expectations for the\u001b[39;00m\n\u001b[1;32m     35\u001b[0m \u001b[38;5;124;03m:class:`HasChannel` mixin and allows this object to be used directly for\u001b[39;00m\n\u001b[0;32m   (...)\u001b[0m\n\u001b[1;32m     42\u001b[0m \u001b[38;5;124;03m    AmbiguousOutputError: If there is not exactly one output channel.\u001b[39;00m\n\u001b[1;32m     43\u001b[0m \u001b[38;5;124;03m\"\"\"\u001b[39;00m\n\u001b[1;32m     44\u001b[0m \u001b[38;5;28;01mif\u001b[39;00m \u001b[38;5;28mlen\u001b[39m(\u001b[38;5;28mself\u001b[39m\u001b[38;5;241m.\u001b[39moutputs) \u001b[38;5;241m!=\u001b[39m \u001b[38;5;241m1\u001b[39m:\n\u001b[0;32m---> 45\u001b[0m     \u001b[38;5;28;01mraise\u001b[39;00m AmbiguousOutputError(\n\u001b[1;32m     46\u001b[0m         \u001b[38;5;124mf\u001b[39m\u001b[38;5;124m\"\u001b[39m\u001b[38;5;124mTried to access the channel value of \u001b[39m\u001b[38;5;132;01m{\u001b[39;00m\u001b[38;5;28mself\u001b[39m\u001b[38;5;241m.\u001b[39mlabel\u001b[38;5;132;01m}\u001b[39;00m\u001b[38;5;124m, but this is only \u001b[39m\u001b[38;5;124m\"\u001b[39m\n\u001b[1;32m     47\u001b[0m         \u001b[38;5;124mf\u001b[39m\u001b[38;5;124m\"\u001b[39m\u001b[38;5;124mpossible when there is a single output channel -- \u001b[39m\u001b[38;5;132;01m{\u001b[39;00m\u001b[38;5;28mself\u001b[39m\u001b[38;5;241m.\u001b[39mlabel\u001b[38;5;132;01m}\u001b[39;00m\u001b[38;5;124m has: \u001b[39m\u001b[38;5;124m\"\u001b[39m\n\u001b[1;32m     48\u001b[0m         \u001b[38;5;124mf\u001b[39m\u001b[38;5;124m\"\u001b[39m\u001b[38;5;132;01m{\u001b[39;00m\u001b[38;5;28mself\u001b[39m\u001b[38;5;241m.\u001b[39moutputs\u001b[38;5;241m.\u001b[39mlabels\u001b[38;5;132;01m}\u001b[39;00m\u001b[38;5;124m. Access probably occurred attempting to use \u001b[39m\u001b[38;5;124m\"\u001b[39m\n\u001b[1;32m     49\u001b[0m         \u001b[38;5;124mf\u001b[39m\u001b[38;5;124m\"\u001b[39m\u001b[38;5;124mthis object like an output channel, e.g. with injection or to form a \u001b[39m\u001b[38;5;124m\"\u001b[39m\n\u001b[1;32m     50\u001b[0m         \u001b[38;5;124mf\u001b[39m\u001b[38;5;124m\"\u001b[39m\u001b[38;5;124mconnection. Either make sure it has exactly one output channel, or \u001b[39m\u001b[38;5;124m\"\u001b[39m\n\u001b[1;32m     51\u001b[0m         \u001b[38;5;124mf\u001b[39m\u001b[38;5;124m\"\u001b[39m\u001b[38;5;124muse the particular channel you want directly.\u001b[39m\u001b[38;5;124m\"\u001b[39m\n\u001b[1;32m     52\u001b[0m     )\n\u001b[1;32m     53\u001b[0m \u001b[38;5;28;01melse\u001b[39;00m:\n\u001b[1;32m     54\u001b[0m     \u001b[38;5;28;01mreturn\u001b[39;00m \u001b[38;5;28mself\u001b[39m\u001b[38;5;241m.\u001b[39moutputs[\u001b[38;5;28mself\u001b[39m\u001b[38;5;241m.\u001b[39moutputs\u001b[38;5;241m.\u001b[39mlabels[\u001b[38;5;241m0\u001b[39m]]\n",
      "\u001b[0;31mAmbiguousOutputError\u001b[0m: Tried to access the channel value of phonopy, but this is only possible when there is a single output channel -- phonopy has: ['phonopy', 'out']. Access probably occurred attempting to use this object like an output channel, e.g. with injection or to form a connection. Either make sure it has exactly one output channel, or use the particular channel you want directly."
     ]
    }
   ],
   "source": [
    "get_import_path(wf.phonopy)"
   ]
  },
  {
   "cell_type": "code",
   "execution_count": 15,
   "id": "2d91a9ad-62d2-4d5c-8319-24def5705f37",
   "metadata": {},
   "outputs": [
    {
     "data": {
      "text/plain": [
       "<phonopy.api_phonopy.Phonopy at 0x154465460>"
      ]
     },
     "execution_count": 15,
     "metadata": {},
     "output_type": "execute_result"
    }
   ],
   "source": [
    "from phonopy.api_phonopy import Phonopy\n",
    "\n",
    "from structuretoolkit.common import atoms_to_phonopy\n",
    "import pyiron_workflow\n",
    "\n",
    "structure = wf.bulk.run()\n",
    "phonopy = Phonopy(unitcell=atoms_to_phonopy(structure))\n",
    "phonopy"
   ]
  },
  {
   "cell_type": "code",
   "execution_count": 21,
   "id": "867dfe8b-1e6b-4946-9966-822515f0ad30",
   "metadata": {},
   "outputs": [],
   "source": [
    "# wf.phonopy.pull()"
   ]
  },
  {
   "cell_type": "markdown",
   "id": "fed9b5df-e7d3-473c-9a8a-1992e6103484",
   "metadata": {},
   "source": [
    "## Concepts to convert dataclass into node"
   ]
  },
  {
   "cell_type": "code",
   "execution_count": null,
   "id": "a422763a-6a20-4af5-99f0-46010c203bda",
   "metadata": {},
   "outputs": [],
   "source": [
    "# json.loads(pf.wf_widgets[0].gui.nodes)[1];\n",
    "\n",
    "from python.reactflow import get_node_types, _get_type_name, _get_generic_type\n",
    "import typing\n",
    "\n",
    "def get_node_types(node_io):\n",
    "    node_io_types = list()\n",
    "    for k in node_io.channel_dict:\n",
    "        type_hint = node_io[k].type_hint\n",
    "        # print (k, type(type_hint))\n",
    "        if isinstance(type_hint, typing._UnionGenericAlias):\n",
    "            # print (k, type_hint)\n",
    "            type_hint = _get_generic_type(type_hint)\n",
    "\n",
    "        node_io_types.append(_get_type_name(type_hint))\n",
    "    return node_io_types\n",
    "\n",
    "# wf.inp_calc_md.inputs.channel_dict['temperature'].type_hint"
   ]
  },
  {
   "cell_type": "code",
   "execution_count": null,
   "id": "801f212e-a016-488d-a1b2-1fbf238111d0",
   "metadata": {},
   "outputs": [],
   "source": [
    "get_node_types(wf.bulk.inputs), get_node_types(wf.inp_calc_md.inputs);"
   ]
  },
  {
   "cell_type": "code",
   "execution_count": null,
   "id": "45449123-6d4b-4805-8ec0-99ec3d54224f",
   "metadata": {},
   "outputs": [],
   "source": [
    "wf.bulk.inputs.channel_dict['vacancy_index'].type_hint"
   ]
  },
  {
   "cell_type": "code",
   "execution_count": null,
   "id": "10e27ff4-51e5-43ed-918b-bcb02c41fed4",
   "metadata": {},
   "outputs": [],
   "source": [
    "def f(a:int=3):\n",
    "    return a"
   ]
  },
  {
   "cell_type": "code",
   "execution_count": null,
   "id": "68fc4c3e-61c6-43c6-9a22-2fc88956225b",
   "metadata": {},
   "outputs": [],
   "source": [
    "f.__annotations__"
   ]
  },
  {
   "cell_type": "code",
   "execution_count": null,
   "id": "01e0316f-8c97-40dd-9cb2-505c8040d824",
   "metadata": {},
   "outputs": [],
   "source": [
    "def f(a, b, c: int=3):\n",
    "    return a"
   ]
  },
  {
   "cell_type": "code",
   "execution_count": null,
   "id": "36d69eca-167f-4ecf-9ab3-d6c036589fd6",
   "metadata": {},
   "outputs": [],
   "source": [
    "from inspect import signature"
   ]
  },
  {
   "cell_type": "code",
   "execution_count": null,
   "id": "f88d2907-75d5-40dd-8321-5f26b7b06489",
   "metadata": {},
   "outputs": [],
   "source": [
    "f'f{str(signature(f))}'"
   ]
  },
  {
   "cell_type": "code",
   "execution_count": null,
   "id": "78e258f7-9ccb-40ed-a82f-6bf4ffe28808",
   "metadata": {},
   "outputs": [],
   "source": [
    "a = pn.atomistic.structure.build.CubicBulkCell"
   ]
  },
  {
   "cell_type": "code",
   "execution_count": null,
   "id": "6b799ccb-d45f-4612-8376-36f883d9d617",
   "metadata": {},
   "outputs": [],
   "source": [
    "signature(a)"
   ]
  },
  {
   "cell_type": "code",
   "execution_count": null,
   "id": "423c90a4-74a3-4aa9-9550-9b278b63a3af",
   "metadata": {},
   "outputs": [],
   "source": [
    "pf = PyironFlow([])\n",
    "pf.gui"
   ]
  },
  {
   "cell_type": "code",
   "execution_count": null,
   "id": "535d3983-4713-43b7-9de7-d1dd2753ee61",
   "metadata": {},
   "outputs": [],
   "source": [
    "wf = pf.get_workflow()\n",
    "wf"
   ]
  },
  {
   "cell_type": "code",
   "execution_count": null,
   "id": "82c4629e-efc6-4f61-b0ae-b40e9fea40ca",
   "metadata": {},
   "outputs": [],
   "source": [
    "pf = PyironFlow([wf])\n",
    "pf.gui"
   ]
  },
  {
   "cell_type": "code",
   "execution_count": null,
   "id": "cf80e350-aabe-49c5-bb13-0b743e8e57c8",
   "metadata": {},
   "outputs": [],
   "source": [
    "from python.reactflow import get_node_types, _get_type_name, _get_generic_type\n",
    "import typing\n",
    "\n",
    "def get_node_types(node_io):\n",
    "    node_io_types = list()\n",
    "    for k in node_io.channel_dict:\n",
    "        type_hint = node_io[k].type_hint\n",
    "        # print (k, type(type_hint))\n",
    "        if isinstance(type_hint, typing._UnionGenericAlias):\n",
    "            # print (k, type_hint)\n",
    "            type_hint = _get_generic_type(type_hint)\n",
    "\n",
    "        node_io_types.append(_get_type_name(type_hint))\n",
    "    return node_io_types"
   ]
  },
  {
   "cell_type": "code",
   "execution_count": null,
   "id": "a0e898e1-72d5-4342-b077-0b5755fcb428",
   "metadata": {},
   "outputs": [],
   "source": [
    "from pyiron_workflow import as_dataclass_node\n",
    "from typing import Optional\n",
    "from dataclasses import dataclass\n",
    "\n",
    "# @as_dataclass_node\n",
    "@dataclass\n",
    "class InputCalcMD:\n",
    "    temperature: Optional[int | float] = 300\n",
    "    n_ionic_steps: int = 10_000\n",
    "    n_print: int = 100\n",
    "    pressure: Optional[int | float] = None\n",
    "    time_step: Optional[int | float] = 1.0\n",
    "    temperature_damping_timescale: Optional[int | float] = 100.0\n",
    "    pressure_damping_timescale: Optional[int | float] = 1000.0\n",
    "    seed: Optional[int] = None\n",
    "    tloop: Optional[float] = None\n",
    "    initial_temperature: Optional[float] = None\n",
    "    langevin: bool = False\n",
    "    delta_temp: Optional[float] = None\n",
    "    delta_press: Optional[float] = None\n",
    "\n",
    "# InputCalcMD()"
   ]
  },
  {
   "cell_type": "code",
   "execution_count": null,
   "id": "08640f39-174a-4a52-975d-0625f3fd2db6",
   "metadata": {},
   "outputs": [],
   "source": [
    "ic_md = InputCalcMD()\n",
    "get_node_types(ic_md.inputs)"
   ]
  },
  {
   "cell_type": "code",
   "execution_count": null,
   "id": "511c1bab-c192-4d4d-a265-4e33054d0917",
   "metadata": {},
   "outputs": [],
   "source": [
    "from pyiron_nodes.atomistic.calculator.data import InputCalcMD\n",
    "\n",
    "ic_md = as_dataclass_node(InputCalcMD)()\n",
    "get_node_types(ic_md.inputs)"
   ]
  },
  {
   "cell_type": "code",
   "execution_count": null,
   "id": "b1609241-6596-475b-abde-8212d1753a9b",
   "metadata": {},
   "outputs": [],
   "source": [
    "InputCalcMD??"
   ]
  },
  {
   "cell_type": "code",
   "execution_count": null,
   "id": "05446c44-0d16-4a01-9797-28fcde77230c",
   "metadata": {},
   "outputs": [],
   "source": [
    "pn.atomistic.engine.lammps.SetInputCalcMD().color"
   ]
  },
  {
   "cell_type": "code",
   "execution_count": null,
   "id": "299fba4e-9efd-4dd7-ba9a-ab52a2fb9303",
   "metadata": {},
   "outputs": [],
   "source": [
    "type(pn.atomistic.calculator.data.InputCalcMD().run())"
   ]
  },
  {
   "cell_type": "code",
   "execution_count": null,
   "id": "5c8ce597-5466-4853-8a81-03672526afb5",
   "metadata": {},
   "outputs": [],
   "source": [
    "isinstance(pn.atomistic.calculator.data.InputCalcMD().run(), pyiron_nodes.atomistic.calculator.data.InputCalcMD.dataclass)"
   ]
  },
  {
   "cell_type": "code",
   "execution_count": null,
   "id": "ec30be72-96e5-4fd1-8393-b99f68e222a2",
   "metadata": {},
   "outputs": [],
   "source": [
    "def dataclass_to_function(instance: Any) -> Callable:\n",
    "    dataclass_type = type(instance)\n",
    "    fields = dataclasses.fields(instance)\n",
    "    \n",
    "    # Create argument list and function code\n",
    "    arg_list_str = ', '.join([f'{f.name}={repr(getattr(instance, f.name))}' for f in fields])\n",
    "    function_code = f'def {dataclass_type.__name__}_func({arg_list_str}):\\n' \\\n",
    "                    f'    return {dataclass_type.__name__}({arg_list_str})'\n",
    "    \n",
    "    print(function_code)  # This will print the function code\n",
    "\n",
    "    # Create function in local context\n",
    "    namespace = {dataclass_type.__name__: dataclass_type}\n",
    "    exec(function_code, namespace)\n",
    "    \n",
    "    # Populate func with the newly created function and return\n",
    "    func = namespace[f'{dataclass_type.__name__}_func']\n",
    "    return func\n",
    "\n",
    "\n",
    "@dataclasses.dataclass\n",
    "class InputCalcMD:\n",
    "    temperature: float = 300\n",
    "    pressure: float = 0\n",
    "\n",
    "fn = dataclass_to_function(InputCalcMD())\n",
    "print(inspect.getsource(fn))\n",
    "\n"
   ]
  },
  {
   "cell_type": "code",
   "execution_count": null,
   "id": "474185d7-2fc6-48d4-9bd5-e7b50ab2e83a",
   "metadata": {},
   "outputs": [],
   "source": [
    "@dataclasses.dataclass\n",
    "class InputCalcMD:\n",
    "    temperature: float = 300\n",
    "    pressure: float = 0\n",
    "\n",
    "fn = dataclass_to_function(InputCalcMD())\n",
    "fn"
   ]
  },
  {
   "cell_type": "code",
   "execution_count": null,
   "id": "29a2f99f-046a-4225-8f4c-d39e51e29711",
   "metadata": {},
   "outputs": [],
   "source": [
    "Workflow.wrap.as_function_node(fn)\n"
   ]
  },
  {
   "cell_type": "code",
   "execution_count": null,
   "id": "cce752ae-88ce-402f-8e13-7ff0c53c58a7",
   "metadata": {},
   "outputs": [],
   "source": [
    "import dataclasses\n",
    "import dill\n",
    "from typing import Any\n",
    "\n",
    "def dataclass_to_function(instance: Any):\n",
    "    dataclass_type = type(instance)\n",
    "    fields = dataclasses.fields(instance)\n",
    "    \n",
    "    # Create argument list and function code\n",
    "    arg_list_str = ', '.join([f'{f.name} = {repr(getattr(instance, f.name))}' for f in fields])\n",
    "    function_code = f'def {dataclass_type.__name__}_func({arg_list_str}):\\n    return {dataclass_type.__name__}({arg_list_str})'\n",
    "      \n",
    "    # Create function in local context  \n",
    "    namespace = {dataclass_type.__name__: dataclass_type}\n",
    "    exec(function_code, namespace)\n",
    "    func = namespace[dataclass_type.__name__ + '_func']\n",
    "    \n",
    "    # Use dill's dumps to serialize the function and then loads to get function object\n",
    "    serialized_func = dill.dumps(func)\n",
    "    loaded_func = dill.loads(serialized_func)\n",
    "    \n",
    "    return loaded_func\n",
    "\n",
    "@dataclasses.dataclass\n",
    "class MyDataclass:\n",
    "    temperature: float = 300\n",
    "    pressure: float = 0\n",
    "\n",
    "input_instance = MyDataclass()\n",
    "\n",
    "fn = dataclass_to_function(input_instance)\n",
    "\n",
    "# Now dill.source.getsource should work, but it will return the serialized byte representation, not the original Python code.\n",
    "print(dill.source.getsource(fn))  \n"
   ]
  },
  {
   "cell_type": "code",
   "execution_count": null,
   "id": "7d76bf5d-169d-4da1-acb3-1d6f0ab1a34b",
   "metadata": {},
   "outputs": [],
   "source": []
  }
 ],
 "metadata": {
  "kernelspec": {
   "display_name": "Python 3 (ipykernel)",
   "language": "python",
   "name": "python3"
  },
  "language_info": {
   "codemirror_mode": {
    "name": "ipython",
    "version": 3
   },
   "file_extension": ".py",
   "mimetype": "text/x-python",
   "name": "python",
   "nbconvert_exporter": "python",
   "pygments_lexer": "ipython3",
   "version": "3.12.4"
  }
 },
 "nbformat": 4,
 "nbformat_minor": 5
}
