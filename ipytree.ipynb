{
 "cells": [
  {
   "cell_type": "markdown",
   "id": "2907b53f-9434-477c-b3a4-df02ab1c4c91",
   "metadata": {},
   "source": [
    "# Tree viewer for node library"
   ]
  },
  {
   "cell_type": "code",
   "execution_count": 7,
   "id": "64ec6812-4028-42a9-a944-01148cea0edf",
   "metadata": {},
   "outputs": [],
   "source": [
    "from ipytree import Tree, Node"
   ]
  },
  {
   "cell_type": "code",
   "execution_count": 218,
   "id": "b541a159-37a1-4ea0-87b5-cf9e3a5f409f",
   "metadata": {},
   "outputs": [],
   "source": [
    "from pathlib import Path\n",
    "\n",
    "def list_nodes(node: Path):\n",
    "    \"\"\"\n",
    "    Return a list of child directories and python files of a given Path' node'.\n",
    "    Child directories and python files starting with '.' or '_' are excluded.\n",
    "    \n",
    "    Parameters:\n",
    "    node (Path): A directory or a python file.\n",
    "    \n",
    "    Returns:\n",
    "    nodes (List[Path]): List of child directories and python files. For python file 'node', list_pyiron_nodes(node) is called and the paths are added.\n",
    "    \"\"\"    \n",
    "    node_path = node\n",
    "\n",
    "    nodes = []\n",
    "    if node.is_dir():\n",
    "        for child in node_path.iterdir():\n",
    "            if child.is_dir() and not child.name.startswith('.') and not child.name.startswith('_'):\n",
    "                nodes.append(child)\n",
    "    \n",
    "        for child in node_path.glob('*.py'):\n",
    "            if not child.name.startswith('.') and not child.name.startswith('_'):\n",
    "                nodes.append(child) \n",
    "                \n",
    "    elif node.is_file():\n",
    "        for child in list_pyiron_nodes(node):\n",
    "            nodes.append(child) \n",
    "\n",
    "        \n",
    "    return nodes"
   ]
  },
  {
   "cell_type": "code",
   "execution_count": 230,
   "id": "25d48ef4-f750-486a-bd98-ce3b31851a80",
   "metadata": {},
   "outputs": [],
   "source": [
    "from dataclasses import dataclass\n",
    "\n",
    "@dataclass\n",
    "class FunctionNode:\n",
    "    name: str\n",
    "    path: str"
   ]
  },
  {
   "cell_type": "code",
   "execution_count": 268,
   "id": "914dfa8c-fc92-4d73-baae-457e6d9c7c9a",
   "metadata": {},
   "outputs": [],
   "source": [
    "import ast\n",
    "\n",
    "def list_pyiron_nodes(my_python_file):\n",
    "    \"\"\"\n",
    "    This function reads a Python code file and looks for any assignments \n",
    "    to a list variable named 'nodes'. It then creates FunctionNode objects \n",
    "    for each element in this list and returns all FunctionNodes in a list.\n",
    "\n",
    "    Params:\n",
    "    ------\n",
    "    my_python_file : str\n",
    "        Path to the python file to be analysed\n",
    "\n",
    "    Returns:\n",
    "    -------\n",
    "    nodes : list of FunctionNode\n",
    "        List of FunctionNodes extracted from the Python file\n",
    "    \"\"\"    \n",
    "    nodes = []\n",
    "    with open(my_python_file, \"r\") as source:\n",
    "        tree = ast.parse(source.read())\n",
    "        \n",
    "        for stmt in tree.body:\n",
    "            if (isinstance(stmt, ast.Assign) and \n",
    "                len(stmt.targets) == 1 and \n",
    "                isinstance(stmt.targets[0], ast.Name) and \n",
    "                stmt.targets[0].id == 'nodes'):\n",
    "        \n",
    "                for n in stmt.value.elts:        \n",
    "                    func_node = FunctionNode(name=n.id, \n",
    "                                             path=Path(my_python_file))\n",
    "                    nodes.append(func_node)\n",
    "                \n",
    "    return nodes"
   ]
  },
  {
   "cell_type": "code",
   "execution_count": 235,
   "id": "aebf0f21-e51d-462f-90b7-f6ae49ff648d",
   "metadata": {},
   "outputs": [],
   "source": [
    "def handle_click(event):\n",
    "    \"\"\"\n",
    "    This function handles click events by adding nodes to the selected object\n",
    "    if it does not already have any nodes. \n",
    "\n",
    "    Params:\n",
    "    ------\n",
    "    event : dict\n",
    "        A dictionary representing the event object.\n",
    "\n",
    "    Note:\n",
    "    The event object should include the owner of the event (the object that was clicked),\n",
    "    and the owner should have a 'nodes' property (a list of nodes) and a 'path' property (the path to the node).\n",
    "    \"\"\"    \n",
    "    selected_node = event['owner']\n",
    "    if (len(selected_node.nodes)) == 0:\n",
    "        add_nodes(selected_node, selected_node.path)"
   ]
  },
  {
   "cell_type": "code",
   "execution_count": 254,
   "id": "246caf13-9710-4b51-892d-6db18e210cb9",
   "metadata": {},
   "outputs": [],
   "source": [
    "def add_nodes(tree, parent_node):\n",
    "    \"\"\"\n",
    "    This function adds child nodes to a parent node in a tree. It assumes the input \n",
    "    is a Abstract Syntax Tree (AST). It creates new nodes based on the attributes \n",
    "    of the parent node, updates icon style based on the type of node and finally \n",
    "    adds child nodes to the parent.\n",
    "\n",
    "    Params:\n",
    "    ------\n",
    "    tree : ast\n",
    "        The Abstract Syntax Tree\n",
    "\n",
    "    parent_node : Node object\n",
    "        The node of the AST to which child nodes must be added\n",
    "\n",
    "    \"\"\"\n",
    "    \n",
    "    for node in list_nodes(parent_node):\n",
    "        name_lst = node.name.split('.')\n",
    "        if len(name_lst) > 1:\n",
    "            if 'py' == name_lst[-1]:\n",
    "                node_tree = Node(name_lst[0])\n",
    "                node_tree.icon = 'archive' # 'file'\n",
    "                node_tree.icon_style = 'success'\n",
    "            else:\n",
    "                continue\n",
    "        else:\n",
    "            node_tree = Node(node.name)\n",
    "            if isinstance(node, FunctionNode):\n",
    "                node_tree.icon = 'codepen' # 'file-code' # 'code'\n",
    "                node_tree.icon_style = 'danger'       \n",
    "            else:    \n",
    "                node_tree.icon = 'folder' # 'info', 'copy', 'archive' \n",
    "                node_tree.icon_style = 'warning'            \n",
    "        \n",
    "        node_tree.path = node\n",
    "        tree.add_node(node_tree)\n",
    "    \n",
    "        node_tree.observe(handle_click, 'selected')\n",
    "    "
   ]
  },
  {
   "cell_type": "code",
   "execution_count": 266,
   "id": "bc0064c1-ce8a-4f5f-ade0-007efbcb9590",
   "metadata": {},
   "outputs": [],
   "source": [
    "def view_tree(root_path='../pyiron_nodes/node_library'):\n",
    "    \"\"\"\n",
    "    This function generates and returns a tree view of nodes starting from the \n",
    "    root_path directory.\n",
    "\n",
    "    Params:\n",
    "    ------\n",
    "    root_path : str or Path, optional\n",
    "        The root directory path from which the tree starts. \n",
    "        Defaults to '../pyiron_nodes/node_library'.\n",
    "\n",
    "    Return:\n",
    "    ------\n",
    "    tree : Tree object\n",
    "        A tree view object with nodes added to it.\n",
    "    \"\"\"\n",
    "    import copy\n",
    "    \n",
    "    path = copy.copy(root_path)\n",
    "    if isinstance(path, str):\n",
    "        path = Path(root_path)\n",
    "\n",
    "    tree = Tree(stripes=True)\n",
    "    add_nodes(tree, parent_node=path)\n",
    "    \n",
    "    return tree"
   ]
  },
  {
   "cell_type": "markdown",
   "id": "ca8f4da5-ca65-4d5c-b245-be6edb0a9eab",
   "metadata": {},
   "source": [
    "Note: available icons and type in ipytree\n",
    "- style_values = [\"warning\", \"danger\", \"success\", \"info\", \"default\"]\n",
    "- icons: https://fontawesome.com/v5/search?q=node&o=r (version 5) appears to work"
   ]
  },
  {
   "cell_type": "code",
   "execution_count": 267,
   "id": "97acad24-7613-4515-99f5-0f3becd2dc63",
   "metadata": {},
   "outputs": [
    {
     "data": {
      "application/vnd.jupyter.widget-view+json": {
       "model_id": "b5287bd97c284e97a54be7eae0bb89e6",
       "version_major": 2,
       "version_minor": 0
      },
      "text/plain": [
       "Tree(nodes=(Node(icon_style='warning', name='databases'), Node(icon_style='warning', name='development'), Node…"
      ]
     },
     "execution_count": 267,
     "metadata": {},
     "output_type": "execute_result"
    }
   ],
   "source": [
    "view_tree('../pyiron_nodes/node_library')"
   ]
  },
  {
   "cell_type": "code",
   "execution_count": 45,
   "id": "27b0f7ea-9713-4870-8dad-6ac09531e270",
   "metadata": {},
   "outputs": [],
   "source": [
    "def get_subpath_remove_ext(path, subpath_start):\n",
    "    if subpath_start in path.parts:\n",
    "        start_index = path.parts.index(subpath_start)\n",
    "        subpath = Path(*path.parts[start_index:])\n",
    "        subpath_no_ext = subpath.with_suffix('')\n",
    "        return subpath_no_ext\n",
    "    else:\n",
    "        return \"The subpath start was not found in the path.\""
   ]
  },
  {
   "cell_type": "code",
   "execution_count": 12,
   "id": "c8a914e8-5fca-411c-847c-69433e398d57",
   "metadata": {},
   "outputs": [],
   "source": [
    "def on_click(node):\n",
    "     button.description = 'node' "
   ]
  },
  {
   "cell_type": "code",
   "execution_count": 62,
   "id": "6afef0a4-9e62-4aa4-9f11-ee71c7bbd0f3",
   "metadata": {},
   "outputs": [
    {
     "data": {
      "application/vnd.jupyter.widget-view+json": {
       "model_id": "34f8737e9a0b48d2aad430064d20626d",
       "version_major": 2,
       "version_minor": 0
      },
      "text/plain": [
       "Text(value='', layout=Layout(height='40px', width='auto'))"
      ]
     },
     "execution_count": 62,
     "metadata": {},
     "output_type": "execute_result"
    }
   ],
   "source": [
    "layout = widgets.Layout(width='auto', height='40px') #set width and height\n",
    "\n",
    "button = widgets.Text(display='flex',\n",
    "    flex_flow='column',\n",
    "    align_items='stretch', \n",
    "    layout=layout)\n",
    "button"
   ]
  },
  {
   "cell_type": "code",
   "execution_count": 69,
   "id": "be76d71a-a2ea-4c9b-a877-f9ee08e035c7",
   "metadata": {},
   "outputs": [],
   "source": [
    "def on_click(node):\n",
    "    path = get_subpath_remove_ext(node.path.path, 'node_library') / node.path.name\n",
    "    path_str = str(path).replace('/', '.')\n",
    "    button.value = str(path_str)"
   ]
  },
  {
   "cell_type": "markdown",
   "id": "3e113c82-1b94-437c-a5ae-49e7f964f1f9",
   "metadata": {},
   "source": [
    "## Tree view widget connected to FlowWidget"
   ]
  },
  {
   "cell_type": "code",
   "execution_count": 1,
   "id": "fe028ef1-9023-4a1b-a403-3b161e45d4a1",
   "metadata": {},
   "outputs": [],
   "source": [
    "%config IPCompleter.evaluation='unsafe'\n",
    "\n",
    "import sys\n",
    "from pathlib import Path\n",
    "sys.path.insert(0, str(Path(Path.cwd()).parent) + '/pyiron_nodes')"
   ]
  },
  {
   "cell_type": "code",
   "execution_count": 2,
   "id": "7f6ec0c3-9ea1-463d-995b-77e1edcc732a",
   "metadata": {},
   "outputs": [],
   "source": [
    "from python.treeview import TreeView\n",
    "import ipywidgets as widgets\n",
    "\n",
    "from python.reactflow import PyironFlowWidget"
   ]
  },
  {
   "cell_type": "code",
   "execution_count": 3,
   "id": "ed4f9357-1ee2-401f-9078-ee6977d7efc8",
   "metadata": {},
   "outputs": [
    {
     "data": {
      "application/vnd.jupyter.widget-view+json": {
       "model_id": "ccc0e1939af041fd813546a46ee77065",
       "version_major": 2,
       "version_minor": 0
      },
      "text/plain": []
     },
     "metadata": {},
     "output_type": "display_data"
    }
   ],
   "source": [
    "from pyiron_workflow import Workflow   \n",
    "\n",
    "Workflow.register(\"node_library.atomistic\", \"atomistic\") \n",
    "\n",
    "wf = Workflow('compute_elastic_constants')\n",
    "wf.engine = wf.create.atomistic.engine.ase.M3GNet()\n",
    "wf.structure = wf.create.atomistic.structure.build.bulk('Pb', cubic=True)\n",
    "wf.elastic = wf.create.atomistic.property.elastic.elastic_constants(structure=wf.structure, engine=wf.engine) #, parameters=parameters)\n",
    "# out = elastic.pull()"
   ]
  },
  {
   "cell_type": "code",
   "execution_count": 4,
   "id": "eca1d708-0321-4f2c-926e-558b89e504bb",
   "metadata": {},
   "outputs": [
    {
     "data": {
      "application/vnd.jupyter.widget-view+json": {
       "model_id": "029096fa77cc43199a97112716f2a1ff",
       "version_major": 2,
       "version_minor": 1
      },
      "text/plain": [
       "ReactFlowWidget(edges='[{\"source\": \"engine\", \"sourceHandle\": \"engine\", \"target\": \"elastic\", \"targetHandle\": \"e…"
      ]
     },
     "execution_count": 4,
     "metadata": {},
     "output_type": "execute_result"
    }
   ],
   "source": [
    "fw = PyironFlowWidget(wf)\n",
    "fw.react_flow_widget"
   ]
  },
  {
   "cell_type": "code",
   "execution_count": 5,
   "id": "278167c0-ee3a-4165-8d5b-124ef7751ab7",
   "metadata": {},
   "outputs": [
    {
     "data": {
      "application/vnd.jupyter.widget-view+json": {
       "model_id": "3d98ce14c2d5429f9368da8cc0d19821",
       "version_major": 2,
       "version_minor": 0
      },
      "text/plain": [
       "Tree(nodes=(Node(icon_style='warning', name='databases'), Node(icon_style='warning', name='development'), Node…"
      ]
     },
     "execution_count": 5,
     "metadata": {},
     "output_type": "execute_result"
    }
   ],
   "source": [
    "tree = TreeView('../pyiron_nodes/node_library', flow_widget=fw)\n",
    "tree.tree"
   ]
  },
  {
   "cell_type": "code",
   "execution_count": null,
   "id": "c6406c2f-65c0-4974-893e-d82ba5eb7f45",
   "metadata": {},
   "outputs": [],
   "source": []
  }
 ],
 "metadata": {
  "kernelspec": {
   "display_name": "Python 3 (ipykernel)",
   "language": "python",
   "name": "python3"
  },
  "language_info": {
   "codemirror_mode": {
    "name": "ipython",
    "version": 3
   },
   "file_extension": ".py",
   "mimetype": "text/x-python",
   "name": "python",
   "nbconvert_exporter": "python",
   "pygments_lexer": "ipython3",
   "version": "3.12.4"
  }
 },
 "nbformat": 4,
 "nbformat_minor": 5
}
