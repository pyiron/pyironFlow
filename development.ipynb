{
 "cells": [
  {
   "cell_type": "code",
   "execution_count": 2,
   "metadata": {},
   "outputs": [
    {
     "data": {
      "application/vnd.jupyter.widget-view+json": {
       "model_id": "f58f2d5690564a16a6af7dcaddd58396",
       "version_major": 2,
       "version_minor": 0
      },
      "text/plain": [
       "BokehModel(combine_events=True, render_bundle={'docs_json': {'ef875638-da66-49dc-a8ff-ed02ecc2d85d': {'version…"
      ]
     },
     "execution_count": 2,
     "metadata": {},
     "output_type": "execute_result"
    }
   ],
   "source": [
    "\n",
    "import panel\n",
    "code = 'print(1)'\n",
    "\n",
    "editor = panel.widgets.CodeEditor(\n",
    "    value=code,\n",
    "    language=\"python\",\n",
    "    theme=\"monokai\",\n",
    "    min_height=100,\n",
    "    max_width=400,\n",
    "    sizing_mode=\"stretch_width\",\n",
    ")\n",
    "ipywidget_code_editor = panel.ipywidget(editor)\n",
    "ipywidget_code_editor"
   ]
  },
  {
   "cell_type": "markdown",
   "metadata": {},
   "source": [
    "# Test and implement new ideas for pyironFlow"
   ]
  },
  {
   "cell_type": "code",
   "execution_count": 3,
   "metadata": {},
   "outputs": [],
   "source": [
    "import ipywidgets as widgets\n",
    "from pygments import highlight\n",
    "from pygments.lexers import get_lexer_by_name\n",
    "from pygments.formatters import HtmlFormatter\n",
    "from IPython.display import display, HTML"
   ]
  },
  {
   "cell_type": "markdown",
   "metadata": {},
   "source": []
  },
  {
   "cell_type": "code",
   "execution_count": 4,
   "metadata": {},
   "outputs": [],
   "source": [
    "def update_highlighting(change):\n",
    "    code = editor.value\n",
    "    lexer = get_lexer_by_name(\"python\", stripall=True)\n",
    "    formatter = HtmlFormatter(style=\"default\")\n",
    "    highlighted = highlight(code, lexer, formatter)\n",
    "    output.value = f\"<style>{formatter.get_style_defs()}</style>{highlighted}\""
   ]
  },
  {
   "cell_type": "code",
   "execution_count": 5,
   "metadata": {},
   "outputs": [],
   "source": [
    "editor = widgets.Textarea(\n",
    "    value=\"# Enter your Python code here\\n\",\n",
    "    placeholder=\"Type something\",\n",
    "    description=\"Editor:\",\n",
    "    disabled=False,\n",
    "    layout={\"width\": \"100%\", \"height\": \"300px\"},\n",
    ")\n",
    "\n",
    "output = widgets.HTML(\n",
    "    value=\"<pre># Enter your Python code here</pre>\",\n",
    "    placeholder=\"\",\n",
    "    description=\"Output:\",\n",
    ")"
   ]
  },
  {
   "cell_type": "code",
   "execution_count": 6,
   "metadata": {},
   "outputs": [
    {
     "data": {
      "application/vnd.jupyter.widget-view+json": {
       "model_id": "189333b4b7884c5f90939ae35fd814b1",
       "version_major": 2,
       "version_minor": 0
      },
      "text/plain": [
       "Textarea(value='# Enter your Python code here\\n', description='Editor:', layout=Layout(height='300px', width='…"
      ]
     },
     "metadata": {},
     "output_type": "display_data"
    },
    {
     "data": {
      "application/vnd.jupyter.widget-view+json": {
       "model_id": "7a5dfb8fecf54de6a8cb88f067ea3173",
       "version_major": 2,
       "version_minor": 0
      },
      "text/plain": [
       "HTML(value='<pre># Enter your Python code here</pre>', description='Output:', placeholder='')"
      ]
     },
     "metadata": {},
     "output_type": "display_data"
    }
   ],
   "source": [
    "editor.observe(update_highlighting, names=\"value\")\n",
    "display(editor, output)"
   ]
  },
  {
   "cell_type": "code",
   "execution_count": 7,
   "metadata": {},
   "outputs": [
    {
     "data": {
      "text/html": [
       "<script type=\"esms-options\">{\"shimMode\": true}</script><style>*[data-root-id],\n",
       "*[data-root-id] > * {\n",
       "  box-sizing: border-box;\n",
       "  font-family: var(--jp-ui-font-family);\n",
       "  font-size: var(--jp-ui-font-size1);\n",
       "  color: var(--vscode-editor-foreground, var(--jp-ui-font-color1));\n",
       "}\n",
       "\n",
       "/* Override VSCode background color */\n",
       ".cell-output-ipywidget-background:has(\n",
       "    > .cell-output-ipywidget-background > .lm-Widget > *[data-root-id]\n",
       "  ),\n",
       ".cell-output-ipywidget-background:has(> .lm-Widget > *[data-root-id]) {\n",
       "  background-color: transparent !important;\n",
       "}\n",
       "</style>"
      ]
     },
     "metadata": {},
     "output_type": "display_data"
    },
    {
     "data": {
      "application/javascript": "(function(root) {\n  function now() {\n    return new Date();\n  }\n\n  const force = true;\n  const py_version = '3.6.1'.replace('rc', '-rc.').replace('.dev', '-dev.');\n  const reloading = false;\n  const Bokeh = root.Bokeh;\n\n  // Set a timeout for this load but only if we are not already initializing\n  if (typeof (root._bokeh_timeout) === \"undefined\" || (force || !root._bokeh_is_initializing)) {\n    root._bokeh_timeout = Date.now() + 5000;\n    root._bokeh_failed_load = false;\n  }\n\n  function run_callbacks() {\n    try {\n      root._bokeh_onload_callbacks.forEach(function(callback) {\n        if (callback != null)\n          callback();\n      });\n    } finally {\n      delete root._bokeh_onload_callbacks;\n    }\n    console.debug(\"Bokeh: all callbacks have finished\");\n  }\n\n  function load_libs(css_urls, js_urls, js_modules, js_exports, callback) {\n    if (css_urls == null) css_urls = [];\n    if (js_urls == null) js_urls = [];\n    if (js_modules == null) js_modules = [];\n    if (js_exports == null) js_exports = {};\n\n    root._bokeh_onload_callbacks.push(callback);\n\n    if (root._bokeh_is_loading > 0) {\n      // Don't load bokeh if it is still initializing\n      console.debug(\"Bokeh: BokehJS is being loaded, scheduling callback at\", now());\n      return null;\n    } else if (js_urls.length === 0 && js_modules.length === 0 && Object.keys(js_exports).length === 0) {\n      // There is nothing to load\n      run_callbacks();\n      return null;\n    }\n\n    function on_load() {\n      root._bokeh_is_loading--;\n      if (root._bokeh_is_loading === 0) {\n        console.debug(\"Bokeh: all BokehJS libraries/stylesheets loaded\");\n        run_callbacks()\n      }\n    }\n    window._bokeh_on_load = on_load\n\n    function on_error(e) {\n      const src_el = e.srcElement\n      console.error(\"failed to load \" + (src_el.href || src_el.src));\n    }\n\n    const skip = [];\n    if (window.requirejs) {\n      window.requirejs.config({'packages': {}, 'paths': {'ace': '//cdnjs.cloudflare.com/ajax/libs/ace/1.4.7'}, 'shim': {'ace/ext-language_tools': {'deps': ['ace/ace']}, 'ace/ext-modelist': {'deps': ['ace/ace']}}});\n      require([\"ace/ace\"], function(ace) {\n        window.ace = ace\n        on_load()\n      })\n      require([\"ace/ext-language_tools\"], function() {\n        on_load()\n      })\n      require([\"ace/ext-modelist\"], function() {\n        on_load()\n      })\n      root._bokeh_is_loading = css_urls.length + 3;\n    } else {\n      root._bokeh_is_loading = css_urls.length + js_urls.length + js_modules.length + Object.keys(js_exports).length;\n    }\n\n    const existing_stylesheets = []\n    const links = document.getElementsByTagName('link')\n    for (let i = 0; i < links.length; i++) {\n      const link = links[i]\n      if (link.href != null) {\n        existing_stylesheets.push(link.href)\n      }\n    }\n    for (let i = 0; i < css_urls.length; i++) {\n      const url = css_urls[i];\n      const escaped = encodeURI(url)\n      if (existing_stylesheets.indexOf(escaped) !== -1) {\n        on_load()\n        continue;\n      }\n      const element = document.createElement(\"link\");\n      element.onload = on_load;\n      element.onerror = on_error;\n      element.rel = \"stylesheet\";\n      element.type = \"text/css\";\n      element.href = url;\n      console.debug(\"Bokeh: injecting link tag for BokehJS stylesheet: \", url);\n      document.body.appendChild(element);\n    }    if (((window.ace !== undefined) && (!(window.ace instanceof HTMLElement))) || window.requirejs) {\n      var urls = ['https://cdnjs.cloudflare.com/ajax/libs/ace/1.4.11/ace.js', 'https://cdnjs.cloudflare.com/ajax/libs/ace/1.4.11/ext-language_tools.js', 'https://cdnjs.cloudflare.com/ajax/libs/ace/1.4.11/ext-modelist.js'];\n      for (var i = 0; i < urls.length; i++) {\n        skip.push(encodeURI(urls[i]))\n      }\n    }    var existing_scripts = []\n    const scripts = document.getElementsByTagName('script')\n    for (let i = 0; i < scripts.length; i++) {\n      var script = scripts[i]\n      if (script.src != null) {\n        existing_scripts.push(script.src)\n      }\n    }\n    for (let i = 0; i < js_urls.length; i++) {\n      const url = js_urls[i];\n      const escaped = encodeURI(url)\n      if (skip.indexOf(escaped) !== -1 || existing_scripts.indexOf(escaped) !== -1) {\n        if (!window.requirejs) {\n          on_load();\n        }\n        continue;\n      }\n      const element = document.createElement('script');\n      element.onload = on_load;\n      element.onerror = on_error;\n      element.async = false;\n      element.src = url;\n      console.debug(\"Bokeh: injecting script tag for BokehJS library: \", url);\n      document.head.appendChild(element);\n    }\n    for (let i = 0; i < js_modules.length; i++) {\n      const url = js_modules[i];\n      const escaped = encodeURI(url)\n      if (skip.indexOf(escaped) !== -1 || existing_scripts.indexOf(escaped) !== -1) {\n        if (!window.requirejs) {\n          on_load();\n        }\n        continue;\n      }\n      var element = document.createElement('script');\n      element.onload = on_load;\n      element.onerror = on_error;\n      element.async = false;\n      element.src = url;\n      element.type = \"module\";\n      console.debug(\"Bokeh: injecting script tag for BokehJS library: \", url);\n      document.head.appendChild(element);\n    }\n    for (const name in js_exports) {\n      const url = js_exports[name];\n      const escaped = encodeURI(url)\n      if (skip.indexOf(escaped) >= 0 || root[name] != null) {\n        if (!window.requirejs) {\n          on_load();\n        }\n        continue;\n      }\n      var element = document.createElement('script');\n      element.onerror = on_error;\n      element.async = false;\n      element.type = \"module\";\n      console.debug(\"Bokeh: injecting script tag for BokehJS library: \", url);\n      element.textContent = `\n      import ${name} from \"${url}\"\n      window.${name} = ${name}\n      window._bokeh_on_load()\n      `\n      document.head.appendChild(element);\n    }\n    if (!js_urls.length && !js_modules.length) {\n      on_load()\n    }\n  };\n\n  function inject_raw_css(css) {\n    const element = document.createElement(\"style\");\n    element.appendChild(document.createTextNode(css));\n    document.body.appendChild(element);\n  }\n\n  const js_urls = [\"https://cdnjs.cloudflare.com/ajax/libs/ace/1.4.11/ace.js\", \"https://cdnjs.cloudflare.com/ajax/libs/ace/1.4.11/ext-language_tools.js\", \"https://cdnjs.cloudflare.com/ajax/libs/ace/1.4.11/ext-modelist.js\", \"https://cdn.holoviz.org/panel/1.5.4/dist/bundled/reactiveesm/es-module-shims@^1.10.0/dist/es-module-shims.min.js\", \"https://cdn.bokeh.org/bokeh/release/bokeh-3.6.1.min.js\", \"https://cdn.bokeh.org/bokeh/release/bokeh-gl-3.6.1.min.js\", \"https://cdn.bokeh.org/bokeh/release/bokeh-widgets-3.6.1.min.js\", \"https://cdn.bokeh.org/bokeh/release/bokeh-tables-3.6.1.min.js\", \"https://cdn.holoviz.org/panel/1.5.4/dist/panel.min.js\"];\n  const js_modules = [];\n  const js_exports = {};\n  const css_urls = [];\n  const inline_js = [    function(Bokeh) {\n      Bokeh.set_log_level(\"info\");\n    },\nfunction(Bokeh) {} // ensure no trailing comma for IE\n  ];\n\n  function run_inline_js() {\n    if ((root.Bokeh !== undefined) || (force === true)) {\n      for (let i = 0; i < inline_js.length; i++) {\n        try {\n          inline_js[i].call(root, root.Bokeh);\n        } catch(e) {\n          if (!reloading) {\n            throw e;\n          }\n        }\n      }\n      // Cache old bokeh versions\n      if (Bokeh != undefined && !reloading) {\n        var NewBokeh = root.Bokeh;\n        if (Bokeh.versions === undefined) {\n          Bokeh.versions = new Map();\n        }\n        if (NewBokeh.version !== Bokeh.version) {\n          Bokeh.versions.set(NewBokeh.version, NewBokeh)\n        }\n        root.Bokeh = Bokeh;\n      }\n    } else if (Date.now() < root._bokeh_timeout) {\n      setTimeout(run_inline_js, 100);\n    } else if (!root._bokeh_failed_load) {\n      console.log(\"Bokeh: BokehJS failed to load within specified timeout.\");\n      root._bokeh_failed_load = true;\n    }\n    root._bokeh_is_initializing = false\n  }\n\n  function load_or_wait() {\n    // Implement a backoff loop that tries to ensure we do not load multiple\n    // versions of Bokeh and its dependencies at the same time.\n    // In recent versions we use the root._bokeh_is_initializing flag\n    // to determine whether there is an ongoing attempt to initialize\n    // bokeh, however for backward compatibility we also try to ensure\n    // that we do not start loading a newer (Panel>=1.0 and Bokeh>3) version\n    // before older versions are fully initialized.\n    if (root._bokeh_is_initializing && Date.now() > root._bokeh_timeout) {\n      // If the timeout and bokeh was not successfully loaded we reset\n      // everything and try loading again\n      root._bokeh_timeout = Date.now() + 5000;\n      root._bokeh_is_initializing = false;\n      root._bokeh_onload_callbacks = undefined;\n      root._bokeh_is_loading = 0\n      console.log(\"Bokeh: BokehJS was loaded multiple times but one version failed to initialize.\");\n      load_or_wait();\n    } else if (root._bokeh_is_initializing || (typeof root._bokeh_is_initializing === \"undefined\" && root._bokeh_onload_callbacks !== undefined)) {\n      setTimeout(load_or_wait, 100);\n    } else {\n      root._bokeh_is_initializing = true\n      root._bokeh_onload_callbacks = []\n      const bokeh_loaded = root.Bokeh != null && (root.Bokeh.version === py_version || (root.Bokeh.versions !== undefined && root.Bokeh.versions.has(py_version)));\n      if (!reloading && !bokeh_loaded) {\n        if (root.Bokeh) {\n          root.Bokeh = undefined;\n        }\n        console.debug(\"Bokeh: BokehJS not loaded, scheduling load and callback at\", now());\n      }\n      load_libs(css_urls, js_urls, js_modules, js_exports, function() {\n        console.debug(\"Bokeh: BokehJS plotting callback run at\", now());\n        run_inline_js();\n      });\n    }\n  }\n  // Give older versions of the autoload script a head-start to ensure\n  // they initialize before we start loading newer version.\n  setTimeout(load_or_wait, 100)\n}(window));",
      "application/vnd.holoviews_load.v0+json": ""
     },
     "metadata": {},
     "output_type": "display_data"
    },
    {
     "data": {
      "application/javascript": "\nif ((window.PyViz === undefined) || (window.PyViz instanceof HTMLElement)) {\n  window.PyViz = {comms: {}, comm_status:{}, kernels:{}, receivers: {}, plot_index: []}\n}\n\n\n    function JupyterCommManager() {\n    }\n\n    JupyterCommManager.prototype.register_target = function(plot_id, comm_id, msg_handler) {\n      if (window.comm_manager || ((window.Jupyter !== undefined) && (Jupyter.notebook.kernel != null))) {\n        var comm_manager = window.comm_manager || Jupyter.notebook.kernel.comm_manager;\n        comm_manager.register_target(comm_id, function(comm) {\n          comm.on_msg(msg_handler);\n        });\n      } else if ((plot_id in window.PyViz.kernels) && (window.PyViz.kernels[plot_id])) {\n        window.PyViz.kernels[plot_id].registerCommTarget(comm_id, function(comm) {\n          comm.onMsg = msg_handler;\n        });\n      } else if (typeof google != 'undefined' && google.colab.kernel != null) {\n        google.colab.kernel.comms.registerTarget(comm_id, (comm) => {\n          var messages = comm.messages[Symbol.asyncIterator]();\n          function processIteratorResult(result) {\n            var message = result.value;\n            console.log(message)\n            var content = {data: message.data, comm_id};\n            var buffers = []\n            for (var buffer of message.buffers || []) {\n              buffers.push(new DataView(buffer))\n            }\n            var metadata = message.metadata || {};\n            var msg = {content, buffers, metadata}\n            msg_handler(msg);\n            return messages.next().then(processIteratorResult);\n          }\n          return messages.next().then(processIteratorResult);\n        })\n      }\n    }\n\n    JupyterCommManager.prototype.get_client_comm = function(plot_id, comm_id, msg_handler) {\n      if (comm_id in window.PyViz.comms) {\n        return window.PyViz.comms[comm_id];\n      } else if (window.comm_manager || ((window.Jupyter !== undefined) && (Jupyter.notebook.kernel != null))) {\n        var comm_manager = window.comm_manager || Jupyter.notebook.kernel.comm_manager;\n        var comm = comm_manager.new_comm(comm_id, {}, {}, {}, comm_id);\n        if (msg_handler) {\n          comm.on_msg(msg_handler);\n        }\n      } else if ((plot_id in window.PyViz.kernels) && (window.PyViz.kernels[plot_id])) {\n        var comm = window.PyViz.kernels[plot_id].connectToComm(comm_id);\n        comm.open();\n        if (msg_handler) {\n          comm.onMsg = msg_handler;\n        }\n      } else if (typeof google != 'undefined' && google.colab.kernel != null) {\n        var comm_promise = google.colab.kernel.comms.open(comm_id)\n        comm_promise.then((comm) => {\n          window.PyViz.comms[comm_id] = comm;\n          if (msg_handler) {\n            var messages = comm.messages[Symbol.asyncIterator]();\n            function processIteratorResult(result) {\n              var message = result.value;\n              var content = {data: message.data};\n              var metadata = message.metadata || {comm_id};\n              var msg = {content, metadata}\n              msg_handler(msg);\n              return messages.next().then(processIteratorResult);\n            }\n            return messages.next().then(processIteratorResult);\n          }\n        }) \n        var sendClosure = (data, metadata, buffers, disposeOnDone) => {\n          return comm_promise.then((comm) => {\n            comm.send(data, metadata, buffers, disposeOnDone);\n          });\n        };\n        var comm = {\n          send: sendClosure\n        };\n      }\n      window.PyViz.comms[comm_id] = comm;\n      return comm;\n    }\n    window.PyViz.comm_manager = new JupyterCommManager();\n    \n\n\nvar JS_MIME_TYPE = 'application/javascript';\nvar HTML_MIME_TYPE = 'text/html';\nvar EXEC_MIME_TYPE = 'application/vnd.holoviews_exec.v0+json';\nvar CLASS_NAME = 'output';\n\n/**\n * Render data to the DOM node\n */\nfunction render(props, node) {\n  var div = document.createElement(\"div\");\n  var script = document.createElement(\"script\");\n  node.appendChild(div);\n  node.appendChild(script);\n}\n\n/**\n * Handle when a new output is added\n */\nfunction handle_add_output(event, handle) {\n  var output_area = handle.output_area;\n  var output = handle.output;\n  if ((output.data == undefined) || (!output.data.hasOwnProperty(EXEC_MIME_TYPE))) {\n    return\n  }\n  var id = output.metadata[EXEC_MIME_TYPE][\"id\"];\n  var toinsert = output_area.element.find(\".\" + CLASS_NAME.split(' ')[0]);\n  if (id !== undefined) {\n    var nchildren = toinsert.length;\n    var html_node = toinsert[nchildren-1].children[0];\n    html_node.innerHTML = output.data[HTML_MIME_TYPE];\n    var scripts = [];\n    var nodelist = html_node.querySelectorAll(\"script\");\n    for (var i in nodelist) {\n      if (nodelist.hasOwnProperty(i)) {\n        scripts.push(nodelist[i])\n      }\n    }\n\n    scripts.forEach( function (oldScript) {\n      var newScript = document.createElement(\"script\");\n      var attrs = [];\n      var nodemap = oldScript.attributes;\n      for (var j in nodemap) {\n        if (nodemap.hasOwnProperty(j)) {\n          attrs.push(nodemap[j])\n        }\n      }\n      attrs.forEach(function(attr) { newScript.setAttribute(attr.name, attr.value) });\n      newScript.appendChild(document.createTextNode(oldScript.innerHTML));\n      oldScript.parentNode.replaceChild(newScript, oldScript);\n    });\n    if (JS_MIME_TYPE in output.data) {\n      toinsert[nchildren-1].children[1].textContent = output.data[JS_MIME_TYPE];\n    }\n    output_area._hv_plot_id = id;\n    if ((window.Bokeh !== undefined) && (id in Bokeh.index)) {\n      window.PyViz.plot_index[id] = Bokeh.index[id];\n    } else {\n      window.PyViz.plot_index[id] = null;\n    }\n  } else if (output.metadata[EXEC_MIME_TYPE][\"server_id\"] !== undefined) {\n    var bk_div = document.createElement(\"div\");\n    bk_div.innerHTML = output.data[HTML_MIME_TYPE];\n    var script_attrs = bk_div.children[0].attributes;\n    for (var i = 0; i < script_attrs.length; i++) {\n      toinsert[toinsert.length - 1].childNodes[1].setAttribute(script_attrs[i].name, script_attrs[i].value);\n    }\n    // store reference to server id on output_area\n    output_area._bokeh_server_id = output.metadata[EXEC_MIME_TYPE][\"server_id\"];\n  }\n}\n\n/**\n * Handle when an output is cleared or removed\n */\nfunction handle_clear_output(event, handle) {\n  var id = handle.cell.output_area._hv_plot_id;\n  var server_id = handle.cell.output_area._bokeh_server_id;\n  if (((id === undefined) || !(id in PyViz.plot_index)) && (server_id !== undefined)) { return; }\n  var comm = window.PyViz.comm_manager.get_client_comm(\"hv-extension-comm\", \"hv-extension-comm\", function () {});\n  if (server_id !== null) {\n    comm.send({event_type: 'server_delete', 'id': server_id});\n    return;\n  } else if (comm !== null) {\n    comm.send({event_type: 'delete', 'id': id});\n  }\n  delete PyViz.plot_index[id];\n  if ((window.Bokeh !== undefined) & (id in window.Bokeh.index)) {\n    var doc = window.Bokeh.index[id].model.document\n    doc.clear();\n    const i = window.Bokeh.documents.indexOf(doc);\n    if (i > -1) {\n      window.Bokeh.documents.splice(i, 1);\n    }\n  }\n}\n\n/**\n * Handle kernel restart event\n */\nfunction handle_kernel_cleanup(event, handle) {\n  delete PyViz.comms[\"hv-extension-comm\"];\n  window.PyViz.plot_index = {}\n}\n\n/**\n * Handle update_display_data messages\n */\nfunction handle_update_output(event, handle) {\n  handle_clear_output(event, {cell: {output_area: handle.output_area}})\n  handle_add_output(event, handle)\n}\n\nfunction register_renderer(events, OutputArea) {\n  function append_mime(data, metadata, element) {\n    // create a DOM node to render to\n    var toinsert = this.create_output_subarea(\n    metadata,\n    CLASS_NAME,\n    EXEC_MIME_TYPE\n    );\n    this.keyboard_manager.register_events(toinsert);\n    // Render to node\n    var props = {data: data, metadata: metadata[EXEC_MIME_TYPE]};\n    render(props, toinsert[0]);\n    element.append(toinsert);\n    return toinsert\n  }\n\n  events.on('output_added.OutputArea', handle_add_output);\n  events.on('output_updated.OutputArea', handle_update_output);\n  events.on('clear_output.CodeCell', handle_clear_output);\n  events.on('delete.Cell', handle_clear_output);\n  events.on('kernel_ready.Kernel', handle_kernel_cleanup);\n\n  OutputArea.prototype.register_mime_type(EXEC_MIME_TYPE, append_mime, {\n    safe: true,\n    index: 0\n  });\n}\n\nif (window.Jupyter !== undefined) {\n  try {\n    var events = require('base/js/events');\n    var OutputArea = require('notebook/js/outputarea').OutputArea;\n    if (OutputArea.prototype.mime_types().indexOf(EXEC_MIME_TYPE) == -1) {\n      register_renderer(events, OutputArea);\n    }\n  } catch(err) {\n  }\n}\n",
      "application/vnd.holoviews_load.v0+json": ""
     },
     "metadata": {},
     "output_type": "display_data"
    },
    {
     "data": {
      "application/vnd.holoviews_exec.v0+json": "",
      "text/html": [
       "<div id='87199743-a726-49e3-bc55-adcb54e84de5'>\n",
       "  <div id=\"dd11351e-9ca5-4b8e-94c2-0efab0ecd29c\" data-root-id=\"87199743-a726-49e3-bc55-adcb54e84de5\" style=\"display: contents;\"></div>\n",
       "</div>\n",
       "<script type=\"application/javascript\">(function(root) {\n",
       "  var docs_json = {\"4619ec3a-6aaa-4ff3-8887-39dd71190d43\":{\"version\":\"3.6.1\",\"title\":\"Bokeh Application\",\"roots\":[{\"type\":\"object\",\"name\":\"panel.models.browser.BrowserInfo\",\"id\":\"87199743-a726-49e3-bc55-adcb54e84de5\"},{\"type\":\"object\",\"name\":\"panel.models.comm_manager.CommManager\",\"id\":\"40149e24-c547-456b-a520-13207075aedf\",\"attributes\":{\"plot_id\":\"87199743-a726-49e3-bc55-adcb54e84de5\",\"comm_id\":\"e7c807972a7848a5af13b139e2de75d0\",\"client_comm_id\":\"db6531e77f044db5bd128fceb1d7b9d9\"}}],\"defs\":[{\"type\":\"model\",\"name\":\"ReactiveHTML1\"},{\"type\":\"model\",\"name\":\"FlexBox1\",\"properties\":[{\"name\":\"align_content\",\"kind\":\"Any\",\"default\":\"flex-start\"},{\"name\":\"align_items\",\"kind\":\"Any\",\"default\":\"flex-start\"},{\"name\":\"flex_direction\",\"kind\":\"Any\",\"default\":\"row\"},{\"name\":\"flex_wrap\",\"kind\":\"Any\",\"default\":\"wrap\"},{\"name\":\"gap\",\"kind\":\"Any\",\"default\":\"\"},{\"name\":\"justify_content\",\"kind\":\"Any\",\"default\":\"flex-start\"}]},{\"type\":\"model\",\"name\":\"FloatPanel1\",\"properties\":[{\"name\":\"config\",\"kind\":\"Any\",\"default\":{\"type\":\"map\"}},{\"name\":\"contained\",\"kind\":\"Any\",\"default\":true},{\"name\":\"position\",\"kind\":\"Any\",\"default\":\"right-top\"},{\"name\":\"offsetx\",\"kind\":\"Any\",\"default\":null},{\"name\":\"offsety\",\"kind\":\"Any\",\"default\":null},{\"name\":\"theme\",\"kind\":\"Any\",\"default\":\"primary\"},{\"name\":\"status\",\"kind\":\"Any\",\"default\":\"normalized\"}]},{\"type\":\"model\",\"name\":\"GridStack1\",\"properties\":[{\"name\":\"mode\",\"kind\":\"Any\",\"default\":\"warn\"},{\"name\":\"ncols\",\"kind\":\"Any\",\"default\":null},{\"name\":\"nrows\",\"kind\":\"Any\",\"default\":null},{\"name\":\"allow_resize\",\"kind\":\"Any\",\"default\":true},{\"name\":\"allow_drag\",\"kind\":\"Any\",\"default\":true},{\"name\":\"state\",\"kind\":\"Any\",\"default\":[]}]},{\"type\":\"model\",\"name\":\"drag1\",\"properties\":[{\"name\":\"slider_width\",\"kind\":\"Any\",\"default\":5},{\"name\":\"slider_color\",\"kind\":\"Any\",\"default\":\"black\"},{\"name\":\"value\",\"kind\":\"Any\",\"default\":50}]},{\"type\":\"model\",\"name\":\"click1\",\"properties\":[{\"name\":\"terminal_output\",\"kind\":\"Any\",\"default\":\"\"},{\"name\":\"debug_name\",\"kind\":\"Any\",\"default\":\"\"},{\"name\":\"clears\",\"kind\":\"Any\",\"default\":0}]},{\"type\":\"model\",\"name\":\"FastWrapper1\",\"properties\":[{\"name\":\"object\",\"kind\":\"Any\",\"default\":null},{\"name\":\"style\",\"kind\":\"Any\",\"default\":null}]},{\"type\":\"model\",\"name\":\"NotificationAreaBase1\",\"properties\":[{\"name\":\"js_events\",\"kind\":\"Any\",\"default\":{\"type\":\"map\"}},{\"name\":\"position\",\"kind\":\"Any\",\"default\":\"bottom-right\"},{\"name\":\"_clear\",\"kind\":\"Any\",\"default\":0}]},{\"type\":\"model\",\"name\":\"NotificationArea1\",\"properties\":[{\"name\":\"js_events\",\"kind\":\"Any\",\"default\":{\"type\":\"map\"}},{\"name\":\"notifications\",\"kind\":\"Any\",\"default\":[]},{\"name\":\"position\",\"kind\":\"Any\",\"default\":\"bottom-right\"},{\"name\":\"_clear\",\"kind\":\"Any\",\"default\":0},{\"name\":\"types\",\"kind\":\"Any\",\"default\":[{\"type\":\"map\",\"entries\":[[\"type\",\"warning\"],[\"background\",\"#ffc107\"],[\"icon\",{\"type\":\"map\",\"entries\":[[\"className\",\"fas fa-exclamation-triangle\"],[\"tagName\",\"i\"],[\"color\",\"white\"]]}]]},{\"type\":\"map\",\"entries\":[[\"type\",\"info\"],[\"background\",\"#007bff\"],[\"icon\",{\"type\":\"map\",\"entries\":[[\"className\",\"fas fa-info-circle\"],[\"tagName\",\"i\"],[\"color\",\"white\"]]}]]}]}]},{\"type\":\"model\",\"name\":\"Notification\",\"properties\":[{\"name\":\"background\",\"kind\":\"Any\",\"default\":null},{\"name\":\"duration\",\"kind\":\"Any\",\"default\":3000},{\"name\":\"icon\",\"kind\":\"Any\",\"default\":null},{\"name\":\"message\",\"kind\":\"Any\",\"default\":\"\"},{\"name\":\"notification_type\",\"kind\":\"Any\",\"default\":null},{\"name\":\"_destroyed\",\"kind\":\"Any\",\"default\":false}]},{\"type\":\"model\",\"name\":\"TemplateActions1\",\"properties\":[{\"name\":\"open_modal\",\"kind\":\"Any\",\"default\":0},{\"name\":\"close_modal\",\"kind\":\"Any\",\"default\":0}]},{\"type\":\"model\",\"name\":\"BootstrapTemplateActions1\",\"properties\":[{\"name\":\"open_modal\",\"kind\":\"Any\",\"default\":0},{\"name\":\"close_modal\",\"kind\":\"Any\",\"default\":0}]},{\"type\":\"model\",\"name\":\"TemplateEditor1\",\"properties\":[{\"name\":\"layout\",\"kind\":\"Any\",\"default\":[]}]},{\"type\":\"model\",\"name\":\"MaterialTemplateActions1\",\"properties\":[{\"name\":\"open_modal\",\"kind\":\"Any\",\"default\":0},{\"name\":\"close_modal\",\"kind\":\"Any\",\"default\":0}]},{\"type\":\"model\",\"name\":\"ReactiveESM1\",\"properties\":[{\"name\":\"esm_constants\",\"kind\":\"Any\",\"default\":{\"type\":\"map\"}}]},{\"type\":\"model\",\"name\":\"JSComponent1\",\"properties\":[{\"name\":\"esm_constants\",\"kind\":\"Any\",\"default\":{\"type\":\"map\"}}]},{\"type\":\"model\",\"name\":\"ReactComponent1\",\"properties\":[{\"name\":\"esm_constants\",\"kind\":\"Any\",\"default\":{\"type\":\"map\"}}]},{\"type\":\"model\",\"name\":\"AnyWidgetComponent1\",\"properties\":[{\"name\":\"esm_constants\",\"kind\":\"Any\",\"default\":{\"type\":\"map\"}}]},{\"type\":\"model\",\"name\":\"request_value1\",\"properties\":[{\"name\":\"fill\",\"kind\":\"Any\",\"default\":\"none\"},{\"name\":\"_synced\",\"kind\":\"Any\",\"default\":null},{\"name\":\"_request_sync\",\"kind\":\"Any\",\"default\":0}]}]}};\n",
       "  var render_items = [{\"docid\":\"4619ec3a-6aaa-4ff3-8887-39dd71190d43\",\"roots\":{\"87199743-a726-49e3-bc55-adcb54e84de5\":\"dd11351e-9ca5-4b8e-94c2-0efab0ecd29c\"},\"root_ids\":[\"87199743-a726-49e3-bc55-adcb54e84de5\"]}];\n",
       "  var docs = Object.values(docs_json)\n",
       "  if (!docs) {\n",
       "    return\n",
       "  }\n",
       "  const py_version = docs[0].version.replace('rc', '-rc.').replace('.dev', '-dev.')\n",
       "  async function embed_document(root) {\n",
       "    var Bokeh = get_bokeh(root)\n",
       "    await Bokeh.embed.embed_items_notebook(docs_json, render_items);\n",
       "    for (const render_item of render_items) {\n",
       "      for (const root_id of render_item.root_ids) {\n",
       "\tconst id_el = document.getElementById(root_id)\n",
       "\tif (id_el.children.length && id_el.children[0].hasAttribute('data-root-id')) {\n",
       "\t  const root_el = id_el.children[0]\n",
       "\t  root_el.id = root_el.id + '-rendered'\n",
       "\t  for (const child of root_el.children) {\n",
       "            // Ensure JupyterLab does not capture keyboard shortcuts\n",
       "            // see: https://jupyterlab.readthedocs.io/en/4.1.x/extension/notebook.html#keyboard-interaction-model\n",
       "\t    child.setAttribute('data-lm-suppress-shortcuts', 'true')\n",
       "\t  }\n",
       "\t}\n",
       "      }\n",
       "    }\n",
       "  }\n",
       "  function get_bokeh(root) {\n",
       "    if (root.Bokeh === undefined) {\n",
       "      return null\n",
       "    } else if (root.Bokeh.version !== py_version) {\n",
       "      if (root.Bokeh.versions === undefined || !root.Bokeh.versions.has(py_version)) {\n",
       "\treturn null\n",
       "      }\n",
       "      return root.Bokeh.versions.get(py_version);\n",
       "    } else if (root.Bokeh.version === py_version) {\n",
       "      return root.Bokeh\n",
       "    }\n",
       "    return null\n",
       "  }\n",
       "  function is_loaded(root) {\n",
       "    var Bokeh = get_bokeh(root)\n",
       "    return (Bokeh != null && Bokeh.Panel !== undefined)\n",
       "  }\n",
       "  if (is_loaded(root)) {\n",
       "    embed_document(root);\n",
       "  } else {\n",
       "    var attempts = 0;\n",
       "    var timer = setInterval(function(root) {\n",
       "      if (is_loaded(root)) {\n",
       "        clearInterval(timer);\n",
       "        embed_document(root);\n",
       "      } else if (document.readyState == \"complete\") {\n",
       "        attempts++;\n",
       "        if (attempts > 200) {\n",
       "          clearInterval(timer);\n",
       "\t  var Bokeh = get_bokeh(root)\n",
       "\t  if (Bokeh == null || Bokeh.Panel == null) {\n",
       "            console.warn(\"Panel: ERROR: Unable to run Panel code because Bokeh or Panel library is missing\");\n",
       "\t  } else {\n",
       "\t    console.warn(\"Panel: WARNING: Attempting to render but not all required libraries could be resolved.\")\n",
       "\t    embed_document(root)\n",
       "\t  }\n",
       "        }\n",
       "      }\n",
       "    }, 25, root)\n",
       "  }\n",
       "})(window);</script>"
      ]
     },
     "metadata": {
      "application/vnd.holoviews_exec.v0+json": {
       "id": "87199743-a726-49e3-bc55-adcb54e84de5"
      }
     },
     "output_type": "display_data"
    },
    {
     "data": {
      "application/vnd.jupyter.widget-view+json": {
       "model_id": "01cf66393af84067b009c5d881efff70",
       "version_major": 2,
       "version_minor": 0
      },
      "text/plain": [
       "BokehModel(combine_events=True, render_bundle={'docs_json': {'ba808578-3bfa-48f3-a6d9-ad3f6ac56fb6': {'version…"
      ]
     },
     "execution_count": 7,
     "metadata": {},
     "output_type": "execute_result"
    }
   ],
   "source": [
    "import panel\n",
    "import param\n",
    "\n",
    "# Enable the CodeEditor extension\n",
    "panel.extension(\"codeeditor\")\n",
    "\n",
    "# Create a CodeEditor widget\n",
    "code_editor = panel.widgets.CodeEditor(\n",
    "    value=\"import numpy as np\\n\\ndef example_function():\\n    return np.random.rand(10)\",\n",
    "    language=\"python\",\n",
    "    theme=\"monokai\",\n",
    "    height=300,\n",
    "    sizing_mode=\"stretch_width\",\n",
    ")\n",
    "\n",
    "# Display the code editor\n",
    "code_editor"
   ]
  },
  {
   "cell_type": "code",
   "execution_count": 8,
   "metadata": {},
   "outputs": [],
   "source": [
    "out = widgets.Output()\n",
    "with out:\n",
    "    display(code_editor)"
   ]
  },
  {
   "cell_type": "code",
   "execution_count": 9,
   "metadata": {},
   "outputs": [
    {
     "data": {
      "application/vnd.jupyter.widget-view+json": {
       "model_id": "59c066a34480440a85f1756c4595c753",
       "version_major": 2,
       "version_minor": 0
      },
      "text/plain": [
       "Output()"
      ]
     },
     "execution_count": 9,
     "metadata": {},
     "output_type": "execute_result"
    }
   ],
   "source": [
    "out"
   ]
  },
  {
   "cell_type": "code",
   "execution_count": 10,
   "metadata": {},
   "outputs": [
    {
     "data": {
      "text/plain": [
       "['/Users/neugebauer/git_libs/pyiron_nodes',\n",
       " '/users/neugebauer/gitProjects/pyiron_workflows',\n",
       " '/Users/neugebauer/git_libs/pyironFlow',\n",
       " '/Users/neugebauer/mambaforge/envs/py12/lib/python312.zip',\n",
       " '/Users/neugebauer/mambaforge/envs/py12/lib/python3.12',\n",
       " '/Users/neugebauer/mambaforge/envs/py12/lib/python3.12/lib-dynload',\n",
       " '',\n",
       " '/Users/neugebauer/mambaforge/envs/py12/lib/python3.12/site-packages']"
      ]
     },
     "execution_count": 10,
     "metadata": {},
     "output_type": "execute_result"
    }
   ],
   "source": [
    "import sys\n",
    "from pathlib import Path\n",
    "\n",
    "# sys.path.remove('/Users/joerg/python_projects/git_libs/pyiron-xyflow')\n",
    "# sys.path.remove('/Users/joerg/python_projects/git_libs/pyiron_workflow')\n",
    "sys.path.insert(0, \"/Users/neugebauer/git_libs/pyiron_nodes\")\n",
    "sys.path"
   ]
  },
  {
   "cell_type": "code",
   "execution_count": 11,
   "metadata": {},
   "outputs": [],
   "source": [
    "from pyiron_workflow import Workflow, as_function_node"
   ]
  },
  {
   "cell_type": "code",
   "execution_count": 12,
   "metadata": {},
   "outputs": [
    {
     "name": "stderr",
     "output_type": "stream",
     "text": [
      "2024-11-24 20:07:43,641 - pyiron_log - WARNING - pyiron found a 'dynamic' folder in the /Users/neugebauer/pyiron/resources resource directory. These are no longer supported in pyiron_base >=0.7.0. They are replaced by Project.create_job_class() and Project.wrap_python_function().\n",
      "2024-11-24 20:07:43,642 - pyiron_log - WARNING - pyiron found a 'templates' folder in the /Users/neugebauer/pyiron/resources resource directory. These are no longer supported in pyiron_base >=0.7.0. They are replaced by Project.create_job_class() and Project.wrap_python_function().\n"
     ]
    },
    {
     "data": {
      "application/vnd.jupyter.widget-view+json": {
       "model_id": "37eae69482c742b3af13e074d4a3a099",
       "version_major": 2,
       "version_minor": 0
      },
      "text/plain": []
     },
     "metadata": {},
     "output_type": "display_data"
    }
   ],
   "source": [
    "from pyiron_workflow import Workflow\n",
    "\n",
    "import pyiron_nodes as pn\n",
    "\n",
    "wf = Workflow(\"compute_elastic_constants\")\n",
    "wf.engine = pn.atomistic.engine.ase.M3GNet()\n",
    "wf.bulk = pn.atomistic.structure.build.Bulk(\"Pb\", cubic=True)\n",
    "wf.input_elastic = pn.atomistic.property.elastic.InputElasticTensor()\n",
    "wf.elastic = pn.atomistic.property.elastic.ElasticConstants(\n",
    "    structure=wf.bulk, engine=wf.engine, parameters=wf.input_elastic\n",
    ")"
   ]
  },
  {
   "cell_type": "code",
   "execution_count": 13,
   "metadata": {},
   "outputs": [],
   "source": [
    "from pyironflow.reactflow import get_edges as _get_edges\n",
    "from pyironflow.reactflow import get_nodes as _get_nodes\n",
    "from pyironflow.reactflow import get_node_from_path"
   ]
  },
  {
   "cell_type": "code",
   "execution_count": 14,
   "metadata": {},
   "outputs": [],
   "source": [
    "def filter_and_flatten_nested_dict_keys(data, keys_to_keep):\n",
    "    def filter_and_flatten_dict(d, keys):\n",
    "        result = {}\n",
    "        for key in keys:\n",
    "            if \"/\" in key:\n",
    "                top_key, nested_key = key.split(\"/\", 1)\n",
    "                if top_key in d and isinstance(d[top_key], dict):\n",
    "                    result[f\"{top_key}__{nested_key}\"] = d[top_key].get(nested_key)\n",
    "            else:\n",
    "                if key in d:\n",
    "                    result[key] = d[key]\n",
    "        return result\n",
    "\n",
    "    return [filter_and_flatten_dict(item, keys_to_keep) for item in data]"
   ]
  },
  {
   "cell_type": "code",
   "execution_count": 15,
   "metadata": {},
   "outputs": [],
   "source": [
    "def rename_keys(dict_list, key_mapping):\n",
    "    \"\"\"\n",
    "    Rename keys in a list of dictionaries.\n",
    "\n",
    "    Args:\n",
    "    dict_list (list): A list of dictionaries to modify.\n",
    "    key_mapping (dict): A dictionary mapping old keys to new keys.\n",
    "\n",
    "    Returns:\n",
    "    list: A new list of dictionaries with renamed keys.\n",
    "    \"\"\"\n",
    "    result = []\n",
    "    for d in dict_list:\n",
    "        new_dict = {}\n",
    "        for old_key, value in d.items():\n",
    "            new_key = key_mapping.get(old_key, old_key)\n",
    "            new_dict[new_key] = value\n",
    "        result.append(new_dict)\n",
    "    return result"
   ]
  },
  {
   "cell_type": "code",
   "execution_count": 16,
   "metadata": {},
   "outputs": [],
   "source": [
    "def different_indices(list1, list2):\n",
    "    return [i for i in range(len(list1)) if list1[i] != list2[i]]"
   ]
  },
  {
   "cell_type": "code",
   "execution_count": 17,
   "metadata": {},
   "outputs": [],
   "source": [
    "def nodes_from_dict(nodes_dict):\n",
    "    return [(node[\"label\"], node[\"import_path\"]) for node in nodes_dict]\n",
    "\n",
    "\n",
    "def edges_from_dict(edges_dict):\n",
    "    edges = []\n",
    "    for edge in edges_dict:\n",
    "        source = edge[\"source\"]\n",
    "        source_handle = edge[\"sourceHandle\"]\n",
    "        if source == \"\":\n",
    "            if isinstance(source_handle, str):\n",
    "                source_handle = f\"__str_{source_handle}\"\n",
    "        edges.append(\n",
    "            (\n",
    "                f'{edge[\"source\"]}/{source_handle}',\n",
    "                f'{edge[\"target\"]}/{edge[\"targetHandle\"]}',\n",
    "            )\n",
    "        )\n",
    "\n",
    "    return edges\n",
    "\n",
    "\n",
    "def get_nodes(wf, keys_to_keep=[\"data/label\", \"data/import_path\"]):\n",
    "    key_mapping = {\"data__label\": \"label\", \"data__import_path\": \"import_path\"}\n",
    "    nodes_dict = filter_and_flatten_nested_dict_keys(_get_nodes(wf), keys_to_keep)\n",
    "    nodes_dict = rename_keys(nodes_dict, key_mapping)\n",
    "    return nodes_dict"
   ]
  },
  {
   "cell_type": "code",
   "execution_count": 18,
   "metadata": {},
   "outputs": [],
   "source": [
    "import dataclasses\n",
    "\n",
    "\n",
    "@dataclasses.dataclass\n",
    "class WorkflowGraph:\n",
    "    nodes: list = dataclasses.field(default_factory=list)\n",
    "    edges: list = dataclasses.field(default_factory=list)"
   ]
  },
  {
   "cell_type": "code",
   "execution_count": 19,
   "metadata": {},
   "outputs": [
    {
     "data": {
      "text/plain": [
       "([('engine/engine', 'elastic/engine'),\n",
       "  ('bulk/structure', 'elastic/structure'),\n",
       "  ('input_elastic/dataclass', 'elastic/parameters'),\n",
       "  ('/__str_Pb', 'bulk/name'),\n",
       "  ('/True', 'bulk/cubic')],\n",
       " [('var_bulk__name', 'Pb'),\n",
       "  ('var_bulk__cubic', True),\n",
       "  ('engine', 'pyiron_nodes.atomistic.engine.ase.M3GNet'),\n",
       "  ('bulk', 'pyiron_nodes.atomistic.structure.build.Bulk'),\n",
       "  ('input_elastic',\n",
       "   'pyiron_nodes.atomistic.property.elastic.InputElasticTensor'),\n",
       "  ('elastic', 'pyiron_nodes.atomistic.property.elastic.ElasticConstants')])"
      ]
     },
     "execution_count": 19,
     "metadata": {},
     "output_type": "execute_result"
    }
   ],
   "source": [
    "def get_graph(wf):\n",
    "    # get edges between nodes\n",
    "    keys_to_keep = [\"target\", \"targetHandle\", \"source\", \"sourceHandle\"]\n",
    "    edges = filter_and_flatten_nested_dict_keys(_get_edges(wf), keys_to_keep)\n",
    "\n",
    "    # add edges for non-default inputs\n",
    "    nodes = get_nodes(\n",
    "        wf,\n",
    "        keys_to_keep=[\n",
    "            \"data/label\",\n",
    "            \"data/import_path\",\n",
    "            \"data/target_values\",\n",
    "            \"data/target_labels\",\n",
    "        ],\n",
    "    )\n",
    "    nodes_non_default_inp_param = []\n",
    "    for node in nodes:\n",
    "        label = node[\"label\"]\n",
    "        import_path = node[\"import_path\"]\n",
    "        node_obj = get_node_from_path(import_path)()\n",
    "        changed_args = different_indices(\n",
    "            node_obj.inputs.to_list(), node[\"data__target_values\"]\n",
    "        )\n",
    "        for i in changed_args:\n",
    "            value = node[\"data__target_values\"][i]\n",
    "            handle = node[\"data__target_labels\"][i]\n",
    "            if value not in (\"NonPrimitive\", \"NotData\"):\n",
    "                edge = dict(\n",
    "                    target=label,\n",
    "                    targetHandle=handle,\n",
    "                    source=\"\",\n",
    "                    sourceHandle=value,\n",
    "                )\n",
    "\n",
    "                edges.append(edge)\n",
    "                inp_node = dict(label=f\"var_{label}__{handle}\", data__import_path=value)\n",
    "                nodes_non_default_inp_param.append(inp_node)\n",
    "\n",
    "        nodes = get_nodes(\n",
    "            wf,\n",
    "            keys_to_keep=[\"data/label\", \"data/import_path\"],\n",
    "        )\n",
    "\n",
    "    key_mapping = {\"data__label\": \"label\", \"data__import_path\": \"import_path\"}\n",
    "    nodes = rename_keys(nodes_non_default_inp_param + nodes, key_mapping=key_mapping)\n",
    "\n",
    "    graph = WorkflowGraph(nodes=nodes_from_dict(nodes), edges=edges_from_dict(edges))\n",
    "    # graph = WorkflowGraph(nodes=nodes_from_dict(nodes), edges=edges)\n",
    "    return graph\n",
    "\n",
    "\n",
    "graph = get_graph(wf)\n",
    "graph.edges, graph.nodes"
   ]
  },
  {
   "cell_type": "code",
   "execution_count": 20,
   "metadata": {},
   "outputs": [],
   "source": [
    "def generate_wf_code(wf, module_a=\"pyiron_workflow\", module_b=\"pyiron_nodes\"):\n",
    "    \"\"\"\n",
    "    Generate Python source code based on input parameters.\n",
    "\n",
    "    Args:\n",
    "        label (str): The label to use in the generated code.\n",
    "        module_a (str): The name of the module to import from.\n",
    "        module_b (str): The name of the module to import.\n",
    "\n",
    "    Returns:\n",
    "        str: The generated Python source code.\n",
    "    \"\"\"\n",
    "    import black\n",
    "\n",
    "    code = f\"\"\"\n",
    "from {module_a} import Workflow\n",
    "import {module_b}\n",
    "\n",
    "wf = Workflow('{wf.label}')\n",
    "\n",
    "\"\"\"\n",
    "    graph = get_graph(wf)\n",
    "\n",
    "    # Add nodes to Workflow\n",
    "    for node in graph.nodes:\n",
    "        label, import_path = node\n",
    "\n",
    "        if not label.startswith('var_'):\n",
    "            code += f\"\"\"wf.{label} = {import_path}(\"\"\"\n",
    "\n",
    "            # Add edges\n",
    "            first_edge = True\n",
    "            for edge in graph.edges:\n",
    "                edge_source, edge_target = edge\n",
    "                target, target_handle = edge_target.split('/')\n",
    "                source, source_handle = edge_source.split('/')\n",
    "                if target == label:\n",
    "                    if first_edge:\n",
    "                        first_edge = False\n",
    "                    else:\n",
    "                        code += \"\"\", \"\"\"\n",
    "                    if source == '':\n",
    "                        if source_handle.startswith('__str_'):\n",
    "                            code += f\"\"\"{target_handle}='{source_handle[6:]}'\"\"\"\n",
    "                        else:\n",
    "                            code += f\"\"\"{target_handle}={source_handle}\"\"\"\n",
    "                    else:\n",
    "                        code += f\"\"\"{target_handle}=wf.{source}\"\"\"\n",
    "            code += f\"\"\") \\n\"\"\"\n",
    "\n",
    "    formatted_code = black.format_str(code, mode=black.FileMode())\n",
    "\n",
    "    return formatted_code"
   ]
  },
  {
   "cell_type": "code",
   "execution_count": 21,
   "metadata": {},
   "outputs": [],
   "source": [
    "from pyiron_workflow import Workflow\n",
    "\n",
    "import pyiron_nodes as pn\n",
    "\n",
    "wf = Workflow(\"compute_elastic_constants\")\n",
    "wf.engine = pn.atomistic.engine.ase.M3GNet()\n",
    "wf.bulk = pn.atomistic.structure.build.Bulk(\"Pb\", cubic=True)\n",
    "wf.input_elastic = pn.atomistic.property.elastic.InputElasticTensor()\n",
    "wf.elastic = pn.atomistic.property.elastic.ElasticConstants(\n",
    "    structure=wf.bulk, engine=wf.engine, parameters=wf.input_elastic\n",
    ")"
   ]
  },
  {
   "cell_type": "code",
   "execution_count": 22,
   "metadata": {},
   "outputs": [],
   "source": [
    "code = generate_wf_code(wf)"
   ]
  },
  {
   "cell_type": "code",
   "execution_count": 23,
   "metadata": {},
   "outputs": [
    {
     "data": {
      "application/vnd.jupyter.widget-view+json": {
       "model_id": "8659492b96054f369740895dff54fd6d",
       "version_major": 2,
       "version_minor": 0
      },
      "text/plain": [
       "BokehModel(combine_events=True, render_bundle={'docs_json': {'da43f149-d92c-4ddd-9846-9b91c2e8a590': {'version…"
      ]
     },
     "execution_count": 23,
     "metadata": {},
     "output_type": "execute_result"
    }
   ],
   "source": [
    "code_editor = panel.widgets.CodeEditor(\n",
    "    value=code,\n",
    "    language=\"python\",\n",
    "    theme=\"monokai\",\n",
    "    height=300,\n",
    "    sizing_mode=\"stretch_width\",\n",
    ")\n",
    "\n",
    "# Display the code editor\n",
    "code_editor"
   ]
  },
  {
   "cell_type": "code",
   "execution_count": 24,
   "metadata": {},
   "outputs": [
    {
     "name": "stdout",
     "output_type": "stream",
     "text": [
      "from pyiron_workflow import Workflow\n",
      "import pyiron_nodes\n",
      "\n",
      "wf = Workflow(\"compute_elastic_constants\")\n",
      "\n",
      "wf.engine = pyiron_nodes.atomistic.engine.ase.M3GNet()\n",
      "wf.bulk = pyiron_nodes.atomistic.structure.build.Bulk(name=\"Pb\", cubic=True)\n",
      "wf.input_elastic = pyiron_nodes.atomistic.property.elastic.InputElasticTensor()\n",
      "wf.elastic = pyiron_nodes.atomistic.property.elastic.ElasticConstants(\n",
      "    engine=wf.engine, structure=wf.bulk, parameters=wf.input_elastic\n",
      ")\n",
      "\n"
     ]
    }
   ],
   "source": [
    "print(code_editor.value)"
   ]
  },
  {
   "cell_type": "code",
   "execution_count": 25,
   "metadata": {},
   "outputs": [],
   "source": [
    "def run_python_code(code): \n",
    "    import ast\n",
    "    import io\n",
    "\n",
    "    tree = ast.parse(code)\n",
    "    with io.StringIO() as output:\n",
    "        exec(compile(tree, filename=\"<string>\", mode=\"exec\"), globals(), locals())\n",
    "        print(output.getvalue())\n",
    "        return output.getvalue()  \n",
    "\n"
   ]
  },
  {
   "cell_type": "code",
   "execution_count": 26,
   "metadata": {},
   "outputs": [
    {
     "name": "stdout",
     "output_type": "stream",
     "text": [
      "\n"
     ]
    }
   ],
   "source": [
    "out = run_python_code(code_editor.value)"
   ]
  },
  {
   "cell_type": "code",
   "execution_count": 27,
   "metadata": {},
   "outputs": [
    {
     "data": {
      "text/plain": [
       "''"
      ]
     },
     "execution_count": 27,
     "metadata": {},
     "output_type": "execute_result"
    }
   ],
   "source": [
    "out"
   ]
  },
  {
   "cell_type": "code",
   "execution_count": 30,
   "metadata": {},
   "outputs": [
    {
     "name": "stdout",
     "output_type": "stream",
     "text": [
      "aaa\n",
      "\n"
     ]
    }
   ],
   "source": [
    "import ast\n",
    "import io\n",
    "\n",
    "code = \"\"\"\n",
    "from pyiron_workflow import Workflow\n",
    "import pyiron_nodes\n",
    "\n",
    "wf = Workflow(\"compute_elastic_constants\")\n",
    "\n",
    "wf.engine = pyiron_nodes.atomistic.engine.ase.M3GNet()\n",
    "wf.bulk = pyiron_nodes.atomistic.structure.build.Bulk(name=\"Pb\", cubic=True)\n",
    "wf.input_elastic = pyiron_nodes.atomistic.property.elastic.InputElasticTensor()\n",
    "wf.elastic = pyiron_nodes.atomistic.property.elastic.ElasticConstants(\n",
    "    engine=wf.engine, structure=wf.bulk, parameters=wf.input_elastic\n",
    ")\n",
    "\n",
    "print ('aaa')\n",
    "\"\"\"\n",
    "\n",
    "tree = ast.parse(code)\n",
    "with io.StringIO() as output:\n",
    "    exec(compile(tree, filename=\"<string>\", mode=\"exec\"), globals(), locals())\n",
    "    print(output.getvalue())\n",
    "\n",
    "# tree = ast.parse(code)\n",
    "# exec(compile(tree, filename=\"<string>\", mode=\"exec\"))"
   ]
  },
  {
   "cell_type": "code",
   "execution_count": 31,
   "metadata": {},
   "outputs": [
    {
     "name": "stdout",
     "output_type": "stream",
     "text": [
      "\n"
     ]
    }
   ],
   "source": [
    "import ast\n",
    "import io\n",
    "import contextlib\n",
    "\n",
    "def execute_code(code):\n",
    "    tree = ast.parse(code)\n",
    "    with io.StringIO() as output:\n",
    "        with contextlib.redirect_stdout(output):\n",
    "            exec(compile(tree, filename=\"<string>\", mode=\"exec\"), globals(), locals())\n",
    "        return output.getvalue()\n",
    "\n",
    "out = execute_code(code_editor.value)\n",
    "print(out)"
   ]
  },
  {
   "cell_type": "code",
   "execution_count": 32,
   "metadata": {},
   "outputs": [
    {
     "data": {
      "text/plain": [
       "''"
      ]
     },
     "execution_count": 32,
     "metadata": {},
     "output_type": "execute_result"
    }
   ],
   "source": [
    "out"
   ]
  },
  {
   "cell_type": "code",
   "execution_count": 33,
   "metadata": {},
   "outputs": [
    {
     "data": {
      "application/vnd.jupyter.widget-view+json": {
       "model_id": "de2220f4d78647dabfd22890e3cc9758",
       "version_major": 2,
       "version_minor": 0
      },
      "text/plain": [
       "BokehModel(combine_events=True, render_bundle={'docs_json': {'24f425fb-f8d5-41fb-93e6-4658f8245944': {'version…"
      ]
     },
     "metadata": {},
     "output_type": "display_data"
    },
    {
     "data": {
      "application/vnd.jupyter.widget-view+json": {
       "model_id": "6472f9619f3149ec841e9b482be7791b",
       "version_major": 2,
       "version_minor": 0
      },
      "text/plain": [
       "Button(description='Run Code', style=ButtonStyle())"
      ]
     },
     "metadata": {},
     "output_type": "display_data"
    },
    {
     "data": {
      "application/vnd.jupyter.widget-view+json": {
       "model_id": "36dcbbd1761b4ed6afcbfe163d853031",
       "version_major": 2,
       "version_minor": 0
      },
      "text/plain": [
       "Output(layout=Layout(border_bottom='1px solid black', border_left='1px solid black', border_right='1px solid b…"
      ]
     },
     "metadata": {},
     "output_type": "display_data"
    }
   ],
   "source": [
    "import ipywidgets as widgets\n",
    "from IPython.display import display\n",
    "\n",
    "def create_editor_with_output():\n",
    "    # Create an editor widget\n",
    "    editor = widgets.Textarea(\n",
    "        value='# Enter your Python code here\\nprint(\"Hello, World!\")',\n",
    "        description='Code:',\n",
    "        layout={'width': '100%', 'height': '200px'}\n",
    "    )\n",
    "\n",
    "    # Create an output widget\n",
    "    output = widgets.Output(layout={'border': '1px solid black'})\n",
    "\n",
    "    # Function to execute the code and display the output\n",
    "    def run_code(button):\n",
    "        with output:\n",
    "            output.clear_output(wait=True)\n",
    "            exec(code_editor.value)\n",
    "\n",
    "    # Create a run button\n",
    "    run_button = widgets.Button(description=\"Run Code\")\n",
    "    run_button.on_click(run_code)\n",
    "\n",
    "    # Display the widgets\n",
    "    display(code_editor, run_button, output)\n",
    "\n",
    "# Call the function to create and display the widgets\n",
    "create_editor_with_output()"
   ]
  },
  {
   "cell_type": "code",
   "execution_count": 34,
   "metadata": {},
   "outputs": [],
   "source": [
    "import ipywidgets as widgets\n",
    "from IPython.display import display\n",
    "\n",
    "\n",
    "def toolbar(code, width=400):\n",
    "    editor = panel.widgets.CodeEditor(\n",
    "        value=code,\n",
    "        language=\"python\",\n",
    "        theme=\"monokai\",\n",
    "        min_height=100,\n",
    "        max_width=width,\n",
    "        sizing_mode=\"stretch_width\",\n",
    "    )\n",
    "    ipywidget_code_editor = panel.ipywidget(editor)\n",
    "\n",
    "    button_layout = widgets.Layout(width=\"100px\")  # Define the width of the buttons\n",
    "\n",
    "    run_button = widgets.Button(\n",
    "        description=\"Run\", button_style=\"success\", icon=\"play\", layout=button_layout\n",
    "    )\n",
    "    save_button = widgets.Button(\n",
    "        description=\"Save\", button_style=\"info\", icon=\"save\", layout=button_layout\n",
    "    )\n",
    "    load_button = widgets.Button(\n",
    "        description=\"Load\",\n",
    "        button_style=\"warning\",\n",
    "        icon=\"folder-open\",\n",
    "        layout=button_layout,\n",
    "    )\n",
    "    refresh_button = widgets.Button(\n",
    "        description=\"Refresh\",\n",
    "        button_style=\"danger\",\n",
    "        icon=\"refresh\",\n",
    "        layout=button_layout,\n",
    "    )\n",
    "\n",
    "    output = widgets.Output(\n",
    "        layout=widgets.Layout(\n",
    "            width=f\"{width}px\",\n",
    "            border=\"1px solid black\",\n",
    "            min_height=\"100px\",\n",
    "            left=\"6pt\",\n",
    "        )\n",
    "    )\n",
    "\n",
    "    def on_run_button_clicked(b):\n",
    "        with output:\n",
    "            output.clear_output()\n",
    "            try:\n",
    "                exec(editor.value)  # Using 'exec' to execute code\n",
    "                display(wf.run())\n",
    "            except Exception as e:\n",
    "                print(f\"An error occurred: {e}\")\n",
    "\n",
    "    def on_save_button_clicked(b):\n",
    "        with output:\n",
    "            output.clear_output()\n",
    "            # Add your save functionality here...\n",
    "            print(\"Save button clicked\")\n",
    "\n",
    "    def on_load_button_clicked(b):\n",
    "        with output:\n",
    "            output.clear_output()\n",
    "            # Add your load functionality here...\n",
    "            print(\"Load button clicked\")\n",
    "\n",
    "    def on_refresh_button_clicked(b):\n",
    "        with output:\n",
    "            output.clear_output()\n",
    "            # Add your refresh functionality here...\n",
    "            print(\"Refresh button clicked\")\n",
    "\n",
    "    run_button.on_click(on_run_button_clicked)\n",
    "    save_button.on_click(on_save_button_clicked)\n",
    "    load_button.on_click(on_load_button_clicked)\n",
    "    refresh_button.on_click(on_refresh_button_clicked)\n",
    "\n",
    "    toolbar_layout = widgets.Layout(\n",
    "        width=f\"{width}px\",\n",
    "        border=\"1px solid black\",\n",
    "        left=\"6pt\",\n",
    "    )\n",
    "    toolbar = widgets.HBox(\n",
    "        [run_button, save_button, load_button, refresh_button], layout=toolbar_layout\n",
    "    )\n",
    "\n",
    "    editor_widget = widgets.VBox(\n",
    "        [toolbar, ipywidget_code_editor, output],\n",
    "        layout=widgets.Layout(align_items=\"stretch\"),\n",
    "    )\n",
    "    display(editor_widget)"
   ]
  },
  {
   "cell_type": "code",
   "execution_count": 35,
   "metadata": {},
   "outputs": [
    {
     "data": {
      "application/vnd.jupyter.widget-view+json": {
       "model_id": "1042ef9de9c1430ba19fda4287702740",
       "version_major": 2,
       "version_minor": 0
      },
      "text/plain": [
       "VBox(children=(HBox(children=(Button(button_style='success', description='Run', icon='play', layout=Layout(wid…"
      ]
     },
     "metadata": {},
     "output_type": "display_data"
    }
   ],
   "source": [
    "code = generate_wf_code(wf)\n",
    "toolbar(code, width=800)"
   ]
  },
  {
   "cell_type": "code",
   "execution_count": null,
   "metadata": {},
   "outputs": [],
   "source": [
    "import panel\n",
    "code = 'print(1)'\n",
    "\n",
    "editor = panel.widgets.CodeEditor(\n",
    "    value=code,\n",
    "    language=\"python\",\n",
    "    theme=\"monokai\",\n",
    "    min_height=100,\n",
    "    max_width=400,\n",
    "    sizing_mode=\"stretch_width\",\n",
    ")\n",
    "ipywidget_code_editor = panel.ipywidget(editor)\n",
    "ipywidget_code_editor"
   ]
  },
  {
   "cell_type": "markdown",
   "metadata": {},
   "source": [
    "i"
   ]
  },
  {
   "cell_type": "code",
   "execution_count": null,
   "metadata": {},
   "outputs": [],
   "source": [
    "import ipywidgets as widgets\n",
    "from IPython.display import display\n",
    "from io import BytesIO\n",
    "\n",
    "def save_file(b):\n",
    "    file_content = b\"Your file content here\"  # Replace with your actual file content\n",
    "    file = BytesIO(file_content)\n",
    "    \n",
    "    widgets.FileDownload(\n",
    "        file,\n",
    "        filename=\"saved_file.txt\",\n",
    "        label=\"Download File\",\n",
    "        button_style=\"primary\"\n",
    "    )\n",
    "\n",
    "save_button = widgets.Button(description=\"Save File\")\n",
    "save_button.on_click(save_file)\n",
    "\n",
    "display(save_button)"
   ]
  },
  {
   "cell_type": "code",
   "execution_count": null,
   "metadata": {},
   "outputs": [],
   "source": [
    "widgets.FileUpload(\n",
    "    accept='',  # Accepted file extension e.g. '.txt', '.pdf', 'image/*', 'image/*,.pdf'\n",
    "    multiple=False  # True to accept multiple files upload else False\n",
    ")"
   ]
  },
  {
   "cell_type": "code",
   "execution_count": null,
   "metadata": {},
   "outputs": [],
   "source": [
    "from collections import defaultdict\n",
    "\n",
    "def topological_sort(nodes, edges):\n",
    "    # Kahn's algorithm for topological sorting\n",
    "    # Create a graph and in-degree count for each node\n",
    "    graph = defaultdict(list)\n",
    "    in_degree = {node: 0 for node in nodes}\n",
    "    \n",
    "    # Build the graph and count in-degrees\n",
    "    for edge in edges:\n",
    "        n_i, n_j = edge\n",
    "        graph[n_i].append(n_j)\n",
    "        in_degree[n_j] += 1\n",
    "    \n",
    "    # Initialize queue with nodes having 0 in-degree\n",
    "    queue = [node for node in nodes if in_degree[node] == 0]\n",
    "    \n",
    "    result = []\n",
    "    while queue:\n",
    "        node = queue.pop(0)\n",
    "        result.append(node)\n",
    "        \n",
    "        # Reduce in-degree of adjacent nodes\n",
    "        for neighbor in graph[node]:\n",
    "            in_degree[neighbor] -= 1\n",
    "            if in_degree[neighbor] == 0:\n",
    "                queue.append(neighbor)\n",
    "    \n",
    "    # Check if there's a cycle\n",
    "    if len(result) != len(nodes):\n",
    "        return None  # Graph has a cycle\n",
    "    \n",
    "    return result"
   ]
  },
  {
   "cell_type": "code",
   "execution_count": null,
   "metadata": {},
   "outputs": [],
   "source": [
    "nodes = [1, 2, 4, -1]\n",
    "edges = [(1,2), (1,4)]"
   ]
  },
  {
   "cell_type": "code",
   "execution_count": null,
   "metadata": {},
   "outputs": [],
   "source": [
    "topological_sort(nodes, edges)"
   ]
  },
  {
   "cell_type": "code",
   "execution_count": null,
   "metadata": {},
   "outputs": [],
   "source": [
    "def convert_graph_to_int_nodes(graph):\n",
    "    "
   ]
  },
  {
   "cell_type": "code",
   "execution_count": null,
   "metadata": {},
   "outputs": [],
   "source": [
    "graph.nodes"
   ]
  },
  {
   "cell_type": "code",
   "execution_count": null,
   "metadata": {},
   "outputs": [],
   "source": [
    "\n",
    "\n",
    "def convert_to_integer_representation(nodes, edges):\n",
    "    # Create a dictionary mapping node labels to indices\n",
    "    node_to_index = {node[0]: index for index, node in enumerate(nodes)}\n",
    "    \n",
    "    # Convert edge list to integer representation\n",
    "    for edge in edges:\n",
    "        print (edge)\n",
    "    # integer_edges = [(node_to_index[edge[0].split('/')[0]], node_to_index[edge[1].split('/')[0]]) for edge in edges]\n",
    "    \n",
    "    return integer_edges"
   ]
  },
  {
   "cell_type": "code",
   "execution_count": null,
   "metadata": {},
   "outputs": [],
   "source": [
    "convert_to_integer_representation(graph.nodes, graph.edges)"
   ]
  },
  {
   "cell_type": "code",
   "execution_count": null,
   "metadata": {},
   "outputs": [],
   "source": [
    "graph.nodes"
   ]
  },
  {
   "cell_type": "code",
   "execution_count": null,
   "metadata": {},
   "outputs": [],
   "source": []
  }
 ],
 "metadata": {
  "kernelspec": {
   "display_name": "Python 3 (ipykernel)",
   "language": "python",
   "name": "python3"
  },
  "language_info": {
   "codemirror_mode": {
    "name": "ipython",
    "version": 3
   },
   "file_extension": ".py",
   "mimetype": "text/x-python",
   "name": "python",
   "nbconvert_exporter": "python",
   "pygments_lexer": "ipython3",
   "version": "3.12.4"
  }
 },
 "nbformat": 4,
 "nbformat_minor": 4
}
