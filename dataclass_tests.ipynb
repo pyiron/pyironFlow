{
 "cells": [
  {
   "cell_type": "code",
   "execution_count": 1,
   "id": "ae427e71-4697-4d34-beb9-d86d62b4c09a",
   "metadata": {},
   "outputs": [],
   "source": [
    "%config IPCompleter.evaluation='unsafe'"
   ]
  },
  {
   "cell_type": "code",
   "execution_count": 2,
   "id": "d57e5525-de96-4e93-ace6-9bf07e8ad83f",
   "metadata": {},
   "outputs": [
    {
     "data": {
      "application/vnd.jupyter.widget-view+json": {
       "model_id": "b32037afca584f0cbfb5d799fc425272",
       "version_major": 2,
       "version_minor": 0
      },
      "text/plain": []
     },
     "metadata": {},
     "output_type": "display_data"
    }
   ],
   "source": [
    "from pyiron_workflow import Workflow, as_function_node   \n",
    "\n",
    "import pyiron_nodes as pn\n",
    "from pyironflow.pyironflow import PyironFlow"
   ]
  },
  {
   "cell_type": "code",
   "execution_count": 3,
   "id": "bc744523-ee2d-4be0-97d4-6867d0f7342e",
   "metadata": {},
   "outputs": [
    {
     "data": {
      "text/plain": [
       "('OutputCalcMD', 'pyiron_nodes.atomistic.calculator.data')"
      ]
     },
     "execution_count": 3,
     "metadata": {},
     "output_type": "execute_result"
    }
   ],
   "source": [
    "pn.atomistic.calculator.data.OutputCalcMD.__qualname__, pn.atomistic.calculator.data.OutputCalcMD.__module__"
   ]
  },
  {
   "cell_type": "code",
   "execution_count": 4,
   "id": "408d1a71-4eb2-45cf-b044-8dbb8d1913db",
   "metadata": {},
   "outputs": [
    {
     "data": {
      "text/plain": [
       "OutputCalcMD(energies_pot=None, energies_kin=None, forces=None, positions=None, temperatures=None)"
      ]
     },
     "execution_count": 4,
     "metadata": {},
     "output_type": "execute_result"
    }
   ],
   "source": [
    "pn.atomistic.calculator.data.OutputCalcMD.dataclass()"
   ]
  },
  {
   "cell_type": "code",
   "execution_count": 5,
   "id": "1d0fc592-d17e-4b66-8f98-db13d88ea670",
   "metadata": {},
   "outputs": [],
   "source": [
    "from pyironflow.reactflow import get_import_path"
   ]
  },
  {
   "cell_type": "code",
   "execution_count": 6,
   "id": "c44f904a-87a2-41a8-954e-c935fb9db4ce",
   "metadata": {},
   "outputs": [
    {
     "name": "stdout",
     "output_type": "stream",
     "text": [
      "NOT_DATA\n"
     ]
    },
    {
     "data": {
      "text/plain": [
       "'pyiron_nodes.atomistic.calculator.data.OutputCalcMD'"
      ]
     },
     "execution_count": 6,
     "metadata": {},
     "output_type": "execute_result"
    }
   ],
   "source": [
    "md_out_node = pn.atomistic.calculator.data.OutputCalcMD()\n",
    "\n",
    "print (md_out_node.outputs.channel_dict.energies_kin)\n",
    "get_import_path(md_out_node)\n",
    "# md_out_node.inputs\n",
    "# md_out_node.__module__"
   ]
  },
  {
   "cell_type": "code",
   "execution_count": 7,
   "id": "96009e35-1e77-4a5d-8257-8a4b07a90521",
   "metadata": {},
   "outputs": [
    {
     "data": {
      "text/plain": [
       "'pyiron_nodes.atomistic.calculator.data'"
      ]
     },
     "execution_count": 7,
     "metadata": {},
     "output_type": "execute_result"
    }
   ],
   "source": [
    "inp_node = pn.atomistic.calculator.data.InputCalcMD()\n",
    "get_import_path(inp_node)\n",
    "inp_node.__module__"
   ]
  },
  {
   "cell_type": "code",
   "execution_count": 8,
   "id": "4b1c107a-53ce-4fb1-86da-cef319eb7c7d",
   "metadata": {},
   "outputs": [
    {
     "data": {
      "text/plain": [
       "<bound method Semantic.as_path of <pyiron_nodes.atomistic.calculator.data.OutputCalcMD object at 0x103dcf860>>"
      ]
     },
     "execution_count": 8,
     "metadata": {},
     "output_type": "execute_result"
    }
   ],
   "source": [
    "md_out_node.as_path"
   ]
  },
  {
   "cell_type": "code",
   "execution_count": 9,
   "id": "92db3522-6193-4297-ba68-463f11852706",
   "metadata": {},
   "outputs": [],
   "source": [
    "import tempfile\n",
    "import os\n",
    "from importlib.util import spec_from_file_location, module_from_spec\n",
    "\n",
    "import typing\n",
    "import dataclasses\n",
    "from dataclasses import dataclass, field\n",
    "\n",
    "\n",
    "def generate_code(dc: dataclasses.dataclass):\n",
    "    name = dc.__class__.__name__\n",
    "    fields = [f.name for f in dataclasses.fields(dc)]\n",
    "    fields_with_type = [f\"{f.name}: {f.type.__name__}\" for f in dataclasses.fields(dc)]\n",
    "    fields_code = '\\n    '.join([f'{field} = dc.{field}' for field in fields])\n",
    "    return_code = ', '.join(fields)\n",
    "    return f'''\n",
    "from dataclasses import dataclass\n",
    "from pyiron_workflow import as_function_node\n",
    "\n",
    "@as_function_node\n",
    "def {name}(dc: dataclass):\n",
    "    {'\\n    '.join(fields_with_type)}\n",
    "    {fields_code}\n",
    "    return {return_code}\n",
    "    '''"
   ]
  },
  {
   "cell_type": "code",
   "execution_count": 10,
   "id": "8c30fe0e-a18f-422c-ad9d-78e89b283860",
   "metadata": {},
   "outputs": [],
   "source": [
    "def as_output_node(data):\n",
    "    dc = dataclass(data)\n",
    "    # Generate code\n",
    "    code = generate_code(dc())\n",
    "    # print (code)\n",
    "\n",
    "    # Create a temporary file\n",
    "    temp_dir = tempfile.gettempdir()\n",
    "    file_name = os.path.join(temp_dir, 'temp_file.py')\n",
    "    \n",
    "    # Write code to file\n",
    "    with open(file_name, 'w') as temp_file:\n",
    "        temp_file.write(code)\n",
    "        \n",
    "    # Import the function from the temp file\n",
    "    spec = spec_from_file_location('temp_module', file_name)\n",
    "    module = module_from_spec(spec)\n",
    "    spec.loader.exec_module(module)\n",
    "\n",
    "    node = getattr(module, dc.__name__)\n",
    "    node.dataclass = dc\n",
    "    \n",
    "    # Delete the temporary file when done\n",
    "    os.remove(file_name)    \n",
    "    \n",
    "    return node"
   ]
  },
  {
   "cell_type": "code",
   "execution_count": 11,
   "id": "c93ef9d1-a7d3-402f-a1f5-b737bd90e042",
   "metadata": {},
   "outputs": [],
   "source": [
    "from dataclasses import field\n",
    "from typing import Optional\n",
    "\n",
    "@as_output_node\n",
    "class OutputCalcMD:\n",
    "    import numpy as np\n",
    "\n",
    "    energies_pot: Optional[np.ndarray] = field(\n",
    "        default=None\n",
    "    )\n",
    "    energies_kin: Optional[np.ndarray] = field(\n",
    "        default=None\n",
    "    )\n",
    "    forces: Optional[np.ndarray] = field(default=None)\n",
    "    positions: Optional[np.ndarray] = field(\n",
    "        default=None\n",
    "    )\n",
    "    temperatures: Optional[np.ndarray] = field(\n",
    "        default=None\n",
    "    )"
   ]
  },
  {
   "cell_type": "code",
   "execution_count": 12,
   "id": "bc93f76f-7973-47e3-a216-65274f380b82",
   "metadata": {},
   "outputs": [
    {
     "name": "stdout",
     "output_type": "stream",
     "text": [
      "CPU times: user 126 μs, sys: 0 ns, total: 126 μs\n",
      "Wall time: 128 μs\n"
     ]
    },
    {
     "data": {
      "text/plain": [
       "__main__.OutputCalcMD"
      ]
     },
     "execution_count": 12,
     "metadata": {},
     "output_type": "execute_result"
    }
   ],
   "source": [
    "%%time\n",
    "\n",
    "node = OutputCalcMD()\n",
    "node.dataclass"
   ]
  },
  {
   "cell_type": "code",
   "execution_count": 13,
   "id": "57ff04be-62e7-473f-ae6c-587aa1d27859",
   "metadata": {},
   "outputs": [
    {
     "ename": "NameError",
     "evalue": "name 'xx' is not defined",
     "output_type": "error",
     "traceback": [
      "\u001b[0;31m---------------------------------------------------------------------------\u001b[0m",
      "\u001b[0;31mNameError\u001b[0m                                 Traceback (most recent call last)",
      "Cell \u001b[0;32mIn[13], line 1\u001b[0m\n\u001b[0;32m----> 1\u001b[0m \u001b[43mxx\u001b[49m\n",
      "\u001b[0;31mNameError\u001b[0m: name 'xx' is not defined"
     ]
    }
   ],
   "source": [
    "xx"
   ]
  },
  {
   "cell_type": "code",
   "execution_count": null,
   "id": "5cf394bb-816b-44a5-b062-2cd21827c3e2",
   "metadata": {},
   "outputs": [],
   "source": [
    "from pyiron_nodes.atomistic.calculator.data import OutputCalcMD\n",
    "\n",
    "node = as_output_node(OutputCalcMD)\n",
    "node().node_function"
   ]
  },
  {
   "cell_type": "code",
   "execution_count": null,
   "id": "2b409a67-40d2-4b25-8232-1adf7fcd071d",
   "metadata": {},
   "outputs": [],
   "source": [
    "node(OutputCalcMD()).run()"
   ]
  },
  {
   "cell_type": "code",
   "execution_count": null,
   "id": "c690daef-f088-4816-9ca1-5d4662985d5e",
   "metadata": {},
   "outputs": [],
   "source": [
    "xx"
   ]
  },
  {
   "cell_type": "markdown",
   "id": "5e1c1650-2a99-47ca-ac78-c87aee1c3281",
   "metadata": {},
   "source": [
    "### A few test constructs to convert a dataclass into a function node"
   ]
  },
  {
   "cell_type": "code",
   "execution_count": null,
   "id": "e3015c20-249c-4625-9612-f40db18b3c6a",
   "metadata": {},
   "outputs": [],
   "source": [
    "from pyiron_workflow import Workflow, as_function_node "
   ]
  },
  {
   "cell_type": "code",
   "execution_count": null,
   "id": "eb7213f2-5f00-4aec-b6b4-8c917139fd86",
   "metadata": {},
   "outputs": [],
   "source": []
  },
  {
   "cell_type": "code",
   "execution_count": null,
   "id": "6db723da-97e4-4894-a8e8-7f0ed00d2365",
   "metadata": {},
   "outputs": [],
   "source": [
    "from dataclasses import dataclass\n",
    "from pyiron_workflow import as_function_node\n",
    "\n",
    "@as_function_node\n",
    "def OutputCalcMD(dc: dataclass):\n",
    "    energies_pot: Optional\n",
    "    energies_kin: Optional\n",
    "    forces: Optional\n",
    "    positions: Optional\n",
    "    temperatures: Optional\n",
    "    energies_pot = dc.energies_pot\n",
    "    energies_kin = dc.energies_kin\n",
    "    forces = dc.forces\n",
    "    positions = dc.positions\n",
    "    temperatures = dc.temperatures\n",
    "    return energies_pot, energies_kin, forces, positions, temperatures"
   ]
  },
  {
   "cell_type": "code",
   "execution_count": null,
   "id": "20e76a31-d8c1-4465-8d53-12aae96537cf",
   "metadata": {},
   "outputs": [],
   "source": [
    "OutputCalcMD()"
   ]
  },
  {
   "cell_type": "code",
   "execution_count": null,
   "id": "f2ac1345-b81b-4719-8f4d-11abe4716765",
   "metadata": {},
   "outputs": [],
   "source": [
    "pf = PyironFlow([])\n",
    "pf.gui"
   ]
  },
  {
   "cell_type": "code",
   "execution_count": null,
   "id": "c3ea1246-5384-44ba-8c85-0f523e2306af",
   "metadata": {},
   "outputs": [],
   "source": [
    "wf = pf.get_workflow()"
   ]
  },
  {
   "cell_type": "code",
   "execution_count": null,
   "id": "2f190fa9-9137-43de-83fa-1c8b61313afa",
   "metadata": {},
   "outputs": [],
   "source": [
    "t = wf.InputCalcMD.inputs.temperature\n",
    "t"
   ]
  },
  {
   "cell_type": "code",
   "execution_count": null,
   "id": "d370cce8-fa05-4e55-ab1c-17aa0fd705af",
   "metadata": {},
   "outputs": [],
   "source": [
    "t2 = wf.SetInputCalcMD.inputs.temperature\n",
    "check_type(t2.value, t2.type_hint), type(t2.type_hint)"
   ]
  },
  {
   "cell_type": "code",
   "execution_count": null,
   "id": "90e7c9b0-252d-4ac8-88e7-fb3d9e680a88",
   "metadata": {},
   "outputs": [],
   "source": [
    "from typeguard import check_type\n",
    "from typing import Optional\n",
    "\n",
    "check_type(t.value, eval(t.type_hint)), type(t.type_hint)"
   ]
  },
  {
   "cell_type": "code",
   "execution_count": null,
   "id": "7f495ef6-944f-4540-b6a5-2e468a99f98e",
   "metadata": {},
   "outputs": [],
   "source": [
    "from pyiron_workflow import Workflow, as_dataclass_node, as_function_node, as_macro_node"
   ]
  },
  {
   "cell_type": "code",
   "execution_count": null,
   "id": "51e73b09-4875-4712-ae9c-2b1981d46676",
   "metadata": {},
   "outputs": [],
   "source": [
    "from pyiron_nodes.atomistic.calculator.data import InputCalcMD\n",
    "\n",
    "wf = Workflow('test')\n",
    "wf.input = InputCalcMD()\n",
    "\n",
    "type(wf.input.inputs.temperature.type_hint)"
   ]
  },
  {
   "cell_type": "code",
   "execution_count": null,
   "id": "e9ce6fbc-3ef0-49c3-a9f3-84476e02972e",
   "metadata": {},
   "outputs": [],
   "source": [
    "from __future__ import annotations\n",
    "\n",
    "from dataclasses import field\n",
    "from typing import Optional\n",
    "\n",
    "from pyiron_nodes.dev_tools import wf_data_class, wfMetaData\n",
    "from pyiron_workflow import as_dataclass_node\n",
    "\n",
    "from pyiron_workflow import Workflow\n",
    "\n",
    "@as_dataclass_node\n",
    "class InputCalcMD:\n",
    "    temperature: Optional[int | float] = 300\n",
    "    n_ionic_steps: int = 10_000\n",
    "    n_print: int = 100\n",
    "    pressure: Optional[int | float] = None\n",
    "    time_step: Optional[int | float] = 1.0\n",
    "    temperature_damping_timescale: Optional[int | float] = 100.0\n",
    "    pressure_damping_timescale: Optional[int | float] = 1000.0\n",
    "    seed: Optional[int] = None\n",
    "    tloop: Optional[float] = None\n",
    "    initial_temperature: Optional[float] = None\n",
    "    langevin: bool = False\n",
    "    delta_temp: Optional[float] = None\n",
    "    delta_press: Optional[float] = None\n",
    "\n",
    "type(InputCalcMD().inputs.temperature.type_hint)"
   ]
  },
  {
   "cell_type": "code",
   "execution_count": null,
   "id": "98ae23a0-1392-45e2-8c65-b35737b37915",
   "metadata": {},
   "outputs": [],
   "source": [
    "@as_dataclass_node\n",
    "class MyData:\n",
    "    test: int\n",
    "\n",
    "\n",
    "type(MyData().inputs.test.type_hint)"
   ]
  },
  {
   "cell_type": "code",
   "execution_count": null,
   "id": "008c64c1-4401-4f8f-abb5-9ba184ec4a6f",
   "metadata": {},
   "outputs": [],
   "source": [
    "type(int)"
   ]
  },
  {
   "cell_type": "code",
   "execution_count": null,
   "id": "55a01ff2-dcb5-4fa0-9aa9-a469f04904e1",
   "metadata": {},
   "outputs": [],
   "source": [
    "from pyiron_nodes.dev_tools import wf_data_class\n",
    "\n",
    "@wf_data_class()\n",
    "#@as_dataclass_node\n",
    "class my_data:\n",
    "    test: int\n",
    "    test2: int = 10"
   ]
  },
  {
   "cell_type": "code",
   "execution_count": null,
   "id": "3ffdc408-c22e-419e-ba5a-262ef2030e32",
   "metadata": {},
   "outputs": [],
   "source": [
    "my_data(test=10)"
   ]
  },
  {
   "cell_type": "code",
   "execution_count": null,
   "id": "d013fc76-5057-4e88-a183-3f8ead6e4764",
   "metadata": {},
   "outputs": [],
   "source": [
    "@as_function_node\n",
    "def my_func(data):\n",
    "    test = data.test\n",
    "    return test"
   ]
  },
  {
   "cell_type": "code",
   "execution_count": null,
   "id": "fe02ee6e-5545-4055-920f-758208817d02",
   "metadata": {},
   "outputs": [],
   "source": [
    "mf = my_func(my_data(test=1))"
   ]
  },
  {
   "cell_type": "code",
   "execution_count": null,
   "id": "4fb14554-aae5-4c45-8689-1d84b117c01c",
   "metadata": {},
   "outputs": [],
   "source": [
    "wf = Workflow('test')\n",
    "\n",
    "wf.data = my_data(test=10)\n",
    "wf.f1 = my_func(data = wf.data)\n"
   ]
  },
  {
   "cell_type": "code",
   "execution_count": null,
   "id": "8bce4f4f-f6b1-40c9-a0f9-f3aae4c6c9ad",
   "metadata": {},
   "outputs": [],
   "source": [
    "wf.data"
   ]
  },
  {
   "cell_type": "code",
   "execution_count": null,
   "id": "59f9722c-1d3a-40a0-94ec-074f6c79e0ce",
   "metadata": {},
   "outputs": [],
   "source": [
    "wf.run()"
   ]
  },
  {
   "cell_type": "code",
   "execution_count": null,
   "id": "55ac7a49-3014-4a31-8072-112c24be4daa",
   "metadata": {},
   "outputs": [],
   "source": [
    "import numpy as np\n",
    "np.arange(3)"
   ]
  },
  {
   "cell_type": "code",
   "execution_count": null,
   "id": "9ec370ba-d984-44a0-9a7f-06e9b05d0a80",
   "metadata": {},
   "outputs": [],
   "source": [
    "@as_function_node('my_range')\n",
    "def get_list(max_num: int = 3):\n",
    "    return np.arange(max_num).tolist()\n",
    "\n",
    "type(get_list().run()[0])"
   ]
  },
  {
   "cell_type": "code",
   "execution_count": null,
   "id": "6c20ebec-52f0-4e5c-a8f2-20e6b3817cc3",
   "metadata": {},
   "outputs": [],
   "source": [
    "@as_macro_node('f1')\n",
    "def func_macro(wf, test=20, max_num=5):\n",
    "    wf.data = my_data(test=test)\n",
    "    wf.f1 = my_func(data = wf.data)\n",
    "    wf.range = get_list(max_num=wf.data.outputs.dataclass.test2)\n",
    "    wf.loop = wf.create.for_node(\n",
    "        body_node_class = my_data,\n",
    "        iter_on = ('test',),\n",
    "        test = wf.range,\n",
    "    )\n",
    "    return wf.loop"
   ]
  },
  {
   "cell_type": "code",
   "execution_count": null,
   "id": "ddc0162a-583e-4db5-be3c-197f03ce47e9",
   "metadata": {},
   "outputs": [],
   "source": [
    "my_data(10)"
   ]
  },
  {
   "cell_type": "code",
   "execution_count": null,
   "id": "c663dbfd-d504-4047-8464-a4794043ca7f",
   "metadata": {},
   "outputs": [],
   "source": [
    "@as_macro_node('f1')\n",
    "def func_macro(wf, test=20, max_num=5, data: my_data = my_data(10)):\n",
    "    wf.f1 = my_func(**my_data)\n",
    "    # wf.range = get_list(max_num=data.outputs.dataclass.test2)\n",
    "    # wf.loop = wf.create.for_node(\n",
    "    #     body_node_class = my_data,\n",
    "    #     iter_on = ('test',),\n",
    "    #     test = wf.range,\n",
    "    # )\n",
    "    return wf.f1 # wf.loop"
   ]
  },
  {
   "cell_type": "code",
   "execution_count": null,
   "id": "5fd1bbf8-3202-473e-89ef-d7b9e9914996",
   "metadata": {},
   "outputs": [],
   "source": [
    "fm = func_macro()\n",
    "fm.run()"
   ]
  },
  {
   "cell_type": "code",
   "execution_count": null,
   "id": "9fa7f011-4073-4c1e-a121-adfa915d257b",
   "metadata": {},
   "outputs": [],
   "source": [
    "func_macro()"
   ]
  },
  {
   "cell_type": "code",
   "execution_count": null,
   "id": "af1d6e98-db30-4bb8-a1c4-8871df68b395",
   "metadata": {},
   "outputs": [],
   "source": [
    "from pyiron import Project"
   ]
  },
  {
   "cell_type": "code",
   "execution_count": null,
   "id": "d96d23de-2acc-4d03-b072-84650878fa84",
   "metadata": {},
   "outputs": [],
   "source": [
    "pr = Project('test')\n",
    "Al = pr.create.structure.bulk('Al', cubic=True)\n",
    "job = pr.create.job.Lammps('test')\n",
    "job.structure = Al\n",
    "job.run(delete_existing_job=True)"
   ]
  },
  {
   "cell_type": "code",
   "execution_count": null,
   "id": "859f7809-fd55-4c66-af0c-8d3109166434",
   "metadata": {},
   "outputs": [],
   "source": [
    "from pyiron_workflow import Workflow\n",
    "\n",
    "\n",
    "@Workflow.wrap.as_function_node\n",
    "def Report(t1, t2, t3):\n",
    "    tmax = max(t1, t2, t3)\n",
    "    print(\"LONGEST\", tmax)\n",
    "    return tmax\n",
    "\n",
    "wf = Workflow(\"sleepy\")\n",
    "wf.t_sleep = Workflow.create.standard.UserInput(1)\n",
    "wf.a1 = Workflow.create.standard.Sleep(wf.t_sleep)\n",
    "wf.a2 = Workflow.create.standard.Sleep(wf.t_sleep)\n",
    "wf.a3 = Workflow.create.standard.Sleep(wf.t_sleep)\n",
    "wf.midway = Report(wf.a1, wf.a2, wf.a3)\n",
    "wf.b1 = Workflow.create.standard.Sleep(wf.midway)\n",
    "wf.b2 = Workflow.create.standard.Sleep(wf.midway)\n",
    "wf.b3 = Workflow.create.standard.Sleep(wf.midway)\n",
    "wf.end = Report(wf.b1, wf.b2, wf.b3)\n",
    "\n",
    "from time import time\n",
    "\n",
    "t0 = time()\n",
    "\n",
    "with Workflow.create.ThreadPoolExecutor(max_workers=3) as exe:\n",
    "    for n in wf:\n",
    "        if n.label not in [\"t_sleep\", \"midway\", \"finally\"]:\n",
    "            n.executor = exe\n",
    "    wf()\n",
    "    \n",
    "print(\"Total runtime\", time() - t0)"
   ]
  },
  {
   "cell_type": "code",
   "execution_count": null,
   "id": "f5151cae-dbbf-420b-83d3-3b8034a66dbe",
   "metadata": {},
   "outputs": [],
   "source": [
    "from executorlib import Executor\n",
    "\n",
    "with Executor(max_cores=1, backend=\"local\") as exe:\n",
    "    for i in range(3):\n",
    "        future = exe.submit(sum, [1, i], resource_dict={\"cores\": 1})\n",
    "        print(future.result())"
   ]
  },
  {
   "cell_type": "code",
   "execution_count": null,
   "id": "ae4ef141-6fc1-4753-8ad8-992d0c36f81e",
   "metadata": {},
   "outputs": [],
   "source": [
    "from pyiron import Project"
   ]
  },
  {
   "cell_type": "code",
   "execution_count": null,
   "id": "c200e874-85b2-47f8-a90a-384c614353a4",
   "metadata": {},
   "outputs": [],
   "source": [
    "pr = Project('test')\n",
    "Re = pr.create.structure.bulk('Re')\n",
    "job = pr.create.job.Lammps('lammps')\n",
    "job.structure = Re\n",
    "job.list_potentials()"
   ]
  },
  {
   "cell_type": "code",
   "execution_count": null,
   "id": "47d477f5-c21a-458f-b149-daa6cd5ad414",
   "metadata": {},
   "outputs": [],
   "source": []
  }
 ],
 "metadata": {
  "kernelspec": {
   "display_name": "Python 3 (ipykernel)",
   "language": "python",
   "name": "python3"
  },
  "language_info": {
   "codemirror_mode": {
    "name": "ipython",
    "version": 3
   },
   "file_extension": ".py",
   "mimetype": "text/x-python",
   "name": "python",
   "nbconvert_exporter": "python",
   "pygments_lexer": "ipython3",
   "version": "3.12.4"
  }
 },
 "nbformat": 4,
 "nbformat_minor": 5
}
