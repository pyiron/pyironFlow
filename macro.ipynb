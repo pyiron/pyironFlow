{
 "cells": [
  {
   "cell_type": "code",
   "execution_count": 1,
   "id": "eb0aa727-e2dc-4a8c-8292-d6bb89902ce4",
   "metadata": {},
   "outputs": [],
   "source": [
    "#!npm install react react-dom @xyflow/react @anywidget/react"
   ]
  },
  {
   "cell_type": "code",
   "execution_count": 2,
   "id": "66499951-9d31-4fcd-887d-7da107b3eb0d",
   "metadata": {},
   "outputs": [],
   "source": [
    "import sys\n",
    "from pathlib import Path\n",
    "\n",
    "sys.path.insert(0, str(Path(Path.cwd())))"
   ]
  },
  {
   "cell_type": "code",
   "execution_count": 3,
   "id": "7d355915-2623-4f74-9463-df1b9fd7ce3c",
   "metadata": {},
   "outputs": [
    {
     "name": "stdout",
     "output_type": "stream",
     "text": [
      "\n",
      "  \u001b[37mpyironflow/static/\u001b[0m\u001b[1mwidget.js\u001b[0m    \u001b[33m1.7mb ⚠️\u001b[0m\n",
      "  \u001b[37mpyironflow/static/\u001b[0m\u001b[1mwidget.css\u001b[0m  \u001b[36m15.1kb\u001b[0m\n",
      "\n",
      "⚡ \u001b[32mDone in 413ms\u001b[0m\n"
     ]
    }
   ],
   "source": [
    "!npx esbuild js/widget.jsx --minify --format=esm --bundle --outdir=pyironflow/static"
   ]
  },
  {
   "cell_type": "code",
   "execution_count": 4,
   "id": "e75867cf-6c3e-4ae0-ab40-f07e1b3b2c06",
   "metadata": {},
   "outputs": [],
   "source": [
    "from pyiron_workflow import Workflow\n",
    "from typing import Optional\n",
    "from pyironflow.pyironflow import PyironFlow\n",
    "from pyironflow.macro import get_node_instance_type\n",
    "\n",
    "from pyiron_workflow import Workflow\n",
    "from pyiron_workflow.channels import NotData\n",
    "from pyironflow.themes import get_color\n",
    "from pyironflow.macro import get_node_instance_type\n",
    "from pyironflow.wf_extensions import get_import_path, create_macro\n",
    "\n",
    "import anywidget\n",
    "import pathlib\n",
    "import traitlets\n",
    "import os\n",
    "import json\n",
    "import importlib\n",
    "import typing"
   ]
  },
  {
   "cell_type": "code",
   "execution_count": 5,
   "id": "6651345a-4431-4f5e-809e-8e2e5c6a20ea",
   "metadata": {},
   "outputs": [],
   "source": [
    "wf = Workflow('lammps_macro')"
   ]
  },
  {
   "cell_type": "code",
   "execution_count": 6,
   "id": "39bcade2-fe5a-4220-a4ba-610e3ed822f1",
   "metadata": {},
   "outputs": [],
   "source": [
    "from pyiron_workflow import as_function_node\n",
    "import typing\n",
    "from typing import Optional\n",
    "\n",
    "@as_function_node()\n",
    "def add_1(a: Optional[float | int] = None):\n",
    "    return a+1"
   ]
  },
  {
   "cell_type": "code",
   "execution_count": 7,
   "id": "79bb3269-8004-4ca0-af4a-1be2204d2504",
   "metadata": {},
   "outputs": [],
   "source": [
    "from pyiron_workflow import as_function_node, as_macro_node\n",
    "import typing\n",
    "from typing import Optional\n",
    "\n",
    "@as_function_node()\n",
    "def part_1(a: Optional[float | int] = 0):\n",
    "    return a+1\n",
    "\n",
    "@as_function_node()\n",
    "def part_2(a: Optional[float | int] = 0):\n",
    "    return a+2\n",
    "\n",
    "@as_function_node()\n",
    "def part_3(a: Optional[float | int] = 0):\n",
    "    return a+3\n",
    "\n",
    "@as_function_node()\n",
    "def part_4(a: Optional[float | int] = 0, b: Optional[float | int] = 0):\n",
    "    return a+b\n",
    "\n",
    "@as_macro_node()\n",
    "def macro_add(wf, a: int = 0):\n",
    "\n",
    "    # imports\n",
    "\n",
    "    wf.one = part_1(a)\n",
    "    wf.two = part_2(wf.one)\n",
    "    wf.three = part_3(wf.two)\n",
    "    \n",
    "    return wf.three\n",
    "\n",
    "@as_macro_node()\n",
    "def macro_addmore(wf, a: int = 0, b: int = 0):\n",
    "\n",
    "    # imports\n",
    "\n",
    "    wf.in1 = part_1(a)\n",
    "    wf.in2 = part_2(b)\n",
    "    wf.out = part_4(wf.in1, wf.in2)\n",
    "    \n",
    "    return wf.out\n",
    "    \n",
    "\n",
    "\n",
    "wf.add1 = add_1()\n",
    "wf.add2 = add_1(wf.add1)\n",
    "wf.add3 = add_1()\n",
    "wf.add4 = add_1()\n",
    "\n",
    "wf.macro1 = macro_addmore(wf.add2,wf.add3)\n",
    "wf.macro2 = macro_add(wf.macro1)\n",
    "\n",
    "\n",
    "\n",
    "\n",
    "\n"
   ]
  },
  {
   "cell_type": "code",
   "execution_count": 8,
   "id": "d9e5f2d1-d865-4237-a69a-9ee6dc1378f1",
   "metadata": {},
   "outputs": [
    {
     "data": {
      "application/vnd.jupyter.widget-view+json": {
       "model_id": "b864df1c21c446ea934ccf7d3a9839b0",
       "version_major": 2,
       "version_minor": 0
      },
      "text/plain": [
       "HBox(children=(Accordion(children=(Tree(nodes=(Node(icon_style='warning', name='databases'), Node(icon_style='…"
      ]
     },
     "execution_count": 8,
     "metadata": {},
     "output_type": "execute_result"
    }
   ],
   "source": [
    "pf = PyironFlow([wf])\n",
    "pf.gui"
   ]
  },
  {
   "cell_type": "code",
   "execution_count": 11,
   "id": "fd30311a-7236-4662-8e2b-3ab864dc5088",
   "metadata": {},
   "outputs": [
    {
     "data": {
      "text/plain": [
       "'out'"
      ]
     },
     "execution_count": 11,
     "metadata": {},
     "output_type": "execute_result"
    }
   ],
   "source": [
    "list(wf.macro1.outputs.channel_dict.keys())[0]"
   ]
  },
  {
   "cell_type": "code",
   "execution_count": 15,
   "id": "5a0cf199-f2ee-41ac-b4f1-557980386231",
   "metadata": {},
   "outputs": [
    {
     "name": "stdout",
     "output_type": "stream",
     "text": [
      "out\n"
     ]
    }
   ],
   "source": [
    "for target in wf.macro1.outputs.channel_dict.keys():\n",
    "    print(target)"
   ]
  },
  {
   "cell_type": "code",
   "execution_count": null,
   "id": "d6df8c63-90c7-494c-849d-5b332ac64576",
   "metadata": {},
   "outputs": [],
   "source": [
    "from pyiron_nodes.custom_macro import custom_macro"
   ]
  },
  {
   "cell_type": "code",
   "execution_count": null,
   "id": "df720ecf-737f-4163-9e77-344d5ab630e6",
   "metadata": {},
   "outputs": [],
   "source": [
    "    for i, (k, v) in enumerate(wf.children.items()):\n",
    "        for ic, (out, inp) in enumerate(v.graph_as_dict['edges']['data']):\n",
    "            print(ic, out, inp)\n",
    "            last = max(len(out.split('/')) -1, 0) \n",
    "            out_node, out_port = out.split('/')[last].split('.')\n",
    "            inp_node, inp_port = inp.split('/')[last].split('.')"
   ]
  },
  {
   "cell_type": "code",
   "execution_count": null,
   "id": "a6bc6d4d-ee28-4812-9021-3485b7bbe109",
   "metadata": {},
   "outputs": [],
   "source": [
    "for i, (k, v) in enumerate(wf.children.items()):\n",
    "    print(v.graph_as_dict)"
   ]
  },
  {
   "cell_type": "code",
   "execution_count": null,
   "id": "7d841d02-ece5-4421-929d-01b67a9ef7af",
   "metadata": {},
   "outputs": [],
   "source": [
    "for i, (k, v) in enumerate(wf.children.items()):\n",
    "    print(v)"
   ]
  },
  {
   "cell_type": "code",
   "execution_count": null,
   "id": "15fa7eb8-f92b-4523-9d84-61b092ee2a03",
   "metadata": {},
   "outputs": [],
   "source": [
    "json.loads(pf.wf_widgets[0].gui.nodes)"
   ]
  },
  {
   "cell_type": "code",
   "execution_count": 9,
   "id": "7d9a0324-f84a-4442-90f2-c1e23c83326b",
   "metadata": {},
   "outputs": [
    {
     "data": {
      "text/plain": [
       "[{'id': 'add1',\n",
       "  'data': {'label': 'add1',\n",
       "   'source_labels': ['a+1'],\n",
       "   'target_labels': ['a'],\n",
       "   'import_path': '__main__.add_1',\n",
       "   'target_values': [None],\n",
       "   'target_types': ['float'],\n",
       "   'source_values': ['NotData'],\n",
       "   'source_types': ['None']},\n",
       "  'position': {'x': 12, 'y': 136},\n",
       "  'type': 'customNode',\n",
       "  'style': {'border': '1px black solid',\n",
       "   'padding': 5,\n",
       "   'background': '#a2ea9f',\n",
       "   'borderRadius': '10px',\n",
       "   'width': '240px',\n",
       "   'width_unitless': 240,\n",
       "   'height_unitless': 56},\n",
       "  'targetPosition': 'left',\n",
       "  'sourcePosition': 'right',\n",
       "  'measured': {'width': 240, 'height': 49}},\n",
       " {'id': 'add2',\n",
       "  'data': {'label': 'add2',\n",
       "   'source_labels': ['a+1'],\n",
       "   'target_labels': ['a'],\n",
       "   'import_path': '__main__.add_1',\n",
       "   'target_values': [None],\n",
       "   'target_types': ['float'],\n",
       "   'source_values': ['NotData'],\n",
       "   'source_types': ['None']},\n",
       "  'position': {'x': 332, 'y': 88},\n",
       "  'type': 'customNode',\n",
       "  'style': {'border': '1px black solid',\n",
       "   'padding': 5,\n",
       "   'background': '#a2ea9f',\n",
       "   'borderRadius': '10px',\n",
       "   'width': '240px',\n",
       "   'width_unitless': 240,\n",
       "   'height_unitless': 56},\n",
       "  'targetPosition': 'left',\n",
       "  'sourcePosition': 'right',\n",
       "  'measured': {'width': 240, 'height': 49}},\n",
       " {'id': 'add3',\n",
       "  'data': {'label': 'add3',\n",
       "   'source_labels': ['a+1'],\n",
       "   'target_labels': ['a'],\n",
       "   'import_path': '__main__.add_1',\n",
       "   'target_values': [None],\n",
       "   'target_types': ['float'],\n",
       "   'source_values': ['NotData'],\n",
       "   'source_types': ['None']},\n",
       "  'position': {'x': 332, 'y': 184},\n",
       "  'type': 'customNode',\n",
       "  'style': {'border': '1px black solid',\n",
       "   'padding': 5,\n",
       "   'background': '#a2ea9f',\n",
       "   'borderRadius': '10px',\n",
       "   'width': '240px',\n",
       "   'width_unitless': 240,\n",
       "   'height_unitless': 56},\n",
       "  'targetPosition': 'left',\n",
       "  'sourcePosition': 'right',\n",
       "  'measured': {'width': 240, 'height': 49}},\n",
       " {'id': 'add4',\n",
       "  'data': {'label': 'add4',\n",
       "   'source_labels': ['a+1'],\n",
       "   'target_labels': ['a'],\n",
       "   'import_path': '__main__.add_1',\n",
       "   'target_values': [None],\n",
       "   'target_types': ['float'],\n",
       "   'source_values': ['NotData'],\n",
       "   'source_types': ['None']},\n",
       "  'position': {'x': 12, 'y': 12},\n",
       "  'type': 'customNode',\n",
       "  'style': {'border': '1px black solid',\n",
       "   'padding': 5,\n",
       "   'background': '#a2ea9f',\n",
       "   'borderRadius': '10px',\n",
       "   'width': '240px',\n",
       "   'width_unitless': 240,\n",
       "   'height_unitless': 56},\n",
       "  'targetPosition': 'left',\n",
       "  'sourcePosition': 'right',\n",
       "  'measured': {'width': 240, 'height': 49}},\n",
       " {'id': 'macro1',\n",
       "  'data': {'label': 'macro1',\n",
       "   'source_labels': ['out'],\n",
       "   'target_labels': ['a', 'b'],\n",
       "   'import_path': '__main__.macro_addmore',\n",
       "   'target_values': [0, 0],\n",
       "   'target_types': ['int', 'int'],\n",
       "   'source_values': ['NotData'],\n",
       "   'source_types': ['None']},\n",
       "  'position': {'x': 652, 'y': 128},\n",
       "  'type': 'customMacroNode',\n",
       "  'style': {'backgroundColor': 'rgba(255, 0, 255, 0.2)',\n",
       "   'width': '600px',\n",
       "   'height': '400px',\n",
       "   'width_unitless': 600,\n",
       "   'height_unitless': 360},\n",
       "  'measured': {'width': 600, 'height': 400}},\n",
       " {'id': 'in1',\n",
       "  'data': {'label': 'in1',\n",
       "   'source_labels': ['a+1'],\n",
       "   'target_labels': ['a'],\n",
       "   'import_path': '__main__.part_1',\n",
       "   'target_values': [0],\n",
       "   'target_types': ['float'],\n",
       "   'source_values': ['NotData'],\n",
       "   'source_types': ['None']},\n",
       "  'position': {'x': 1040, 'y': 100},\n",
       "  'type': 'macroSubNode',\n",
       "  'style': {'border': '1px black solid',\n",
       "   'padding': 5,\n",
       "   'background': '#a2ea9f',\n",
       "   'borderRadius': '10px',\n",
       "   'width': '120px',\n",
       "   'height': '56px',\n",
       "   'width_unitless': 120,\n",
       "   'height_unitless': 56},\n",
       "  'targetPosition': 'left',\n",
       "  'sourcePosition': 'right',\n",
       "  'isConnectable': 'false',\n",
       "  'parentId': 'macro1',\n",
       "  'extent': 'parent',\n",
       "  'measured': {'width': 120, 'height': 56}},\n",
       " {'id': 'in2',\n",
       "  'data': {'label': 'in2',\n",
       "   'source_labels': ['a+2'],\n",
       "   'target_labels': ['a'],\n",
       "   'import_path': '__main__.part_2',\n",
       "   'target_values': [0],\n",
       "   'target_types': ['float'],\n",
       "   'source_values': ['NotData'],\n",
       "   'source_types': ['None']},\n",
       "  'position': {'x': 1040, 'y': 100},\n",
       "  'type': 'macroSubNode',\n",
       "  'style': {'border': '1px black solid',\n",
       "   'padding': 5,\n",
       "   'background': '#a2ea9f',\n",
       "   'borderRadius': '10px',\n",
       "   'width': '120px',\n",
       "   'height': '56px',\n",
       "   'width_unitless': 120,\n",
       "   'height_unitless': 56},\n",
       "  'targetPosition': 'left',\n",
       "  'sourcePosition': 'right',\n",
       "  'isConnectable': 'false',\n",
       "  'parentId': 'macro1',\n",
       "  'extent': 'parent',\n",
       "  'measured': {'width': 120, 'height': 56}},\n",
       " {'id': 'out',\n",
       "  'data': {'label': 'out',\n",
       "   'source_labels': ['a+b'],\n",
       "   'target_labels': ['a', 'b'],\n",
       "   'import_path': '__main__.part_4',\n",
       "   'target_values': [0, 0],\n",
       "   'target_types': ['float', 'float'],\n",
       "   'source_values': ['NotData'],\n",
       "   'source_types': ['None']},\n",
       "  'position': {'x': 1040, 'y': 100},\n",
       "  'type': 'macroSubNode',\n",
       "  'style': {'border': '1px black solid',\n",
       "   'padding': 5,\n",
       "   'background': '#a2ea9f',\n",
       "   'borderRadius': '10px',\n",
       "   'width': '120px',\n",
       "   'height': '72px',\n",
       "   'width_unitless': 120,\n",
       "   'height_unitless': 72},\n",
       "  'targetPosition': 'left',\n",
       "  'sourcePosition': 'right',\n",
       "  'isConnectable': 'false',\n",
       "  'parentId': 'macro1',\n",
       "  'extent': 'parent',\n",
       "  'measured': {'width': 120, 'height': 72}},\n",
       " {'id': 'macro1_a',\n",
       "  'data': {'label': 'macro1_a',\n",
       "   'source_labels': 'a',\n",
       "   'target_labels': [],\n",
       "   'import_path': '__main__.macro_addmore',\n",
       "   'target_values': [],\n",
       "   'target_types': [],\n",
       "   'source_values': [],\n",
       "   'source_types': []},\n",
       "  'position': {'x': 0, 'y': 20},\n",
       "  'type': 'ghostNode',\n",
       "  'style': {'opacity': 0.5,\n",
       "   'width': '10px',\n",
       "   'height': '5px',\n",
       "   'width_unitless': 10,\n",
       "   'height_unitless': 5},\n",
       "  'targetPosition': 'left',\n",
       "  'sourcePosition': 'right',\n",
       "  'parentId': 'macro1',\n",
       "  'extent': 'parent',\n",
       "  'measured': {'width': 10, 'height': 5}},\n",
       " {'id': 'macro1_b',\n",
       "  'data': {'label': 'macro1_b',\n",
       "   'source_labels': 'b',\n",
       "   'target_labels': [],\n",
       "   'import_path': '__main__.macro_addmore',\n",
       "   'target_values': [],\n",
       "   'target_types': [],\n",
       "   'source_values': [],\n",
       "   'source_types': []},\n",
       "  'position': {'x': 0, 'y': 30},\n",
       "  'type': 'ghostNode',\n",
       "  'style': {'opacity': 0.5,\n",
       "   'width': '10px',\n",
       "   'height': '5px',\n",
       "   'width_unitless': 10,\n",
       "   'height_unitless': 5},\n",
       "  'targetPosition': 'left',\n",
       "  'sourcePosition': 'right',\n",
       "  'parentId': 'macro1',\n",
       "  'extent': 'parent',\n",
       "  'measured': {'width': 10, 'height': 5}},\n",
       " {'id': 'macro1_out',\n",
       "  'data': {'label': 'macro1_out',\n",
       "   'source_labels': [],\n",
       "   'target_labels': 'out',\n",
       "   'import_path': '__main__.macro_addmore',\n",
       "   'target_values': [],\n",
       "   'target_types': [],\n",
       "   'source_values': [],\n",
       "   'source_types': []},\n",
       "  'position': {'x': 270.1744284504656, 'y': 131.8814563928874},\n",
       "  'type': 'ghostNode',\n",
       "  'style': {'opacity': 0.5,\n",
       "   'width': '10px',\n",
       "   'height': '5px',\n",
       "   'width_unitless': 10,\n",
       "   'height_unitless': 5},\n",
       "  'targetPosition': 'left',\n",
       "  'sourcePosition': 'right',\n",
       "  'parentId': 'macro1',\n",
       "  'extent': 'parent',\n",
       "  'measured': {'width': 10, 'height': 5},\n",
       "  'selected': True,\n",
       "  'dragging': False},\n",
       " {'id': 'macro2',\n",
       "  'data': {'label': 'macro2',\n",
       "   'source_labels': ['three'],\n",
       "   'target_labels': ['a'],\n",
       "   'import_path': '__main__.macro_add',\n",
       "   'target_values': [0],\n",
       "   'target_types': ['int'],\n",
       "   'source_values': ['NotData'],\n",
       "   'source_types': ['None']},\n",
       "  'position': {'x': 912, 'y': 136},\n",
       "  'type': 'customMacroNode',\n",
       "  'style': {'border': '1px black solid',\n",
       "   'padding': 5,\n",
       "   'background': '#eacf9f',\n",
       "   'borderRadius': '10px',\n",
       "   'width': '240px',\n",
       "   'width_unitless': 240,\n",
       "   'height_unitless': 56},\n",
       "  'targetPosition': 'left',\n",
       "  'sourcePosition': 'right',\n",
       "  'measured': {'width': 240, 'height': 49}}]"
      ]
     },
     "execution_count": 9,
     "metadata": {},
     "output_type": "execute_result"
    }
   ],
   "source": [
    "json.loads(pf.wf_widgets[0].gui.nodes)"
   ]
  },
  {
   "cell_type": "code",
   "execution_count": null,
   "id": "d98a72a2-2af6-434d-9480-f51ec65493ee",
   "metadata": {},
   "outputs": [],
   "source": [
    "wf.plus1 = part_1()\n",
    "wf.plus2 = part_2()\n",
    "wf.plus3 = part_3()"
   ]
  },
  {
   "cell_type": "code",
   "execution_count": null,
   "id": "20a4cfa1-296d-4412-8932-8aa0381c917b",
   "metadata": {},
   "outputs": [],
   "source": [
    "wf.add5 = add_1()"
   ]
  },
  {
   "cell_type": "code",
   "execution_count": null,
   "id": "9ef232ae-39b6-400e-a35b-9f5f0e655ec1",
   "metadata": {},
   "outputs": [],
   "source": [
    "wf.macro2 = macro_add(wf.macro1)"
   ]
  },
  {
   "cell_type": "code",
   "execution_count": null,
   "id": "5b7957fc-e4e0-4d9d-8b3b-336a29aa8c95",
   "metadata": {},
   "outputs": [],
   "source": [
    "wf.macro3 = custom_macro()"
   ]
  },
  {
   "cell_type": "code",
   "execution_count": null,
   "id": "b304d2cf-a269-4178-800d-148762e2f7d6",
   "metadata": {},
   "outputs": [],
   "source": [
    "pf.wf_widgets[0].update()"
   ]
  },
  {
   "cell_type": "code",
   "execution_count": null,
   "id": "0a234465-5e7a-481a-b070-9ceb5e21fd28",
   "metadata": {},
   "outputs": [],
   "source": [
    "json.loads(pf.wf_widgets[0].gui.nodes)"
   ]
  },
  {
   "cell_type": "code",
   "execution_count": null,
   "id": "3c589a0f-065e-4bb4-80fe-40221b457526",
   "metadata": {},
   "outputs": [],
   "source": [
    "@as_macro_node()\n",
    "def macro_ception(wf, a: int = 0, b: int = 0):\n",
    "\n",
    "    # imports\n",
    "\n",
    "    #wf.one = part_1(a)\n",
    "    #wf.two = part_2(b)\n",
    "    wf.macro_inner = macro_addmore(a,b)\n",
    "    wf.add_out = part_1(wf.macro_inner)\n",
    "    \n",
    "    return wf.add_out\n"
   ]
  },
  {
   "cell_type": "code",
   "execution_count": null,
   "id": "fd50bb09-1d5d-41c4-b52f-a24f9fc1a51c",
   "metadata": {},
   "outputs": [],
   "source": [
    "wf2 = Workflow('macro_in_macro')\n",
    "\n",
    "wf2.macro1 = macro_ception()\n",
    "\n",
    "pf2 = PyironFlow([wf2])\n",
    "pf2.gui"
   ]
  },
  {
   "cell_type": "code",
   "execution_count": null,
   "id": "50e47622-723f-4b4b-8d72-36e09eb9fe00",
   "metadata": {},
   "outputs": [],
   "source": [
    "json.loads(pf.wf_widgets[0].gui.nodes)"
   ]
  },
  {
   "cell_type": "code",
   "execution_count": null,
   "id": "8747dad9-2c66-4331-bca9-2e4b29d7b1e9",
   "metadata": {},
   "outputs": [],
   "source": [
    "pf.wf_widgets[0].wf"
   ]
  },
  {
   "cell_type": "code",
   "execution_count": null,
   "id": "bb60e0ea-f8a1-4f96-9cb5-9fd59751dfe1",
   "metadata": {
    "scrolled": true
   },
   "outputs": [],
   "source": [
    "pf.wf_widgets[0].update()"
   ]
  },
  {
   "cell_type": "code",
   "execution_count": null,
   "id": "d41f125a-9119-4306-9b52-b1550390b31f",
   "metadata": {},
   "outputs": [],
   "source": [
    "pf.wf_widgets[0].wf.add2 = add_1()"
   ]
  },
  {
   "cell_type": "code",
   "execution_count": null,
   "id": "62dd73fb-8576-4ee2-a805-5a20fe6e9c38",
   "metadata": {},
   "outputs": [],
   "source": [
    "wf.add1 = add_1()"
   ]
  },
  {
   "cell_type": "code",
   "execution_count": null,
   "id": "563f6fdb-e2b3-4ec6-b20d-13746aadb695",
   "metadata": {},
   "outputs": [],
   "source": [
    "wf.add2 = add_1()"
   ]
  },
  {
   "cell_type": "code",
   "execution_count": null,
   "id": "1c073009-8005-41f4-bee1-b06a788eaffd",
   "metadata": {},
   "outputs": [],
   "source": [
    "pf.wf_widgets[0].add_node(add_1, \"add1\")"
   ]
  },
  {
   "cell_type": "code",
   "execution_count": null,
   "id": "1dd681d5-1853-48b1-b7eb-cb5eb2bf2b68",
   "metadata": {},
   "outputs": [],
   "source": [
    "pf.wf_widgets[0].gui.edges"
   ]
  },
  {
   "cell_type": "code",
   "execution_count": null,
   "id": "7af0a892-b76a-46f4-a505-841d6964b487",
   "metadata": {},
   "outputs": [],
   "source": [
    "get_node_instance_type(wf.add1)"
   ]
  },
  {
   "cell_type": "code",
   "execution_count": null,
   "id": "9960f0a7-fa79-458c-a22e-b6b16ed3f277",
   "metadata": {},
   "outputs": [],
   "source": [
    "get_edges(wf)"
   ]
  },
  {
   "cell_type": "code",
   "execution_count": null,
   "id": "447d5b64-efd6-40c3-b3b1-9e480fdb508b",
   "metadata": {},
   "outputs": [],
   "source": [
    "for ic, (out, inp) in enumerate(wf.add1.graph_as_dict['edges']['data']):\n",
    "    print(ic, out, inp)\n",
    "    last = max(len(out.split('/')) -1, 0) \n",
    "    out_node, out_port = out.split('/')[last].split('.')\n",
    "    print(out_node, out_port)"
   ]
  },
  {
   "cell_type": "code",
   "execution_count": null,
   "id": "e2577d26-c2f5-48f4-85ff-87b3b7dc8a8a",
   "metadata": {},
   "outputs": [],
   "source": [
    "for i, (k, v) in enumerate(wf.children.items()):\n",
    "    print(k)"
   ]
  },
  {
   "cell_type": "code",
   "execution_count": null,
   "id": "b673ee5b-165e-408f-bf9c-2422fcc43014",
   "metadata": {},
   "outputs": [],
   "source": [
    "def get_edges(wf):\n",
    "    edges = []\n",
    "    for ic, (out, inp) in enumerate(wf.graph_as_dict[\"edges\"][\"data\"].keys()):\n",
    "        out_node, out_port = out.split('/')[2].split('.')\n",
    "        inp_node, inp_port = inp.split('/')[2].split('.')\n",
    "\n",
    "        edge_dict = dict()\n",
    "        edge_dict[\"source\"] = out_node\n",
    "        edge_dict[\"sourceHandle\"] = out_port\n",
    "        edge_dict[\"target\"] = inp_node\n",
    "        edge_dict[\"targetHandle\"] = inp_port\n",
    "        edge_dict[\"id\"] = ic\n",
    "        edge_dict[\"style\"] = {'strokeWidth': 2, 'stroke': 'black',}\n",
    "\n",
    "        edges.append(edge_dict)\n",
    "    return edges\n"
   ]
  },
  {
   "cell_type": "code",
   "execution_count": null,
   "id": "f7348ec5-1613-4bc4-acce-52550379b6ad",
   "metadata": {},
   "outputs": [],
   "source": [
    "get_edges(wf)"
   ]
  },
  {
   "cell_type": "code",
   "execution_count": null,
   "id": "087bf016-210c-4a15-9ff5-489c88ea9fd5",
   "metadata": {},
   "outputs": [],
   "source": [
    "edges = []\n",
    "for i, (k, v) in enumerate(wf.children.items()):\n",
    "    #print(v)\n",
    "    #print(get_node_instance_type(v))\n",
    "    if (get_node_instance_type(v) == 'macro'):\n",
    "        for ic, (out, inp) in enumerate(v.graph_as_dict['edges']['data']):\n",
    "            print(ic, out, inp)\n",
    "            last = max(len(out.split('/')) -1, 0) \n",
    "            out_node, out_port = out.split('/')[last].split('.')\n",
    "            inp_node, inp_port = inp.split('/')[last].split('.')\n",
    "                \n",
    "            edge_dict = dict()\n",
    "            edge_dict[\"source\"] = out_node\n",
    "            edge_dict[\"sourceHandle\"] = out_port\n",
    "            edge_dict[\"target\"] = inp_node\n",
    "            edge_dict[\"targetHandle\"] = inp_port\n",
    "            edge_dict[\"id\"] = ic\n",
    "            edge_dict[\"style\"] = {'strokeWidth': 2, 'stroke': 'black',}\n",
    "    \n",
    "            edges.append(edge_dict)\n",
    "print(edges)"
   ]
  },
  {
   "cell_type": "code",
   "execution_count": null,
   "id": "1b34d6b5-3368-42e5-8da8-5f36f8d31752",
   "metadata": {},
   "outputs": [],
   "source": [
    "for ic in enumerate(wf.graph_as_dict):\n",
    "    print(ic)"
   ]
  },
  {
   "cell_type": "code",
   "execution_count": null,
   "id": "710ee23c-5e2b-4c25-8d34-e529182e0dd2",
   "metadata": {},
   "outputs": [],
   "source": [
    "pf.wf_widgets[0].gui.edges"
   ]
  },
  {
   "cell_type": "code",
   "execution_count": null,
   "id": "88a27b84-970c-414b-8e73-3aee176e905f",
   "metadata": {},
   "outputs": [],
   "source": [
    "pf.wf_widgets[0].gui.nodes = '[{\"id\":\"add\",\"data\":{\"label\":\"add\"},\"position\":{\"x\":0,\"y\":100},\"type\":\"group\",\"style\":{\"border\":\"1px black solid\",\"padding\":5,\"background\":\"#a2ea9f\",\"borderRadius\":\"10px\",\"width\":\"240px\"},\"measured\":{\"width\":240,\"height\":12}},{\"id\":\"add2\",\"data\":{\"label\":\"add2\"},\"position\":{\"x\":0,\"y\":100},\"type\":\"custom_node\", parentId: \"add\", extent: \"parent\", \"style\":{\"border\":\"1px black solid\",\"padding\":5,\"background\":\"#a2ea9f\",\"borderRadius\":\"10px\",\"width\":\"240px\"},\"measured\":{\"width\":240,\"height\":12}}]'"
   ]
  },
  {
   "cell_type": "code",
   "execution_count": null,
   "id": "d88e5acd-ef69-4476-ac67-e55710d6783f",
   "metadata": {},
   "outputs": [],
   "source": [
    "wf.macro = macro_add()"
   ]
  },
  {
   "cell_type": "code",
   "execution_count": null,
   "id": "9352eb61-3cb1-4495-947d-f7e5b53d84c3",
   "metadata": {},
   "outputs": [],
   "source": [
    "\n",
    "\n",
    "flow_widget.add_node(str(path_str), node.path.name)\n"
   ]
  },
  {
   "cell_type": "code",
   "execution_count": null,
   "id": "094ea54f-7e64-42ab-bfd3-13a8ec1c2e80",
   "metadata": {},
   "outputs": [],
   "source": [
    "\n",
    "\n",
    "\n",
    "\n",
    "\n",
    "\n",
    "\n",
    "\n",
    "\n",
    "\n",
    "\n",
    "\n",
    "\n",
    "\n",
    "\n",
    "\n",
    "\n",
    "\n",
    "\n",
    "\n",
    "\n",
    "\n",
    "\n",
    "\n",
    "\n",
    "\n",
    "\n",
    "\n",
    "\n",
    "\n",
    "\n",
    "\n",
    "\n",
    "\n",
    "\n",
    "\n"
   ]
  },
  {
   "cell_type": "code",
   "execution_count": null,
   "id": "b93356dd-e461-4e67-905b-83e136b06821",
   "metadata": {},
   "outputs": [],
   "source": [
    "from pyiron_workflow import as_function_node\n",
    "import typing\n",
    "from typing import Optional\n",
    "\n",
    "@as_function_node()\n",
    "def add_1(a: Optional[float | int] = None):\n",
    "    return a+1"
   ]
  },
  {
   "cell_type": "code",
   "execution_count": null,
   "id": "7401f5a3-f801-4e45-8789-e0b1ed061e71",
   "metadata": {},
   "outputs": [],
   "source": [
    "wf.add1 = add_1()"
   ]
  },
  {
   "cell_type": "code",
   "execution_count": null,
   "id": "f3130fef-60e7-468d-941a-9b293f68e4df",
   "metadata": {},
   "outputs": [],
   "source": [
    "pf.wf_widgets[0].wf.add1 = add_1()"
   ]
  },
  {
   "cell_type": "code",
   "execution_count": null,
   "id": "11939cb6-d79c-4379-a2d2-3a8bd2347160",
   "metadata": {},
   "outputs": [],
   "source": [
    "wf.add2 = add_1()"
   ]
  },
  {
   "cell_type": "code",
   "execution_count": null,
   "id": "5d442713-dccd-41b6-ad2f-119c1b7fb53c",
   "metadata": {},
   "outputs": [],
   "source": [
    "len(list(wf.macro))"
   ]
  },
  {
   "cell_type": "code",
   "execution_count": null,
   "id": "f7b1ba37-0de5-40a5-a274-d5dd6b694af3",
   "metadata": {},
   "outputs": [],
   "source": [
    "wf"
   ]
  },
  {
   "cell_type": "code",
   "execution_count": null,
   "id": "ca003fa2-035f-4782-81f4-765db514d638",
   "metadata": {},
   "outputs": [],
   "source": [
    "list(wf.macro)[0]"
   ]
  },
  {
   "cell_type": "code",
   "execution_count": null,
   "id": "019f93f4-42ac-456d-a20c-1c196602ea0f",
   "metadata": {},
   "outputs": [],
   "source": [
    "import json\n",
    "\n",
    "nodes = \"[{'id': '1','data': { 'label': 'Hello' },'position': { 'x': 0, 'y': 0 },},]\"\n",
    "\n",
    "nodes_json = json.dumps(nodes)\n",
    "wf.nodes = nodes_json"
   ]
  },
  {
   "cell_type": "code",
   "execution_count": null,
   "id": "8e1e9c0f-8df5-4314-a370-7b537ec85e79",
   "metadata": {},
   "outputs": [],
   "source": [
    "wf"
   ]
  },
  {
   "cell_type": "code",
   "execution_count": null,
   "id": "8869c880-b4ff-421e-8a7e-8fe754ff7bfd",
   "metadata": {},
   "outputs": [],
   "source": [
    "    {\n",
    "      'id': '1-a',\n",
    "      'data': { 'label': 'message' },\n",
    "      'position': { 'x': 250, 'y': 100 },\n",
    "      'type': 'output',\n",
    "      'parentId': '1',\n",
    "      'extent': 'parent',\n",
    "      'targetPosition': 'left',      \n",
    "    },\n",
    "    {\n",
    "      'id': '1-b',\n",
    "      'data': { 'label': 'Child Node 1' },\n",
    "      'position': { 'x': 0, 'y': 100 },\n",
    "      'type': 'input',\n",
    "      'parentId': '1',\n",
    "      'extent': 'parent',\n",
    "      'targetPosition': 'left',  \n",
    "    },"
   ]
  },
  {
   "cell_type": "code",
   "execution_count": null,
   "id": "a8786f1a-d583-42f6-a3b1-79a56dfea199",
   "metadata": {},
   "outputs": [],
   "source": [
    "Macro into default node\n",
    "\n",
    "internal nodes\n",
    "\n",
    "hidden button\n",
    "\n",
    "connection validation"
   ]
  },
  {
   "cell_type": "code",
   "execution_count": null,
   "id": "0407dab0-3471-49a6-b4c9-867ca9225db4",
   "metadata": {},
   "outputs": [],
   "source": [
    "no interactivity with expanded macro"
   ]
  },
  {
   "cell_type": "code",
   "execution_count": null,
   "id": "83ce6267-b2a1-4419-9e4a-42c95359e241",
   "metadata": {},
   "outputs": [],
   "source": [
    "wf = pf.get_workflow()"
   ]
  },
  {
   "cell_type": "code",
   "execution_count": null,
   "id": "d5c54fbd-1a9f-47cf-87c5-1203346694ba",
   "metadata": {},
   "outputs": [],
   "source": [
    "import anywidget\n",
    "import pathlib\n",
    "import traitlets\n",
    "import os\n",
    "import json\n",
    "import importlib\n",
    "import typing\n",
    "\n",
    "def dict_to_node(dict_node):\n",
    "\n",
    "    print(dict_node['type'])\n",
    "    data = dict_node['data']\n",
    "    node = get_node_from_path(data['import_path'])(label=dict_node['id'])\n",
    "    if 'position' in dict_node:\n",
    "        x, y = dict_node['position'].values()\n",
    "        node.position = (x, y)\n",
    "        # print('position exists: ', node.label, node.position)\n",
    "    else:\n",
    "        print('no position: ', node.label)\n",
    "    if 'target_values' in data:\n",
    "        target_values = data['target_values']\n",
    "        target_labels = data['target_labels']\n",
    "        for k, v in zip(target_labels, target_values):\n",
    "            if v not in ('NonPrimitive', 'NotData'):\n",
    "                node.inputs[k] = v\n",
    "\n",
    "    return node"
   ]
  },
  {
   "cell_type": "code",
   "execution_count": null,
   "id": "e1eedd66-8e82-4375-b0ec-5522e504ec2c",
   "metadata": {},
   "outputs": [],
   "source": [
    "dict_edges = json.loads(pf.wf_widgets[0].gui.edges)"
   ]
  },
  {
   "cell_type": "code",
   "execution_count": null,
   "id": "bcb97cd9-7bae-42a2-8cb8-0b70f9e25a1f",
   "metadata": {},
   "outputs": [],
   "source": [
    "dict_edges"
   ]
  },
  {
   "cell_type": "code",
   "execution_count": null,
   "id": "6d66a59c-1de4-4d0a-bc1c-6813aa7da823",
   "metadata": {},
   "outputs": [],
   "source": [
    "for dict_edge in dict_edges:\n",
    "    if 'type' in dict_edge:\n",
    "        if (dict_edge['type'] != 'macroSubEdge'):\n",
    "            print(dict_edge['type'])"
   ]
  },
  {
   "cell_type": "code",
   "execution_count": null,
   "id": "c8113c1b-3858-441b-bb79-9acf60b46448",
   "metadata": {},
   "outputs": [],
   "source": [
    "fruits = ['apple', 'banana', 'cherry']\n",
    "\n",
    "fruits.count(\"chry\")"
   ]
  },
  {
   "cell_type": "code",
   "execution_count": null,
   "id": "3876ef7e-090e-4f73-aa26-09e091cfab06",
   "metadata": {},
   "outputs": [],
   "source": []
  }
 ],
 "metadata": {
  "kernelspec": {
   "display_name": "Python 3 (ipykernel)",
   "language": "python",
   "name": "python3"
  },
  "language_info": {
   "codemirror_mode": {
    "name": "ipython",
    "version": 3
   },
   "file_extension": ".py",
   "mimetype": "text/x-python",
   "name": "python",
   "nbconvert_exporter": "python",
   "pygments_lexer": "ipython3",
   "version": "3.12.8"
  }
 },
 "nbformat": 4,
 "nbformat_minor": 5
}
