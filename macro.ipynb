{
 "cells": [
  {
   "cell_type": "code",
   "execution_count": 1,
   "id": "eb0aa727-e2dc-4a8c-8292-d6bb89902ce4",
   "metadata": {},
   "outputs": [],
   "source": [
    "#!npm install react react-dom @xyflow/react @anywidget/react"
   ]
  },
  {
   "cell_type": "code",
   "execution_count": 2,
   "id": "66499951-9d31-4fcd-887d-7da107b3eb0d",
   "metadata": {},
   "outputs": [],
   "source": [
    "import sys\n",
    "from pathlib import Path\n",
    "\n",
    "sys.path.insert(0, str(Path(Path.cwd())))"
   ]
  },
  {
   "cell_type": "code",
   "execution_count": 3,
   "id": "7d355915-2623-4f74-9463-df1b9fd7ce3c",
   "metadata": {},
   "outputs": [
    {
     "name": "stdout",
     "output_type": "stream",
     "text": [
      "\n",
      "  \u001b[37mpyironflow/static/\u001b[0m\u001b[1mwidget.js\u001b[0m    \u001b[33m1.7mb ⚠️\u001b[0m\n",
      "  \u001b[37mpyironflow/static/\u001b[0m\u001b[1mwidget.css\u001b[0m  \u001b[36m15.7kb\u001b[0m\n",
      "\n",
      "⚡ \u001b[32mDone in 443ms\u001b[0m\n"
     ]
    }
   ],
   "source": [
    "!npx esbuild js/widget.jsx --minify --format=esm --bundle --outdir=pyironflow/static"
   ]
  },
  {
   "cell_type": "code",
   "execution_count": 4,
   "id": "e75867cf-6c3e-4ae0-ab40-f07e1b3b2c06",
   "metadata": {},
   "outputs": [],
   "source": [
    "from pyiron_workflow import Workflow\n",
    "#from typing import Optional\n",
    "from pyironflow.pyironflow import PyironFlow\n",
    "#from pyironflow.macro import get_node_instance_type\n",
    "\n",
    "#from pyiron_workflow import Workflow\n",
    "#from pyiron_workflow.channels import NotData\n",
    "#from pyironflow.themes import get_color\n",
    "#from pyironflow.macro import get_node_instance_type\n",
    "#from pyironflow.wf_extensions import get_import_path, create_macro\n",
    "\n",
    "import anywidget\n",
    "import pathlib\n",
    "import traitlets\n",
    "import os\n",
    "import json\n",
    "import importlib\n",
    "import typing\n"
   ]
  },
  {
   "cell_type": "code",
   "execution_count": 5,
   "id": "6651345a-4431-4f5e-809e-8e2e5c6a20ea",
   "metadata": {},
   "outputs": [],
   "source": [
    "wf = Workflow('lammps_macro')"
   ]
  },
  {
   "cell_type": "code",
   "execution_count": 6,
   "id": "39bcade2-fe5a-4220-a4ba-610e3ed822f1",
   "metadata": {},
   "outputs": [],
   "source": [
    "from pyiron_workflow import as_function_node\n",
    "import typing\n",
    "from typing import Optional\n",
    "\n",
    "@as_function_node()\n",
    "def add_1(a: Optional[float | int] = None):\n",
    "    return a+1"
   ]
  },
  {
   "cell_type": "code",
   "execution_count": 7,
   "id": "79bb3269-8004-4ca0-af4a-1be2204d2504",
   "metadata": {},
   "outputs": [],
   "source": [
    "from pyiron_workflow import as_function_node, as_macro_node\n",
    "import typing\n",
    "from typing import Optional\n",
    "\n",
    "@as_function_node()\n",
    "def part_1(a: float | int = 0):\n",
    "    out = a+1\n",
    "    return out\n",
    "\n",
    "@as_function_node()\n",
    "def part_2(a: float | int = 0):\n",
    "    out = a+2\n",
    "    return out\n",
    "\n",
    "@as_function_node()\n",
    "def part_3(a: float | int = 0):\n",
    "    out = a+3\n",
    "    return out\n",
    "\n",
    "@as_function_node()\n",
    "def part_4(a: float | int = 0, b: float | int = 0):\n",
    "    out = a+b\n",
    "    return out\n",
    "\n",
    "@as_macro_node()\n",
    "def macro_add(wf, a: int = 0):\n",
    "\n",
    "    # imports\n",
    "\n",
    "    wf.one = part_1(a)\n",
    "    wf.two = part_2(wf.one)\n",
    "    wf.three = part_3(wf.two)\n",
    "    \n",
    "    return wf.three\n",
    "\n",
    "@as_macro_node()\n",
    "def macro_addmore(wf, a: int = 0, b: int = 0):\n",
    "\n",
    "    # imports\n",
    "\n",
    "    wf.in1 = part_1(a)\n",
    "    wf.in2 = part_2(b)\n",
    "    wf.out = part_4(wf.in1, wf.in2)\n",
    "    \n",
    "    return wf.out\n",
    "\n",
    "\n",
    "@as_macro_node()\n",
    "def macro_visual(wf, a: int = 0, b: int = 0, c: int = 0):\n",
    "\n",
    "    # imports\n",
    "\n",
    "    wf.in1 = part_1(a)\n",
    "    wf.calc1 = part_4(wf.in1, b)\n",
    "    wf.calc2 = part_2(c)\n",
    "    wf.outNode = part_4(wf.calc1, wf.calc2)\n",
    "    \n",
    "    return wf.outNode\n",
    "    \n",
    "\n",
    "\n",
    "wf.add1 = add_1()\n",
    "wf.add2 = add_1(wf.add1)\n",
    "wf.add3 = add_1()\n",
    "\n",
    "#wf.add5 = add_1()\n",
    "#wf.add6 = add_1()\n",
    "\n",
    "\n",
    "#wf.macro2 = macro_add(wf.macro1)\n",
    "\n",
    "wf.macro = macro_visual(wf.add2,wf.add3)\n",
    "#wf.macro2 = macro_addmore(wf.add5,wf.add6)\n",
    "\n",
    "wf.add4 = add_1(wf.macro)\n",
    "\n",
    "\n"
   ]
  },
  {
   "cell_type": "code",
   "execution_count": 8,
   "id": "0af6e28c-08fc-489c-9991-5511dd367f19",
   "metadata": {},
   "outputs": [
    {
     "data": {
      "application/json": {
       "connections": "[\"/lammps_macro/add2.a+1\"]",
       "default": "0",
       "owner": "\"/lammps_macro/macro\"",
       "strict_hints": "true",
       "type_hint": "\"<class 'int'>\"",
       "value": "0"
      },
      "text/plain": [
       "<pyiron_workflow.channels.InputData at 0x7f0977858a70>"
      ]
     },
     "execution_count": 8,
     "metadata": {},
     "output_type": "execute_result"
    }
   ],
   "source": [
    "wf.macro.inputs.a"
   ]
  },
  {
   "cell_type": "code",
   "execution_count": 9,
   "id": "d0d89855-e19a-4425-84ed-0c00a2d6e640",
   "metadata": {},
   "outputs": [
    {
     "ename": "AttributeError",
     "evalue": "Could not find attribute out on OutputsWithInjection object nor in its channels (['outNode'])",
     "output_type": "error",
     "traceback": [
      "\u001b[0;31m---------------------------------------------------------------------------\u001b[0m",
      "\u001b[0;31mKeyError\u001b[0m                                  Traceback (most recent call last)",
      "File \u001b[0;32m~/miniconda3/envs/pyironflow-forge/lib/python3.12/site-packages/pyiron_workflow/io.py:75\u001b[0m, in \u001b[0;36mIO.__getattr__\u001b[0;34m(self, item)\u001b[0m\n\u001b[1;32m     74\u001b[0m \u001b[38;5;28;01mtry\u001b[39;00m:\n\u001b[0;32m---> 75\u001b[0m     \u001b[38;5;28;01mreturn\u001b[39;00m \u001b[38;5;28;43mself\u001b[39;49m\u001b[38;5;241;43m.\u001b[39;49m\u001b[43mchannel_dict\u001b[49m\u001b[43m[\u001b[49m\u001b[43mitem\u001b[49m\u001b[43m]\u001b[49m\n\u001b[1;32m     76\u001b[0m \u001b[38;5;28;01mexcept\u001b[39;00m \u001b[38;5;167;01mKeyError\u001b[39;00m:\n\u001b[1;32m     77\u001b[0m     \u001b[38;5;66;03m# Raise an attribute error from getattr to make sure hasattr works well!\u001b[39;00m\n",
      "\u001b[0;31mKeyError\u001b[0m: 'out'",
      "\nDuring handling of the above exception, another exception occurred:\n",
      "\u001b[0;31mAttributeError\u001b[0m                            Traceback (most recent call last)",
      "Cell \u001b[0;32mIn[9], line 1\u001b[0m\n\u001b[0;32m----> 1\u001b[0m \u001b[38;5;28mprint\u001b[39m(\u001b[38;5;28mdir\u001b[39m(\u001b[43mwf\u001b[49m\u001b[38;5;241;43m.\u001b[39;49m\u001b[43mmacro\u001b[49m\u001b[38;5;241;43m.\u001b[39;49m\u001b[43moutputs\u001b[49m\u001b[38;5;241;43m.\u001b[39;49m\u001b[43mout\u001b[49m))\n",
      "File \u001b[0;32m~/miniconda3/envs/pyironflow-forge/lib/python3.12/site-packages/pyiron_workflow/io.py:78\u001b[0m, in \u001b[0;36mIO.__getattr__\u001b[0;34m(self, item)\u001b[0m\n\u001b[1;32m     75\u001b[0m     \u001b[38;5;28;01mreturn\u001b[39;00m \u001b[38;5;28mself\u001b[39m\u001b[38;5;241m.\u001b[39mchannel_dict[item]\n\u001b[1;32m     76\u001b[0m \u001b[38;5;28;01mexcept\u001b[39;00m \u001b[38;5;167;01mKeyError\u001b[39;00m:\n\u001b[1;32m     77\u001b[0m     \u001b[38;5;66;03m# Raise an attribute error from getattr to make sure hasattr works well!\u001b[39;00m\n\u001b[0;32m---> 78\u001b[0m     \u001b[38;5;28;01mraise\u001b[39;00m \u001b[38;5;167;01mAttributeError\u001b[39;00m(\n\u001b[1;32m     79\u001b[0m         \u001b[38;5;124mf\u001b[39m\u001b[38;5;124m\"\u001b[39m\u001b[38;5;124mCould not find attribute \u001b[39m\u001b[38;5;132;01m{\u001b[39;00mitem\u001b[38;5;132;01m}\u001b[39;00m\u001b[38;5;124m on \u001b[39m\u001b[38;5;132;01m{\u001b[39;00m\u001b[38;5;28mself\u001b[39m\u001b[38;5;241m.\u001b[39m\u001b[38;5;18m__class__\u001b[39m\u001b[38;5;241m.\u001b[39m\u001b[38;5;18m__name__\u001b[39m\u001b[38;5;132;01m}\u001b[39;00m\u001b[38;5;124m object \u001b[39m\u001b[38;5;124m\"\u001b[39m\n\u001b[1;32m     80\u001b[0m         \u001b[38;5;124mf\u001b[39m\u001b[38;5;124m\"\u001b[39m\u001b[38;5;124mnor in its channels (\u001b[39m\u001b[38;5;132;01m{\u001b[39;00m\u001b[38;5;28mself\u001b[39m\u001b[38;5;241m.\u001b[39mlabels\u001b[38;5;132;01m}\u001b[39;00m\u001b[38;5;124m)\u001b[39m\u001b[38;5;124m\"\u001b[39m\n\u001b[1;32m     81\u001b[0m     )\n",
      "\u001b[0;31mAttributeError\u001b[0m: Could not find attribute out on OutputsWithInjection object nor in its channels (['outNode'])"
     ]
    }
   ],
   "source": [
    "#print(dir(wf.macro.outputs.out))"
   ]
  },
  {
   "cell_type": "code",
   "execution_count": null,
   "id": "4279dcde-2dbb-40e3-a2df-9f5a34bb2cb9",
   "metadata": {},
   "outputs": [],
   "source": [
    "wf.macro.inputs.b._value_receiver.full_label"
   ]
  },
  {
   "cell_type": "code",
   "execution_count": null,
   "id": "409b290b-04fe-41c6-93a3-20cfbf1bd0b8",
   "metadata": {},
   "outputs": [],
   "source": [
    "print(wf.add4.inputs.a._value_receiver)"
   ]
  },
  {
   "cell_type": "code",
   "execution_count": 10,
   "id": "3b4b3011-3349-4e45-8a8c-b6b25963eea9",
   "metadata": {},
   "outputs": [
    {
     "data": {
      "application/json": {
       "calc1": {
        "checkpoint": "null",
        "executor": "null",
        "failed": "false",
        "future": "null",
        "inputs": {
         "a": {
          "connections": "[\"/lammps_macro/macro/in1.out\"]",
          "default": "0",
          "owner": "\"/lammps_macro/macro/calc1\"",
          "strict_hints": "true",
          "type_hint": "\"float | int\"",
          "value": "0"
         },
         "b": {
          "connections": "[]",
          "default": "0",
          "owner": "\"/lammps_macro/macro/calc1\"",
          "strict_hints": "true",
          "type_hint": "\"float | int\"",
          "value": "0"
         }
        },
        "outputs": {
         "out": {
          "connections": "[\"/lammps_macro/macro/outNode.a\"]",
          "default": "\"NOT_DATA\"",
          "owner": "\"/lammps_macro/macro/calc1\"",
          "strict_hints": "true",
          "type_hint": "null",
          "value": "\"NOT_DATA\""
         }
        },
        "parent": "\"/lammps_macro/macro\"",
        "recovery": "\"pickle\"",
        "running": "false",
        "signals": {
         "input": {
          "accumulate_and_run": {
           "connections": "[\"/lammps_macro/macro/in1.ran\"]",
           "owner": "\"/lammps_macro/macro/calc1\"",
           "received_signals": "\"set()\""
          },
          "run": {
           "connections": "[]",
           "owner": "\"/lammps_macro/macro/calc1\""
          }
         },
         "output": {
          "failed": {
           "connections": "[]",
           "owner": "\"/lammps_macro/macro/calc1\""
          },
          "ran": {
           "connections": "[\"/lammps_macro/macro/outNode.accumulate_and_run\"]",
           "owner": "\"/lammps_macro/macro/calc1\""
          }
         }
        }
       },
       "calc2": {
        "checkpoint": "null",
        "executor": "null",
        "failed": "false",
        "future": "null",
        "inputs": {
         "a": {
          "connections": "[]",
          "default": "0",
          "owner": "\"/lammps_macro/macro/calc2\"",
          "strict_hints": "true",
          "type_hint": "\"float | int\"",
          "value": "0"
         }
        },
        "outputs": {
         "out": {
          "connections": "[\"/lammps_macro/macro/outNode.b\"]",
          "default": "\"NOT_DATA\"",
          "owner": "\"/lammps_macro/macro/calc2\"",
          "strict_hints": "true",
          "type_hint": "null",
          "value": "\"NOT_DATA\""
         }
        },
        "parent": "\"/lammps_macro/macro\"",
        "recovery": "\"pickle\"",
        "running": "false",
        "signals": {
         "input": {
          "accumulate_and_run": {
           "connections": "[]",
           "owner": "\"/lammps_macro/macro/calc2\"",
           "received_signals": "\"set()\""
          },
          "run": {
           "connections": "[]",
           "owner": "\"/lammps_macro/macro/calc2\""
          }
         },
         "output": {
          "failed": {
           "connections": "[]",
           "owner": "\"/lammps_macro/macro/calc2\""
          },
          "ran": {
           "connections": "[\"/lammps_macro/macro/outNode.accumulate_and_run\"]",
           "owner": "\"/lammps_macro/macro/calc2\""
          }
         }
        }
       },
       "checkpoint": "null",
       "child_labels": "[\"in1\", \"calc1\", \"calc2\", \"outNode\"]",
       "executor": "null",
       "failed": "false",
       "future": "null",
       "in1": {
        "checkpoint": "null",
        "executor": "null",
        "failed": "false",
        "future": "null",
        "inputs": {
         "a": {
          "connections": "[]",
          "default": "0",
          "owner": "\"/lammps_macro/macro/in1\"",
          "strict_hints": "true",
          "type_hint": "\"float | int\"",
          "value": "0"
         }
        },
        "outputs": {
         "out": {
          "connections": "[\"/lammps_macro/macro/calc1.a\"]",
          "default": "\"NOT_DATA\"",
          "owner": "\"/lammps_macro/macro/in1\"",
          "strict_hints": "true",
          "type_hint": "null",
          "value": "\"NOT_DATA\""
         }
        },
        "parent": "\"/lammps_macro/macro\"",
        "recovery": "\"pickle\"",
        "running": "false",
        "signals": {
         "input": {
          "accumulate_and_run": {
           "connections": "[]",
           "owner": "\"/lammps_macro/macro/in1\"",
           "received_signals": "\"set()\""
          },
          "run": {
           "connections": "[]",
           "owner": "\"/lammps_macro/macro/in1\""
          }
         },
         "output": {
          "failed": {
           "connections": "[]",
           "owner": "\"/lammps_macro/macro/in1\""
          },
          "ran": {
           "connections": "[\"/lammps_macro/macro/calc1.accumulate_and_run\"]",
           "owner": "\"/lammps_macro/macro/in1\""
          }
         }
        }
       },
       "inputs": {
        "a": {
         "connections": "[\"/lammps_macro/add2.a+1\"]",
         "default": "0",
         "owner": "\"/lammps_macro/macro\"",
         "strict_hints": "true",
         "type_hint": "\"<class 'int'>\"",
         "value": "0"
        },
        "b": {
         "connections": "[\"/lammps_macro/add3.a+1\"]",
         "default": "0",
         "owner": "\"/lammps_macro/macro\"",
         "strict_hints": "true",
         "type_hint": "\"<class 'int'>\"",
         "value": "0"
        },
        "c": {
         "connections": "[]",
         "default": "0",
         "owner": "\"/lammps_macro/macro\"",
         "strict_hints": "true",
         "type_hint": "\"<class 'int'>\"",
         "value": "0"
        }
       },
       "outNode": {
        "checkpoint": "null",
        "executor": "null",
        "failed": "false",
        "future": "null",
        "inputs": {
         "a": {
          "connections": "[\"/lammps_macro/macro/calc1.out\"]",
          "default": "0",
          "owner": "\"/lammps_macro/macro/outNode\"",
          "strict_hints": "true",
          "type_hint": "\"float | int\"",
          "value": "0"
         },
         "b": {
          "connections": "[\"/lammps_macro/macro/calc2.out\"]",
          "default": "0",
          "owner": "\"/lammps_macro/macro/outNode\"",
          "strict_hints": "true",
          "type_hint": "\"float | int\"",
          "value": "0"
         }
        },
        "outputs": {
         "out": {
          "connections": "[]",
          "default": "\"NOT_DATA\"",
          "owner": "\"/lammps_macro/macro/outNode\"",
          "strict_hints": "true",
          "type_hint": "null",
          "value": "\"NOT_DATA\""
         }
        },
        "parent": "\"/lammps_macro/macro\"",
        "recovery": "\"pickle\"",
        "running": "false",
        "signals": {
         "input": {
          "accumulate_and_run": {
           "connections": "[\"/lammps_macro/macro/calc2.ran\", \"/lammps_macro/macro/calc1.ran\"]",
           "owner": "\"/lammps_macro/macro/outNode\"",
           "received_signals": "\"set()\""
          },
          "run": {
           "connections": "[]",
           "owner": "\"/lammps_macro/macro/outNode\""
          }
         },
         "output": {
          "failed": {
           "connections": "[]",
           "owner": "\"/lammps_macro/macro/outNode\""
          },
          "ran": {
           "connections": "[]",
           "owner": "\"/lammps_macro/macro/outNode\""
          }
         }
        }
       },
       "outputs": {
        "outNode": {
         "connections": "[\"/lammps_macro/add4.a\"]",
         "default": "\"NOT_DATA\"",
         "owner": "\"/lammps_macro/macro\"",
         "strict_hints": "true",
         "type_hint": "null",
         "value": "\"NOT_DATA\""
        }
       },
       "parent": "\"/lammps_macro\"",
       "provenance_by_completion": "[]",
       "provenance_by_execution": "[]",
       "recovery": "\"pickle\"",
       "running": "false",
       "running_children": "[]",
       "signal_queue": "[]",
       "signals": {
        "input": {
         "accumulate_and_run": {
          "connections": "[]",
          "owner": "\"/lammps_macro/macro\"",
          "received_signals": "\"set()\""
         },
         "run": {
          "connections": "[]",
          "owner": "\"/lammps_macro/macro\""
         }
        },
        "output": {
         "failed": {
          "connections": "[]",
          "owner": "\"/lammps_macro/macro\""
         },
         "ran": {
          "connections": "[]",
          "owner": "\"/lammps_macro/macro\""
         }
        }
       },
       "strict_naming": "true"
      },
      "text/plain": [
       "<__main__.macro_visual at 0x7f0977859010>"
      ]
     },
     "execution_count": 10,
     "metadata": {},
     "output_type": "execute_result"
    }
   ],
   "source": [
    "wf.macro"
   ]
  },
  {
   "cell_type": "code",
   "execution_count": 39,
   "id": "b37fa48f-fe32-4a1c-bf37-3b04520936f0",
   "metadata": {},
   "outputs": [
    {
     "name": "stdout",
     "output_type": "stream",
     "text": [
      "macro (macro_visual):\n",
      "Inputs ['a', 'b', 'c']\n",
      "OutputsWithInjection ['out']\n",
      "InputSignals ['run', 'accumulate_and_run']\n",
      "OutputSignals ['ran', 'failed']\n"
     ]
    }
   ],
   "source": [
    "print(wf.macro)"
   ]
  },
  {
   "cell_type": "code",
   "execution_count": 79,
   "id": "860cb266-e57b-4e2b-9de1-0c8dcdd126f1",
   "metadata": {},
   "outputs": [
    {
     "name": "stdout",
     "output_type": "stream",
     "text": [
      "/lammps_macro/macro/in1.a\n",
      "/lammps_macro/macro/calc1.b\n",
      "/lammps_macro/macro/calc2.a\n"
     ]
    }
   ],
   "source": [
    "for n in wf.macro.inputs:\n",
    "    print(n._value_receiver.full_label)"
   ]
  },
  {
   "cell_type": "code",
   "execution_count": 24,
   "id": "7e452066-be99-41cc-9ba6-a3372066e386",
   "metadata": {},
   "outputs": [
    {
     "name": "stdout",
     "output_type": "stream",
     "text": [
      "in1 (part_1):\n",
      "Inputs ['a']\n",
      "OutputsWithInjection ['out']\n",
      "InputSignals ['run', 'accumulate_and_run']\n",
      "OutputSignals ['ran', 'failed']\n",
      "a\n",
      "None\n",
      "calc1 (part_4):\n",
      "Inputs ['a', 'b']\n",
      "OutputsWithInjection ['out']\n",
      "InputSignals ['run', 'accumulate_and_run']\n",
      "OutputSignals ['ran', 'failed']\n",
      "a\n",
      "None\n",
      "b\n",
      "None\n",
      "calc2 (part_2):\n",
      "Inputs ['a']\n",
      "OutputsWithInjection ['out']\n",
      "InputSignals ['run', 'accumulate_and_run']\n",
      "OutputSignals ['ran', 'failed']\n",
      "a\n",
      "None\n",
      "out (part_4):\n",
      "Inputs ['a', 'b']\n",
      "OutputsWithInjection ['out']\n",
      "InputSignals ['run', 'accumulate_and_run']\n",
      "OutputSignals ['ran', 'failed']\n",
      "a\n",
      "None\n",
      "b\n",
      "None\n"
     ]
    }
   ],
   "source": [
    "#for n in wf.macro.children.items():\n",
    "#    for m in n.outputs:\n",
    "#        print(m._value_receiver.full_label)\n",
    "\n",
    "\n",
    "for i, (k, v) in enumerate(wf.macro.children.items()):\n",
    "    print(v)\n",
    "    for n in v.inputs:\n",
    "        #if n.connections == []\n",
    "        print(n.label)\n",
    "        print(n._value_receiver) "
   ]
  },
  {
   "cell_type": "code",
   "execution_count": 19,
   "id": "ca0ff50e-8cf7-4172-a3a3-82a448fc81d0",
   "metadata": {},
   "outputs": [
    {
     "ename": "AttributeError",
     "evalue": "Could not find attribute channels on Inputs object nor in its channels (['a'])",
     "output_type": "error",
     "traceback": [
      "\u001b[0;31m---------------------------------------------------------------------------\u001b[0m",
      "\u001b[0;31mKeyError\u001b[0m                                  Traceback (most recent call last)",
      "File \u001b[0;32m~/miniconda3/envs/pyironflow-forge/lib/python3.12/site-packages/pyiron_workflow/io.py:75\u001b[0m, in \u001b[0;36mIO.__getattr__\u001b[0;34m(self, item)\u001b[0m\n\u001b[1;32m     74\u001b[0m \u001b[38;5;28;01mtry\u001b[39;00m:\n\u001b[0;32m---> 75\u001b[0m     \u001b[38;5;28;01mreturn\u001b[39;00m \u001b[38;5;28;43mself\u001b[39;49m\u001b[38;5;241;43m.\u001b[39;49m\u001b[43mchannel_dict\u001b[49m\u001b[43m[\u001b[49m\u001b[43mitem\u001b[49m\u001b[43m]\u001b[49m\n\u001b[1;32m     76\u001b[0m \u001b[38;5;28;01mexcept\u001b[39;00m \u001b[38;5;167;01mKeyError\u001b[39;00m:\n\u001b[1;32m     77\u001b[0m     \u001b[38;5;66;03m# Raise an attribute error from getattr to make sure hasattr works well!\u001b[39;00m\n",
      "\u001b[0;31mKeyError\u001b[0m: 'channels'",
      "\nDuring handling of the above exception, another exception occurred:\n",
      "\u001b[0;31mAttributeError\u001b[0m                            Traceback (most recent call last)",
      "Cell \u001b[0;32mIn[19], line 2\u001b[0m\n\u001b[1;32m      1\u001b[0m \u001b[38;5;28;01mfor\u001b[39;00m n \u001b[38;5;129;01min\u001b[39;00m wf\u001b[38;5;241m.\u001b[39mmacro:\n\u001b[0;32m----> 2\u001b[0m     \u001b[38;5;28;01mfor\u001b[39;00m m \u001b[38;5;129;01min\u001b[39;00m \u001b[43mn\u001b[49m\u001b[38;5;241;43m.\u001b[39;49m\u001b[43minputs\u001b[49m\u001b[38;5;241;43m.\u001b[39;49m\u001b[43mchannels\u001b[49m:\n\u001b[1;32m      3\u001b[0m         \u001b[38;5;28mprint\u001b[39m(m)\n",
      "File \u001b[0;32m~/miniconda3/envs/pyironflow-forge/lib/python3.12/site-packages/pyiron_workflow/io.py:78\u001b[0m, in \u001b[0;36mIO.__getattr__\u001b[0;34m(self, item)\u001b[0m\n\u001b[1;32m     75\u001b[0m     \u001b[38;5;28;01mreturn\u001b[39;00m \u001b[38;5;28mself\u001b[39m\u001b[38;5;241m.\u001b[39mchannel_dict[item]\n\u001b[1;32m     76\u001b[0m \u001b[38;5;28;01mexcept\u001b[39;00m \u001b[38;5;167;01mKeyError\u001b[39;00m:\n\u001b[1;32m     77\u001b[0m     \u001b[38;5;66;03m# Raise an attribute error from getattr to make sure hasattr works well!\u001b[39;00m\n\u001b[0;32m---> 78\u001b[0m     \u001b[38;5;28;01mraise\u001b[39;00m \u001b[38;5;167;01mAttributeError\u001b[39;00m(\n\u001b[1;32m     79\u001b[0m         \u001b[38;5;124mf\u001b[39m\u001b[38;5;124m\"\u001b[39m\u001b[38;5;124mCould not find attribute \u001b[39m\u001b[38;5;132;01m{\u001b[39;00mitem\u001b[38;5;132;01m}\u001b[39;00m\u001b[38;5;124m on \u001b[39m\u001b[38;5;132;01m{\u001b[39;00m\u001b[38;5;28mself\u001b[39m\u001b[38;5;241m.\u001b[39m\u001b[38;5;18m__class__\u001b[39m\u001b[38;5;241m.\u001b[39m\u001b[38;5;18m__name__\u001b[39m\u001b[38;5;132;01m}\u001b[39;00m\u001b[38;5;124m object \u001b[39m\u001b[38;5;124m\"\u001b[39m\n\u001b[1;32m     80\u001b[0m         \u001b[38;5;124mf\u001b[39m\u001b[38;5;124m\"\u001b[39m\u001b[38;5;124mnor in its channels (\u001b[39m\u001b[38;5;132;01m{\u001b[39;00m\u001b[38;5;28mself\u001b[39m\u001b[38;5;241m.\u001b[39mlabels\u001b[38;5;132;01m}\u001b[39;00m\u001b[38;5;124m)\u001b[39m\u001b[38;5;124m\"\u001b[39m\n\u001b[1;32m     81\u001b[0m     )\n",
      "\u001b[0;31mAttributeError\u001b[0m: Could not find attribute channels on Inputs object nor in its channels (['a'])"
     ]
    }
   ],
   "source": [
    "for n in wf.macro:\n",
    "    for m in n.inputs.channels:\n",
    "        print(m)"
   ]
  },
  {
   "cell_type": "code",
   "execution_count": 27,
   "id": "355519e5-35e3-4985-a16b-fd43c67b1bb7",
   "metadata": {},
   "outputs": [
    {
     "data": {
      "image/svg+xml": [
       "<?xml version=\"1.0\" encoding=\"UTF-8\" standalone=\"no\"?>\n",
       "<!DOCTYPE svg PUBLIC \"-//W3C//DTD SVG 1.1//EN\"\n",
       " \"http://www.w3.org/Graphics/SVG/1.1/DTD/svg11.dtd\">\n",
       "<!-- Generated by graphviz version 12.0.0 (20240803.0821)\n",
       " -->\n",
       "<!-- Title: clusterlammps_macro Pages: 1 -->\n",
       "<svg width=\"1948pt\" height=\"553pt\"\n",
       " viewBox=\"0.00 0.00 1947.74 553.25\" xmlns=\"http://www.w3.org/2000/svg\" xmlns:xlink=\"http://www.w3.org/1999/xlink\">\n",
       "<g id=\"graph0\" class=\"graph\" transform=\"scale(1 1) rotate(0) translate(4 549.25)\">\n",
       "<title>clusterlammps_macro</title>\n",
       "<polygon fill=\"white\" stroke=\"none\" points=\"-4,4 -4,-549.25 1943.74,-549.25 1943.74,4 -4,4\"/>\n",
       "<text text-anchor=\"middle\" x=\"969.87\" y=\"-7.95\" font-family=\"Helvetica,sans-Serif\" font-size=\"14.00\">lammps_macro: Workflow</text>\n",
       "<g id=\"clust1\" class=\"cluster\">\n",
       "<title>clusterlammps_macroInputs</title>\n",
       "<defs>\n",
       "<linearGradient id=\"clust1_l_0\" gradientUnits=\"userSpaceOnUse\" x1=\"8\" y1=\"-390.75\" x2=\"195.86\" y2=\"-390.75\" >\n",
       "<stop offset=\"0\" style=\"stop-color:#a5a4a5;stop-opacity:1.;\"/>\n",
       "<stop offset=\"1\" style=\"stop-color:#e4e3e4;stop-opacity:1.;\"/>\n",
       "</linearGradient>\n",
       "</defs>\n",
       "<polygon fill=\"url(#clust1_l_0)\" stroke=\"#a5a4a5\" points=\"8,-244.25 8,-537.25 195.86,-537.25 195.86,-244.25 8,-244.25\"/>\n",
       "<text text-anchor=\"middle\" x=\"101.93\" y=\"-519.95\" font-family=\"Helvetica,sans-Serif\" font-size=\"14.00\">Inputs</text>\n",
       "</g>\n",
       "<g id=\"clust2\" class=\"cluster\">\n",
       "<title>clusterlammps_macroOutputs</title>\n",
       "<defs>\n",
       "<linearGradient id=\"clust2_l_1\" gradientUnits=\"userSpaceOnUse\" x1=\"1931.74\" y1=\"-439.75\" x2=\"1783.86\" y2=\"-439.75\" >\n",
       "<stop offset=\"0\" style=\"stop-color:#a5a4a5;stop-opacity:1.;\"/>\n",
       "<stop offset=\"1\" style=\"stop-color:#e4e3e4;stop-opacity:1.;\"/>\n",
       "</linearGradient>\n",
       "</defs>\n",
       "<polygon fill=\"url(#clust2_l_1)\" stroke=\"#a5a4a5\" points=\"1783.86,-347.25 1783.86,-532.25 1931.74,-532.25 1931.74,-347.25 1783.86,-347.25\"/>\n",
       "<text text-anchor=\"middle\" x=\"1857.8\" y=\"-514.95\" font-family=\"Helvetica,sans-Serif\" font-size=\"14.00\">Outputs</text>\n",
       "</g>\n",
       "<g id=\"clust3\" class=\"cluster\">\n",
       "<title>clusterlammps_macroadd1</title>\n",
       "<defs>\n",
       "<linearGradient id=\"clust3_l_2\" gradientUnits=\"userSpaceOnUse\" x1=\"207.86\" y1=\"-408.25\" x2=\"590.86\" y2=\"-408.25\" >\n",
       "<stop offset=\"0\" style=\"stop-color:#bfe2bf;stop-opacity:1.;\"/>\n",
       "<stop offset=\"1\" style=\"stop-color:#bfe2bf;stop-opacity:1.;\"/>\n",
       "</linearGradient>\n",
       "</defs>\n",
       "<polygon fill=\"url(#clust3_l_2)\" stroke=\"#bfe2bf\" stroke-width=\"2\" points=\"207.86,-295.25 207.86,-521.25 590.86,-521.25 590.86,-295.25 207.86,-295.25\"/>\n",
       "<text text-anchor=\"middle\" x=\"399.36\" y=\"-503.95\" font-family=\"Helvetica,sans-Serif\" font-size=\"14.00\">add1: add_1</text>\n",
       "</g>\n",
       "<g id=\"clust4\" class=\"cluster\">\n",
       "<title>clusterlammps_macroadd1Inputs</title>\n",
       "<defs>\n",
       "<linearGradient id=\"clust4_l_3\" gradientUnits=\"userSpaceOnUse\" x1=\"215.86\" y1=\"-395.75\" x2=\"391.86\" y2=\"-395.75\" >\n",
       "<stop offset=\"0\" style=\"stop-color:#a5a4a5;stop-opacity:1.;\"/>\n",
       "<stop offset=\"1\" style=\"stop-color:#e4e3e4;stop-opacity:1.;\"/>\n",
       "</linearGradient>\n",
       "</defs>\n",
       "<polygon fill=\"url(#clust4_l_3)\" stroke=\"#a5a4a5\" points=\"215.86,-303.25 215.86,-488.25 391.86,-488.25 391.86,-303.25 215.86,-303.25\"/>\n",
       "<text text-anchor=\"middle\" x=\"303.86\" y=\"-470.95\" font-family=\"Helvetica,sans-Serif\" font-size=\"14.00\">Inputs</text>\n",
       "</g>\n",
       "<g id=\"clust5\" class=\"cluster\">\n",
       "<title>clusterlammps_macroadd1OutputsWithInjection</title>\n",
       "<defs>\n",
       "<linearGradient id=\"clust5_l_4\" gradientUnits=\"userSpaceOnUse\" x1=\"582.86\" y1=\"-395.75\" x2=\"419.86\" y2=\"-395.75\" >\n",
       "<stop offset=\"0\" style=\"stop-color:#a5a4a5;stop-opacity:1.;\"/>\n",
       "<stop offset=\"1\" style=\"stop-color:#e4e3e4;stop-opacity:1.;\"/>\n",
       "</linearGradient>\n",
       "</defs>\n",
       "<polygon fill=\"url(#clust5_l_4)\" stroke=\"#a5a4a5\" points=\"419.86,-303.25 419.86,-488.25 582.86,-488.25 582.86,-303.25 419.86,-303.25\"/>\n",
       "<text text-anchor=\"middle\" x=\"501.36\" y=\"-470.95\" font-family=\"Helvetica,sans-Serif\" font-size=\"14.00\">OutputsWithInjection</text>\n",
       "</g>\n",
       "<g id=\"clust6\" class=\"cluster\">\n",
       "<title>clusterlammps_macroadd2</title>\n",
       "<defs>\n",
       "<linearGradient id=\"clust6_l_5\" gradientUnits=\"userSpaceOnUse\" x1=\"598.86\" y1=\"-408.25\" x2=\"989.86\" y2=\"-408.25\" >\n",
       "<stop offset=\"0\" style=\"stop-color:#bfe2bf;stop-opacity:1.;\"/>\n",
       "<stop offset=\"1\" style=\"stop-color:#bfe2bf;stop-opacity:1.;\"/>\n",
       "</linearGradient>\n",
       "</defs>\n",
       "<polygon fill=\"url(#clust6_l_5)\" stroke=\"#bfe2bf\" stroke-width=\"2\" points=\"598.86,-295.25 598.86,-521.25 989.86,-521.25 989.86,-295.25 598.86,-295.25\"/>\n",
       "<text text-anchor=\"middle\" x=\"794.36\" y=\"-503.95\" font-family=\"Helvetica,sans-Serif\" font-size=\"14.00\">add2: add_1</text>\n",
       "</g>\n",
       "<g id=\"clust7\" class=\"cluster\">\n",
       "<title>clusterlammps_macroadd2Inputs</title>\n",
       "<defs>\n",
       "<linearGradient id=\"clust7_l_6\" gradientUnits=\"userSpaceOnUse\" x1=\"606.86\" y1=\"-395.75\" x2=\"782.86\" y2=\"-395.75\" >\n",
       "<stop offset=\"0\" style=\"stop-color:#a5a4a5;stop-opacity:1.;\"/>\n",
       "<stop offset=\"1\" style=\"stop-color:#e4e3e4;stop-opacity:1.;\"/>\n",
       "</linearGradient>\n",
       "</defs>\n",
       "<polygon fill=\"url(#clust7_l_6)\" stroke=\"#a5a4a5\" points=\"606.86,-303.25 606.86,-488.25 782.86,-488.25 782.86,-303.25 606.86,-303.25\"/>\n",
       "<text text-anchor=\"middle\" x=\"694.86\" y=\"-470.95\" font-family=\"Helvetica,sans-Serif\" font-size=\"14.00\">Inputs</text>\n",
       "</g>\n",
       "<g id=\"clust8\" class=\"cluster\">\n",
       "<title>clusterlammps_macroadd2OutputsWithInjection</title>\n",
       "<defs>\n",
       "<linearGradient id=\"clust8_l_7\" gradientUnits=\"userSpaceOnUse\" x1=\"981.86\" y1=\"-395.75\" x2=\"818.86\" y2=\"-395.75\" >\n",
       "<stop offset=\"0\" style=\"stop-color:#a5a4a5;stop-opacity:1.;\"/>\n",
       "<stop offset=\"1\" style=\"stop-color:#e4e3e4;stop-opacity:1.;\"/>\n",
       "</linearGradient>\n",
       "</defs>\n",
       "<polygon fill=\"url(#clust8_l_7)\" stroke=\"#a5a4a5\" points=\"818.86,-303.25 818.86,-488.25 981.86,-488.25 981.86,-303.25 818.86,-303.25\"/>\n",
       "<text text-anchor=\"middle\" x=\"900.36\" y=\"-470.95\" font-family=\"Helvetica,sans-Serif\" font-size=\"14.00\">OutputsWithInjection</text>\n",
       "</g>\n",
       "<g id=\"clust9\" class=\"cluster\">\n",
       "<title>clusterlammps_macroadd3</title>\n",
       "<defs>\n",
       "<linearGradient id=\"clust9_l_8\" gradientUnits=\"userSpaceOnUse\" x1=\"598.86\" y1=\"-146.25\" x2=\"989.86\" y2=\"-146.25\" >\n",
       "<stop offset=\"0\" style=\"stop-color:#bfe2bf;stop-opacity:1.;\"/>\n",
       "<stop offset=\"1\" style=\"stop-color:#bfe2bf;stop-opacity:1.;\"/>\n",
       "</linearGradient>\n",
       "</defs>\n",
       "<polygon fill=\"url(#clust9_l_8)\" stroke=\"#bfe2bf\" stroke-width=\"2\" points=\"598.86,-33.25 598.86,-259.25 989.86,-259.25 989.86,-33.25 598.86,-33.25\"/>\n",
       "<text text-anchor=\"middle\" x=\"794.36\" y=\"-241.95\" font-family=\"Helvetica,sans-Serif\" font-size=\"14.00\">add3: add_1</text>\n",
       "</g>\n",
       "<g id=\"clust10\" class=\"cluster\">\n",
       "<title>clusterlammps_macroadd3Inputs</title>\n",
       "<defs>\n",
       "<linearGradient id=\"clust10_l_9\" gradientUnits=\"userSpaceOnUse\" x1=\"606.86\" y1=\"-133.75\" x2=\"782.86\" y2=\"-133.75\" >\n",
       "<stop offset=\"0\" style=\"stop-color:#a5a4a5;stop-opacity:1.;\"/>\n",
       "<stop offset=\"1\" style=\"stop-color:#e4e3e4;stop-opacity:1.;\"/>\n",
       "</linearGradient>\n",
       "</defs>\n",
       "<polygon fill=\"url(#clust10_l_9)\" stroke=\"#a5a4a5\" points=\"606.86,-41.25 606.86,-226.25 782.86,-226.25 782.86,-41.25 606.86,-41.25\"/>\n",
       "<text text-anchor=\"middle\" x=\"694.86\" y=\"-208.95\" font-family=\"Helvetica,sans-Serif\" font-size=\"14.00\">Inputs</text>\n",
       "</g>\n",
       "<g id=\"clust11\" class=\"cluster\">\n",
       "<title>clusterlammps_macroadd3OutputsWithInjection</title>\n",
       "<defs>\n",
       "<linearGradient id=\"clust11_l_10\" gradientUnits=\"userSpaceOnUse\" x1=\"981.86\" y1=\"-133.75\" x2=\"818.86\" y2=\"-133.75\" >\n",
       "<stop offset=\"0\" style=\"stop-color:#a5a4a5;stop-opacity:1.;\"/>\n",
       "<stop offset=\"1\" style=\"stop-color:#e4e3e4;stop-opacity:1.;\"/>\n",
       "</linearGradient>\n",
       "</defs>\n",
       "<polygon fill=\"url(#clust11_l_10)\" stroke=\"#a5a4a5\" points=\"818.86,-41.25 818.86,-226.25 981.86,-226.25 981.86,-41.25 818.86,-41.25\"/>\n",
       "<text text-anchor=\"middle\" x=\"900.36\" y=\"-208.95\" font-family=\"Helvetica,sans-Serif\" font-size=\"14.00\">OutputsWithInjection</text>\n",
       "</g>\n",
       "<g id=\"clust12\" class=\"cluster\">\n",
       "<title>clusterlammps_macromacro</title>\n",
       "<defs>\n",
       "<linearGradient id=\"clust12_l_11\" gradientUnits=\"userSpaceOnUse\" x1=\"997.86\" y1=\"-258.25\" x2=\"1380.86\" y2=\"-258.25\" >\n",
       "<stop offset=\"0\" style=\"stop-color:#dcccc9;stop-opacity:1.;\"/>\n",
       "<stop offset=\"1\" style=\"stop-color:#dcccc9;stop-opacity:1.;\"/>\n",
       "</linearGradient>\n",
       "</defs>\n",
       "<polygon fill=\"url(#clust12_l_11)\" stroke=\"#dcccc9\" stroke-width=\"2\" points=\"997.86,-91.25 997.86,-425.25 1380.86,-425.25 1380.86,-91.25 997.86,-91.25\"/>\n",
       "<text text-anchor=\"middle\" x=\"1189.36\" y=\"-407.95\" font-family=\"Helvetica,sans-Serif\" font-size=\"14.00\">macro: macro_visual</text>\n",
       "</g>\n",
       "<g id=\"clust13\" class=\"cluster\">\n",
       "<title>clusterlammps_macromacroInputs</title>\n",
       "<defs>\n",
       "<linearGradient id=\"clust13_l_12\" gradientUnits=\"userSpaceOnUse\" x1=\"1005.86\" y1=\"-245.75\" x2=\"1181.86\" y2=\"-245.75\" >\n",
       "<stop offset=\"0\" style=\"stop-color:#a5a4a5;stop-opacity:1.;\"/>\n",
       "<stop offset=\"1\" style=\"stop-color:#e4e3e4;stop-opacity:1.;\"/>\n",
       "</linearGradient>\n",
       "</defs>\n",
       "<polygon fill=\"url(#clust13_l_12)\" stroke=\"#a5a4a5\" points=\"1005.86,-99.25 1005.86,-392.25 1181.86,-392.25 1181.86,-99.25 1005.86,-99.25\"/>\n",
       "<text text-anchor=\"middle\" x=\"1093.86\" y=\"-374.95\" font-family=\"Helvetica,sans-Serif\" font-size=\"14.00\">Inputs</text>\n",
       "</g>\n",
       "<g id=\"clust14\" class=\"cluster\">\n",
       "<title>clusterlammps_macromacroOutputsWithInjection</title>\n",
       "<defs>\n",
       "<linearGradient id=\"clust14_l_13\" gradientUnits=\"userSpaceOnUse\" x1=\"1372.86\" y1=\"-231.75\" x2=\"1209.86\" y2=\"-231.75\" >\n",
       "<stop offset=\"0\" style=\"stop-color:#a5a4a5;stop-opacity:1.;\"/>\n",
       "<stop offset=\"1\" style=\"stop-color:#e4e3e4;stop-opacity:1.;\"/>\n",
       "</linearGradient>\n",
       "</defs>\n",
       "<polygon fill=\"url(#clust14_l_13)\" stroke=\"#a5a4a5\" points=\"1209.86,-139.25 1209.86,-324.25 1372.86,-324.25 1372.86,-139.25 1209.86,-139.25\"/>\n",
       "<text text-anchor=\"middle\" x=\"1291.36\" y=\"-306.95\" font-family=\"Helvetica,sans-Serif\" font-size=\"14.00\">OutputsWithInjection</text>\n",
       "</g>\n",
       "<g id=\"clust15\" class=\"cluster\">\n",
       "<title>clusterlammps_macroadd4</title>\n",
       "<defs>\n",
       "<linearGradient id=\"clust15_l_14\" gradientUnits=\"userSpaceOnUse\" x1=\"1388.86\" y1=\"-324.25\" x2=\"1771.86\" y2=\"-324.25\" >\n",
       "<stop offset=\"0\" style=\"stop-color:#bfe2bf;stop-opacity:1.;\"/>\n",
       "<stop offset=\"1\" style=\"stop-color:#bfe2bf;stop-opacity:1.;\"/>\n",
       "</linearGradient>\n",
       "</defs>\n",
       "<polygon fill=\"url(#clust15_l_14)\" stroke=\"#bfe2bf\" stroke-width=\"2\" points=\"1388.86,-211.25 1388.86,-437.25 1771.86,-437.25 1771.86,-211.25 1388.86,-211.25\"/>\n",
       "<text text-anchor=\"middle\" x=\"1580.36\" y=\"-419.95\" font-family=\"Helvetica,sans-Serif\" font-size=\"14.00\">add4: add_1</text>\n",
       "</g>\n",
       "<g id=\"clust16\" class=\"cluster\">\n",
       "<title>clusterlammps_macroadd4Inputs</title>\n",
       "<defs>\n",
       "<linearGradient id=\"clust16_l_15\" gradientUnits=\"userSpaceOnUse\" x1=\"1396.86\" y1=\"-311.75\" x2=\"1572.86\" y2=\"-311.75\" >\n",
       "<stop offset=\"0\" style=\"stop-color:#a5a4a5;stop-opacity:1.;\"/>\n",
       "<stop offset=\"1\" style=\"stop-color:#e4e3e4;stop-opacity:1.;\"/>\n",
       "</linearGradient>\n",
       "</defs>\n",
       "<polygon fill=\"url(#clust16_l_15)\" stroke=\"#a5a4a5\" points=\"1396.86,-219.25 1396.86,-404.25 1572.86,-404.25 1572.86,-219.25 1396.86,-219.25\"/>\n",
       "<text text-anchor=\"middle\" x=\"1484.86\" y=\"-386.95\" font-family=\"Helvetica,sans-Serif\" font-size=\"14.00\">Inputs</text>\n",
       "</g>\n",
       "<g id=\"clust17\" class=\"cluster\">\n",
       "<title>clusterlammps_macroadd4OutputsWithInjection</title>\n",
       "<defs>\n",
       "<linearGradient id=\"clust17_l_16\" gradientUnits=\"userSpaceOnUse\" x1=\"1763.86\" y1=\"-311.75\" x2=\"1600.86\" y2=\"-311.75\" >\n",
       "<stop offset=\"0\" style=\"stop-color:#a5a4a5;stop-opacity:1.;\"/>\n",
       "<stop offset=\"1\" style=\"stop-color:#e4e3e4;stop-opacity:1.;\"/>\n",
       "</linearGradient>\n",
       "</defs>\n",
       "<polygon fill=\"url(#clust17_l_16)\" stroke=\"#a5a4a5\" points=\"1600.86,-219.25 1600.86,-404.25 1763.86,-404.25 1763.86,-219.25 1600.86,-219.25\"/>\n",
       "<text text-anchor=\"middle\" x=\"1682.36\" y=\"-386.95\" font-family=\"Helvetica,sans-Serif\" font-size=\"14.00\">OutputsWithInjection</text>\n",
       "</g>\n",
       "<!-- clusterlammps_macroInputsrun -->\n",
       "<g id=\"node1\" class=\"node\">\n",
       "<title>clusterlammps_macroInputsrun</title>\n",
       "<polygon fill=\"#21bfd8\" stroke=\"#21bfd8\" points=\"116.93,-498.25 74.93,-498.25 74.93,-474.25 116.93,-474.25 128.93,-486.25 116.93,-498.25\"/>\n",
       "<text text-anchor=\"middle\" x=\"101.93\" y=\"-481.57\" font-family=\"Helvetica,sans-Serif\" font-size=\"14.00\">run</text>\n",
       "</g>\n",
       "<!-- clusterlammps_macroOutputsran -->\n",
       "<g id=\"node6\" class=\"node\">\n",
       "<title>clusterlammps_macroOutputsran</title>\n",
       "<polygon fill=\"#21bfd8\" stroke=\"#21bfd8\" points=\"1872.8,-493.25 1830.8,-493.25 1830.8,-469.25 1872.8,-469.25 1884.8,-481.25 1872.8,-493.25\"/>\n",
       "<text text-anchor=\"middle\" x=\"1857.8\" y=\"-476.57\" font-family=\"Helvetica,sans-Serif\" font-size=\"14.00\">ran</text>\n",
       "</g>\n",
       "<!-- clusterlammps_macroInputsrun&#45;&gt;clusterlammps_macroOutputsran -->\n",
       "<!-- clusterlammps_macroInputsaccumulate_and_run -->\n",
       "<g id=\"node2\" class=\"node\">\n",
       "<title>clusterlammps_macroInputsaccumulate_and_run</title>\n",
       "<polygon fill=\"#21bfd8\" stroke=\"#21bfd8\" points=\"169.93,-336.25 21.93,-336.25 21.93,-312.25 169.93,-312.25 181.93,-324.25 169.93,-336.25\"/>\n",
       "<text text-anchor=\"middle\" x=\"101.93\" y=\"-319.57\" font-family=\"Helvetica,sans-Serif\" font-size=\"14.00\">accumulate_and_run</text>\n",
       "</g>\n",
       "<!-- clusterlammps_macroInputsadd1__a -->\n",
       "<g id=\"node3\" class=\"node\">\n",
       "<title>clusterlammps_macroInputsadd1__a</title>\n",
       "<ellipse fill=\"#edb22c\" stroke=\"#edb22c\" cx=\"101.93\" cy=\"-432.25\" rx=\"85.93\" ry=\"18\"/>\n",
       "<text text-anchor=\"middle\" x=\"101.93\" y=\"-427.57\" font-family=\"Helvetica,sans-Serif\" font-size=\"14.00\">add1__a: Union</text>\n",
       "</g>\n",
       "<!-- clusterlammps_macroadd1Inputsa -->\n",
       "<g id=\"node11\" class=\"node\">\n",
       "<title>clusterlammps_macroadd1Inputsa</title>\n",
       "<ellipse fill=\"#edb22c\" stroke=\"#edb22c\" cx=\"303.86\" cy=\"-437.25\" rx=\"51.73\" ry=\"18\"/>\n",
       "<text text-anchor=\"middle\" x=\"303.86\" y=\"-432.57\" font-family=\"Helvetica,sans-Serif\" font-size=\"14.00\">a: Union</text>\n",
       "</g>\n",
       "<!-- clusterlammps_macroInputsadd1__a&#45;&gt;clusterlammps_macroadd1Inputsa -->\n",
       "<g id=\"edge11\" class=\"edge\">\n",
       "<title>clusterlammps_macroInputsadd1__a&#45;&gt;clusterlammps_macroadd1Inputsa</title>\n",
       "<path fill=\"none\" stroke=\"#edb22c\" d=\"M187.72,-434.37C196.58,-434.59 205.61,-434.82 214.51,-435.04\"/>\n",
       "<path fill=\"none\" stroke=\"#edb22c\" d=\"M214.51,-435.04C223.41,-435.26 232.19,-435.48 240.56,-435.69\"/>\n",
       "<polygon fill=\"#edb22c\" stroke=\"#edb22c\" points=\"240.25,-439.19 250.33,-435.94 240.43,-432.19 240.25,-439.19\"/>\n",
       "</g>\n",
       "<!-- clusterlammps_macroInputsadd3__a -->\n",
       "<g id=\"node4\" class=\"node\">\n",
       "<title>clusterlammps_macroInputsadd3__a</title>\n",
       "<ellipse fill=\"#edb22c\" stroke=\"#edb22c\" cx=\"101.93\" cy=\"-270.25\" rx=\"85.93\" ry=\"18\"/>\n",
       "<text text-anchor=\"middle\" x=\"101.93\" y=\"-265.57\" font-family=\"Helvetica,sans-Serif\" font-size=\"14.00\">add3__a: Union</text>\n",
       "</g>\n",
       "<!-- clusterlammps_macroadd3Inputsa -->\n",
       "<g id=\"node23\" class=\"node\">\n",
       "<title>clusterlammps_macroadd3Inputsa</title>\n",
       "<ellipse fill=\"#edb22c\" stroke=\"#edb22c\" cx=\"694.86\" cy=\"-175.25\" rx=\"51.73\" ry=\"18\"/>\n",
       "<text text-anchor=\"middle\" x=\"694.86\" y=\"-170.57\" font-family=\"Helvetica,sans-Serif\" font-size=\"14.00\">a: Union</text>\n",
       "</g>\n",
       "<!-- clusterlammps_macroInputsadd3__a&#45;&gt;clusterlammps_macroadd3Inputsa -->\n",
       "<g id=\"edge12\" class=\"edge\">\n",
       "<title>clusterlammps_macroInputsadd3__a&#45;&gt;clusterlammps_macroadd3Inputsa</title>\n",
       "<path fill=\"none\" stroke=\"#edb22c\" d=\"M171.3,-259.26C229.98,-249.83 318.77,-235.55 406.58,-221.43\"/>\n",
       "<path fill=\"none\" stroke=\"#edb22c\" d=\"M406.58,-221.43C494.4,-207.32 581.26,-193.35 636.08,-184.54\"/>\n",
       "<polygon fill=\"#edb22c\" stroke=\"#edb22c\" points=\"636.42,-188.03 645.74,-182.99 635.31,-181.12 636.42,-188.03\"/>\n",
       "</g>\n",
       "<!-- clusterlammps_macroInputsmacro__c -->\n",
       "<g id=\"node5\" class=\"node\">\n",
       "<title>clusterlammps_macroInputsmacro__c</title>\n",
       "<ellipse fill=\"#edb22c\" stroke=\"#edb22c\" cx=\"101.93\" cy=\"-378.25\" rx=\"74.88\" ry=\"18\"/>\n",
       "<text text-anchor=\"middle\" x=\"101.93\" y=\"-373.57\" font-family=\"Helvetica,sans-Serif\" font-size=\"14.00\">macro__c: int</text>\n",
       "</g>\n",
       "<!-- clusterlammps_macromacroInputsc -->\n",
       "<g id=\"node31\" class=\"node\">\n",
       "<title>clusterlammps_macromacroInputsc</title>\n",
       "<ellipse fill=\"#edb22c\" stroke=\"#edb22c\" cx=\"1093.86\" cy=\"-287.25\" rx=\"35.42\" ry=\"18\"/>\n",
       "<text text-anchor=\"middle\" x=\"1093.86\" y=\"-282.57\" font-family=\"Helvetica,sans-Serif\" font-size=\"14.00\">c: int</text>\n",
       "</g>\n",
       "<!-- clusterlammps_macroInputsmacro__c&#45;&gt;clusterlammps_macromacroInputsc -->\n",
       "<g id=\"edge13\" class=\"edge\">\n",
       "<title>clusterlammps_macroInputsmacro__c&#45;&gt;clusterlammps_macromacroInputsc</title>\n",
       "<path fill=\"none\" stroke=\"#edb22c\" d=\"M167.45,-369.2C178.08,-365.18 188.13,-359.43 195.86,-351.25 212.16,-334.02 189.87,-314.7 207.86,-299.25 306.59,-214.46 369.72,-277.25 499.86,-277.25 499.86,-277.25 499.86,-277.25 501.98,-277.25\"/>\n",
       "<path fill=\"none\" stroke=\"#edb22c\" d=\"M501.98,-277.25C509.45,-277.25 543.22,-277.25 695.86,-277.25 822.99,-277.25 972.94,-282.44 1046.89,-285.34\"/>\n",
       "<polygon fill=\"#edb22c\" stroke=\"#edb22c\" points=\"1046.44,-288.83 1056.57,-285.73 1046.72,-281.83 1046.44,-288.83\"/>\n",
       "</g>\n",
       "<!-- clusterlammps_macroOutputsfailed -->\n",
       "<g id=\"node7\" class=\"node\">\n",
       "<title>clusterlammps_macroOutputsfailed</title>\n",
       "<polygon fill=\"#21bfd8\" stroke=\"#21bfd8\" points=\"1872.93,-439.25 1830.68,-439.25 1830.68,-415.25 1872.93,-415.25 1884.93,-427.25 1872.93,-439.25\"/>\n",
       "<text text-anchor=\"middle\" x=\"1857.8\" y=\"-422.57\" font-family=\"Helvetica,sans-Serif\" font-size=\"14.00\">failed</text>\n",
       "</g>\n",
       "<!-- clusterlammps_macroOutputsadd4__a+1 -->\n",
       "<g id=\"node8\" class=\"node\">\n",
       "<title>clusterlammps_macroOutputsadd4__a+1</title>\n",
       "<ellipse fill=\"none\" stroke=\"#edb22c\" stroke-width=\"2\" cx=\"1857.8\" cy=\"-373.25\" rx=\"65.94\" ry=\"18\"/>\n",
       "<text text-anchor=\"middle\" x=\"1857.8\" y=\"-368.57\" font-family=\"Helvetica,sans-Serif\" font-size=\"14.00\">add4__a+1</text>\n",
       "</g>\n",
       "<!-- clusterlammps_macroadd1Inputsrun -->\n",
       "<g id=\"node9\" class=\"node\">\n",
       "<title>clusterlammps_macroadd1Inputsrun</title>\n",
       "<polygon fill=\"#21bfd8\" stroke=\"#21bfd8\" points=\"318.86,-341.25 276.86,-341.25 276.86,-317.25 318.86,-317.25 330.86,-329.25 318.86,-341.25\"/>\n",
       "<text text-anchor=\"middle\" x=\"303.86\" y=\"-324.57\" font-family=\"Helvetica,sans-Serif\" font-size=\"14.00\">run</text>\n",
       "</g>\n",
       "<!-- clusterlammps_macroadd1OutputsWithInjectionran -->\n",
       "<g id=\"node12\" class=\"node\">\n",
       "<title>clusterlammps_macroadd1OutputsWithInjectionran</title>\n",
       "<polygon fill=\"#21bfd8\" stroke=\"#21bfd8\" points=\"515.86,-341.25 473.86,-341.25 473.86,-317.25 515.86,-317.25 527.86,-329.25 515.86,-341.25\"/>\n",
       "<text text-anchor=\"middle\" x=\"500.86\" y=\"-324.57\" font-family=\"Helvetica,sans-Serif\" font-size=\"14.00\">ran</text>\n",
       "</g>\n",
       "<!-- clusterlammps_macroadd1Inputsrun&#45;&gt;clusterlammps_macroadd1OutputsWithInjectionran -->\n",
       "<!-- clusterlammps_macroadd1Inputsaccumulate_and_run -->\n",
       "<g id=\"node10\" class=\"node\">\n",
       "<title>clusterlammps_macroadd1Inputsaccumulate_and_run</title>\n",
       "<polygon fill=\"#21bfd8\" stroke=\"#21bfd8\" points=\"371.86,-395.25 223.86,-395.25 223.86,-371.25 371.86,-371.25 383.86,-383.25 371.86,-395.25\"/>\n",
       "<text text-anchor=\"middle\" x=\"303.86\" y=\"-378.57\" font-family=\"Helvetica,sans-Serif\" font-size=\"14.00\">accumulate_and_run</text>\n",
       "</g>\n",
       "<!-- clusterlammps_macroadd1OutputsWithInjectionfailed -->\n",
       "<g id=\"node13\" class=\"node\">\n",
       "<title>clusterlammps_macroadd1OutputsWithInjectionfailed</title>\n",
       "<polygon fill=\"#21bfd8\" stroke=\"#21bfd8\" points=\"515.99,-395.25 473.74,-395.25 473.74,-371.25 515.99,-371.25 527.99,-383.25 515.99,-395.25\"/>\n",
       "<text text-anchor=\"middle\" x=\"500.86\" y=\"-378.57\" font-family=\"Helvetica,sans-Serif\" font-size=\"14.00\">failed</text>\n",
       "</g>\n",
       "<!-- clusterlammps_macroadd1OutputsWithInjectiona+1 -->\n",
       "<g id=\"node14\" class=\"node\">\n",
       "<title>clusterlammps_macroadd1OutputsWithInjectiona+1</title>\n",
       "<ellipse fill=\"#edb22c\" stroke=\"#edb22c\" cx=\"500.86\" cy=\"-437.25\" rx=\"31.74\" ry=\"18\"/>\n",
       "<text text-anchor=\"middle\" x=\"500.86\" y=\"-432.57\" font-family=\"Helvetica,sans-Serif\" font-size=\"14.00\">a+1</text>\n",
       "</g>\n",
       "<!-- clusterlammps_macroadd2Inputsa -->\n",
       "<g id=\"node17\" class=\"node\">\n",
       "<title>clusterlammps_macroadd2Inputsa</title>\n",
       "<ellipse fill=\"#edb22c\" stroke=\"#edb22c\" cx=\"694.86\" cy=\"-437.25\" rx=\"51.73\" ry=\"18\"/>\n",
       "<text text-anchor=\"middle\" x=\"694.86\" y=\"-432.57\" font-family=\"Helvetica,sans-Serif\" font-size=\"14.00\">a: Union</text>\n",
       "</g>\n",
       "<!-- clusterlammps_macroadd1OutputsWithInjectiona+1&#45;&gt;clusterlammps_macroadd2Inputsa -->\n",
       "<g id=\"edge7\" class=\"edge\">\n",
       "<title>clusterlammps_macroadd1OutputsWithInjectiona+1&#45;&gt;clusterlammps_macroadd2Inputsa</title>\n",
       "<path fill=\"none\" stroke=\"#edb22c\" d=\"M532.71,-437.25C545.99,-437.25 562.41,-437.25 579.64,-437.25\"/>\n",
       "<path fill=\"none\" stroke=\"#edb22c\" d=\"M579.64,-437.25C596.88,-437.25 614.93,-437.25 631.46,-437.25\"/>\n",
       "<polygon fill=\"#edb22c\" stroke=\"#edb22c\" points=\"631.35,-440.75 641.35,-437.25 631.35,-433.75 631.35,-440.75\"/>\n",
       "</g>\n",
       "<!-- clusterlammps_macroadd2Inputsrun -->\n",
       "<g id=\"node15\" class=\"node\">\n",
       "<title>clusterlammps_macroadd2Inputsrun</title>\n",
       "<polygon fill=\"#21bfd8\" stroke=\"#21bfd8\" points=\"709.86,-341.25 667.86,-341.25 667.86,-317.25 709.86,-317.25 721.86,-329.25 709.86,-341.25\"/>\n",
       "<text text-anchor=\"middle\" x=\"694.86\" y=\"-324.57\" font-family=\"Helvetica,sans-Serif\" font-size=\"14.00\">run</text>\n",
       "</g>\n",
       "<!-- clusterlammps_macroadd2OutputsWithInjectionran -->\n",
       "<g id=\"node18\" class=\"node\">\n",
       "<title>clusterlammps_macroadd2OutputsWithInjectionran</title>\n",
       "<polygon fill=\"#21bfd8\" stroke=\"#21bfd8\" points=\"914.86,-341.25 872.86,-341.25 872.86,-317.25 914.86,-317.25 926.86,-329.25 914.86,-341.25\"/>\n",
       "<text text-anchor=\"middle\" x=\"899.86\" y=\"-324.57\" font-family=\"Helvetica,sans-Serif\" font-size=\"14.00\">ran</text>\n",
       "</g>\n",
       "<!-- clusterlammps_macroadd2Inputsrun&#45;&gt;clusterlammps_macroadd2OutputsWithInjectionran -->\n",
       "<!-- clusterlammps_macroadd2Inputsaccumulate_and_run -->\n",
       "<g id=\"node16\" class=\"node\">\n",
       "<title>clusterlammps_macroadd2Inputsaccumulate_and_run</title>\n",
       "<polygon fill=\"#21bfd8\" stroke=\"#21bfd8\" points=\"762.86,-395.25 614.86,-395.25 614.86,-371.25 762.86,-371.25 774.86,-383.25 762.86,-395.25\"/>\n",
       "<text text-anchor=\"middle\" x=\"694.86\" y=\"-378.57\" font-family=\"Helvetica,sans-Serif\" font-size=\"14.00\">accumulate_and_run</text>\n",
       "</g>\n",
       "<!-- clusterlammps_macroadd2OutputsWithInjectionfailed -->\n",
       "<g id=\"node19\" class=\"node\">\n",
       "<title>clusterlammps_macroadd2OutputsWithInjectionfailed</title>\n",
       "<polygon fill=\"#21bfd8\" stroke=\"#21bfd8\" points=\"914.99,-395.25 872.74,-395.25 872.74,-371.25 914.99,-371.25 926.99,-383.25 914.99,-395.25\"/>\n",
       "<text text-anchor=\"middle\" x=\"899.86\" y=\"-378.57\" font-family=\"Helvetica,sans-Serif\" font-size=\"14.00\">failed</text>\n",
       "</g>\n",
       "<!-- clusterlammps_macroadd2OutputsWithInjectiona+1 -->\n",
       "<g id=\"node20\" class=\"node\">\n",
       "<title>clusterlammps_macroadd2OutputsWithInjectiona+1</title>\n",
       "<ellipse fill=\"#edb22c\" stroke=\"#edb22c\" cx=\"899.86\" cy=\"-437.25\" rx=\"31.74\" ry=\"18\"/>\n",
       "<text text-anchor=\"middle\" x=\"899.86\" y=\"-432.57\" font-family=\"Helvetica,sans-Serif\" font-size=\"14.00\">a+1</text>\n",
       "</g>\n",
       "<!-- clusterlammps_macromacroInputsa -->\n",
       "<g id=\"node29\" class=\"node\">\n",
       "<title>clusterlammps_macromacroInputsa</title>\n",
       "<ellipse fill=\"#edb22c\" stroke=\"#edb22c\" cx=\"1093.86\" cy=\"-341.25\" rx=\"35.95\" ry=\"18\"/>\n",
       "<text text-anchor=\"middle\" x=\"1093.86\" y=\"-336.57\" font-family=\"Helvetica,sans-Serif\" font-size=\"14.00\">a: int</text>\n",
       "</g>\n",
       "<!-- clusterlammps_macroadd2OutputsWithInjectiona+1&#45;&gt;clusterlammps_macromacroInputsa -->\n",
       "<g id=\"edge8\" class=\"edge\">\n",
       "<title>clusterlammps_macroadd2OutputsWithInjectiona+1&#45;&gt;clusterlammps_macromacroInputsa</title>\n",
       "<path fill=\"none\" stroke=\"#edb22c\" d=\"M929.72,-430.8C947.54,-426.27 970.6,-419.37 989.86,-410.25 993.62,-408.47 997.41,-406.56 1001.18,-404.56\"/>\n",
       "<path fill=\"none\" stroke=\"#edb22c\" d=\"M1001.18,-404.56C1024.42,-392.24 1047.47,-376.3 1064.65,-363.49\"/>\n",
       "<polygon fill=\"#edb22c\" stroke=\"#edb22c\" points=\"1066.72,-366.32 1072.57,-357.49 1062.49,-360.74 1066.72,-366.32\"/>\n",
       "</g>\n",
       "<!-- clusterlammps_macroadd3Inputsrun -->\n",
       "<g id=\"node21\" class=\"node\">\n",
       "<title>clusterlammps_macroadd3Inputsrun</title>\n",
       "<polygon fill=\"#21bfd8\" stroke=\"#21bfd8\" points=\"709.86,-79.25 667.86,-79.25 667.86,-55.25 709.86,-55.25 721.86,-67.25 709.86,-79.25\"/>\n",
       "<text text-anchor=\"middle\" x=\"694.86\" y=\"-62.58\" font-family=\"Helvetica,sans-Serif\" font-size=\"14.00\">run</text>\n",
       "</g>\n",
       "<!-- clusterlammps_macroadd3OutputsWithInjectionran -->\n",
       "<g id=\"node24\" class=\"node\">\n",
       "<title>clusterlammps_macroadd3OutputsWithInjectionran</title>\n",
       "<polygon fill=\"#21bfd8\" stroke=\"#21bfd8\" points=\"914.86,-79.25 872.86,-79.25 872.86,-55.25 914.86,-55.25 926.86,-67.25 914.86,-79.25\"/>\n",
       "<text text-anchor=\"middle\" x=\"899.86\" y=\"-62.58\" font-family=\"Helvetica,sans-Serif\" font-size=\"14.00\">ran</text>\n",
       "</g>\n",
       "<!-- clusterlammps_macroadd3Inputsrun&#45;&gt;clusterlammps_macroadd3OutputsWithInjectionran -->\n",
       "<!-- clusterlammps_macroadd3Inputsaccumulate_and_run -->\n",
       "<g id=\"node22\" class=\"node\">\n",
       "<title>clusterlammps_macroadd3Inputsaccumulate_and_run</title>\n",
       "<polygon fill=\"#21bfd8\" stroke=\"#21bfd8\" points=\"762.86,-133.25 614.86,-133.25 614.86,-109.25 762.86,-109.25 774.86,-121.25 762.86,-133.25\"/>\n",
       "<text text-anchor=\"middle\" x=\"694.86\" y=\"-116.58\" font-family=\"Helvetica,sans-Serif\" font-size=\"14.00\">accumulate_and_run</text>\n",
       "</g>\n",
       "<!-- clusterlammps_macroadd3OutputsWithInjectionfailed -->\n",
       "<g id=\"node25\" class=\"node\">\n",
       "<title>clusterlammps_macroadd3OutputsWithInjectionfailed</title>\n",
       "<polygon fill=\"#21bfd8\" stroke=\"#21bfd8\" points=\"914.99,-133.25 872.74,-133.25 872.74,-109.25 914.99,-109.25 926.99,-121.25 914.99,-133.25\"/>\n",
       "<text text-anchor=\"middle\" x=\"899.86\" y=\"-116.58\" font-family=\"Helvetica,sans-Serif\" font-size=\"14.00\">failed</text>\n",
       "</g>\n",
       "<!-- clusterlammps_macroadd3OutputsWithInjectiona+1 -->\n",
       "<g id=\"node26\" class=\"node\">\n",
       "<title>clusterlammps_macroadd3OutputsWithInjectiona+1</title>\n",
       "<ellipse fill=\"#edb22c\" stroke=\"#edb22c\" cx=\"899.86\" cy=\"-175.25\" rx=\"31.74\" ry=\"18\"/>\n",
       "<text text-anchor=\"middle\" x=\"899.86\" y=\"-170.57\" font-family=\"Helvetica,sans-Serif\" font-size=\"14.00\">a+1</text>\n",
       "</g>\n",
       "<!-- clusterlammps_macromacroInputsb -->\n",
       "<g id=\"node30\" class=\"node\">\n",
       "<title>clusterlammps_macromacroInputsb</title>\n",
       "<ellipse fill=\"#edb22c\" stroke=\"#edb22c\" cx=\"1093.86\" cy=\"-233.25\" rx=\"36.48\" ry=\"18\"/>\n",
       "<text text-anchor=\"middle\" x=\"1093.86\" y=\"-228.57\" font-family=\"Helvetica,sans-Serif\" font-size=\"14.00\">b: int</text>\n",
       "</g>\n",
       "<!-- clusterlammps_macroadd3OutputsWithInjectiona+1&#45;&gt;clusterlammps_macromacroInputsb -->\n",
       "<g id=\"edge9\" class=\"edge\">\n",
       "<title>clusterlammps_macroadd3OutputsWithInjectiona+1&#45;&gt;clusterlammps_macromacroInputsb</title>\n",
       "<path fill=\"none\" stroke=\"#edb22c\" d=\"M927.97,-184.17C944.94,-189.7 967.56,-196.98 988.82,-203.5\"/>\n",
       "<path fill=\"none\" stroke=\"#edb22c\" d=\"M988.82,-203.5C991.87,-204.43 994.89,-205.35 997.86,-206.25 1015.07,-211.44 1034.11,-216.91 1050.6,-221.56\"/>\n",
       "<polygon fill=\"#edb22c\" stroke=\"#edb22c\" points=\"1049.52,-224.89 1060.1,-224.22 1051.41,-218.15 1049.52,-224.89\"/>\n",
       "</g>\n",
       "<!-- clusterlammps_macromacroInputsrun -->\n",
       "<g id=\"node27\" class=\"node\">\n",
       "<title>clusterlammps_macromacroInputsrun</title>\n",
       "<polygon fill=\"#21bfd8\" stroke=\"#21bfd8\" points=\"1108.86,-137.25 1066.86,-137.25 1066.86,-113.25 1108.86,-113.25 1120.86,-125.25 1108.86,-137.25\"/>\n",
       "<text text-anchor=\"middle\" x=\"1093.86\" y=\"-120.58\" font-family=\"Helvetica,sans-Serif\" font-size=\"14.00\">run</text>\n",
       "</g>\n",
       "<!-- clusterlammps_macromacroOutputsWithInjectionran -->\n",
       "<g id=\"node32\" class=\"node\">\n",
       "<title>clusterlammps_macromacroOutputsWithInjectionran</title>\n",
       "<polygon fill=\"#21bfd8\" stroke=\"#21bfd8\" points=\"1305.86,-177.25 1263.86,-177.25 1263.86,-153.25 1305.86,-153.25 1317.86,-165.25 1305.86,-177.25\"/>\n",
       "<text text-anchor=\"middle\" x=\"1290.86\" y=\"-160.57\" font-family=\"Helvetica,sans-Serif\" font-size=\"14.00\">ran</text>\n",
       "</g>\n",
       "<!-- clusterlammps_macromacroInputsrun&#45;&gt;clusterlammps_macromacroOutputsWithInjectionran -->\n",
       "<!-- clusterlammps_macromacroInputsaccumulate_and_run -->\n",
       "<g id=\"node28\" class=\"node\">\n",
       "<title>clusterlammps_macromacroInputsaccumulate_and_run</title>\n",
       "<polygon fill=\"#21bfd8\" stroke=\"#21bfd8\" points=\"1161.86,-191.25 1013.86,-191.25 1013.86,-167.25 1161.86,-167.25 1173.86,-179.25 1161.86,-191.25\"/>\n",
       "<text text-anchor=\"middle\" x=\"1093.86\" y=\"-174.57\" font-family=\"Helvetica,sans-Serif\" font-size=\"14.00\">accumulate_and_run</text>\n",
       "</g>\n",
       "<!-- clusterlammps_macromacroOutputsWithInjectionfailed -->\n",
       "<g id=\"node33\" class=\"node\">\n",
       "<title>clusterlammps_macromacroOutputsWithInjectionfailed</title>\n",
       "<polygon fill=\"#21bfd8\" stroke=\"#21bfd8\" points=\"1305.99,-231.25 1263.74,-231.25 1263.74,-207.25 1305.99,-207.25 1317.99,-219.25 1305.99,-231.25\"/>\n",
       "<text text-anchor=\"middle\" x=\"1290.86\" y=\"-214.57\" font-family=\"Helvetica,sans-Serif\" font-size=\"14.00\">failed</text>\n",
       "</g>\n",
       "<!-- clusterlammps_macromacroOutputsWithInjectionout -->\n",
       "<g id=\"node34\" class=\"node\">\n",
       "<title>clusterlammps_macromacroOutputsWithInjectionout</title>\n",
       "<ellipse fill=\"#edb22c\" stroke=\"#edb22c\" cx=\"1290.86\" cy=\"-273.25\" rx=\"27.01\" ry=\"18\"/>\n",
       "<text text-anchor=\"middle\" x=\"1290.86\" y=\"-268.57\" font-family=\"Helvetica,sans-Serif\" font-size=\"14.00\">out</text>\n",
       "</g>\n",
       "<!-- clusterlammps_macroadd4Inputsa -->\n",
       "<g id=\"node37\" class=\"node\">\n",
       "<title>clusterlammps_macroadd4Inputsa</title>\n",
       "<ellipse fill=\"#edb22c\" stroke=\"#edb22c\" cx=\"1484.86\" cy=\"-353.25\" rx=\"51.73\" ry=\"18\"/>\n",
       "<text text-anchor=\"middle\" x=\"1484.86\" y=\"-348.57\" font-family=\"Helvetica,sans-Serif\" font-size=\"14.00\">a: Union</text>\n",
       "</g>\n",
       "<!-- clusterlammps_macromacroOutputsWithInjectionout&#45;&gt;clusterlammps_macroadd4Inputsa -->\n",
       "<g id=\"edge10\" class=\"edge\">\n",
       "<title>clusterlammps_macromacroOutputsWithInjectionout&#45;&gt;clusterlammps_macroadd4Inputsa</title>\n",
       "<path fill=\"none\" stroke=\"#edb22c\" d=\"M1311.29,-285.55C1325.63,-294.33 1346.29,-306.36 1367.55,-316.67\"/>\n",
       "<path fill=\"none\" stroke=\"#edb22c\" d=\"M1367.55,-316.67C1374.66,-320.12 1381.83,-323.37 1388.86,-326.25 1402.01,-331.63 1416.6,-336.36 1430.32,-340.29\"/>\n",
       "<polygon fill=\"#edb22c\" stroke=\"#edb22c\" points=\"1429.06,-343.57 1439.63,-342.86 1430.92,-336.83 1429.06,-343.57\"/>\n",
       "</g>\n",
       "<!-- clusterlammps_macroadd4Inputsrun -->\n",
       "<g id=\"node35\" class=\"node\">\n",
       "<title>clusterlammps_macroadd4Inputsrun</title>\n",
       "<polygon fill=\"#21bfd8\" stroke=\"#21bfd8\" points=\"1499.86,-257.25 1457.86,-257.25 1457.86,-233.25 1499.86,-233.25 1511.86,-245.25 1499.86,-257.25\"/>\n",
       "<text text-anchor=\"middle\" x=\"1484.86\" y=\"-240.57\" font-family=\"Helvetica,sans-Serif\" font-size=\"14.00\">run</text>\n",
       "</g>\n",
       "<!-- clusterlammps_macroadd4OutputsWithInjectionran -->\n",
       "<g id=\"node38\" class=\"node\">\n",
       "<title>clusterlammps_macroadd4OutputsWithInjectionran</title>\n",
       "<polygon fill=\"#21bfd8\" stroke=\"#21bfd8\" points=\"1696.86,-257.25 1654.86,-257.25 1654.86,-233.25 1696.86,-233.25 1708.86,-245.25 1696.86,-257.25\"/>\n",
       "<text text-anchor=\"middle\" x=\"1681.86\" y=\"-240.57\" font-family=\"Helvetica,sans-Serif\" font-size=\"14.00\">ran</text>\n",
       "</g>\n",
       "<!-- clusterlammps_macroadd4Inputsrun&#45;&gt;clusterlammps_macroadd4OutputsWithInjectionran -->\n",
       "<!-- clusterlammps_macroadd4Inputsaccumulate_and_run -->\n",
       "<g id=\"node36\" class=\"node\">\n",
       "<title>clusterlammps_macroadd4Inputsaccumulate_and_run</title>\n",
       "<polygon fill=\"#21bfd8\" stroke=\"#21bfd8\" points=\"1552.86,-311.25 1404.86,-311.25 1404.86,-287.25 1552.86,-287.25 1564.86,-299.25 1552.86,-311.25\"/>\n",
       "<text text-anchor=\"middle\" x=\"1484.86\" y=\"-294.57\" font-family=\"Helvetica,sans-Serif\" font-size=\"14.00\">accumulate_and_run</text>\n",
       "</g>\n",
       "<!-- clusterlammps_macroadd4OutputsWithInjectionfailed -->\n",
       "<g id=\"node39\" class=\"node\">\n",
       "<title>clusterlammps_macroadd4OutputsWithInjectionfailed</title>\n",
       "<polygon fill=\"#21bfd8\" stroke=\"#21bfd8\" points=\"1696.99,-311.25 1654.74,-311.25 1654.74,-287.25 1696.99,-287.25 1708.99,-299.25 1696.99,-311.25\"/>\n",
       "<text text-anchor=\"middle\" x=\"1681.86\" y=\"-294.57\" font-family=\"Helvetica,sans-Serif\" font-size=\"14.00\">failed</text>\n",
       "</g>\n",
       "<!-- clusterlammps_macroadd4OutputsWithInjectiona+1 -->\n",
       "<g id=\"node40\" class=\"node\">\n",
       "<title>clusterlammps_macroadd4OutputsWithInjectiona+1</title>\n",
       "<ellipse fill=\"none\" stroke=\"#edb22c\" stroke-width=\"2\" cx=\"1681.86\" cy=\"-353.25\" rx=\"31.74\" ry=\"18\"/>\n",
       "<text text-anchor=\"middle\" x=\"1681.86\" y=\"-348.57\" font-family=\"Helvetica,sans-Serif\" font-size=\"14.00\">a+1</text>\n",
       "</g>\n",
       "<!-- clusterlammps_macroadd4OutputsWithInjectiona+1&#45;&gt;clusterlammps_macroOutputsadd4__a+1 -->\n",
       "<g id=\"edge14\" class=\"edge\">\n",
       "<title>clusterlammps_macroadd4OutputsWithInjectiona+1&#45;&gt;clusterlammps_macroOutputsadd4__a+1</title>\n",
       "<path fill=\"none\" stroke=\"#edb22c\" d=\"M1713.16,-356.73C1723.08,-357.87 1734.74,-359.21 1747.05,-360.63\"/>\n",
       "<path fill=\"none\" stroke=\"#edb22c\" d=\"M1747.05,-360.63C1759.37,-362.05 1772.34,-363.54 1784.88,-364.98\"/>\n",
       "<polygon fill=\"#edb22c\" stroke=\"#edb22c\" points=\"1784.41,-368.45 1794.74,-366.11 1785.21,-361.5 1784.41,-368.45\"/>\n",
       "</g>\n",
       "</g>\n",
       "</svg>\n"
      ],
      "text/plain": [
       "<graphviz.graphs.Digraph at 0x7fe2e7e83c50>"
      ]
     },
     "execution_count": 27,
     "metadata": {},
     "output_type": "execute_result"
    }
   ],
   "source": [
    "wf.draw()"
   ]
  },
  {
   "cell_type": "code",
   "execution_count": 41,
   "id": "a10f3667-9b1f-4f0d-af82-058df2122208",
   "metadata": {},
   "outputs": [
    {
     "name": "stdout",
     "output_type": "stream",
     "text": [
      "[]\n",
      "[<pyiron_workflow.mixin.injection.OutputDataWithInjection object at 0x7f0f05761af0>]\n",
      "[]\n",
      "[<pyiron_workflow.mixin.injection.OutputDataWithInjection object at 0x7f0f05762150>, <pyiron_workflow.mixin.injection.OutputDataWithInjection object at 0x7f0f05761d60>]\n"
     ]
    }
   ],
   "source": [
    "for i, (k, v) in enumerate(wf.macro.children.items()):\n",
    "    for n in v.inputs:\n",
    "        if n.connections == []\n",
    "            print \n",
    "    print(v.inputs.connections)\n"
   ]
  },
  {
   "cell_type": "code",
   "execution_count": 39,
   "id": "43570a03-f3cc-44bb-8a17-1fee6f2d0e77",
   "metadata": {},
   "outputs": [
    {
     "data": {
      "text/plain": [
       "[]"
      ]
     },
     "execution_count": 39,
     "metadata": {},
     "output_type": "execute_result"
    }
   ],
   "source": [
    "wf.macro.in1.inputs.connections"
   ]
  },
  {
   "cell_type": "code",
   "execution_count": 8,
   "id": "d9e5f2d1-d865-4237-a69a-9ee6dc1378f1",
   "metadata": {},
   "outputs": [
    {
     "data": {
      "application/vnd.jupyter.widget-view+json": {
       "model_id": "17545f58f78e4d829769f93be28c5814",
       "version_major": 2,
       "version_minor": 0
      },
      "text/plain": [
       "HBox(children=(Accordion(children=(VBox(children=(Button(button_style='info', description='Refresh', style=But…"
      ]
     },
     "execution_count": 8,
     "metadata": {},
     "output_type": "execute_result"
    }
   ],
   "source": [
    "pf = PyironFlow([wf])\n",
    "pf.gui"
   ]
  },
  {
   "cell_type": "code",
   "execution_count": null,
   "id": "318d5b7f-d73b-4b46-9269-6fba67d9e2fc",
   "metadata": {},
   "outputs": [],
   "source": [
    "    for ic, (out, inp) in enumerate(wf.macro1.graph_as_dict[\"edges\"][\"data\"].keys()):\n",
    "        out_node, out_port = out.split('/')[-1].split('.')\n",
    "        inp_node, inp_port = inp.split('/')[-1].split('.')\n",
    "        # print(out_node, out_port, inp_node, inp_port)\n",
    "        print(out, inp)"
   ]
  },
  {
   "cell_type": "code",
   "execution_count": 24,
   "id": "1a9b7d83-ecc6-4ecf-865c-aaa54827b661",
   "metadata": {},
   "outputs": [
    {
     "data": {
      "application/json": {
       "add1": {
        "checkpoint": "null",
        "executor": "null",
        "failed": "false",
        "future": "null",
        "inputs": {
         "a": {
          "connections": "[]",
          "default": "null",
          "owner": "\"/lammps_macro/add1\"",
          "strict_hints": "true",
          "type_hint": "\"typing.Union[float, int, NoneType]\"",
          "value": "null"
         }
        },
        "outputs": {
         "a+1": {
          "connections": "[\"/lammps_macro/add2.a\"]",
          "default": "\"NOT_DATA\"",
          "owner": "\"/lammps_macro/add1\"",
          "strict_hints": "true",
          "type_hint": "null",
          "value": "\"NOT_DATA\""
         }
        },
        "parent": "\"/lammps_macro\"",
        "position": "[12, 60]",
        "recovery": "\"pickle\"",
        "running": "false",
        "signals": {
         "input": {
          "accumulate_and_run": {
           "connections": "[]",
           "owner": "\"/lammps_macro/add1\"",
           "received_signals": "\"set()\""
          },
          "run": {
           "connections": "[]",
           "owner": "\"/lammps_macro/add1\""
          }
         },
         "output": {
          "failed": {
           "connections": "[]",
           "owner": "\"/lammps_macro/add1\""
          },
          "ran": {
           "connections": "[]",
           "owner": "\"/lammps_macro/add1\""
          }
         }
        }
       },
       "add2": {
        "checkpoint": "null",
        "executor": "null",
        "failed": "false",
        "future": "null",
        "inputs": {
         "a": {
          "connections": "[\"/lammps_macro/add1.a+1\"]",
          "default": "null",
          "owner": "\"/lammps_macro/add2\"",
          "strict_hints": "true",
          "type_hint": "\"typing.Union[float, int, NoneType]\"",
          "value": "null"
         }
        },
        "outputs": {
         "a+1": {
          "connections": "[\"/lammps_macro/macro.a\"]",
          "default": "\"NOT_DATA\"",
          "owner": "\"/lammps_macro/add2\"",
          "strict_hints": "true",
          "type_hint": "null",
          "value": "\"NOT_DATA\""
         }
        },
        "parent": "\"/lammps_macro\"",
        "position": "[332, 12]",
        "recovery": "\"pickle\"",
        "running": "false",
        "signals": {
         "input": {
          "accumulate_and_run": {
           "connections": "[]",
           "owner": "\"/lammps_macro/add2\"",
           "received_signals": "\"set()\""
          },
          "run": {
           "connections": "[]",
           "owner": "\"/lammps_macro/add2\""
          }
         },
         "output": {
          "failed": {
           "connections": "[]",
           "owner": "\"/lammps_macro/add2\""
          },
          "ran": {
           "connections": "[]",
           "owner": "\"/lammps_macro/add2\""
          }
         }
        }
       },
       "add3": {
        "checkpoint": "null",
        "executor": "null",
        "failed": "false",
        "future": "null",
        "inputs": {
         "a": {
          "connections": "[]",
          "default": "null",
          "owner": "\"/lammps_macro/add3\"",
          "strict_hints": "true",
          "type_hint": "\"typing.Union[float, int, NoneType]\"",
          "value": "null"
         }
        },
        "outputs": {
         "a+1": {
          "connections": "[\"/lammps_macro/macro.b\"]",
          "default": "\"NOT_DATA\"",
          "owner": "\"/lammps_macro/add3\"",
          "strict_hints": "true",
          "type_hint": "null",
          "value": "\"NOT_DATA\""
         }
        },
        "parent": "\"/lammps_macro\"",
        "position": "[332, 108]",
        "recovery": "\"pickle\"",
        "running": "false",
        "signals": {
         "input": {
          "accumulate_and_run": {
           "connections": "[]",
           "owner": "\"/lammps_macro/add3\"",
           "received_signals": "\"set()\""
          },
          "run": {
           "connections": "[]",
           "owner": "\"/lammps_macro/add3\""
          }
         },
         "output": {
          "failed": {
           "connections": "[]",
           "owner": "\"/lammps_macro/add3\""
          },
          "ran": {
           "connections": "[]",
           "owner": "\"/lammps_macro/add3\""
          }
         }
        }
       },
       "add4": {
        "checkpoint": "null",
        "executor": "null",
        "failed": "false",
        "future": "null",
        "inputs": {
         "a": {
          "connections": "[\"/lammps_macro/macro.out\"]",
          "default": "null",
          "owner": "\"/lammps_macro/add4\"",
          "strict_hints": "true",
          "type_hint": "\"typing.Union[float, int, NoneType]\"",
          "value": "null"
         }
        },
        "outputs": {
         "a+1": {
          "connections": "[]",
          "default": "\"NOT_DATA\"",
          "owner": "\"/lammps_macro/add4\"",
          "strict_hints": "true",
          "type_hint": "null",
          "value": "\"NOT_DATA\""
         }
        },
        "parent": "\"/lammps_macro\"",
        "position": "[912, 60]",
        "recovery": "\"pickle\"",
        "running": "false",
        "signals": {
         "input": {
          "accumulate_and_run": {
           "connections": "[]",
           "owner": "\"/lammps_macro/add4\"",
           "received_signals": "\"set()\""
          },
          "run": {
           "connections": "[]",
           "owner": "\"/lammps_macro/add4\""
          }
         },
         "output": {
          "failed": {
           "connections": "[]",
           "owner": "\"/lammps_macro/add4\""
          },
          "ran": {
           "connections": "[]",
           "owner": "\"/lammps_macro/add4\""
          }
         }
        }
       },
       "automate_execution": "true",
       "checkpoint": "null",
       "child_labels": "[\"add1\", \"add2\", \"add3\", \"macro\", \"add4\"]",
       "executor": "null",
       "failed": "false",
       "future": "null",
       "macro": {
        "calc1": {
         "checkpoint": "null",
         "executor": "null",
         "failed": "false",
         "future": "null",
         "inputs": {
          "a": {
           "connections": "[\"/lammps_macro/macro/in1.a+1\"]",
           "default": "0",
           "owner": "\"/lammps_macro/macro/calc1\"",
           "strict_hints": "true",
           "type_hint": "\"float | int\"",
           "value": "0"
          },
          "b": {
           "connections": "[]",
           "default": "0",
           "owner": "\"/lammps_macro/macro/calc1\"",
           "strict_hints": "true",
           "type_hint": "\"float | int\"",
           "value": "0"
          }
         },
         "outputs": {
          "a+b": {
           "connections": "[\"/lammps_macro/macro/out.a\"]",
           "default": "\"NOT_DATA\"",
           "owner": "\"/lammps_macro/macro/calc1\"",
           "strict_hints": "true",
           "type_hint": "null",
           "value": "\"NOT_DATA\""
          }
         },
         "parent": "\"/lammps_macro/macro\"",
         "recovery": "\"pickle\"",
         "running": "false",
         "signals": {
          "input": {
           "accumulate_and_run": {
            "connections": "[\"/lammps_macro/macro/in1.ran\"]",
            "owner": "\"/lammps_macro/macro/calc1\"",
            "received_signals": "\"set()\""
           },
           "run": {
            "connections": "[]",
            "owner": "\"/lammps_macro/macro/calc1\""
           }
          },
          "output": {
           "failed": {
            "connections": "[]",
            "owner": "\"/lammps_macro/macro/calc1\""
           },
           "ran": {
            "connections": "[\"/lammps_macro/macro/out.accumulate_and_run\"]",
            "owner": "\"/lammps_macro/macro/calc1\""
           }
          }
         }
        },
        "calc2": {
         "checkpoint": "null",
         "executor": "null",
         "failed": "false",
         "future": "null",
         "inputs": {
          "a": {
           "connections": "[]",
           "default": "0",
           "owner": "\"/lammps_macro/macro/calc2\"",
           "strict_hints": "true",
           "type_hint": "\"float | int\"",
           "value": "0"
          }
         },
         "outputs": {
          "a+2": {
           "connections": "[\"/lammps_macro/macro/out.b\"]",
           "default": "\"NOT_DATA\"",
           "owner": "\"/lammps_macro/macro/calc2\"",
           "strict_hints": "true",
           "type_hint": "null",
           "value": "\"NOT_DATA\""
          }
         },
         "parent": "\"/lammps_macro/macro\"",
         "recovery": "\"pickle\"",
         "running": "false",
         "signals": {
          "input": {
           "accumulate_and_run": {
            "connections": "[]",
            "owner": "\"/lammps_macro/macro/calc2\"",
            "received_signals": "\"set()\""
           },
           "run": {
            "connections": "[]",
            "owner": "\"/lammps_macro/macro/calc2\""
           }
          },
          "output": {
           "failed": {
            "connections": "[]",
            "owner": "\"/lammps_macro/macro/calc2\""
           },
           "ran": {
            "connections": "[\"/lammps_macro/macro/out.accumulate_and_run\"]",
            "owner": "\"/lammps_macro/macro/calc2\""
           }
          }
         }
        },
        "checkpoint": "null",
        "child_labels": "[\"in1\", \"calc1\", \"calc2\", \"out\"]",
        "executor": "null",
        "failed": "false",
        "future": "null",
        "in1": {
         "checkpoint": "null",
         "executor": "null",
         "failed": "false",
         "future": "null",
         "inputs": {
          "a": {
           "connections": "[]",
           "default": "0",
           "owner": "\"/lammps_macro/macro/in1\"",
           "strict_hints": "true",
           "type_hint": "\"float | int\"",
           "value": "0"
          }
         },
         "outputs": {
          "a+1": {
           "connections": "[\"/lammps_macro/macro/calc1.a\"]",
           "default": "\"NOT_DATA\"",
           "owner": "\"/lammps_macro/macro/in1\"",
           "strict_hints": "true",
           "type_hint": "null",
           "value": "\"NOT_DATA\""
          }
         },
         "parent": "\"/lammps_macro/macro\"",
         "recovery": "\"pickle\"",
         "running": "false",
         "signals": {
          "input": {
           "accumulate_and_run": {
            "connections": "[]",
            "owner": "\"/lammps_macro/macro/in1\"",
            "received_signals": "\"set()\""
           },
           "run": {
            "connections": "[]",
            "owner": "\"/lammps_macro/macro/in1\""
           }
          },
          "output": {
           "failed": {
            "connections": "[]",
            "owner": "\"/lammps_macro/macro/in1\""
           },
           "ran": {
            "connections": "[\"/lammps_macro/macro/calc1.accumulate_and_run\"]",
            "owner": "\"/lammps_macro/macro/in1\""
           }
          }
         }
        },
        "inputs": {
         "a": {
          "connections": "[\"/lammps_macro/add2.a+1\"]",
          "default": "0",
          "owner": "\"/lammps_macro/macro\"",
          "strict_hints": "true",
          "type_hint": "\"<class 'int'>\"",
          "value": "0"
         },
         "b": {
          "connections": "[\"/lammps_macro/add3.a+1\"]",
          "default": "0",
          "owner": "\"/lammps_macro/macro\"",
          "strict_hints": "true",
          "type_hint": "\"<class 'int'>\"",
          "value": "0"
         },
         "c": {
          "connections": "[]",
          "default": "0",
          "owner": "\"/lammps_macro/macro\"",
          "strict_hints": "true",
          "type_hint": "\"<class 'int'>\"",
          "value": "0"
         }
        },
        "out": {
         "checkpoint": "null",
         "executor": "null",
         "failed": "false",
         "future": "null",
         "inputs": {
          "a": {
           "connections": "[\"/lammps_macro/macro/calc1.a+b\"]",
           "default": "0",
           "owner": "\"/lammps_macro/macro/out\"",
           "strict_hints": "true",
           "type_hint": "\"float | int\"",
           "value": "0"
          },
          "b": {
           "connections": "[\"/lammps_macro/macro/calc2.a+2\"]",
           "default": "0",
           "owner": "\"/lammps_macro/macro/out\"",
           "strict_hints": "true",
           "type_hint": "\"float | int\"",
           "value": "0"
          }
         },
         "outputs": {
          "a+b": {
           "connections": "[]",
           "default": "\"NOT_DATA\"",
           "owner": "\"/lammps_macro/macro/out\"",
           "strict_hints": "true",
           "type_hint": "null",
           "value": "\"NOT_DATA\""
          }
         },
         "parent": "\"/lammps_macro/macro\"",
         "recovery": "\"pickle\"",
         "running": "false",
         "signals": {
          "input": {
           "accumulate_and_run": {
            "connections": "[\"/lammps_macro/macro/calc1.ran\", \"/lammps_macro/macro/calc2.ran\"]",
            "owner": "\"/lammps_macro/macro/out\"",
            "received_signals": "\"set()\""
           },
           "run": {
            "connections": "[]",
            "owner": "\"/lammps_macro/macro/out\""
           }
          },
          "output": {
           "failed": {
            "connections": "[]",
            "owner": "\"/lammps_macro/macro/out\""
           },
           "ran": {
            "connections": "[]",
            "owner": "\"/lammps_macro/macro/out\""
           }
          }
         }
        },
        "outputs": {
         "out": {
          "connections": "[\"/lammps_macro/add4.a\"]",
          "default": "\"NOT_DATA\"",
          "owner": "\"/lammps_macro/macro\"",
          "strict_hints": "true",
          "type_hint": "null",
          "value": "\"NOT_DATA\""
         }
        },
        "parent": "\"/lammps_macro\"",
        "position": "[652, 44]",
        "provenance_by_completion": "[]",
        "provenance_by_execution": "[]",
        "recovery": "\"pickle\"",
        "running": "false",
        "running_children": "[]",
        "signal_queue": "[]",
        "signals": {
         "input": {
          "accumulate_and_run": {
           "connections": "[]",
           "owner": "\"/lammps_macro/macro\"",
           "received_signals": "\"set()\""
          },
          "run": {
           "connections": "[]",
           "owner": "\"/lammps_macro/macro\""
          }
         },
         "output": {
          "failed": {
           "connections": "[]",
           "owner": "\"/lammps_macro/macro\""
          },
          "ran": {
           "connections": "[]",
           "owner": "\"/lammps_macro/macro\""
          }
         }
        },
        "strict_naming": "true"
       },
       "provenance_by_completion": "[]",
       "provenance_by_execution": "[]",
       "recovery": "\"pickle\"",
       "running": "false",
       "running_children": "[]",
       "signal_queue": "[]",
       "strict_naming": "true"
      },
      "text/plain": [
       "<pyiron_workflow.workflow.Workflow at 0x7f5697cbb8c0>"
      ]
     },
     "execution_count": 24,
     "metadata": {},
     "output_type": "execute_result"
    }
   ],
   "source": [
    "wf"
   ]
  },
  {
   "cell_type": "code",
   "execution_count": 15,
   "id": "9b54e006-a81c-4e58-8407-f7a0b8e1781f",
   "metadata": {},
   "outputs": [
    {
     "data": {
      "text/plain": [
       "{'/lammps_macro/macro/in1': <__main__.part_1 at 0x7f5697b1d130>,\n",
       " '/lammps_macro/macro/calc1': <__main__.part_4 at 0x7f56c76316d0>,\n",
       " '/lammps_macro/macro/calc2': <__main__.part_2 at 0x7f5697b1da00>,\n",
       " '/lammps_macro/macro/out': <__main__.part_4 at 0x7f5697b1deb0>}"
      ]
     },
     "execution_count": 15,
     "metadata": {},
     "output_type": "execute_result"
    }
   ],
   "source": [
    "wf.macro.graph_as_dict[\"nodes\"]"
   ]
  },
  {
   "cell_type": "code",
   "execution_count": 18,
   "id": "9cc3f177-fca2-40ea-a98b-dd0152c642bb",
   "metadata": {},
   "outputs": [
    {
     "data": {
      "text/plain": [
       "['a', 'b', 'c']"
      ]
     },
     "execution_count": 18,
     "metadata": {},
     "output_type": "execute_result"
    }
   ],
   "source": [
    "list(wf.macro.inputs.channel_dict.keys())"
   ]
  },
  {
   "cell_type": "code",
   "execution_count": null,
   "id": "b021a6ce-4322-4072-b20b-f0fa1cf3e6e5",
   "metadata": {},
   "outputs": [],
   "source": [
    "pf.wf_widgets[0].gui.expanded_macros"
   ]
  },
  {
   "cell_type": "code",
   "execution_count": null,
   "id": "f749f157-8878-4010-8f3f-f5e327d342cc",
   "metadata": {},
   "outputs": [],
   "source": [
    "pf.get_workflow()\n",
    "[['add1', 'add3'], ['add2', 'macro1'], ['macro1', 'macro2'], ['macro2'], []]"
   ]
  },
  {
   "cell_type": "code",
   "execution_count": null,
   "id": "fd30311a-7236-4662-8e2b-3ab864dc5088",
   "metadata": {},
   "outputs": [],
   "source": [
    "list(wf.macro1.inputs.channel_dict.keys())"
   ]
  },
  {
   "cell_type": "code",
   "execution_count": null,
   "id": "890ebf19-b835-4e93-8e18-bb56eed952b3",
   "metadata": {},
   "outputs": [],
   "source": [
    "for target in wf.macro1.outputs.channel_dict.keys():\n",
    "    print(target)"
   ]
  },
  {
   "cell_type": "code",
   "execution_count": null,
   "id": "5a0cf199-f2ee-41ac-b4f1-557980386231",
   "metadata": {},
   "outputs": [],
   "source": [
    "for target in wf.macro1.outputs.channel_dict.keys():\n",
    "    print(target)"
   ]
  },
  {
   "cell_type": "code",
   "execution_count": null,
   "id": "d6df8c63-90c7-494c-849d-5b332ac64576",
   "metadata": {},
   "outputs": [],
   "source": [
    "from pyiron_nodes.custom_macro import custom_macro"
   ]
  },
  {
   "cell_type": "code",
   "execution_count": null,
   "id": "df720ecf-737f-4163-9e77-344d5ab630e6",
   "metadata": {},
   "outputs": [],
   "source": [
    "    for i, (k, v) in enumerate(wf.children.items()):\n",
    "        for ic, (out, inp) in enumerate(v.graph_as_dict['edges']['data']):\n",
    "            print(ic, out, inp)\n",
    "            last = max(len(out.split('/')) -1, 0) \n",
    "            out_node, out_port = out.split('/')[last].split('.')\n",
    "            inp_node, inp_port = inp.split('/')[last].split('.')"
   ]
  },
  {
   "cell_type": "code",
   "execution_count": null,
   "id": "a6bc6d4d-ee28-4812-9021-3485b7bbe109",
   "metadata": {},
   "outputs": [],
   "source": [
    "for i, (k, v) in enumerate(wf.children.items()):\n",
    "    print(v.graph_as_dict)"
   ]
  },
  {
   "cell_type": "code",
   "execution_count": null,
   "id": "7d841d02-ece5-4421-929d-01b67a9ef7af",
   "metadata": {},
   "outputs": [],
   "source": [
    "for i, (k, v) in enumerate(wf.children.items()):\n",
    "    print(v)"
   ]
  },
  {
   "cell_type": "code",
   "execution_count": 9,
   "id": "15fa7eb8-f92b-4523-9d84-61b092ee2a03",
   "metadata": {},
   "outputs": [
    {
     "data": {
      "text/plain": [
       "[{'id': 'add1',\n",
       "  'data': {'label': 'add1',\n",
       "   'source_labels': ['a+1'],\n",
       "   'target_labels': ['a'],\n",
       "   'import_path': '__main__.add_1',\n",
       "   'target_values': [None],\n",
       "   'target_types': ['int'],\n",
       "   'target_literal_values': [None],\n",
       "   'target_literal_types': [None],\n",
       "   'source_values': ['NotData'],\n",
       "   'source_types': ['None'],\n",
       "   'failed': 'False',\n",
       "   'running': 'False',\n",
       "   'ready': 'False',\n",
       "   'cache_hit': 'False',\n",
       "   'python_object_id': 140450598863168},\n",
       "  'position': {'x': 0, 'y': 0},\n",
       "  'type': 'customNode',\n",
       "  'style': {'padding': 5,\n",
       "   'background': '#a2ea9f',\n",
       "   'borderRadius': '10px',\n",
       "   'width': '240PX',\n",
       "   'width_unitless': 240,\n",
       "   'height': '56px',\n",
       "   'height_unitless': 56},\n",
       "  'targetPosition': 'left',\n",
       "  'sourcePosition': 'right',\n",
       "  'measured': {'width': 240, 'height': 56}},\n",
       " {'id': 'add2',\n",
       "  'data': {'label': 'add2',\n",
       "   'source_labels': ['a+1'],\n",
       "   'target_labels': ['a'],\n",
       "   'import_path': '__main__.add_1',\n",
       "   'target_values': [None],\n",
       "   'target_types': ['int'],\n",
       "   'target_literal_values': [None],\n",
       "   'target_literal_types': [None],\n",
       "   'source_values': ['NotData'],\n",
       "   'source_types': ['None'],\n",
       "   'failed': 'False',\n",
       "   'running': 'False',\n",
       "   'ready': 'False',\n",
       "   'cache_hit': 'False',\n",
       "   'python_object_id': 140447599045104},\n",
       "  'position': {'x': 0, 'y': 0},\n",
       "  'type': 'customNode',\n",
       "  'style': {'padding': 5,\n",
       "   'background': '#a2ea9f',\n",
       "   'borderRadius': '10px',\n",
       "   'width': '240PX',\n",
       "   'width_unitless': 240,\n",
       "   'height': '56px',\n",
       "   'height_unitless': 56},\n",
       "  'targetPosition': 'left',\n",
       "  'sourcePosition': 'right',\n",
       "  'measured': {'width': 240, 'height': 56}},\n",
       " {'id': 'add3',\n",
       "  'data': {'label': 'add3',\n",
       "   'source_labels': ['a+1'],\n",
       "   'target_labels': ['a'],\n",
       "   'import_path': '__main__.add_1',\n",
       "   'target_values': [None],\n",
       "   'target_types': ['int'],\n",
       "   'target_literal_values': [None],\n",
       "   'target_literal_types': [None],\n",
       "   'source_values': ['NotData'],\n",
       "   'source_types': ['None'],\n",
       "   'failed': 'False',\n",
       "   'running': 'False',\n",
       "   'ready': 'False',\n",
       "   'cache_hit': 'False',\n",
       "   'python_object_id': 140447599044864},\n",
       "  'position': {'x': 0, 'y': 0},\n",
       "  'type': 'customNode',\n",
       "  'style': {'padding': 5,\n",
       "   'background': '#a2ea9f',\n",
       "   'borderRadius': '10px',\n",
       "   'width': '240PX',\n",
       "   'width_unitless': 240,\n",
       "   'height': '56px',\n",
       "   'height_unitless': 56},\n",
       "  'targetPosition': 'left',\n",
       "  'sourcePosition': 'right',\n",
       "  'measured': {'width': 240, 'height': 56}},\n",
       " {'id': 'macro',\n",
       "  'data': {'label': 'macro',\n",
       "   'source_labels': ['out'],\n",
       "   'target_labels': ['a', 'b', 'c'],\n",
       "   'import_path': '__main__.macro_visual',\n",
       "   'target_values': [0, 0, 0],\n",
       "   'target_types': ['int', 'int', 'int'],\n",
       "   'target_literal_values': [None, None, None],\n",
       "   'target_literal_types': [None, None, None],\n",
       "   'source_values': ['NotData'],\n",
       "   'source_types': ['None'],\n",
       "   'failed': 'False',\n",
       "   'running': 'False',\n",
       "   'ready': 'False',\n",
       "   'cache_hit': 'False',\n",
       "   'python_object_id': 140447599045872},\n",
       "  'position': {'x': 68.94736842105263, 'y': 127.89473684210529},\n",
       "  'type': 'macroNodeExpanded',\n",
       "  'style': {'padding': 5,\n",
       "   'background': 'rgba(234, 207, 159, 0.7)',\n",
       "   'borderRadius': '10px',\n",
       "   'width': '1100PX',\n",
       "   'width_unitless': 1100,\n",
       "   'height': '300px',\n",
       "   'height_unitless': 300},\n",
       "  'targetPosition': 'left',\n",
       "  'sourcePosition': 'right',\n",
       "  'measured': {'width': 1100, 'height': 300}},\n",
       " {'id': 'in1',\n",
       "  'data': {'label': 'in1: macro',\n",
       "   'source_labels': ['a+1'],\n",
       "   'target_labels': ['a'],\n",
       "   'import_path': '__main__.part_1',\n",
       "   'target_values': [0],\n",
       "   'target_types': ['int'],\n",
       "   'target_literal_values': [None],\n",
       "   'target_literal_types': [None],\n",
       "   'source_values': ['NotData'],\n",
       "   'source_types': ['None'],\n",
       "   'failed': 'False',\n",
       "   'running': 'False',\n",
       "   'ready': 'False',\n",
       "   'cache_hit': 'False',\n",
       "   'python_object_id': 140447599046736},\n",
       "  'position': {'x': 0, 'y': 0},\n",
       "  'type': 'subNode',\n",
       "  'style': {'padding': 5,\n",
       "   'background': '#a2ea9f',\n",
       "   'borderRadius': '10px',\n",
       "   'width': '150px',\n",
       "   'width_unitless': 150,\n",
       "   'height': '56px',\n",
       "   'height_unitless': 56},\n",
       "  'targetPosition': 'left',\n",
       "  'sourcePosition': 'right',\n",
       "  'parentId': 'macro',\n",
       "  'extent': 'parent',\n",
       "  'measured': {'width': 150, 'height': 56}},\n",
       " {'id': 'calc1',\n",
       "  'data': {'label': 'calc1: macro',\n",
       "   'source_labels': ['a+b'],\n",
       "   'target_labels': ['a', 'b'],\n",
       "   'import_path': '__main__.part_4',\n",
       "   'target_values': [0, 0],\n",
       "   'target_types': ['int', 'int'],\n",
       "   'target_literal_values': [None, None],\n",
       "   'target_literal_types': [None, None],\n",
       "   'source_values': ['NotData'],\n",
       "   'source_types': ['None'],\n",
       "   'failed': 'False',\n",
       "   'running': 'False',\n",
       "   'ready': 'False',\n",
       "   'cache_hit': 'False',\n",
       "   'python_object_id': 140447599048272},\n",
       "  'position': {'x': 0, 'y': 0},\n",
       "  'type': 'subNode',\n",
       "  'style': {'padding': 5,\n",
       "   'background': '#a2ea9f',\n",
       "   'borderRadius': '10px',\n",
       "   'width': '150px',\n",
       "   'width_unitless': 150,\n",
       "   'height': '72px',\n",
       "   'height_unitless': 72},\n",
       "  'targetPosition': 'left',\n",
       "  'sourcePosition': 'right',\n",
       "  'parentId': 'macro',\n",
       "  'extent': 'parent',\n",
       "  'measured': {'width': 150, 'height': 72}},\n",
       " {'id': 'calc2',\n",
       "  'data': {'label': 'calc2: macro',\n",
       "   'source_labels': ['a+2'],\n",
       "   'target_labels': ['a'],\n",
       "   'import_path': '__main__.part_2',\n",
       "   'target_values': [0],\n",
       "   'target_types': ['int'],\n",
       "   'target_literal_values': [None],\n",
       "   'target_literal_types': [None],\n",
       "   'source_values': ['NotData'],\n",
       "   'source_types': ['None'],\n",
       "   'failed': 'False',\n",
       "   'running': 'False',\n",
       "   'ready': 'False',\n",
       "   'cache_hit': 'False',\n",
       "   'python_object_id': 140447599048992},\n",
       "  'position': {'x': 0, 'y': 0},\n",
       "  'type': 'subNode',\n",
       "  'style': {'padding': 5,\n",
       "   'background': '#a2ea9f',\n",
       "   'borderRadius': '10px',\n",
       "   'width': '150px',\n",
       "   'width_unitless': 150,\n",
       "   'height': '56px',\n",
       "   'height_unitless': 56},\n",
       "  'targetPosition': 'left',\n",
       "  'sourcePosition': 'right',\n",
       "  'parentId': 'macro',\n",
       "  'extent': 'parent',\n",
       "  'measured': {'width': 150, 'height': 56}},\n",
       " {'id': 'out',\n",
       "  'data': {'label': 'out: macro',\n",
       "   'source_labels': ['a+b'],\n",
       "   'target_labels': ['a', 'b'],\n",
       "   'import_path': '__main__.part_4',\n",
       "   'target_values': [0, 0],\n",
       "   'target_types': ['int', 'int'],\n",
       "   'target_literal_values': [None, None],\n",
       "   'target_literal_types': [None, None],\n",
       "   'source_values': ['NotData'],\n",
       "   'source_types': ['None'],\n",
       "   'failed': 'False',\n",
       "   'running': 'False',\n",
       "   'ready': 'False',\n",
       "   'cache_hit': 'False',\n",
       "   'python_object_id': 140447599049472},\n",
       "  'position': {'x': 0, 'y': 0},\n",
       "  'type': 'subNode',\n",
       "  'style': {'padding': 5,\n",
       "   'background': '#a2ea9f',\n",
       "   'borderRadius': '10px',\n",
       "   'width': '150px',\n",
       "   'width_unitless': 150,\n",
       "   'height': '72px',\n",
       "   'height_unitless': 72},\n",
       "  'targetPosition': 'left',\n",
       "  'sourcePosition': 'right',\n",
       "  'parentId': 'macro',\n",
       "  'extent': 'parent',\n",
       "  'measured': {'width': 150, 'height': 72}},\n",
       " {'id': 'macro_inputs',\n",
       "  'data': {'label': 'inputs',\n",
       "   'source_labels': ['a', 'b', 'c'],\n",
       "   'target_labels': [],\n",
       "   'import_path': '__main__.add_1',\n",
       "   'target_values': [],\n",
       "   'target_types': [],\n",
       "   'target_literal_values': [],\n",
       "   'target_literal_types': [],\n",
       "   'source_values': [0, 0, 0],\n",
       "   'source_types': ['int', 'int', 'int'],\n",
       "   'failed': 'False',\n",
       "   'running': 'False',\n",
       "   'ready': 'False',\n",
       "   'cache_hit': 'False',\n",
       "   'python_object_id': 140447592590080},\n",
       "  'position': {'x': 200, 'y': 50},\n",
       "  'type': 'subNode',\n",
       "  'style': {'padding': 5,\n",
       "   'background': 'rgba(0, 128, 255, 1)',\n",
       "   'borderRadius': '10px',\n",
       "   'width': '100px',\n",
       "   'width_unitless': 100,\n",
       "   'height': '90px',\n",
       "   'height_unitless': 90},\n",
       "  'targetPosition': 'left',\n",
       "  'sourcePosition': 'right',\n",
       "  'parentId': 'macro',\n",
       "  'extent': 'parent',\n",
       "  'measured': {'width': 100, 'height': 90}},\n",
       " {'id': 'macro_outputs',\n",
       "  'data': {'label': 'inputs',\n",
       "   'source_labels': [],\n",
       "   'target_labels': ['out'],\n",
       "   'import_path': '__main__.add_1',\n",
       "   'target_values': [],\n",
       "   'target_types': ['int'],\n",
       "   'target_literal_values': [],\n",
       "   'target_literal_types': [],\n",
       "   'source_values': [],\n",
       "   'source_types': [],\n",
       "   'failed': 'False',\n",
       "   'running': 'False',\n",
       "   'ready': 'False',\n",
       "   'cache_hit': 'False',\n",
       "   'python_object_id': 140447592590080},\n",
       "  'position': {'x': 900, 'y': 50},\n",
       "  'type': 'subNode',\n",
       "  'style': {'padding': 5,\n",
       "   'background': 'rgba(0, 128, 255, 1)',\n",
       "   'borderRadius': '10px',\n",
       "   'width': '100px',\n",
       "   'width_unitless': 100,\n",
       "   'height': '90px',\n",
       "   'height_unitless': 90},\n",
       "  'targetPosition': 'left',\n",
       "  'sourcePosition': 'right',\n",
       "  'parentId': 'macro',\n",
       "  'extent': 'parent',\n",
       "  'measured': {'width': 100, 'height': 90}},\n",
       " {'id': 'add4',\n",
       "  'data': {'label': 'add4',\n",
       "   'source_labels': ['a+1'],\n",
       "   'target_labels': ['a'],\n",
       "   'import_path': '__main__.add_1',\n",
       "   'target_values': [None],\n",
       "   'target_types': ['int'],\n",
       "   'target_literal_values': [None],\n",
       "   'target_literal_types': [None],\n",
       "   'source_values': ['NotData'],\n",
       "   'source_types': ['None'],\n",
       "   'failed': 'False',\n",
       "   'running': 'False',\n",
       "   'ready': 'False',\n",
       "   'cache_hit': 'False',\n",
       "   'python_object_id': 140447599050624},\n",
       "  'position': {'x': 0, 'y': 0},\n",
       "  'type': 'customNode',\n",
       "  'style': {'padding': 5,\n",
       "   'background': '#a2ea9f',\n",
       "   'borderRadius': '10px',\n",
       "   'width': '240PX',\n",
       "   'width_unitless': 240,\n",
       "   'height': '56px',\n",
       "   'height_unitless': 56},\n",
       "  'targetPosition': 'left',\n",
       "  'sourcePosition': 'right',\n",
       "  'measured': {'width': 240, 'height': 56}}]"
      ]
     },
     "execution_count": 9,
     "metadata": {},
     "output_type": "execute_result"
    }
   ],
   "source": [
    " json.loads(pf.wf_widgets[0].gui.nodes)"
   ]
  },
  {
   "cell_type": "code",
   "execution_count": 9,
   "id": "7d9a0324-f84a-4442-90f2-c1e23c83326b",
   "metadata": {},
   "outputs": [
    {
     "data": {
      "text/plain": [
       "[{'source': 'add1',\n",
       "  'sourceHandle': 'a+1',\n",
       "  'target': 'add2',\n",
       "  'targetHandle': 'a',\n",
       "  'id': 0,\n",
       "  'type': ['edge'],\n",
       "  'parent': [],\n",
       "  'style': {'stroke': 'black', 'strokeWidth': 2}},\n",
       " {'source': 'add2',\n",
       "  'sourceHandle': 'a+1',\n",
       "  'target': 'macro',\n",
       "  'targetHandle': 'a',\n",
       "  'id': 1,\n",
       "  'type': ['edge'],\n",
       "  'parent': [],\n",
       "  'style': {'stroke': 'black', 'strokeWidth': 2}},\n",
       " {'source': 'add3',\n",
       "  'sourceHandle': 'a+1',\n",
       "  'target': 'macro',\n",
       "  'targetHandle': 'b',\n",
       "  'id': 2,\n",
       "  'type': ['edge'],\n",
       "  'parent': [],\n",
       "  'style': {'stroke': 'black', 'strokeWidth': 2}},\n",
       " {'source': 'macro',\n",
       "  'sourceHandle': 'out',\n",
       "  'target': 'add4',\n",
       "  'targetHandle': 'a',\n",
       "  'id': 3,\n",
       "  'type': ['edge'],\n",
       "  'parent': [],\n",
       "  'style': {'stroke': 'black', 'strokeWidth': 2}},\n",
       " {'source': 'in1',\n",
       "  'sourceHandle': 'a+1',\n",
       "  'target': 'calc1',\n",
       "  'targetHandle': 'a',\n",
       "  'id': 4,\n",
       "  'type': ['macroSubEdge'],\n",
       "  'parent': ['macro'],\n",
       "  'style': {'stroke': 'black', 'strokeWidth': 2}},\n",
       " {'source': 'calc1',\n",
       "  'sourceHandle': 'a+b',\n",
       "  'target': 'out',\n",
       "  'targetHandle': 'a',\n",
       "  'id': 5,\n",
       "  'type': ['macroSubEdge'],\n",
       "  'parent': ['macro'],\n",
       "  'style': {'stroke': 'black', 'strokeWidth': 2}},\n",
       " {'source': 'calc2',\n",
       "  'sourceHandle': 'a+2',\n",
       "  'target': 'out',\n",
       "  'targetHandle': 'b',\n",
       "  'id': 6,\n",
       "  'type': ['macroSubEdge'],\n",
       "  'parent': ['macro'],\n",
       "  'style': {'stroke': 'black', 'strokeWidth': 2}},\n",
       " {'source': 'macro_inputs',\n",
       "  'sourceHandle': 'a',\n",
       "  'target': 'in1',\n",
       "  'targetHandle': 'a',\n",
       "  'id': 'inEdge_1',\n",
       "  'type': ['macroSubEdge'],\n",
       "  'parent': ['macro'],\n",
       "  'style': {'stroke': 'blue', 'strokeWidth': 2},\n",
       "  'label': 'a'},\n",
       " {'source': 'macro_inputs',\n",
       "  'sourceHandle': 'b',\n",
       "  'target': 'calc1',\n",
       "  'targetHandle': 'b',\n",
       "  'id': 'inEdge_2',\n",
       "  'type': ['macroSubEdge'],\n",
       "  'parent': ['macro'],\n",
       "  'style': {'stroke': 'blue', 'strokeWidth': 2},\n",
       "  'label': 'b'},\n",
       " {'source': 'macro_inputs',\n",
       "  'sourceHandle': 'c',\n",
       "  'target': 'calc2',\n",
       "  'targetHandle': 'a',\n",
       "  'id': 'inEdge_3',\n",
       "  'type': ['macroSubEdge'],\n",
       "  'parent': ['macro'],\n",
       "  'style': {'stroke': 'blue', 'strokeWidth': 2},\n",
       "  'label': 'c'},\n",
       " {'source': 'out',\n",
       "  'sourceHandle': 'a+b',\n",
       "  'target': 'macro_outputs',\n",
       "  'targetHandle': 'out',\n",
       "  'id': 'outEdge_1',\n",
       "  'type': ['macroSubEdge'],\n",
       "  'parent': ['macro'],\n",
       "  'style': {'stroke': 'blue', 'strokeWidth': 2},\n",
       "  'label': 'out'}]"
      ]
     },
     "execution_count": 9,
     "metadata": {},
     "output_type": "execute_result"
    }
   ],
   "source": [
    "json.loads(pf.wf_widgets[0].gui.edges)"
   ]
  },
  {
   "cell_type": "code",
   "execution_count": null,
   "id": "d98a72a2-2af6-434d-9480-f51ec65493ee",
   "metadata": {},
   "outputs": [],
   "source": [
    "wf.plus1 = part_1()\n",
    "wf.plus2 = part_2()\n",
    "wf.plus3 = part_3()"
   ]
  },
  {
   "cell_type": "code",
   "execution_count": null,
   "id": "20a4cfa1-296d-4412-8932-8aa0381c917b",
   "metadata": {},
   "outputs": [],
   "source": [
    "wf.add5 = add_1()"
   ]
  },
  {
   "cell_type": "code",
   "execution_count": null,
   "id": "9ef232ae-39b6-400e-a35b-9f5f0e655ec1",
   "metadata": {},
   "outputs": [],
   "source": [
    "wf.macro2 = macro_add(wf.macro1)"
   ]
  },
  {
   "cell_type": "code",
   "execution_count": null,
   "id": "5b7957fc-e4e0-4d9d-8b3b-336a29aa8c95",
   "metadata": {},
   "outputs": [],
   "source": [
    "wf.macro3 = custom_macro()"
   ]
  },
  {
   "cell_type": "code",
   "execution_count": null,
   "id": "b304d2cf-a269-4178-800d-148762e2f7d6",
   "metadata": {},
   "outputs": [],
   "source": [
    "pf.wf_widgets[0].update()"
   ]
  },
  {
   "cell_type": "code",
   "execution_count": null,
   "id": "0a234465-5e7a-481a-b070-9ceb5e21fd28",
   "metadata": {},
   "outputs": [],
   "source": [
    "json.loads(pf.wf_widgets[0].gui.nodes)"
   ]
  },
  {
   "cell_type": "code",
   "execution_count": null,
   "id": "3c589a0f-065e-4bb4-80fe-40221b457526",
   "metadata": {},
   "outputs": [],
   "source": [
    "@as_macro_node()\n",
    "def macro_ception(wf, a: int = 0, b: int = 0):\n",
    "\n",
    "    # imports\n",
    "\n",
    "    #wf.one = part_1(a)\n",
    "    #wf.two = part_2(b)\n",
    "    wf.macro_inner = macro_addmore(a,b)\n",
    "    wf.add_out = part_1(wf.macro_inner)\n",
    "    \n",
    "    return wf.add_out\n"
   ]
  },
  {
   "cell_type": "code",
   "execution_count": null,
   "id": "fd50bb09-1d5d-41c4-b52f-a24f9fc1a51c",
   "metadata": {},
   "outputs": [],
   "source": [
    "wf2 = Workflow('macro_in_macro')\n",
    "\n",
    "wf2.macro1 = macro_ception()\n",
    "\n",
    "pf2 = PyironFlow([wf2])\n",
    "pf2.gui"
   ]
  },
  {
   "cell_type": "code",
   "execution_count": null,
   "id": "50e47622-723f-4b4b-8d72-36e09eb9fe00",
   "metadata": {},
   "outputs": [],
   "source": [
    "json.loads(pf.wf_widgets[0].gui.nodes)"
   ]
  },
  {
   "cell_type": "code",
   "execution_count": null,
   "id": "8747dad9-2c66-4331-bca9-2e4b29d7b1e9",
   "metadata": {},
   "outputs": [],
   "source": [
    "pf.wf_widgets[0].wf"
   ]
  },
  {
   "cell_type": "code",
   "execution_count": null,
   "id": "bb60e0ea-f8a1-4f96-9cb5-9fd59751dfe1",
   "metadata": {
    "scrolled": true
   },
   "outputs": [],
   "source": [
    "pf.wf_widgets[0].update()"
   ]
  },
  {
   "cell_type": "code",
   "execution_count": null,
   "id": "d41f125a-9119-4306-9b52-b1550390b31f",
   "metadata": {},
   "outputs": [],
   "source": [
    "pf.wf_widgets[0].wf.add2 = add_1()"
   ]
  },
  {
   "cell_type": "code",
   "execution_count": null,
   "id": "62dd73fb-8576-4ee2-a805-5a20fe6e9c38",
   "metadata": {},
   "outputs": [],
   "source": [
    "wf.add1 = add_1()"
   ]
  },
  {
   "cell_type": "code",
   "execution_count": null,
   "id": "563f6fdb-e2b3-4ec6-b20d-13746aadb695",
   "metadata": {},
   "outputs": [],
   "source": [
    "wf.add2 = add_1()"
   ]
  },
  {
   "cell_type": "code",
   "execution_count": null,
   "id": "1c073009-8005-41f4-bee1-b06a788eaffd",
   "metadata": {},
   "outputs": [],
   "source": [
    "pf.wf_widgets[0].add_node(add_1, \"add1\")"
   ]
  },
  {
   "cell_type": "code",
   "execution_count": null,
   "id": "1dd681d5-1853-48b1-b7eb-cb5eb2bf2b68",
   "metadata": {},
   "outputs": [],
   "source": [
    "pf.wf_widgets[0].gui.edges"
   ]
  },
  {
   "cell_type": "code",
   "execution_count": null,
   "id": "7af0a892-b76a-46f4-a505-841d6964b487",
   "metadata": {},
   "outputs": [],
   "source": [
    "get_node_instance_type(wf.add1)"
   ]
  },
  {
   "cell_type": "code",
   "execution_count": null,
   "id": "9960f0a7-fa79-458c-a22e-b6b16ed3f277",
   "metadata": {},
   "outputs": [],
   "source": [
    "get_edges(wf)"
   ]
  },
  {
   "cell_type": "code",
   "execution_count": null,
   "id": "447d5b64-efd6-40c3-b3b1-9e480fdb508b",
   "metadata": {},
   "outputs": [],
   "source": [
    "for ic, (out, inp) in enumerate(wf.add1.graph_as_dict['edges']['data']):\n",
    "    print(ic, out, inp)\n",
    "    last = max(len(out.split('/')) -1, 0) \n",
    "    out_node, out_port = out.split('/')[last].split('.')\n",
    "    print(out_node, out_port)"
   ]
  },
  {
   "cell_type": "code",
   "execution_count": null,
   "id": "e2577d26-c2f5-48f4-85ff-87b3b7dc8a8a",
   "metadata": {},
   "outputs": [],
   "source": [
    "for i, (k, v) in enumerate(wf.children.items()):\n",
    "    print(k)"
   ]
  },
  {
   "cell_type": "code",
   "execution_count": null,
   "id": "b673ee5b-165e-408f-bf9c-2422fcc43014",
   "metadata": {},
   "outputs": [],
   "source": [
    "def get_edges(wf):\n",
    "    edges = []\n",
    "    for ic, (out, inp) in enumerate(wf.graph_as_dict[\"edges\"][\"data\"].keys()):\n",
    "        out_node, out_port = out.split('/')[2].split('.')\n",
    "        inp_node, inp_port = inp.split('/')[2].split('.')\n",
    "\n",
    "        edge_dict = dict()\n",
    "        edge_dict[\"source\"] = out_node\n",
    "        edge_dict[\"sourceHandle\"] = out_port\n",
    "        edge_dict[\"target\"] = inp_node\n",
    "        edge_dict[\"targetHandle\"] = inp_port\n",
    "        edge_dict[\"id\"] = ic\n",
    "        edge_dict[\"style\"] = {'strokeWidth': 2, 'stroke': 'black',}\n",
    "\n",
    "        edges.append(edge_dict)\n",
    "    return edges\n"
   ]
  },
  {
   "cell_type": "code",
   "execution_count": null,
   "id": "f7348ec5-1613-4bc4-acce-52550379b6ad",
   "metadata": {},
   "outputs": [],
   "source": [
    "get_edges(wf)"
   ]
  },
  {
   "cell_type": "code",
   "execution_count": null,
   "id": "087bf016-210c-4a15-9ff5-489c88ea9fd5",
   "metadata": {},
   "outputs": [],
   "source": [
    "edges = []\n",
    "for i, (k, v) in enumerate(wf.children.items()):\n",
    "    #print(v)\n",
    "    #print(get_node_instance_type(v))\n",
    "    if (get_node_instance_type(v) == 'macro'):\n",
    "        for ic, (out, inp) in enumerate(v.graph_as_dict['edges']['data']):\n",
    "            print(ic, out, inp)\n",
    "            last = max(len(out.split('/')) -1, 0) \n",
    "            out_node, out_port = out.split('/')[last].split('.')\n",
    "            inp_node, inp_port = inp.split('/')[last].split('.')\n",
    "                \n",
    "            edge_dict = dict()\n",
    "            edge_dict[\"source\"] = out_node\n",
    "            edge_dict[\"sourceHandle\"] = out_port\n",
    "            edge_dict[\"target\"] = inp_node\n",
    "            edge_dict[\"targetHandle\"] = inp_port\n",
    "            edge_dict[\"id\"] = ic\n",
    "            edge_dict[\"style\"] = {'strokeWidth': 2, 'stroke': 'black',}\n",
    "    \n",
    "            edges.append(edge_dict)\n",
    "print(edges)"
   ]
  },
  {
   "cell_type": "code",
   "execution_count": null,
   "id": "1b34d6b5-3368-42e5-8da8-5f36f8d31752",
   "metadata": {},
   "outputs": [],
   "source": [
    "for ic in enumerate(wf.graph_as_dict):\n",
    "    print(ic)"
   ]
  },
  {
   "cell_type": "code",
   "execution_count": null,
   "id": "710ee23c-5e2b-4c25-8d34-e529182e0dd2",
   "metadata": {},
   "outputs": [],
   "source": [
    "pf.wf_widgets[0].gui.edges"
   ]
  },
  {
   "cell_type": "code",
   "execution_count": null,
   "id": "88a27b84-970c-414b-8e73-3aee176e905f",
   "metadata": {},
   "outputs": [],
   "source": [
    "pf.wf_widgets[0].gui.nodes = '[{\"id\":\"add\",\"data\":{\"label\":\"add\"},\"position\":{\"x\":0,\"y\":100},\"type\":\"group\",\"style\":{\"border\":\"1px black solid\",\"padding\":5,\"background\":\"#a2ea9f\",\"borderRadius\":\"10px\",\"width\":\"240px\"},\"measured\":{\"width\":240,\"height\":12}},{\"id\":\"add2\",\"data\":{\"label\":\"add2\"},\"position\":{\"x\":0,\"y\":100},\"type\":\"custom_node\", parentId: \"add\", extent: \"parent\", \"style\":{\"border\":\"1px black solid\",\"padding\":5,\"background\":\"#a2ea9f\",\"borderRadius\":\"10px\",\"width\":\"240px\"},\"measured\":{\"width\":240,\"height\":12}}]'"
   ]
  },
  {
   "cell_type": "code",
   "execution_count": null,
   "id": "d88e5acd-ef69-4476-ac67-e55710d6783f",
   "metadata": {},
   "outputs": [],
   "source": [
    "wf.macro = macro_add()"
   ]
  },
  {
   "cell_type": "code",
   "execution_count": null,
   "id": "9352eb61-3cb1-4495-947d-f7e5b53d84c3",
   "metadata": {},
   "outputs": [],
   "source": [
    "\n",
    "\n",
    "flow_widget.add_node(str(path_str), node.path.name)\n"
   ]
  },
  {
   "cell_type": "code",
   "execution_count": null,
   "id": "094ea54f-7e64-42ab-bfd3-13a8ec1c2e80",
   "metadata": {},
   "outputs": [],
   "source": [
    "\n",
    "\n",
    "\n",
    "\n",
    "\n",
    "\n",
    "\n",
    "\n",
    "\n",
    "\n",
    "\n",
    "\n",
    "\n",
    "\n",
    "\n",
    "\n",
    "\n",
    "\n",
    "\n",
    "\n",
    "\n",
    "\n",
    "\n",
    "\n",
    "\n",
    "\n",
    "\n",
    "\n",
    "\n",
    "\n",
    "\n",
    "\n",
    "\n",
    "\n",
    "\n",
    "\n"
   ]
  },
  {
   "cell_type": "code",
   "execution_count": null,
   "id": "b93356dd-e461-4e67-905b-83e136b06821",
   "metadata": {},
   "outputs": [],
   "source": [
    "from pyiron_workflow import as_function_node\n",
    "import typing\n",
    "from typing import Optional\n",
    "\n",
    "@as_function_node()\n",
    "def add_1(a: Optional[float | int] = None):\n",
    "    return a+1"
   ]
  },
  {
   "cell_type": "code",
   "execution_count": null,
   "id": "7401f5a3-f801-4e45-8789-e0b1ed061e71",
   "metadata": {},
   "outputs": [],
   "source": [
    "wf.add1 = add_1()"
   ]
  },
  {
   "cell_type": "code",
   "execution_count": null,
   "id": "f3130fef-60e7-468d-941a-9b293f68e4df",
   "metadata": {},
   "outputs": [],
   "source": [
    "pf.wf_widgets[0].wf.add1 = add_1()"
   ]
  },
  {
   "cell_type": "code",
   "execution_count": null,
   "id": "11939cb6-d79c-4379-a2d2-3a8bd2347160",
   "metadata": {},
   "outputs": [],
   "source": [
    "wf.add2 = add_1()"
   ]
  },
  {
   "cell_type": "code",
   "execution_count": null,
   "id": "5d442713-dccd-41b6-ad2f-119c1b7fb53c",
   "metadata": {},
   "outputs": [],
   "source": [
    "len(list(wf.macro))"
   ]
  },
  {
   "cell_type": "code",
   "execution_count": null,
   "id": "f7b1ba37-0de5-40a5-a274-d5dd6b694af3",
   "metadata": {},
   "outputs": [],
   "source": [
    "wf"
   ]
  },
  {
   "cell_type": "code",
   "execution_count": null,
   "id": "ca003fa2-035f-4782-81f4-765db514d638",
   "metadata": {},
   "outputs": [],
   "source": [
    "list(wf.macro)[0]"
   ]
  },
  {
   "cell_type": "code",
   "execution_count": null,
   "id": "019f93f4-42ac-456d-a20c-1c196602ea0f",
   "metadata": {},
   "outputs": [],
   "source": [
    "import json\n",
    "\n",
    "nodes = \"[{'id': '1','data': { 'label': 'Hello' },'position': { 'x': 0, 'y': 0 },},]\"\n",
    "\n",
    "nodes_json = json.dumps(nodes)\n",
    "wf.nodes = nodes_json"
   ]
  },
  {
   "cell_type": "code",
   "execution_count": null,
   "id": "8e1e9c0f-8df5-4314-a370-7b537ec85e79",
   "metadata": {},
   "outputs": [],
   "source": [
    "wf"
   ]
  },
  {
   "cell_type": "code",
   "execution_count": null,
   "id": "8869c880-b4ff-421e-8a7e-8fe754ff7bfd",
   "metadata": {},
   "outputs": [],
   "source": [
    "    {\n",
    "      'id': '1-a',\n",
    "      'data': { 'label': 'message' },\n",
    "      'position': { 'x': 250, 'y': 100 },\n",
    "      'type': 'output',\n",
    "      'parentId': '1',\n",
    "      'extent': 'parent',\n",
    "      'targetPosition': 'left',      \n",
    "    },\n",
    "    {\n",
    "      'id': '1-b',\n",
    "      'data': { 'label': 'Child Node 1' },\n",
    "      'position': { 'x': 0, 'y': 100 },\n",
    "      'type': 'input',\n",
    "      'parentId': '1',\n",
    "      'extent': 'parent',\n",
    "      'targetPosition': 'left',  \n",
    "    },"
   ]
  },
  {
   "cell_type": "code",
   "execution_count": null,
   "id": "a8786f1a-d583-42f6-a3b1-79a56dfea199",
   "metadata": {},
   "outputs": [],
   "source": [
    "Macro into default node\n",
    "\n",
    "internal nodes\n",
    "\n",
    "hidden button\n",
    "\n",
    "connection validation"
   ]
  },
  {
   "cell_type": "code",
   "execution_count": null,
   "id": "0407dab0-3471-49a6-b4c9-867ca9225db4",
   "metadata": {},
   "outputs": [],
   "source": [
    "no interactivity with expanded macro"
   ]
  },
  {
   "cell_type": "code",
   "execution_count": null,
   "id": "83ce6267-b2a1-4419-9e4a-42c95359e241",
   "metadata": {},
   "outputs": [],
   "source": [
    "wf = pf.get_workflow()"
   ]
  },
  {
   "cell_type": "code",
   "execution_count": null,
   "id": "d5c54fbd-1a9f-47cf-87c5-1203346694ba",
   "metadata": {},
   "outputs": [],
   "source": [
    "import anywidget\n",
    "import pathlib\n",
    "import traitlets\n",
    "import os\n",
    "import json\n",
    "import importlib\n",
    "import typing\n",
    "\n",
    "def dict_to_node(dict_node):\n",
    "\n",
    "    print(dict_node['type'])\n",
    "    data = dict_node['data']\n",
    "    node = get_node_from_path(data['import_path'])(label=dict_node['id'])\n",
    "    if 'position' in dict_node:\n",
    "        x, y = dict_node['position'].values()\n",
    "        node.position = (x, y)\n",
    "        # print('position exists: ', node.label, node.position)\n",
    "    else:\n",
    "        print('no position: ', node.label)\n",
    "    if 'target_values' in data:\n",
    "        target_values = data['target_values']\n",
    "        target_labels = data['target_labels']\n",
    "        for k, v in zip(target_labels, target_values):\n",
    "            if v not in ('NonPrimitive', 'NotData'):\n",
    "                node.inputs[k] = v\n",
    "\n",
    "    return node"
   ]
  },
  {
   "cell_type": "code",
   "execution_count": null,
   "id": "e1eedd66-8e82-4375-b0ec-5522e504ec2c",
   "metadata": {},
   "outputs": [],
   "source": [
    "dict_edges = json.loads(pf.wf_widgets[0].gui.edges)"
   ]
  },
  {
   "cell_type": "code",
   "execution_count": null,
   "id": "bcb97cd9-7bae-42a2-8cb8-0b70f9e25a1f",
   "metadata": {},
   "outputs": [],
   "source": [
    "dict_edges"
   ]
  },
  {
   "cell_type": "code",
   "execution_count": null,
   "id": "6d66a59c-1de4-4d0a-bc1c-6813aa7da823",
   "metadata": {},
   "outputs": [],
   "source": [
    "for dict_edge in dict_edges:\n",
    "    if 'type' in dict_edge:\n",
    "        if (dict_edge['type'] != 'macroSubEdge'):\n",
    "            print(dict_edge['type'])"
   ]
  },
  {
   "cell_type": "code",
   "execution_count": null,
   "id": "c8113c1b-3858-441b-bb79-9acf60b46448",
   "metadata": {},
   "outputs": [],
   "source": [
    "fruits = ['apple', 'banana', 'cherry']\n",
    "\n",
    "fruits.count(\"chry\")"
   ]
  },
  {
   "cell_type": "code",
   "execution_count": null,
   "id": "640d0452-debf-4750-8590-c8b8fccf4aa6",
   "metadata": {},
   "outputs": [],
   "source": [
    "json.loads(pf.wf_widgets[0].gui.nodes)"
   ]
  },
  {
   "cell_type": "code",
   "execution_count": null,
   "id": "3876ef7e-090e-4f73-aa26-09e091cfab06",
   "metadata": {},
   "outputs": [],
   "source": [
    "[{'source': 'add1',\n",
    "  'sourceHandle': 'a+1',\n",
    "  'target': 'add2',\n",
    "  'targetHandle': 'a',\n",
    "  'id': 'add1__add2__a',\n",
    "  'style': {'strokeWidth': 2, 'stroke': 'black'}},\n",
    " {'source': 'add2',\n",
    "  'sourceHandle': 'a+1',\n",
    "  'target': 'macro1',\n",
    "  'targetHandle': 'a',\n",
    "  'id': 'add2__macro1__a',\n",
    "  'style': {'strokeWidth': 2, 'stroke': 'black'}},\n",
    " {'source': 'add3',\n",
    "  'sourceHandle': 'a+1',\n",
    "  'target': 'macro1',\n",
    "  'targetHandle': 'b',\n",
    "  'id': 'add3__macro1__b',\n",
    "  'style': {'strokeWidth': 2, 'stroke': 'black'}},\n",
    " {'source': 'macro1',\n",
    "  'sourceHandle': 'out',\n",
    "  'target': 'macro2',\n",
    "  'targetHandle': 'a',\n",
    "  'id': 'macro1__macro2__a',\n",
    "  'style': {'strokeWidth': 2, 'stroke': 'black'}},\n",
    " {'source': 'in1',\n",
    "  'sourceHandle': 'a+1',\n",
    "  'target': 'out',\n",
    "  'targetHandle': 'a',\n",
    "  'id': 'in1__out__a',\n",
    "  'type': 'macroSubEdge',\n",
    "  'parent': 'macro1',\n",
    "  'style': {'strokeWidth': 2, 'stroke': 'black'}},\n",
    " {'source': 'in2',\n",
    "  'sourceHandle': 'a+2',\n",
    "  'target': 'out',\n",
    "  'targetHandle': 'b',\n",
    "  'id': 'in2__out__b',\n",
    "  'type': 'macroSubEdge',\n",
    "  'parent': 'macro1',\n",
    "  'style': {'strokeWidth': 2, 'stroke': 'black'}},\n",
    " {'source': 'macro1_a',\n",
    "  'sourceHandle': 'a',\n",
    "  'target': 'in1',\n",
    "  'targetHandle': 'a',\n",
    "  'id': 'a__in1__a',\n",
    "  'type': 'macroSubEdge',\n",
    "  'parent': 'macro1',\n",
    "  'style': {'strokeWidth': 2, 'stroke': 'black'}},\n",
    "]"
   ]
  },
  {
   "cell_type": "code",
   "execution_count": null,
   "id": "9ca8cfba-19e1-48b9-98f6-9c9858101c4a",
   "metadata": {},
   "outputs": [],
   "source": [
    "\n",
    "\n",
    " {'source': 'macro1_b',\n",
    "  'sourceHandle': 'a+2',\n",
    "  'target': 'out',\n",
    "  'targetHandle': 'b',\n",
    "  'id': 'in2__out__b',\n",
    "  'type': 'macroSubEdge',\n",
    "  'parent': 'macro1',\n",
    "  'style': {'strokeWidth': 2, 'stroke': 'black'}},\n",
    "\n",
    "\n",
    " {'source': 'in2',\n",
    "  'sourceHandle': 'a+2',\n",
    "  'target': 'macro1_out',\n",
    "  'targetHandle': 'b',\n",
    "  'id': 'in2__out__b',\n",
    "  'type': 'macroSubEdge',\n",
    "  'parent': 'macro1',\n",
    "  'style': {'strokeWidth': 2, 'stroke': 'black'}},\n"
   ]
  },
  {
   "cell_type": "code",
   "execution_count": null,
   "id": "9290ce57-5011-4f2c-b99b-747ecb922647",
   "metadata": {},
   "outputs": [],
   "source": [
    "pf.wf_widgets[0].gui.edges = \"[{'source': 'add1','sourceHandle': 'a+1','target': 'add2','targetHandle': 'a','id': 'add1__add2__a','style': {'strokeWidth': 2, 'stroke': 'black'}},{'source': 'add2','sourceHandle': 'a+1','target': 'macro1','targetHandle': 'a','id': 'add2__macro1__a','style': {'strokeWidth': 2, 'stroke': 'black'}},{'source': 'add3','sourceHandle': 'a+1','target': 'macro1','targetHandle': 'b', 'id': 'add3__macro1__b','style': {'strokeWidth': 2, 'stroke': 'black'}},{'source': 'macro1','sourceHandle': 'out','target': 'macro2','targetHandle': 'a','id': 'macro1__macro2__a','style': {'strokeWidth': 2, 'stroke': 'black'}},{'source': 'in1','sourceHandle': 'a+1','target': 'out','targetHandle': 'a','id': 'in1__out__a','type': 'macroSubEdge','parent': 'macro1','style': {'strokeWidth': 2, 'stroke': 'black'}},{'source': 'in2','sourceHandle': 'a+2','target': 'out','targetHandle': 'b','id': 'in2__out__b','type': 'macroSubEdge','parent': 'macro1','style': {'strokeWidth': 2, 'stroke': 'black'}},{'source': 'macro1_a','sourceHandle': 'a','target': 'in1','targetHandle': 'a','id': 'a__in1__a','type': 'macroSubEdge','parent': 'macro1','style': {'strokeWidth': 2, 'stroke': 'black'}},]\""
   ]
  },
  {
   "cell_type": "code",
   "execution_count": null,
   "id": "b663f4f8-0e87-490e-9d98-eb2a482e7e45",
   "metadata": {},
   "outputs": [],
   "source": [
    "index, in, out"
   ]
  },
  {
   "cell_type": "code",
   "execution_count": null,
   "id": "0f54f88c-349b-4351-b35c-e9b1a94ca9f5",
   "metadata": {},
   "outputs": [],
   "source": [
    "def buildTree\n",
    "    "
   ]
  },
  {
   "cell_type": "code",
   "execution_count": null,
   "id": "7a325666-fad2-45c4-a68c-8784994c07b6",
   "metadata": {},
   "outputs": [],
   "source": [
    "a = []"
   ]
  },
  {
   "cell_type": "code",
   "execution_count": null,
   "id": "407047f4-2ccf-40b8-9c24-465acda0ddf1",
   "metadata": {},
   "outputs": [],
   "source": [
    "a.append()"
   ]
  },
  {
   "cell_type": "code",
   "execution_count": null,
   "id": "e8d1faff-275a-4c25-bf68-65889d7b651b",
   "metadata": {},
   "outputs": [],
   "source": [
    "list\n",
    "\n",
    "for each node\n",
    "    if in == 0\n",
    "        start.append(node)\n",
    "list.append(start)\n",
    "\n",
    "while list[i] <= len(list)-1\n",
    "    for each in list\n",
    "        if out != 0\n",
    "            next.append(out)\n",
    "    if next != []\n",
    "            list.appemnd(next)\n",
    "    \n"
   ]
  },
  {
   "cell_type": "code",
   "execution_count": null,
   "id": "1f14d337-0041-4d4a-832f-2f476be48af7",
   "metadata": {},
   "outputs": [],
   "source": [
    "list = [\"a\", \"b\"]"
   ]
  },
  {
   "cell_type": "code",
   "execution_count": null,
   "id": "3187075c-671b-4aa7-92cf-dbc13eb4289e",
   "metadata": {},
   "outputs": [],
   "source": [
    "len(list)"
   ]
  },
  {
   "cell_type": "code",
   "execution_count": null,
   "id": "ff8630a0-afe1-43a3-8fa9-71c196bfda3d",
   "metadata": {},
   "outputs": [],
   "source": [
    "wf.inputs"
   ]
  },
  {
   "cell_type": "code",
   "execution_count": null,
   "id": "feff8cf8-b385-4212-9606-fe259224bf90",
   "metadata": {},
   "outputs": [],
   "source": [
    "wf"
   ]
  },
  {
   "cell_type": "code",
   "execution_count": null,
   "id": "e09de585-c4e3-47c3-a298-b7828f0e7e7c",
   "metadata": {},
   "outputs": [],
   "source": [
    "wf.add1.a.connections"
   ]
  },
  {
   "cell_type": "code",
   "execution_count": null,
   "id": "f85a586e-2b8f-44f4-8afb-f77e01b7b82e",
   "metadata": {},
   "outputs": [],
   "source": [
    "for ding in wf:\n",
    "    print(list(ding.inputs.channel_dict.keys()))\n",
    "    \n",
    "    "
   ]
  },
  {
   "cell_type": "code",
   "execution_count": null,
   "id": "e4f213c5-041c-46a1-9328-33d1dbf0089b",
   "metadata": {},
   "outputs": [],
   "source": [
    "for ding in wf:\n",
    "    for inp in list(ding.inputs.channel_dict.keys()):\n",
    "        print(ding.inp.connections)\n",
    "    "
   ]
  },
  {
   "cell_type": "code",
   "execution_count": null,
   "id": "f1733b6b-2687-4c54-ae2d-28a11fec2c4f",
   "metadata": {},
   "outputs": [],
   "source": [
    "for i, (k, v) in enumerate(wf.children.items()):\n",
    "    print(list(v.inputs.channel_dict.keys()))\n",
    "    "
   ]
  },
  {
   "cell_type": "code",
   "execution_count": null,
   "id": "cff6c516-8bbf-42b2-929c-47fcb02d7d2b",
   "metadata": {},
   "outputs": [],
   "source": [
    "for ding.inputs in wf:\n",
    "    ding.inputs\n"
   ]
  },
  {
   "cell_type": "code",
   "execution_count": null,
   "id": "e6538c63-236d-4d3a-b9cb-81a77eb7986e",
   "metadata": {},
   "outputs": [],
   "source": [
    "dict_nodes = json.loads(pf.wf_widgets[0].gui.nodes)"
   ]
  },
  {
   "cell_type": "code",
   "execution_count": null,
   "id": "e8b36c07-dc12-4077-b5a8-14933a244053",
   "metadata": {},
   "outputs": [],
   "source": [
    "for node in dict_nodes:\n",
    "    if 'type' in dict_edge:\n",
    "        if (dict_edge['type'] != 'macroSubEdge'):\n",
    "            print(dict_edge['type'])\n",
    "\n",
    "or each node\n",
    "    if in == 0\n",
    "        start.append(node)\n",
    "list.append(start)"
   ]
  },
  {
   "cell_type": "code",
   "execution_count": null,
   "id": "8aa73f02-3947-4eab-96c8-a50c0381bc5f",
   "metadata": {},
   "outputs": [],
   "source": [
    "dict_nodes"
   ]
  },
  {
   "cell_type": "code",
   "execution_count": null,
   "id": "a6783129-da45-429c-bde0-0f41a8264106",
   "metadata": {},
   "outputs": [],
   "source": [
    "wf.graph_as_dict[\"nodes\"]"
   ]
  },
  {
   "cell_type": "code",
   "execution_count": null,
   "id": "a502f5b6-5f02-46e9-95d0-f911c305d011",
   "metadata": {},
   "outputs": [],
   "source": [
    "for each in wf:\n",
    "    print(each)"
   ]
  },
  {
   "cell_type": "code",
   "execution_count": null,
   "id": "9a88dffc-ef99-4e0e-a076-d7dd46befa46",
   "metadata": {},
   "outputs": [],
   "source": [
    "    edges = []\n",
    "    for ic, (out, inp) in enumerate(wf.graph_as_dict[\"edges\"][\"data\"].keys()):\n",
    "        out_node, out_port = out.split('/')[2].split('.')\n",
    "        inp_node, inp_port = inp.split('/')[2].split('.')\n",
    "\n",
    "        edges.append([out_node, inp_node])\n",
    "        print(out_node + \"---\" + inp_node)\n",
    "\n",
    "    edges"
   ]
  },
  {
   "cell_type": "code",
   "execution_count": null,
   "id": "ea80757a-8dfe-483b-b139-317c154c6e2d",
   "metadata": {},
   "outputs": [],
   "source": [
    "for inp in (list(wf.inputs.channel_dict.keys())):\n",
    "    print(inp.split(\"__\")[0])"
   ]
  },
  {
   "cell_type": "code",
   "execution_count": null,
   "id": "64ac46c7-c3d0-45f5-8dcc-cb0df8725947",
   "metadata": {},
   "outputs": [],
   "source": [
    "wf.graph_as_dict[\"edges\"][\"data\"].keys()"
   ]
  },
  {
   "cell_type": "code",
   "execution_count": null,
   "id": "d2f67d69-f74f-4b4c-a0d1-d98fbdc1cce7",
   "metadata": {},
   "outputs": [],
   "source": [
    "graph_list = []\n",
    "start = []\n",
    "edges = []\n",
    "\n",
    "for inp in (list(wf.inputs.channel_dict.keys())):\n",
    "    start.append(inp.split(\"__\")[0])\n",
    "\n",
    "graph_list.append(start)\n",
    "\n",
    "for ic, (out, inp) in enumerate(wf.graph_as_dict[\"edges\"][\"data\"].keys()):\n",
    "    out_node, out_port = out.split('/')[2].split('.')\n",
    "    inp_node, inp_port = inp.split('/')[2].split('.')\n",
    "\n",
    "    edges.append([out_node, inp_node])\n",
    "\n",
    "i = 0;\n",
    "while graph_list[i] != []:\n",
    "\n",
    "    stage = []\n",
    "    print(graph_list[i])\n",
    "    for node in graph_list[i]:\n",
    "        for edge in edges:\n",
    "            if node == edge[0]:\n",
    "                stage.append(edge[1])\n",
    "    print(stage)\n",
    "    graph_list.append(stage)\n",
    "    i += 1\n",
    "\n",
    "    print(graph_list)\n",
    "            \n",
    "        \n"
   ]
  },
  {
   "cell_type": "code",
   "execution_count": null,
   "id": "8ab336ca-b56e-469c-b779-3c13afc5a355",
   "metadata": {},
   "outputs": [],
   "source": [
    "for out in (list(wf.outputs.channel_dict.keys())):\n",
    "    print(out)\n",
    "    "
   ]
  },
  {
   "cell_type": "code",
   "execution_count": null,
   "id": "b77f4ff9-0e7a-468c-9c2e-dbdc6fd1b8c4",
   "metadata": {},
   "outputs": [],
   "source": [
    "graph_list = []\n",
    "end = []\n",
    "edges = []\n",
    "\n",
    "for out in (list(wf.macro1.outputs.channel_dict.keys())):\n",
    "    print((out.split(\"__\")[0]))\n",
    "    end.append(out.split(\"__\")[0])"
   ]
  },
  {
   "cell_type": "code",
   "execution_count": null,
   "id": "52e31eee-0bbe-42fb-b1fd-98bc90489e04",
   "metadata": {},
   "outputs": [],
   "source": [
    "\n",
    "    graph_list = []\n",
    "    end = []\n",
    "    edges = []\n",
    "    \n",
    "    for out in (list(wf.outputs.channel_dict.keys())):\n",
    "        end.append(out.split(\"__\")[0])\n",
    "    \n",
    "    graph_list.append(end)\n",
    "    \n",
    "    for ic, (out, inp) in enumerate(wf.graph_as_dict[\"edges\"][\"data\"].keys()):\n",
    "        n = out.count('/')\n",
    "        out_node, out_port = out.split('/')[n].split('.')\n",
    "        inp_node, inp_port = inp.split('/')[n].split('.')\n",
    "    \n",
    "        edges.append([inp_node, out_node])\n",
    "    \n",
    "    i = 0;\n",
    "    depth = 0\n",
    "    while graph_list[i] != []:\n",
    "    \n",
    "        depth = max(len(graph_list[i]),depth)\n",
    "        stage = []\n",
    "        for node in graph_list[i]:\n",
    "            for edge in edges:\n",
    "                if node == edge[0]:\n",
    "                    stage.append(edge[1])\n",
    "        graph_list.append(stage)\n",
    "        i += 1\n",
    "    \n",
    "    print(graph_list)\n",
    "    print(depth)\n",
    "    print(len(graph_list)-1)\n",
    "        \n",
    "        "
   ]
  },
  {
   "cell_type": "code",
   "execution_count": null,
   "id": "4f01e56b-285f-4391-8022-3a77d3ec1585",
   "metadata": {},
   "outputs": [],
   "source": [
    "graph_list"
   ]
  },
  {
   "cell_type": "code",
   "execution_count": null,
   "id": "427378f9-d0bc-4033-a8ce-39b3040f044a",
   "metadata": {},
   "outputs": [],
   "source": [
    "for ic, (out, inp) in enumerate(wf.macro1.graph_as_dict[\"edges\"][\"data\"].keys()):\n",
    "    print(ic,out,inp)"
   ]
  },
  {
   "cell_type": "code",
   "execution_count": 44,
   "id": "93404b92-3e83-46fb-a038-ddee814d0e17",
   "metadata": {},
   "outputs": [
    {
     "name": "stdout",
     "output_type": "stream",
     "text": [
      "def macro_visual(wf, a: int = 0, b: int = 0, c: int = 0):\n",
      "\n",
      "    # imports\n",
      "\n",
      "    wf.in1 = part_1(a)\n",
      "    wf.calc1 = part_4(wf.in1, b)\n",
      "    wf.calc2 = part_2(c)\n",
      "    wf.out = part_4(wf.calc1, wf.calc2)\n",
      "    \n",
      "    return wf.out\n",
      "\n",
      "\n",
      "def macro_visual(wf, a: int = 0, b: int = 0, c: int = 0):\n",
      "\n",
      "    # imports\n",
      "\n",
      "    wf.in1 = part_1(a)\n",
      "    wf.calc1 = part_4(wf.in1, b)\n",
      "    wf.calc2 = part_2(c)\n",
      "    wf.out = part_4(wf.calc1, wf.calc2)\n",
      "    \n",
      "    return wf.out\n",
      "\n"
     ]
    },
    {
     "ename": "TypeError",
     "evalue": "'Module' object is not iterable",
     "output_type": "error",
     "traceback": [
      "\u001b[0;31m---------------------------------------------------------------------------\u001b[0m",
      "\u001b[0;31mTypeError\u001b[0m                                 Traceback (most recent call last)",
      "Cell \u001b[0;32mIn[44], line 26\u001b[0m\n\u001b[1;32m     24\u001b[0m \u001b[38;5;28mprint\u001b[39m(source)\n\u001b[1;32m     25\u001b[0m tree \u001b[38;5;241m=\u001b[39m ast\u001b[38;5;241m.\u001b[39mparse(source)\n\u001b[0;32m---> 26\u001b[0m \u001b[38;5;28;43mlist\u001b[39;49m\u001b[43m(\u001b[49m\u001b[43mtree\u001b[49m\u001b[43m)\u001b[49m\n",
      "\u001b[0;31mTypeError\u001b[0m: 'Module' object is not iterable"
     ]
    }
   ],
   "source": [
    "\n",
    "def macro_visual(wf, a: int = 0, b: int = 0, c: int = 0):\n",
    "\n",
    "    # imports\n",
    "\n",
    "    wf.in1 = part_1(a)\n",
    "    wf.calc1 = part_4(wf.in1, b)\n",
    "    wf.calc2 = part_2(c)\n",
    "    wf.out = part_4(wf.calc1, wf.calc2)\n",
    "    \n",
    "    return wf.out\n",
    "\n",
    "def hello(a = \"\", b = \"\"):\n",
    "\n",
    "    return a+b\n",
    "\n",
    "import ast\n",
    "import inspect\n",
    "\n",
    "source = inspect.getsource(macro_visual)\n",
    "print(source)\n",
    "print(\"\")\n",
    "\n",
    "source2 = inspect.cleandoc(source)\n",
    "print(source)\n",
    "tree = ast.parse(source)"
   ]
  },
  {
   "cell_type": "code",
   "execution_count": 45,
   "id": "22bdc60f-e72e-4928-ba1a-26aae2f201eb",
   "metadata": {},
   "outputs": [],
   "source": [
    "def find_variable_usage(func, variable_name):\n",
    "    source = inspect.getsource(func)\n",
    "    tree = ast.parse(source)\n",
    "\n",
    "    class VariableVisitor(ast.NodeVisitor):\n",
    "        def __init__(self):\n",
    "            self.locations = []\n",
    "\n",
    "        def visit_Name(self, node):\n",
    "            if node.id == variable_name:\n",
    "                print(node)\n",
    "                print(node.id)\n",
    "            self.generic_visit(node)\n",
    "\n",
    "    visitor = VariableVisitor()\n",
    "    visitor.visit(tree)\n",
    "    return visitor.locations"
   ]
  },
  {
   "cell_type": "code",
   "execution_count": 58,
   "id": "c9229eef-854f-497d-b63b-77b423f33aa2",
   "metadata": {},
   "outputs": [],
   "source": [
    "def find_variables(func):\n",
    "    source = inspect.getsource(func)\n",
    "    tree = ast.parse(source)\n",
    "\n",
    "    class VariableVisitor(ast.NodeVisitor):\n",
    "        def __init__(self):\n",
    "            self.locations = []\n",
    "\n",
    "        def visit_Name(self, node):\n",
    "            print(node)\n",
    "            self.generic_visit(node)\n",
    "        \n",
    "    visitor = VariableVisitor()\n",
    "    visitor.visit(tree)\n",
    "\n",
    "    return(\"done\")"
   ]
  },
  {
   "cell_type": "code",
   "execution_count": 59,
   "id": "76ed412f-ea2d-4e3b-b79e-31fe7a496474",
   "metadata": {},
   "outputs": [
    {
     "name": "stdout",
     "output_type": "stream",
     "text": [
      "def macro_visual(wf, a: int = 0, b: int = 0, c: int = 0):\n",
      "\n",
      "    # imports\n",
      "\n",
      "    wf.in1 = part_1(a)\n",
      "    wf.calc1 = part_4(wf.in1, b)\n",
      "    wf.calc2 = part_2(c)\n",
      "    wf.out = part_4(wf.calc1, wf.calc2)\n",
      "    \n",
      "    return wf.out\n",
      "\n",
      "<ast.Name object at 0x7f5694d37550>\n",
      "<ast.Name object at 0x7f5694ae5b10>\n",
      "<ast.Name object at 0x7f5694ae7cd0>\n",
      "<ast.Name object at 0x7f5694ae7c90>\n",
      "<ast.Name object at 0x7f5694ae5090>\n",
      "<ast.Name object at 0x7f5694ae6310>\n",
      "<ast.Name object at 0x7f5694ae5790>\n",
      "<ast.Name object at 0x7f5694ae5850>\n",
      "<ast.Name object at 0x7f5694ae7150>\n",
      "<ast.Name object at 0x7f5694ae4f90>\n",
      "<ast.Name object at 0x7f5694ae7850>\n",
      "<ast.Name object at 0x7f5694ae63d0>\n",
      "<ast.Name object at 0x7f5694ae6a90>\n",
      "<ast.Name object at 0x7f5694ae4350>\n",
      "<ast.Name object at 0x7f5694ae6b10>\n",
      "<ast.Name object at 0x7f5694ae6e90>\n",
      "<ast.Name object at 0x7f5694ae7050>\n",
      "<ast.Name object at 0x7f5694ae74d0>\n"
     ]
    },
    {
     "data": {
      "text/plain": [
       "'done'"
      ]
     },
     "execution_count": 59,
     "metadata": {},
     "output_type": "execute_result"
    }
   ],
   "source": [
    "source = inspect.getsource(macro_visual)\n",
    "print(source)\n",
    "find_variables(macro_visual)"
   ]
  },
  {
   "cell_type": "code",
   "execution_count": null,
   "id": "29c4ec3b-dd1f-4326-8168-b2327acb2d2e",
   "metadata": {},
   "outputs": [],
   "source": [
    "\n",
    "def find_variable_usage_in_inner_functions(func, variable_name):\n",
    "    source = inspect.getsource(func)\n",
    "    tree = ast.parse(source)\n",
    "\n",
    "    class InnerFunctionVisitor(ast.NodeVisitor):\n",
    "        def __init__(self):\n",
    "            self.function_usages = {}\n",
    "\n",
    "        def visit_FunctionDef(self, node):\n",
    "            # Check if the variable is used inside this function\n",
    "            used = False\n",
    "\n",
    "            class VariableVisitor(ast.NodeVisitor):\n",
    "                def visit_Name(self, name_node):\n",
    "                    nonlocal used\n",
    "                    if name_node.id == variable_name:\n",
    "                        used = True\n",
    "                    self.generic_visit(name_node)\n",
    "\n",
    "            VariableVisitor().visit(node)\n",
    "            if used:\n",
    "                self.function_usages[node.name] = True\n",
    "\n",
    "            self.generic_visit(node)\n",
    "\n",
    "    visitor = InnerFunctionVisitor()\n",
    "    visitor.visit(tree)\n",
    "\n",
    "    return list(visitor.function_usages.keys())"
   ]
  },
  {
   "cell_type": "code",
   "execution_count": null,
   "id": "4a4a8475-5efb-4cb6-bdd0-8525eb48b7b9",
   "metadata": {},
   "outputs": [],
   "source": [
    "for n in wf.macro:\n",
    "    for m in n.inputs:\n",
    "        print(m)"
   ]
  },
  {
   "cell_type": "code",
   "execution_count": null,
   "id": "4fc2d80c-c6ef-4092-9357-8255cfc38a2e",
   "metadata": {},
   "outputs": [],
   "source": []
  }
 ],
 "metadata": {
  "kernelspec": {
   "display_name": "Python 3 (ipykernel)",
   "language": "python",
   "name": "python3"
  },
  "language_info": {
   "codemirror_mode": {
    "name": "ipython",
    "version": 3
   },
   "file_extension": ".py",
   "mimetype": "text/x-python",
   "name": "python",
   "nbconvert_exporter": "python",
   "pygments_lexer": "ipython3",
   "version": "3.12.8"
  }
 },
 "nbformat": 4,
 "nbformat_minor": 5
}
