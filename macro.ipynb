{
 "cells": [
  {
   "cell_type": "code",
   "execution_count": 1,
   "id": "eb0aa727-e2dc-4a8c-8292-d6bb89902ce4",
   "metadata": {},
   "outputs": [],
   "source": [
    "#!npm install react react-dom @xyflow/react @anywidget/react"
   ]
  },
  {
   "cell_type": "code",
   "execution_count": 2,
   "id": "66499951-9d31-4fcd-887d-7da107b3eb0d",
   "metadata": {},
   "outputs": [],
   "source": [
    "import sys\n",
    "from pathlib import Path\n",
    "\n",
    "sys.path.insert(0, str(Path(Path.cwd())))"
   ]
  },
  {
   "cell_type": "code",
   "execution_count": 3,
   "id": "7d355915-2623-4f74-9463-df1b9fd7ce3c",
   "metadata": {},
   "outputs": [
    {
     "name": "stdout",
     "output_type": "stream",
     "text": [
      "\u001b[1G\u001b[0K⠙\u001b[1G\u001b[0K\n",
      "  \u001b[37mpyironflow/static/\u001b[0m\u001b[1mwidget.js\u001b[0m    \u001b[33m1.7mb ⚠️\u001b[0m\n",
      "  \u001b[37mpyironflow/static/\u001b[0m\u001b[1mwidget.css\u001b[0m  \u001b[36m15.1kb\u001b[0m\n",
      "\n",
      "⚡ \u001b[32mDone in 343ms\u001b[0m\n",
      "\u001b[1G\u001b[0K⠙\u001b[1G\u001b[0K"
     ]
    }
   ],
   "source": [
    "!npx esbuild js/widget.jsx --minify --format=esm --bundle --outdir=pyironflow/static"
   ]
  },
  {
   "cell_type": "code",
   "execution_count": 4,
   "id": "e75867cf-6c3e-4ae0-ab40-f07e1b3b2c06",
   "metadata": {},
   "outputs": [
    {
     "name": "stderr",
     "output_type": "stream",
     "text": [
      "/home/jmittler/miniconda3/envs/pyironflow-forge/lib/python3.12/site-packages/numpy/_core/getlimits.py:551: UserWarning: Signature b'\\x00\\xd0\\xcc\\xcc\\xcc\\xcc\\xcc\\xcc\\xfb\\xbf\\x00\\x00\\x00\\x00\\x00\\x00' for <class 'numpy.longdouble'> does not match any known type: falling back to type probe function.\n",
      "This warnings indicates broken support for the dtype!\n",
      "  machar = _get_machar(dtype)\n"
     ]
    }
   ],
   "source": [
    "from pyiron_workflow import Workflow\n",
    "from typing import Optional\n",
    "from pyironflow.pyironflow import PyironFlow\n",
    "from pyironflow.macro import get_node_instance_type\n",
    "\n",
    "from pyiron_workflow import Workflow\n",
    "from pyiron_workflow.channels import NotData\n",
    "from pyironflow.themes import get_color\n",
    "from pyironflow.macro import get_node_instance_type\n",
    "from pyironflow.wf_extensions import get_import_path, create_macro\n",
    "\n",
    "import anywidget\n",
    "import pathlib\n",
    "import traitlets\n",
    "import os\n",
    "import json\n",
    "import importlib\n",
    "import typing"
   ]
  },
  {
   "cell_type": "code",
   "execution_count": 5,
   "id": "6651345a-4431-4f5e-809e-8e2e5c6a20ea",
   "metadata": {},
   "outputs": [],
   "source": [
    "wf = Workflow('lammps_macro')"
   ]
  },
  {
   "cell_type": "code",
   "execution_count": 6,
   "id": "39bcade2-fe5a-4220-a4ba-610e3ed822f1",
   "metadata": {},
   "outputs": [],
   "source": [
    "from pyiron_workflow import as_function_node\n",
    "import typing\n",
    "from typing import Optional\n",
    "\n",
    "@as_function_node()\n",
    "def add_1(a: Optional[float | int] = None):\n",
    "    return a+1"
   ]
  },
  {
   "cell_type": "code",
   "execution_count": 7,
   "id": "79bb3269-8004-4ca0-af4a-1be2204d2504",
   "metadata": {},
   "outputs": [],
   "source": [
    "from pyiron_workflow import as_function_node, as_macro_node\n",
    "import typing\n",
    "from typing import Optional\n",
    "\n",
    "@as_function_node()\n",
    "def part_1(a: Optional[float | int] = 0):\n",
    "    return a+1\n",
    "\n",
    "@as_function_node()\n",
    "def part_2(a: Optional[float | int] = 0):\n",
    "    return a+2\n",
    "\n",
    "@as_function_node()\n",
    "def part_3(a: Optional[float | int] = 0):\n",
    "    return a+3\n",
    "\n",
    "@as_function_node()\n",
    "def part_4(a: Optional[float | int] = 0, b: Optional[float | int] = 0):\n",
    "    return a+b\n",
    "\n",
    "@as_macro_node()\n",
    "def macro_add(wf, a: int = 0):\n",
    "\n",
    "    # imports\n",
    "\n",
    "    wf.one = part_1(a)\n",
    "    wf.two = part_2(wf.one)\n",
    "    wf.three = part_3(wf.two)\n",
    "    \n",
    "    return wf.three\n",
    "\n",
    "@as_macro_node()\n",
    "def macro_addmore(wf, a: int = 0, b: int = 0):\n",
    "\n",
    "    # imports\n",
    "\n",
    "    wf.in1 = part_1(a)\n",
    "    wf.in2 = part_2(b)\n",
    "    wf.out = part_4(wf.in1, wf.in2)\n",
    "    \n",
    "    return wf.out\n",
    "    \n",
    "\n",
    "\n",
    "wf.add1 = add_1()\n",
    "wf.add2 = add_1(wf.add1)\n",
    "wf.add3 = add_1()\n",
    "\n",
    "wf.macro1 = macro_addmore(wf.add2,wf.add3)\n",
    "wf.macro2 = macro_add(wf.macro1)\n",
    "\n",
    "\n",
    "\n",
    "\n",
    "\n"
   ]
  },
  {
   "cell_type": "code",
   "execution_count": 10,
   "id": "d9e5f2d1-d865-4237-a69a-9ee6dc1378f1",
   "metadata": {},
   "outputs": [
    {
     "name": "stdout",
     "output_type": "stream",
     "text": [
      "0\n",
      "0\n",
      "0 /lammps_macro/macro2/one.a+1 /lammps_macro/macro2/two.a\n",
      "1 /lammps_macro/macro2/two.a+2 /lammps_macro/macro2/three.a\n"
     ]
    },
    {
     "data": {
      "application/vnd.jupyter.widget-view+json": {
       "model_id": "7a886901d750436fa2ecd1e6bcf570f6",
       "version_major": 2,
       "version_minor": 0
      },
      "text/plain": [
       "HBox(children=(Accordion(children=(Tree(nodes=(Node(icon_style='warning', name='atomistic'), Node(icon_style='…"
      ]
     },
     "execution_count": 10,
     "metadata": {},
     "output_type": "execute_result"
    }
   ],
   "source": [
    "pf = PyironFlow([wf])\n",
    "pf.gui"
   ]
  },
  {
   "cell_type": "code",
   "execution_count": null,
   "id": "f749f157-8878-4010-8f3f-f5e327d342cc",
   "metadata": {},
   "outputs": [],
   "source": [
    "pf.get_workflow()\n",
    "[['add1', 'add3'], ['add2', 'macro1'], ['macro1', 'macro2'], ['macro2'], []]"
   ]
  },
  {
   "cell_type": "code",
   "execution_count": null,
   "id": "fd30311a-7236-4662-8e2b-3ab864dc5088",
   "metadata": {},
   "outputs": [],
   "source": [
    "list(wf.macro1.inputs.channel_dict.keys())"
   ]
  },
  {
   "cell_type": "code",
   "execution_count": null,
   "id": "890ebf19-b835-4e93-8e18-bb56eed952b3",
   "metadata": {},
   "outputs": [],
   "source": [
    "for target in wf.macro1.outputs.channel_dict.keys():\n",
    "    print(target)"
   ]
  },
  {
   "cell_type": "code",
   "execution_count": null,
   "id": "5a0cf199-f2ee-41ac-b4f1-557980386231",
   "metadata": {},
   "outputs": [],
   "source": [
    "for target in wf.macro1.outputs.channel_dict.keys():\n",
    "    print(target)"
   ]
  },
  {
   "cell_type": "code",
   "execution_count": null,
   "id": "d6df8c63-90c7-494c-849d-5b332ac64576",
   "metadata": {},
   "outputs": [],
   "source": [
    "from pyiron_nodes.custom_macro import custom_macro"
   ]
  },
  {
   "cell_type": "code",
   "execution_count": null,
   "id": "df720ecf-737f-4163-9e77-344d5ab630e6",
   "metadata": {},
   "outputs": [],
   "source": [
    "    for i, (k, v) in enumerate(wf.children.items()):\n",
    "        for ic, (out, inp) in enumerate(v.graph_as_dict['edges']['data']):\n",
    "            print(ic, out, inp)\n",
    "            last = max(len(out.split('/')) -1, 0) \n",
    "            out_node, out_port = out.split('/')[last].split('.')\n",
    "            inp_node, inp_port = inp.split('/')[last].split('.')"
   ]
  },
  {
   "cell_type": "code",
   "execution_count": null,
   "id": "a6bc6d4d-ee28-4812-9021-3485b7bbe109",
   "metadata": {},
   "outputs": [],
   "source": [
    "for i, (k, v) in enumerate(wf.children.items()):\n",
    "    print(v.graph_as_dict)"
   ]
  },
  {
   "cell_type": "code",
   "execution_count": null,
   "id": "7d841d02-ece5-4421-929d-01b67a9ef7af",
   "metadata": {},
   "outputs": [],
   "source": [
    "for i, (k, v) in enumerate(wf.children.items()):\n",
    "    print(v)"
   ]
  },
  {
   "cell_type": "code",
   "execution_count": null,
   "id": "15fa7eb8-f92b-4523-9d84-61b092ee2a03",
   "metadata": {},
   "outputs": [],
   "source": [
    "json.loads(pf.wf_widgets[0].gui.nodes)"
   ]
  },
  {
   "cell_type": "code",
   "execution_count": null,
   "id": "7d9a0324-f84a-4442-90f2-c1e23c83326b",
   "metadata": {},
   "outputs": [],
   "source": [
    "json.loads(pf.wf_widgets[0].gui.edges)"
   ]
  },
  {
   "cell_type": "code",
   "execution_count": null,
   "id": "d98a72a2-2af6-434d-9480-f51ec65493ee",
   "metadata": {},
   "outputs": [],
   "source": [
    "wf.plus1 = part_1()\n",
    "wf.plus2 = part_2()\n",
    "wf.plus3 = part_3()"
   ]
  },
  {
   "cell_type": "code",
   "execution_count": null,
   "id": "20a4cfa1-296d-4412-8932-8aa0381c917b",
   "metadata": {},
   "outputs": [],
   "source": [
    "wf.add5 = add_1()"
   ]
  },
  {
   "cell_type": "code",
   "execution_count": null,
   "id": "9ef232ae-39b6-400e-a35b-9f5f0e655ec1",
   "metadata": {},
   "outputs": [],
   "source": [
    "wf.macro2 = macro_add(wf.macro1)"
   ]
  },
  {
   "cell_type": "code",
   "execution_count": null,
   "id": "5b7957fc-e4e0-4d9d-8b3b-336a29aa8c95",
   "metadata": {},
   "outputs": [],
   "source": [
    "wf.macro3 = custom_macro()"
   ]
  },
  {
   "cell_type": "code",
   "execution_count": null,
   "id": "b304d2cf-a269-4178-800d-148762e2f7d6",
   "metadata": {},
   "outputs": [],
   "source": [
    "pf.wf_widgets[0].update()"
   ]
  },
  {
   "cell_type": "code",
   "execution_count": null,
   "id": "0a234465-5e7a-481a-b070-9ceb5e21fd28",
   "metadata": {},
   "outputs": [],
   "source": [
    "json.loads(pf.wf_widgets[0].gui.nodes)"
   ]
  },
  {
   "cell_type": "code",
   "execution_count": null,
   "id": "3c589a0f-065e-4bb4-80fe-40221b457526",
   "metadata": {},
   "outputs": [],
   "source": [
    "@as_macro_node()\n",
    "def macro_ception(wf, a: int = 0, b: int = 0):\n",
    "\n",
    "    # imports\n",
    "\n",
    "    #wf.one = part_1(a)\n",
    "    #wf.two = part_2(b)\n",
    "    wf.macro_inner = macro_addmore(a,b)\n",
    "    wf.add_out = part_1(wf.macro_inner)\n",
    "    \n",
    "    return wf.add_out\n"
   ]
  },
  {
   "cell_type": "code",
   "execution_count": null,
   "id": "fd50bb09-1d5d-41c4-b52f-a24f9fc1a51c",
   "metadata": {},
   "outputs": [],
   "source": [
    "wf2 = Workflow('macro_in_macro')\n",
    "\n",
    "wf2.macro1 = macro_ception()\n",
    "\n",
    "pf2 = PyironFlow([wf2])\n",
    "pf2.gui"
   ]
  },
  {
   "cell_type": "code",
   "execution_count": null,
   "id": "50e47622-723f-4b4b-8d72-36e09eb9fe00",
   "metadata": {},
   "outputs": [],
   "source": [
    "json.loads(pf.wf_widgets[0].gui.nodes)"
   ]
  },
  {
   "cell_type": "code",
   "execution_count": null,
   "id": "8747dad9-2c66-4331-bca9-2e4b29d7b1e9",
   "metadata": {},
   "outputs": [],
   "source": [
    "pf.wf_widgets[0].wf"
   ]
  },
  {
   "cell_type": "code",
   "execution_count": null,
   "id": "bb60e0ea-f8a1-4f96-9cb5-9fd59751dfe1",
   "metadata": {
    "scrolled": true
   },
   "outputs": [],
   "source": [
    "pf.wf_widgets[0].update()"
   ]
  },
  {
   "cell_type": "code",
   "execution_count": null,
   "id": "d41f125a-9119-4306-9b52-b1550390b31f",
   "metadata": {},
   "outputs": [],
   "source": [
    "pf.wf_widgets[0].wf.add2 = add_1()"
   ]
  },
  {
   "cell_type": "code",
   "execution_count": null,
   "id": "62dd73fb-8576-4ee2-a805-5a20fe6e9c38",
   "metadata": {},
   "outputs": [],
   "source": [
    "wf.add1 = add_1()"
   ]
  },
  {
   "cell_type": "code",
   "execution_count": null,
   "id": "563f6fdb-e2b3-4ec6-b20d-13746aadb695",
   "metadata": {},
   "outputs": [],
   "source": [
    "wf.add2 = add_1()"
   ]
  },
  {
   "cell_type": "code",
   "execution_count": null,
   "id": "1c073009-8005-41f4-bee1-b06a788eaffd",
   "metadata": {},
   "outputs": [],
   "source": [
    "pf.wf_widgets[0].add_node(add_1, \"add1\")"
   ]
  },
  {
   "cell_type": "code",
   "execution_count": null,
   "id": "1dd681d5-1853-48b1-b7eb-cb5eb2bf2b68",
   "metadata": {},
   "outputs": [],
   "source": [
    "pf.wf_widgets[0].gui.edges"
   ]
  },
  {
   "cell_type": "code",
   "execution_count": null,
   "id": "7af0a892-b76a-46f4-a505-841d6964b487",
   "metadata": {},
   "outputs": [],
   "source": [
    "get_node_instance_type(wf.add1)"
   ]
  },
  {
   "cell_type": "code",
   "execution_count": null,
   "id": "9960f0a7-fa79-458c-a22e-b6b16ed3f277",
   "metadata": {},
   "outputs": [],
   "source": [
    "get_edges(wf)"
   ]
  },
  {
   "cell_type": "code",
   "execution_count": null,
   "id": "447d5b64-efd6-40c3-b3b1-9e480fdb508b",
   "metadata": {},
   "outputs": [],
   "source": [
    "for ic, (out, inp) in enumerate(wf.add1.graph_as_dict['edges']['data']):\n",
    "    print(ic, out, inp)\n",
    "    last = max(len(out.split('/')) -1, 0) \n",
    "    out_node, out_port = out.split('/')[last].split('.')\n",
    "    print(out_node, out_port)"
   ]
  },
  {
   "cell_type": "code",
   "execution_count": null,
   "id": "e2577d26-c2f5-48f4-85ff-87b3b7dc8a8a",
   "metadata": {},
   "outputs": [],
   "source": [
    "for i, (k, v) in enumerate(wf.children.items()):\n",
    "    print(k)"
   ]
  },
  {
   "cell_type": "code",
   "execution_count": null,
   "id": "b673ee5b-165e-408f-bf9c-2422fcc43014",
   "metadata": {},
   "outputs": [],
   "source": [
    "def get_edges(wf):\n",
    "    edges = []\n",
    "    for ic, (out, inp) in enumerate(wf.graph_as_dict[\"edges\"][\"data\"].keys()):\n",
    "        out_node, out_port = out.split('/')[2].split('.')\n",
    "        inp_node, inp_port = inp.split('/')[2].split('.')\n",
    "\n",
    "        edge_dict = dict()\n",
    "        edge_dict[\"source\"] = out_node\n",
    "        edge_dict[\"sourceHandle\"] = out_port\n",
    "        edge_dict[\"target\"] = inp_node\n",
    "        edge_dict[\"targetHandle\"] = inp_port\n",
    "        edge_dict[\"id\"] = ic\n",
    "        edge_dict[\"style\"] = {'strokeWidth': 2, 'stroke': 'black',}\n",
    "\n",
    "        edges.append(edge_dict)\n",
    "    return edges\n"
   ]
  },
  {
   "cell_type": "code",
   "execution_count": null,
   "id": "f7348ec5-1613-4bc4-acce-52550379b6ad",
   "metadata": {},
   "outputs": [],
   "source": [
    "get_edges(wf)"
   ]
  },
  {
   "cell_type": "code",
   "execution_count": null,
   "id": "087bf016-210c-4a15-9ff5-489c88ea9fd5",
   "metadata": {},
   "outputs": [],
   "source": [
    "edges = []\n",
    "for i, (k, v) in enumerate(wf.children.items()):\n",
    "    #print(v)\n",
    "    #print(get_node_instance_type(v))\n",
    "    if (get_node_instance_type(v) == 'macro'):\n",
    "        for ic, (out, inp) in enumerate(v.graph_as_dict['edges']['data']):\n",
    "            print(ic, out, inp)\n",
    "            last = max(len(out.split('/')) -1, 0) \n",
    "            out_node, out_port = out.split('/')[last].split('.')\n",
    "            inp_node, inp_port = inp.split('/')[last].split('.')\n",
    "                \n",
    "            edge_dict = dict()\n",
    "            edge_dict[\"source\"] = out_node\n",
    "            edge_dict[\"sourceHandle\"] = out_port\n",
    "            edge_dict[\"target\"] = inp_node\n",
    "            edge_dict[\"targetHandle\"] = inp_port\n",
    "            edge_dict[\"id\"] = ic\n",
    "            edge_dict[\"style\"] = {'strokeWidth': 2, 'stroke': 'black',}\n",
    "    \n",
    "            edges.append(edge_dict)\n",
    "print(edges)"
   ]
  },
  {
   "cell_type": "code",
   "execution_count": null,
   "id": "1b34d6b5-3368-42e5-8da8-5f36f8d31752",
   "metadata": {},
   "outputs": [],
   "source": [
    "for ic in enumerate(wf.graph_as_dict):\n",
    "    print(ic)"
   ]
  },
  {
   "cell_type": "code",
   "execution_count": null,
   "id": "710ee23c-5e2b-4c25-8d34-e529182e0dd2",
   "metadata": {},
   "outputs": [],
   "source": [
    "pf.wf_widgets[0].gui.edges"
   ]
  },
  {
   "cell_type": "code",
   "execution_count": null,
   "id": "88a27b84-970c-414b-8e73-3aee176e905f",
   "metadata": {},
   "outputs": [],
   "source": [
    "pf.wf_widgets[0].gui.nodes = '[{\"id\":\"add\",\"data\":{\"label\":\"add\"},\"position\":{\"x\":0,\"y\":100},\"type\":\"group\",\"style\":{\"border\":\"1px black solid\",\"padding\":5,\"background\":\"#a2ea9f\",\"borderRadius\":\"10px\",\"width\":\"240px\"},\"measured\":{\"width\":240,\"height\":12}},{\"id\":\"add2\",\"data\":{\"label\":\"add2\"},\"position\":{\"x\":0,\"y\":100},\"type\":\"custom_node\", parentId: \"add\", extent: \"parent\", \"style\":{\"border\":\"1px black solid\",\"padding\":5,\"background\":\"#a2ea9f\",\"borderRadius\":\"10px\",\"width\":\"240px\"},\"measured\":{\"width\":240,\"height\":12}}]'"
   ]
  },
  {
   "cell_type": "code",
   "execution_count": null,
   "id": "d88e5acd-ef69-4476-ac67-e55710d6783f",
   "metadata": {},
   "outputs": [],
   "source": [
    "wf.macro = macro_add()"
   ]
  },
  {
   "cell_type": "code",
   "execution_count": null,
   "id": "9352eb61-3cb1-4495-947d-f7e5b53d84c3",
   "metadata": {},
   "outputs": [],
   "source": [
    "\n",
    "\n",
    "flow_widget.add_node(str(path_str), node.path.name)\n"
   ]
  },
  {
   "cell_type": "code",
   "execution_count": null,
   "id": "094ea54f-7e64-42ab-bfd3-13a8ec1c2e80",
   "metadata": {},
   "outputs": [],
   "source": [
    "\n",
    "\n",
    "\n",
    "\n",
    "\n",
    "\n",
    "\n",
    "\n",
    "\n",
    "\n",
    "\n",
    "\n",
    "\n",
    "\n",
    "\n",
    "\n",
    "\n",
    "\n",
    "\n",
    "\n",
    "\n",
    "\n",
    "\n",
    "\n",
    "\n",
    "\n",
    "\n",
    "\n",
    "\n",
    "\n",
    "\n",
    "\n",
    "\n",
    "\n",
    "\n",
    "\n"
   ]
  },
  {
   "cell_type": "code",
   "execution_count": null,
   "id": "b93356dd-e461-4e67-905b-83e136b06821",
   "metadata": {},
   "outputs": [],
   "source": [
    "from pyiron_workflow import as_function_node\n",
    "import typing\n",
    "from typing import Optional\n",
    "\n",
    "@as_function_node()\n",
    "def add_1(a: Optional[float | int] = None):\n",
    "    return a+1"
   ]
  },
  {
   "cell_type": "code",
   "execution_count": null,
   "id": "7401f5a3-f801-4e45-8789-e0b1ed061e71",
   "metadata": {},
   "outputs": [],
   "source": [
    "wf.add1 = add_1()"
   ]
  },
  {
   "cell_type": "code",
   "execution_count": null,
   "id": "f3130fef-60e7-468d-941a-9b293f68e4df",
   "metadata": {},
   "outputs": [],
   "source": [
    "pf.wf_widgets[0].wf.add1 = add_1()"
   ]
  },
  {
   "cell_type": "code",
   "execution_count": null,
   "id": "11939cb6-d79c-4379-a2d2-3a8bd2347160",
   "metadata": {},
   "outputs": [],
   "source": [
    "wf.add2 = add_1()"
   ]
  },
  {
   "cell_type": "code",
   "execution_count": null,
   "id": "5d442713-dccd-41b6-ad2f-119c1b7fb53c",
   "metadata": {},
   "outputs": [],
   "source": [
    "len(list(wf.macro))"
   ]
  },
  {
   "cell_type": "code",
   "execution_count": null,
   "id": "f7b1ba37-0de5-40a5-a274-d5dd6b694af3",
   "metadata": {},
   "outputs": [],
   "source": [
    "wf"
   ]
  },
  {
   "cell_type": "code",
   "execution_count": null,
   "id": "ca003fa2-035f-4782-81f4-765db514d638",
   "metadata": {},
   "outputs": [],
   "source": [
    "list(wf.macro)[0]"
   ]
  },
  {
   "cell_type": "code",
   "execution_count": null,
   "id": "019f93f4-42ac-456d-a20c-1c196602ea0f",
   "metadata": {},
   "outputs": [],
   "source": [
    "import json\n",
    "\n",
    "nodes = \"[{'id': '1','data': { 'label': 'Hello' },'position': { 'x': 0, 'y': 0 },},]\"\n",
    "\n",
    "nodes_json = json.dumps(nodes)\n",
    "wf.nodes = nodes_json"
   ]
  },
  {
   "cell_type": "code",
   "execution_count": null,
   "id": "8e1e9c0f-8df5-4314-a370-7b537ec85e79",
   "metadata": {},
   "outputs": [],
   "source": [
    "wf"
   ]
  },
  {
   "cell_type": "code",
   "execution_count": null,
   "id": "8869c880-b4ff-421e-8a7e-8fe754ff7bfd",
   "metadata": {},
   "outputs": [],
   "source": [
    "    {\n",
    "      'id': '1-a',\n",
    "      'data': { 'label': 'message' },\n",
    "      'position': { 'x': 250, 'y': 100 },\n",
    "      'type': 'output',\n",
    "      'parentId': '1',\n",
    "      'extent': 'parent',\n",
    "      'targetPosition': 'left',      \n",
    "    },\n",
    "    {\n",
    "      'id': '1-b',\n",
    "      'data': { 'label': 'Child Node 1' },\n",
    "      'position': { 'x': 0, 'y': 100 },\n",
    "      'type': 'input',\n",
    "      'parentId': '1',\n",
    "      'extent': 'parent',\n",
    "      'targetPosition': 'left',  \n",
    "    },"
   ]
  },
  {
   "cell_type": "code",
   "execution_count": null,
   "id": "a8786f1a-d583-42f6-a3b1-79a56dfea199",
   "metadata": {},
   "outputs": [],
   "source": [
    "Macro into default node\n",
    "\n",
    "internal nodes\n",
    "\n",
    "hidden button\n",
    "\n",
    "connection validation"
   ]
  },
  {
   "cell_type": "code",
   "execution_count": null,
   "id": "0407dab0-3471-49a6-b4c9-867ca9225db4",
   "metadata": {},
   "outputs": [],
   "source": [
    "no interactivity with expanded macro"
   ]
  },
  {
   "cell_type": "code",
   "execution_count": null,
   "id": "83ce6267-b2a1-4419-9e4a-42c95359e241",
   "metadata": {},
   "outputs": [],
   "source": [
    "wf = pf.get_workflow()"
   ]
  },
  {
   "cell_type": "code",
   "execution_count": null,
   "id": "d5c54fbd-1a9f-47cf-87c5-1203346694ba",
   "metadata": {},
   "outputs": [],
   "source": [
    "import anywidget\n",
    "import pathlib\n",
    "import traitlets\n",
    "import os\n",
    "import json\n",
    "import importlib\n",
    "import typing\n",
    "\n",
    "def dict_to_node(dict_node):\n",
    "\n",
    "    print(dict_node['type'])\n",
    "    data = dict_node['data']\n",
    "    node = get_node_from_path(data['import_path'])(label=dict_node['id'])\n",
    "    if 'position' in dict_node:\n",
    "        x, y = dict_node['position'].values()\n",
    "        node.position = (x, y)\n",
    "        # print('position exists: ', node.label, node.position)\n",
    "    else:\n",
    "        print('no position: ', node.label)\n",
    "    if 'target_values' in data:\n",
    "        target_values = data['target_values']\n",
    "        target_labels = data['target_labels']\n",
    "        for k, v in zip(target_labels, target_values):\n",
    "            if v not in ('NonPrimitive', 'NotData'):\n",
    "                node.inputs[k] = v\n",
    "\n",
    "    return node"
   ]
  },
  {
   "cell_type": "code",
   "execution_count": null,
   "id": "e1eedd66-8e82-4375-b0ec-5522e504ec2c",
   "metadata": {},
   "outputs": [],
   "source": [
    "dict_edges = json.loads(pf.wf_widgets[0].gui.edges)"
   ]
  },
  {
   "cell_type": "code",
   "execution_count": null,
   "id": "bcb97cd9-7bae-42a2-8cb8-0b70f9e25a1f",
   "metadata": {},
   "outputs": [],
   "source": [
    "dict_edges"
   ]
  },
  {
   "cell_type": "code",
   "execution_count": null,
   "id": "6d66a59c-1de4-4d0a-bc1c-6813aa7da823",
   "metadata": {},
   "outputs": [],
   "source": [
    "for dict_edge in dict_edges:\n",
    "    if 'type' in dict_edge:\n",
    "        if (dict_edge['type'] != 'macroSubEdge'):\n",
    "            print(dict_edge['type'])"
   ]
  },
  {
   "cell_type": "code",
   "execution_count": null,
   "id": "c8113c1b-3858-441b-bb79-9acf60b46448",
   "metadata": {},
   "outputs": [],
   "source": [
    "fruits = ['apple', 'banana', 'cherry']\n",
    "\n",
    "fruits.count(\"chry\")"
   ]
  },
  {
   "cell_type": "code",
   "execution_count": null,
   "id": "640d0452-debf-4750-8590-c8b8fccf4aa6",
   "metadata": {},
   "outputs": [],
   "source": [
    "json.loads(pf.wf_widgets[0].gui.nodes)"
   ]
  },
  {
   "cell_type": "code",
   "execution_count": null,
   "id": "3876ef7e-090e-4f73-aa26-09e091cfab06",
   "metadata": {},
   "outputs": [],
   "source": [
    "[{'source': 'add1',\n",
    "  'sourceHandle': 'a+1',\n",
    "  'target': 'add2',\n",
    "  'targetHandle': 'a',\n",
    "  'id': 'add1__add2__a',\n",
    "  'style': {'strokeWidth': 2, 'stroke': 'black'}},\n",
    " {'source': 'add2',\n",
    "  'sourceHandle': 'a+1',\n",
    "  'target': 'macro1',\n",
    "  'targetHandle': 'a',\n",
    "  'id': 'add2__macro1__a',\n",
    "  'style': {'strokeWidth': 2, 'stroke': 'black'}},\n",
    " {'source': 'add3',\n",
    "  'sourceHandle': 'a+1',\n",
    "  'target': 'macro1',\n",
    "  'targetHandle': 'b',\n",
    "  'id': 'add3__macro1__b',\n",
    "  'style': {'strokeWidth': 2, 'stroke': 'black'}},\n",
    " {'source': 'macro1',\n",
    "  'sourceHandle': 'out',\n",
    "  'target': 'macro2',\n",
    "  'targetHandle': 'a',\n",
    "  'id': 'macro1__macro2__a',\n",
    "  'style': {'strokeWidth': 2, 'stroke': 'black'}},\n",
    " {'source': 'in1',\n",
    "  'sourceHandle': 'a+1',\n",
    "  'target': 'out',\n",
    "  'targetHandle': 'a',\n",
    "  'id': 'in1__out__a',\n",
    "  'type': 'macroSubEdge',\n",
    "  'parent': 'macro1',\n",
    "  'style': {'strokeWidth': 2, 'stroke': 'black'}},\n",
    " {'source': 'in2',\n",
    "  'sourceHandle': 'a+2',\n",
    "  'target': 'out',\n",
    "  'targetHandle': 'b',\n",
    "  'id': 'in2__out__b',\n",
    "  'type': 'macroSubEdge',\n",
    "  'parent': 'macro1',\n",
    "  'style': {'strokeWidth': 2, 'stroke': 'black'}},\n",
    " {'source': 'macro1_a',\n",
    "  'sourceHandle': 'a',\n",
    "  'target': 'in1',\n",
    "  'targetHandle': 'a',\n",
    "  'id': 'a__in1__a',\n",
    "  'type': 'macroSubEdge',\n",
    "  'parent': 'macro1',\n",
    "  'style': {'strokeWidth': 2, 'stroke': 'black'}},\n",
    "]"
   ]
  },
  {
   "cell_type": "code",
   "execution_count": null,
   "id": "9ca8cfba-19e1-48b9-98f6-9c9858101c4a",
   "metadata": {},
   "outputs": [],
   "source": [
    "\n",
    "\n",
    " {'source': 'macro1_b',\n",
    "  'sourceHandle': 'a+2',\n",
    "  'target': 'out',\n",
    "  'targetHandle': 'b',\n",
    "  'id': 'in2__out__b',\n",
    "  'type': 'macroSubEdge',\n",
    "  'parent': 'macro1',\n",
    "  'style': {'strokeWidth': 2, 'stroke': 'black'}},\n",
    "\n",
    "\n",
    " {'source': 'in2',\n",
    "  'sourceHandle': 'a+2',\n",
    "  'target': 'macro1_out',\n",
    "  'targetHandle': 'b',\n",
    "  'id': 'in2__out__b',\n",
    "  'type': 'macroSubEdge',\n",
    "  'parent': 'macro1',\n",
    "  'style': {'strokeWidth': 2, 'stroke': 'black'}},\n"
   ]
  },
  {
   "cell_type": "code",
   "execution_count": null,
   "id": "9290ce57-5011-4f2c-b99b-747ecb922647",
   "metadata": {},
   "outputs": [],
   "source": [
    "pf.wf_widgets[0].gui.edges = \"[{'source': 'add1','sourceHandle': 'a+1','target': 'add2','targetHandle': 'a','id': 'add1__add2__a','style': {'strokeWidth': 2, 'stroke': 'black'}},{'source': 'add2','sourceHandle': 'a+1','target': 'macro1','targetHandle': 'a','id': 'add2__macro1__a','style': {'strokeWidth': 2, 'stroke': 'black'}},{'source': 'add3','sourceHandle': 'a+1','target': 'macro1','targetHandle': 'b', 'id': 'add3__macro1__b','style': {'strokeWidth': 2, 'stroke': 'black'}},{'source': 'macro1','sourceHandle': 'out','target': 'macro2','targetHandle': 'a','id': 'macro1__macro2__a','style': {'strokeWidth': 2, 'stroke': 'black'}},{'source': 'in1','sourceHandle': 'a+1','target': 'out','targetHandle': 'a','id': 'in1__out__a','type': 'macroSubEdge','parent': 'macro1','style': {'strokeWidth': 2, 'stroke': 'black'}},{'source': 'in2','sourceHandle': 'a+2','target': 'out','targetHandle': 'b','id': 'in2__out__b','type': 'macroSubEdge','parent': 'macro1','style': {'strokeWidth': 2, 'stroke': 'black'}},{'source': 'macro1_a','sourceHandle': 'a','target': 'in1','targetHandle': 'a','id': 'a__in1__a','type': 'macroSubEdge','parent': 'macro1','style': {'strokeWidth': 2, 'stroke': 'black'}},]\""
   ]
  },
  {
   "cell_type": "code",
   "execution_count": null,
   "id": "b663f4f8-0e87-490e-9d98-eb2a482e7e45",
   "metadata": {},
   "outputs": [],
   "source": [
    "index, in, out"
   ]
  },
  {
   "cell_type": "code",
   "execution_count": null,
   "id": "0f54f88c-349b-4351-b35c-e9b1a94ca9f5",
   "metadata": {},
   "outputs": [],
   "source": [
    "def buildTree\n",
    "    "
   ]
  },
  {
   "cell_type": "code",
   "execution_count": null,
   "id": "7a325666-fad2-45c4-a68c-8784994c07b6",
   "metadata": {},
   "outputs": [],
   "source": [
    "a = []"
   ]
  },
  {
   "cell_type": "code",
   "execution_count": null,
   "id": "407047f4-2ccf-40b8-9c24-465acda0ddf1",
   "metadata": {},
   "outputs": [],
   "source": [
    "a.append()"
   ]
  },
  {
   "cell_type": "code",
   "execution_count": null,
   "id": "e8d1faff-275a-4c25-bf68-65889d7b651b",
   "metadata": {},
   "outputs": [],
   "source": [
    "list\n",
    "\n",
    "for each node\n",
    "    if in == 0\n",
    "        start.append(node)\n",
    "list.append(start)\n",
    "\n",
    "while list[i] <= len(list)-1\n",
    "    for each in list\n",
    "        if out != 0\n",
    "            next.append(out)\n",
    "    if next != []\n",
    "            list.appemnd(next)\n",
    "    \n"
   ]
  },
  {
   "cell_type": "code",
   "execution_count": null,
   "id": "1f14d337-0041-4d4a-832f-2f476be48af7",
   "metadata": {},
   "outputs": [],
   "source": [
    "list = [\"a\", \"b\"]"
   ]
  },
  {
   "cell_type": "code",
   "execution_count": null,
   "id": "3187075c-671b-4aa7-92cf-dbc13eb4289e",
   "metadata": {},
   "outputs": [],
   "source": [
    "len(list)"
   ]
  },
  {
   "cell_type": "code",
   "execution_count": 10,
   "id": "ff8630a0-afe1-43a3-8fa9-71c196bfda3d",
   "metadata": {},
   "outputs": [
    {
     "data": {
      "application/json": {
       "add1__a": {
        "connections": "[]",
        "default": "null",
        "owner": "\"/lammps_macro/add1\"",
        "strict_hints": "true",
        "type_hint": "\"typing.Union[float, int, NoneType]\"",
        "value": "null"
       },
       "add3__a": {
        "connections": "[]",
        "default": "null",
        "owner": "\"/lammps_macro/add3\"",
        "strict_hints": "true",
        "type_hint": "\"typing.Union[float, int, NoneType]\"",
        "value": "null"
       }
      },
      "text/plain": [
       "<pyiron_workflow.io.Inputs at 0x7fac753dd2b0>"
      ]
     },
     "execution_count": 10,
     "metadata": {},
     "output_type": "execute_result"
    }
   ],
   "source": [
    "wf.inputs"
   ]
  },
  {
   "cell_type": "code",
   "execution_count": null,
   "id": "feff8cf8-b385-4212-9606-fe259224bf90",
   "metadata": {},
   "outputs": [],
   "source": [
    "wf"
   ]
  },
  {
   "cell_type": "code",
   "execution_count": null,
   "id": "e09de585-c4e3-47c3-a298-b7828f0e7e7c",
   "metadata": {},
   "outputs": [],
   "source": [
    "wf.add1.a.connections"
   ]
  },
  {
   "cell_type": "code",
   "execution_count": null,
   "id": "f85a586e-2b8f-44f4-8afb-f77e01b7b82e",
   "metadata": {},
   "outputs": [],
   "source": [
    "for ding in wf:\n",
    "    print(list(ding.inputs.channel_dict.keys()))\n",
    "    \n",
    "    "
   ]
  },
  {
   "cell_type": "code",
   "execution_count": null,
   "id": "e4f213c5-041c-46a1-9328-33d1dbf0089b",
   "metadata": {},
   "outputs": [],
   "source": [
    "for ding in wf:\n",
    "    for inp in list(ding.inputs.channel_dict.keys()):\n",
    "        print(ding.inp.connections)\n",
    "    "
   ]
  },
  {
   "cell_type": "code",
   "execution_count": null,
   "id": "f1733b6b-2687-4c54-ae2d-28a11fec2c4f",
   "metadata": {},
   "outputs": [],
   "source": [
    "for i, (k, v) in enumerate(wf.children.items()):\n",
    "    print(list(v.inputs.channel_dict.keys()))\n",
    "    "
   ]
  },
  {
   "cell_type": "code",
   "execution_count": null,
   "id": "cff6c516-8bbf-42b2-929c-47fcb02d7d2b",
   "metadata": {},
   "outputs": [],
   "source": [
    "for ding.inputs in wf:\n",
    "    ding.inputs\n"
   ]
  },
  {
   "cell_type": "code",
   "execution_count": null,
   "id": "e6538c63-236d-4d3a-b9cb-81a77eb7986e",
   "metadata": {},
   "outputs": [],
   "source": [
    "dict_nodes = json.loads(pf.wf_widgets[0].gui.nodes)"
   ]
  },
  {
   "cell_type": "code",
   "execution_count": null,
   "id": "e8b36c07-dc12-4077-b5a8-14933a244053",
   "metadata": {},
   "outputs": [],
   "source": [
    "for node in dict_nodes:\n",
    "    if 'type' in dict_edge:\n",
    "        if (dict_edge['type'] != 'macroSubEdge'):\n",
    "            print(dict_edge['type'])\n",
    "\n",
    "or each node\n",
    "    if in == 0\n",
    "        start.append(node)\n",
    "list.append(start)"
   ]
  },
  {
   "cell_type": "code",
   "execution_count": null,
   "id": "8aa73f02-3947-4eab-96c8-a50c0381bc5f",
   "metadata": {},
   "outputs": [],
   "source": [
    "dict_nodes"
   ]
  },
  {
   "cell_type": "code",
   "execution_count": null,
   "id": "a6783129-da45-429c-bde0-0f41a8264106",
   "metadata": {},
   "outputs": [],
   "source": [
    "wf.graph_as_dict[\"nodes\"]"
   ]
  },
  {
   "cell_type": "code",
   "execution_count": null,
   "id": "a502f5b6-5f02-46e9-95d0-f911c305d011",
   "metadata": {},
   "outputs": [],
   "source": [
    "for each in wf:\n",
    "    print(each)"
   ]
  },
  {
   "cell_type": "code",
   "execution_count": 24,
   "id": "9a88dffc-ef99-4e0e-a076-d7dd46befa46",
   "metadata": {},
   "outputs": [
    {
     "name": "stdout",
     "output_type": "stream",
     "text": [
      "add1---add2\n",
      "add2---macro1\n",
      "add3---macro1\n",
      "macro1---macro2\n"
     ]
    },
    {
     "data": {
      "text/plain": [
       "[['add1', 'add2'],\n",
       " ['add2', 'macro1'],\n",
       " ['add3', 'macro1'],\n",
       " ['macro1', 'macro2']]"
      ]
     },
     "execution_count": 24,
     "metadata": {},
     "output_type": "execute_result"
    }
   ],
   "source": [
    "    edges = []\n",
    "    for ic, (out, inp) in enumerate(wf.graph_as_dict[\"edges\"][\"data\"].keys()):\n",
    "        out_node, out_port = out.split('/')[2].split('.')\n",
    "        inp_node, inp_port = inp.split('/')[2].split('.')\n",
    "\n",
    "        edges.append([out_node, inp_node])\n",
    "        print(out_node + \"---\" + inp_node)\n",
    "\n",
    "    edges"
   ]
  },
  {
   "cell_type": "code",
   "execution_count": 18,
   "id": "ea80757a-8dfe-483b-b139-317c154c6e2d",
   "metadata": {},
   "outputs": [
    {
     "name": "stdout",
     "output_type": "stream",
     "text": [
      "add1\n",
      "add3\n"
     ]
    }
   ],
   "source": [
    "for inp in (list(wf.inputs.channel_dict.keys())):\n",
    "    print(inp.split(\"__\")[0])"
   ]
  },
  {
   "cell_type": "code",
   "execution_count": 8,
   "id": "64ac46c7-c3d0-45f5-8dcc-cb0df8725947",
   "metadata": {},
   "outputs": [
    {
     "data": {
      "text/plain": [
       "dict_keys([('/lammps_macro/add1.a+1', '/lammps_macro/add2.a'), ('/lammps_macro/add2.a+1', '/lammps_macro/macro1.a'), ('/lammps_macro/add3.a+1', '/lammps_macro/macro1.b'), ('/lammps_macro/macro1.out', '/lammps_macro/macro2.a')])"
      ]
     },
     "execution_count": 8,
     "metadata": {},
     "output_type": "execute_result"
    }
   ],
   "source": [
    "wf.graph_as_dict[\"edges\"][\"data\"].keys()"
   ]
  },
  {
   "cell_type": "code",
   "execution_count": 30,
   "id": "d2f67d69-f74f-4b4c-a0d1-d98fbdc1cce7",
   "metadata": {},
   "outputs": [
    {
     "name": "stdout",
     "output_type": "stream",
     "text": [
      "['add1', 'add3']\n",
      "['add2', 'macro1']\n",
      "[['add1', 'add3'], ['add2', 'macro1']]\n",
      "['add2', 'macro1']\n",
      "['macro1', 'macro2']\n",
      "[['add1', 'add3'], ['add2', 'macro1'], ['macro1', 'macro2']]\n",
      "['macro1', 'macro2']\n",
      "['macro2']\n",
      "[['add1', 'add3'], ['add2', 'macro1'], ['macro1', 'macro2'], ['macro2']]\n",
      "['macro2']\n",
      "[]\n",
      "[['add1', 'add3'], ['add2', 'macro1'], ['macro1', 'macro2'], ['macro2'], []]\n"
     ]
    }
   ],
   "source": [
    "graph_list = []\n",
    "start = []\n",
    "edges = []\n",
    "\n",
    "for inp in (list(wf.inputs.channel_dict.keys())):\n",
    "    start.append(inp.split(\"__\")[0])\n",
    "\n",
    "graph_list.append(start)\n",
    "\n",
    "for ic, (out, inp) in enumerate(wf.graph_as_dict[\"edges\"][\"data\"].keys()):\n",
    "    out_node, out_port = out.split('/')[2].split('.')\n",
    "    inp_node, inp_port = inp.split('/')[2].split('.')\n",
    "\n",
    "    edges.append([out_node, inp_node])\n",
    "\n",
    "i = 0;\n",
    "while graph_list[i] != []:\n",
    "\n",
    "    stage = []\n",
    "    print(graph_list[i])\n",
    "    for node in graph_list[i]:\n",
    "        for edge in edges:\n",
    "            if node == edge[0]:\n",
    "                stage.append(edge[1])\n",
    "    print(stage)\n",
    "    graph_list.append(stage)\n",
    "    i += 1\n",
    "\n",
    "    print(graph_list)\n",
    "            \n",
    "        \n"
   ]
  },
  {
   "cell_type": "code",
   "execution_count": 31,
   "id": "8ab336ca-b56e-469c-b779-3c13afc5a355",
   "metadata": {},
   "outputs": [
    {
     "name": "stdout",
     "output_type": "stream",
     "text": [
      "macro2__three\n"
     ]
    }
   ],
   "source": [
    "for out in (list(wf.outputs.channel_dict.keys())):\n",
    "    print(out)\n",
    "    "
   ]
  },
  {
   "cell_type": "code",
   "execution_count": 34,
   "id": "b77f4ff9-0e7a-468c-9c2e-dbdc6fd1b8c4",
   "metadata": {},
   "outputs": [
    {
     "name": "stdout",
     "output_type": "stream",
     "text": [
      "out\n"
     ]
    }
   ],
   "source": [
    "graph_list = []\n",
    "end = []\n",
    "edges = []\n",
    "\n",
    "for out in (list(wf.macro1.outputs.channel_dict.keys())):\n",
    "    print((out.split(\"__\")[0]))\n",
    "    end.append(out.split(\"__\")[0])"
   ]
  },
  {
   "cell_type": "code",
   "execution_count": 44,
   "id": "52e31eee-0bbe-42fb-b1fd-98bc90489e04",
   "metadata": {},
   "outputs": [
    {
     "name": "stdout",
     "output_type": "stream",
     "text": [
      "[['macro2'], ['macro1'], ['add2', 'add3'], ['add1'], []]\n",
      "2\n",
      "4\n"
     ]
    }
   ],
   "source": [
    "def\n",
    "    graph_list = []\n",
    "    end = []\n",
    "    edges = []\n",
    "    \n",
    "    for out in (list(wf.outputs.channel_dict.keys())):\n",
    "        end.append(out.split(\"__\")[0])\n",
    "    \n",
    "    graph_list.append(end)\n",
    "    \n",
    "    for ic, (out, inp) in enumerate(wf.graph_as_dict[\"edges\"][\"data\"].keys()):\n",
    "        n = out.count('/')\n",
    "        out_node, out_port = out.split('/')[n].split('.')\n",
    "        inp_node, inp_port = inp.split('/')[n].split('.')\n",
    "    \n",
    "        edges.append([inp_node, out_node])\n",
    "    \n",
    "    i = 0;\n",
    "    depth = 0\n",
    "    while graph_list[i] != []:\n",
    "    \n",
    "        depth = max(len(graph_list[i]),depth)\n",
    "        stage = []\n",
    "        for node in graph_list[i]:\n",
    "            for edge in edges:\n",
    "                if node == edge[0]:\n",
    "                    stage.append(edge[1])\n",
    "        graph_list.append(stage)\n",
    "        i += 1\n",
    "    \n",
    "    print(graph_list)\n",
    "    print(depth)\n",
    "    print(len(graph_list)-1)\n",
    "        \n",
    "        "
   ]
  },
  {
   "cell_type": "code",
   "execution_count": 23,
   "id": "4f01e56b-285f-4391-8022-3a77d3ec1585",
   "metadata": {},
   "outputs": [
    {
     "data": {
      "text/plain": [
       "[['add1', 'add3']]"
      ]
     },
     "execution_count": 23,
     "metadata": {},
     "output_type": "execute_result"
    }
   ],
   "source": [
    "graph_list"
   ]
  },
  {
   "cell_type": "code",
   "execution_count": 36,
   "id": "427378f9-d0bc-4033-a8ce-39b3040f044a",
   "metadata": {},
   "outputs": [
    {
     "name": "stdout",
     "output_type": "stream",
     "text": [
      "0 /lammps_macro/macro1/in1.a+1 /lammps_macro/macro1/out.a\n",
      "1 /lammps_macro/macro1/in2.a+2 /lammps_macro/macro1/out.b\n"
     ]
    }
   ],
   "source": [
    "for ic, (out, inp) in enumerate(wf.macro1.graph_as_dict[\"edges\"][\"data\"].keys()):\n",
    "    print(ic,out,inp)"
   ]
  },
  {
   "cell_type": "code",
   "execution_count": null,
   "id": "93404b92-3e83-46fb-a038-ddee814d0e17",
   "metadata": {},
   "outputs": [],
   "source": []
  }
 ],
 "metadata": {
  "kernelspec": {
   "display_name": "Python 3 (ipykernel)",
   "language": "python",
   "name": "python3"
  },
  "language_info": {
   "codemirror_mode": {
    "name": "ipython",
    "version": 3
   },
   "file_extension": ".py",
   "mimetype": "text/x-python",
   "name": "python",
   "nbconvert_exporter": "python",
   "pygments_lexer": "ipython3",
   "version": "3.12.8"
  }
 },
 "nbformat": 4,
 "nbformat_minor": 5
}
