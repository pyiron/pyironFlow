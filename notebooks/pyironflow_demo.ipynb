{
 "cells": [
  {
   "cell_type": "markdown",
   "id": "e685173d-686c-489a-bbb4-eedef29fbba3",
   "metadata": {},
   "source": [
    "# PyironFlow demo"
   ]
  },
  {
   "cell_type": "markdown",
   "id": "a9e6595e-22fa-4640-aa01-755e4d16c717",
   "metadata": {},
   "source": [
    "PyironFlow provides a visual programming environment to implement and execute workflows. It uses _pyiron_workflows_ as workflow language. The graphical interface is based on the js library _xyflow_ in combination with the ipywidgets library. A workflow consists of function nodes defined as pure Python functions. Input and output of these functions can be connected to input and output channels of other nodes via edges. Examples of nodes can be found in the _pyiron_nodes_ library."
   ]
  },
  {
   "cell_type": "markdown",
   "id": "e10399f6-5f0c-426c-9dfc-8ecc2fc59354",
   "metadata": {},
   "source": [
    "For developers only: Uncomment the following line if you have edited the .js files"
   ]
  },
  {
   "cell_type": "code",
   "execution_count": 1,
   "id": "8d176d8e-bcd2-49e6-b9ae-653a35fb3797",
   "metadata": {},
   "outputs": [],
   "source": [
    "#!npm install @dagrejs/dagre\n",
    "#!npm install file-saver"
   ]
  },
  {
   "cell_type": "code",
   "execution_count": 2,
   "id": "6b50621c-5611-4869-a758-1404ec9ea67a",
   "metadata": {},
   "outputs": [
    {
     "name": "stdout",
     "output_type": "stream",
     "text": [
      "\u001b[1G\u001b[0K⠙\u001b[1G\u001b[0K\n",
      "  \u001b[37m../static/\u001b[0m\u001b[1mwidget.js\u001b[0m    \u001b[33m1.7mb ⚠️\u001b[0m\n",
      "  \u001b[37m../static/\u001b[0m\u001b[1mwidget.css\u001b[0m  \u001b[36m15.1kb\u001b[0m\n",
      "\n",
      "⚡ \u001b[32mDone in 155ms\u001b[0m\n",
      "\u001b[1G\u001b[0K⠙\u001b[1G\u001b[0K"
     ]
    }
   ],
   "source": [
    "!npx esbuild ../js/widget.jsx --minify --format=esm --bundle --outdir=../static"
   ]
  },
  {
   "cell_type": "code",
   "execution_count": 3,
   "id": "ce270c12-c005-48be-b93c-e56f1ceeab7d",
   "metadata": {},
   "outputs": [],
   "source": [
    "import warnings\n",
    "warnings.filterwarnings(\"ignore\")"
   ]
  },
  {
   "cell_type": "code",
   "execution_count": 4,
   "id": "3be83a1e-f2b0-4d54-91b2-34b39a903c65",
   "metadata": {},
   "outputs": [],
   "source": [
    "%config IPCompleter.evaluation='unsafe'"
   ]
  },
  {
   "cell_type": "code",
   "execution_count": 5,
   "id": "77b8c1f1-0546-46b9-b035-7eba5740049b",
   "metadata": {},
   "outputs": [],
   "source": [
    "import logging\n",
    "logging.getLogger().setLevel(logging.WARNING)"
   ]
  },
  {
   "cell_type": "markdown",
   "id": "4b1c2477-131a-4c49-a807-baf7b086a619",
   "metadata": {},
   "source": [
    "## Generic example"
   ]
  },
  {
   "cell_type": "markdown",
   "id": "8d374905-5b28-4845-b84b-ed7d42fa8aa1",
   "metadata": {},
   "source": [
    "The following example shows how to define nodes (functions) and how to connect them to construct a workflow. More details on how to construct nodes and workflows can be found in the documentation of _pyiron_workflows_."
   ]
  },
  {
   "cell_type": "code",
   "execution_count": 6,
   "id": "b3ac0390-9d9d-4d5a-b1dc-5ed7313038ac",
   "metadata": {},
   "outputs": [
    {
     "data": {
      "text/plain": [
       "['/Users/joerg/python_projects/git_libs/pyiron-xyflow',\n",
       " '/Users/joerg/python_projects/git_libs/pyiron_nodes',\n",
       " '/Users/joerg/python_projects/git_libs/ironflow',\n",
       " '/Users/joerg/python_projects/git_libs/pyiron-xyflow/notebooks',\n",
       " '/Users/joerg/miniforge3/envs/py12/lib/python312.zip',\n",
       " '/Users/joerg/miniforge3/envs/py12/lib/python3.12',\n",
       " '/Users/joerg/miniforge3/envs/py12/lib/python3.12/lib-dynload',\n",
       " '',\n",
       " '/Users/joerg/miniforge3/envs/py12/lib/python3.12/site-packages',\n",
       " '/Users/joerg/python_projects/git_libs/my_first_extension']"
      ]
     },
     "execution_count": 6,
     "metadata": {},
     "output_type": "execute_result"
    }
   ],
   "source": [
    "import sys\n",
    "from pathlib import Path\n",
    "sys.path.remove('/Users/joerg/python_projects/git_libs/pyiron_workflow')\n",
    "sys.path.insert(0, '/Users/joerg/python_projects/git_libs/pyiron-xyflow')\n",
    "sys.path"
   ]
  },
  {
   "cell_type": "code",
   "execution_count": 7,
   "id": "9665d26a-e131-42b6-8627-270cb38bb8f3",
   "metadata": {},
   "outputs": [
    {
     "data": {
      "application/vnd.jupyter.widget-view+json": {
       "model_id": "93e3b90c46e843f297af937730665244",
       "version_major": 2,
       "version_minor": 0
      },
      "text/plain": []
     },
     "metadata": {},
     "output_type": "display_data"
    }
   ],
   "source": [
    "from pyironflow.pyironflow import PyironFlow\n",
    "\n",
    "from pyiron_workflow import Workflow, as_function_node"
   ]
  },
  {
   "cell_type": "code",
   "execution_count": 8,
   "id": "42115116-b9cd-43b5-9692-5c7d04eaa8fa",
   "metadata": {},
   "outputs": [],
   "source": [
    "import pyiron_nodes.tmp.pyiron_nodes.atomistic"
   ]
  },
  {
   "cell_type": "code",
   "execution_count": 9,
   "id": "cdd584fb-020f-4704-b13f-c47d0db2ed75",
   "metadata": {},
   "outputs": [],
   "source": [
    "from pyiron_nodes.atomistic.property.elastic import OutputElasticAnalysis"
   ]
  },
  {
   "cell_type": "code",
   "execution_count": 36,
   "id": "61b9f6dd-af6a-4394-95a2-1b8aa51f252c",
   "metadata": {},
   "outputs": [],
   "source": [
    "import numpy as np\n",
    "\n",
    "@as_function_node\n",
    "def linspace(x_min: int = 0, x_max: float = 2 * np.pi, n: int = 50):\n",
    "\n",
    "    vec = np.linspace(x_min, x_max, n)\n",
    "    return vec\n",
    "\n",
    "@as_function_node\n",
    "def sin(x):\n",
    "    import numpy as np\n",
    "    \n",
    "    vec = np.sin(x)\n",
    "    return vec\n",
    "\n",
    "@as_function_node('plot')\n",
    "def plot(x, y):\n",
    "    import matplotlib.pylab as plt\n",
    "    \n",
    "    plt.plot(x, y)\n",
    "    return plt.show()"
   ]
  },
  {
   "cell_type": "code",
   "execution_count": 43,
   "id": "fc2652a7-a832-4763-b67f-401a8bf66326",
   "metadata": {},
   "outputs": [],
   "source": [
    "wf = Workflow('simple_workflow')\n",
    "wf.linspace = linspace(n=100)\n",
    "wf.sin = sin(x=wf.linspace)\n",
    "wf.plot = plot(x=wf.linspace, y=wf.sin)\n",
    "\n",
    "# wf.run()"
   ]
  },
  {
   "cell_type": "markdown",
   "id": "7618b07b-fb96-47aa-9f97-5a6fbc88d492",
   "metadata": {},
   "source": [
    "The workflow _wf_ can be transferred to the visual programming interface _PyironFlow_ as shown in the cell below. To run the workflow, click on the last node (plot) and then click on the _run_ button. If you want to debug the code, you can click on any node and click run to see the output of that node. If you want to view the source code of the node, click the _source_ button."
   ]
  },
  {
   "cell_type": "code",
   "execution_count": 44,
   "id": "abac5734-a832-4d41-9f23-aa2908717df2",
   "metadata": {
    "scrolled": true
   },
   "outputs": [
    {
     "data": {
      "application/vnd.jupyter.widget-view+json": {
       "model_id": "bebc9191247248818506f3e181eab81d",
       "version_major": 2,
       "version_minor": 0
      },
      "text/plain": [
       "HBox(children=(Accordion(children=(Tree(nodes=(Node(icon_style='warning', name='databases'), Node(icon_style='…"
      ]
     },
     "execution_count": 44,
     "metadata": {},
     "output_type": "execute_result"
    }
   ],
   "source": [
    "pf = PyironFlow([wf])\n",
    "pf.gui"
   ]
  },
  {
   "cell_type": "markdown",
   "id": "a770996b-6503-4318-a3bd-a686822727e9",
   "metadata": {},
   "source": [
    "## Employ the node library to build more complex workflows"
   ]
  },
  {
   "cell_type": "markdown",
   "id": "6fa98eda-608f-4c6c-a018-2efb5c6ec19c",
   "metadata": {},
   "source": [
    "The _pyiron_nodes_ library collects nodes/functions from different domains. If you are using git clone to add the pyiron_nodes library, modify the following commands to add the pyiron_nodes path to your PYIRONPATH environment variable."
   ]
  },
  {
   "cell_type": "markdown",
   "id": "5e556f67-d269-47be-9d23-bb50710b50c4",
   "metadata": {},
   "source": [
    "### Elastic constants"
   ]
  },
  {
   "cell_type": "code",
   "execution_count": 13,
   "id": "dbc017d4-7c5f-48df-a105-e75904a4ed53",
   "metadata": {},
   "outputs": [],
   "source": [
    "from pyiron_workflow import Workflow   \n",
    "\n",
    "import pyiron_nodes as pn\n",
    "\n",
    "wf = Workflow('compute_elastic_constants')\n",
    "wf.engine = pn.atomistic.engine.ase.M3GNet()\n",
    "wf.bulk = pn.atomistic.structure.build.Bulk('Pb', cubic=True)\n",
    "wf.input_elastic = pn.atomistic.property.elastic.InputElasticTensor()\n",
    "wf.elastic = pn.atomistic.property.elastic.ElasticConstants(structure=wf.bulk, engine=wf.engine, parameters=wf.input_elastic)\n",
    "wf.output = pn.atomistic.property.elastic.OutputElasticAnalysis(dc=wf.elastic)\n",
    "\n",
    "# wf.run()"
   ]
  },
  {
   "cell_type": "code",
   "execution_count": 14,
   "id": "78b2651c-3cb9-479e-85f2-bfe87710243a",
   "metadata": {},
   "outputs": [
    {
     "name": "stderr",
     "output_type": "stream",
     "text": [
      "/Users/joerg/miniforge3/envs/py12/lib/python3.12/site-packages/spglib/spglib.py:115: DeprecationWarning: dict interface (SpglibDataset['number']) is deprecated.Use attribute interface ({self.__class__.__name__}.{key}) instead\n",
      "  warnings.warn(\n"
     ]
    },
    {
     "data": {
      "text/plain": [
       "{'BV': 39.061994148481034,\n",
       " 'GV': 0.905122298932973,\n",
       " 'EV': 2.6945546676865124,\n",
       " 'nuV': 0.48850308453512775,\n",
       " 'S': array([[-0.09659223,  0.05256284,  0.05256284,  0.        ,  0.        ,\n",
       "          0.        ],\n",
       "        [ 0.05256284, -0.09659223,  0.05256284,  0.        ,  0.        ,\n",
       "          0.        ],\n",
       "        [ 0.05256284,  0.05256284, -0.09659223, -0.        , -0.        ,\n",
       "         -0.        ],\n",
       "        [ 0.        ,  0.        ,  0.        ,  0.26714055,  0.        ,\n",
       "          0.        ],\n",
       "        [ 0.        ,  0.        ,  0.        ,  0.        ,  0.26714055,\n",
       "          0.        ],\n",
       "        [ 0.        ,  0.        ,  0.        ,  0.        ,  0.        ,\n",
       "          0.26714055]]),\n",
       " 'BR': 39.06199414848093,\n",
       " 'GR': 24.413897589651718,\n",
       " 'ER': 60.6137499620062,\n",
       " 'nuR': 0.24137798439235,\n",
       " 'BH': 39.06199414848098,\n",
       " 'GH': 12.659509944292346,\n",
       " 'EH': 34.27574764737147,\n",
       " 'nuH': 0.3537549161934582,\n",
       " 'AVR': -92.85025800433093,\n",
       " 'energy_0': -14.789495468139648,\n",
       " 'strain_energy': [[(-0.005, -14.763327598571777),\n",
       "   (-0.0025, -14.777292251586914),\n",
       "   (0.0, -14.789495468139648),\n",
       "   (0.0024999999999999996, -14.800040245056152),\n",
       "   (0.005, -14.809012413024902)],\n",
       "  [(-0.005, -14.77286434173584),\n",
       "   (-0.0025, -14.7815580368042),\n",
       "   (0.0, -14.789495468139648),\n",
       "   (0.0024999999999999996, -14.796716690063477),\n",
       "   (0.005, -14.803255081176758)],\n",
       "  [(-0.005, -14.789070129394531),\n",
       "   (-0.0025, -14.789390563964844),\n",
       "   (0.0, -14.789495468139648),\n",
       "   (0.0024999999999999996, -14.789388656616211),\n",
       "   (0.005, -14.789071083068848)]],\n",
       " 'C': array([[34.5923729 , 41.29680477, 41.29680477,  0.        ,  0.        ,\n",
       "          0.        ],\n",
       "        [41.29680477, 34.5923729 , 41.29680477,  0.        ,  0.        ,\n",
       "          0.        ],\n",
       "        [41.29680477, 41.29680477, 34.5923729 ,  0.        ,  0.        ,\n",
       "          0.        ],\n",
       "        [ 0.        ,  0.        ,  0.        ,  3.74334779,  0.        ,\n",
       "          0.        ],\n",
       "        [ 0.        ,  0.        ,  0.        ,  0.        ,  3.74334779,\n",
       "          0.        ],\n",
       "        [ 0.        ,  0.        ,  0.        ,  0.        ,  0.        ,\n",
       "          3.74334779]]),\n",
       " 'A2': array([1.09712606, 0.47366299, 0.14018484]),\n",
       " 'C_eigval': array([ -6.70443187, 117.18598245,  -6.70443187,   3.74334779,\n",
       "          3.74334779,   3.74334779]),\n",
       " 'C_eigvec': array([[-0.81649658,  0.57735027, -0.36743272,  0.        ,  0.        ,\n",
       "          0.        ],\n",
       "        [ 0.40824829,  0.57735027, -0.44774614,  0.        ,  0.        ,\n",
       "          0.        ],\n",
       "        [ 0.40824829,  0.57735027,  0.81517887,  0.        ,  0.        ,\n",
       "          0.        ],\n",
       "        [ 0.        ,  0.        ,  0.        ,  1.        ,  0.        ,\n",
       "          0.        ],\n",
       "        [ 0.        ,  0.        ,  0.        ,  0.        ,  1.        ,\n",
       "          0.        ],\n",
       "        [ 0.        ,  0.        ,  0.        ,  0.        ,  0.        ,\n",
       "          1.        ]])}"
      ]
     },
     "execution_count": 14,
     "metadata": {},
     "output_type": "execute_result"
    }
   ],
   "source": [
    "from dataclasses import asdict\n",
    "\n",
    "wf.elastic.pull()\n",
    "dc = wf.elastic.outputs.elastic.value\n",
    "asdict(dc)\n",
    "# type(dc)\n",
    "# out = pn.atomistic.property.elastic.OutputElasticAnalysis(dc=wf.elastic.outputs.elastic.value.dataclass)\n",
    "\n",
    "# out.pull()\n",
    "# out.outputs.A2.value\n"
   ]
  },
  {
   "cell_type": "code",
   "execution_count": 15,
   "id": "4caf24e9-d89f-43fb-a0a7-4039a8eb09d0",
   "metadata": {},
   "outputs": [],
   "source": [
    "#wf.run()"
   ]
  },
  {
   "cell_type": "code",
   "execution_count": 16,
   "id": "56c26ff4-f7a8-46a6-a99c-40256af96174",
   "metadata": {},
   "outputs": [],
   "source": [
    "wf.draw();"
   ]
  },
  {
   "cell_type": "code",
   "execution_count": 17,
   "id": "4a3c6b40-4426-4479-a039-686cce4f923e",
   "metadata": {},
   "outputs": [
    {
     "data": {
      "text/plain": [
       "True"
      ]
     },
     "execution_count": 17,
     "metadata": {},
     "output_type": "execute_result"
    }
   ],
   "source": [
    "wf.bulk.position = (10, 0)\n",
    "'position' in dir(wf.bulk)"
   ]
  },
  {
   "cell_type": "code",
   "execution_count": 18,
   "id": "5b0bee61-92b5-4331-8154-4be71cbbeb4f",
   "metadata": {},
   "outputs": [
    {
     "data": {
      "application/vnd.jupyter.widget-view+json": {
       "model_id": "95b2cb19fc744759b32aa2f857232367",
       "version_major": 2,
       "version_minor": 0
      },
      "text/plain": [
       "HBox(children=(Accordion(children=(Tree(nodes=(Node(icon_style='warning', name='databases'), Node(icon_style='…"
      ]
     },
     "execution_count": 18,
     "metadata": {},
     "output_type": "execute_result"
    }
   ],
   "source": [
    "from pyironflow.pyironflow import PyironFlow\n",
    "\n",
    "pf = PyironFlow([wf]) #, hash_nodes=True)\n",
    "pf.gui"
   ]
  },
  {
   "cell_type": "code",
   "execution_count": 19,
   "id": "813d8693-da0b-42ab-9534-0818cdf34411",
   "metadata": {
    "jupyter": {
     "source_hidden": true
    }
   },
   "outputs": [
    {
     "data": {
      "application/vnd.jupyter.widget-view+json": {
       "model_id": "f9c24229d73d4d3e8253a1f85d5a0882",
       "version_major": 2,
       "version_minor": 0
      },
      "text/plain": [
       "HBox(children=(Accordion(children=(Tree(nodes=(Node(icon_style='warning', name='databases'), Node(icon_style='…"
      ]
     },
     "execution_count": 19,
     "metadata": {},
     "output_type": "execute_result"
    }
   ],
   "source": [
    "from pyironflow.pyironflow import PyironFlow\n",
    "\n",
    "pf = PyironFlow([wf]) #, hash_nodes=True)\n",
    "pf.gui"
   ]
  },
  {
   "cell_type": "markdown",
   "id": "3c7cf4ac-7bdc-4cdf-9d7b-2d22ec4c5297",
   "metadata": {},
   "source": [
    "### Some extra features"
   ]
  },
  {
   "cell_type": "markdown",
   "id": "17dd3816-b2bb-45e2-873a-ff49f4ce1fee",
   "metadata": {},
   "source": [
    "#### Get the nodes from the gui"
   ]
  },
  {
   "cell_type": "code",
   "execution_count": 20,
   "id": "fc5d0e67-bb6f-493b-a59d-2234522af360",
   "metadata": {},
   "outputs": [],
   "source": [
    "import json\n",
    "json.loads(pf.wf_widgets[0].gui.nodes);"
   ]
  },
  {
   "cell_type": "markdown",
   "id": "55fd11ed-1567-4a12-8054-c557cf289725",
   "metadata": {},
   "source": [
    "#### Show the workflow widget from tab_0"
   ]
  },
  {
   "cell_type": "code",
   "execution_count": 21,
   "id": "a6047623-934c-4339-953c-42ec4728f6e7",
   "metadata": {},
   "outputs": [
    {
     "data": {
      "application/vnd.jupyter.widget-view+json": {
       "model_id": "dfaa6f43d68c474d8fa7b73b251b3ab0",
       "version_major": 2,
       "version_minor": 1
      },
      "text/plain": [
       "ReactFlowWidget(edges='[{\"source\": \"engine\", \"sourceHandle\": \"engine\", \"target\": \"elastic\", \"targetHandle\": \"e…"
      ]
     },
     "execution_count": 21,
     "metadata": {},
     "output_type": "execute_result"
    }
   ],
   "source": [
    "pf.wf_widgets[0].gui"
   ]
  },
  {
   "cell_type": "markdown",
   "id": "0d46cdb7-cc6a-45ea-84bc-11537afe43eb",
   "metadata": {},
   "source": [
    "#### Get the current workflow from the gui and visualize it (test completeness of switching between graphical and programmatic representation)"
   ]
  },
  {
   "cell_type": "code",
   "execution_count": 22,
   "id": "9e7a9e47-ca0d-4976-b257-3533f1c33957",
   "metadata": {
    "scrolled": true
   },
   "outputs": [
    {
     "data": {
      "application/vnd.jupyter.widget-view+json": {
       "model_id": "0078abbbc5dd4a368927aeef1c045f0e",
       "version_major": 2,
       "version_minor": 0
      },
      "text/plain": [
       "HBox(children=(Accordion(children=(Tree(nodes=(Node(icon_style='warning', name='databases'), Node(icon_style='…"
      ]
     },
     "execution_count": 22,
     "metadata": {},
     "output_type": "execute_result"
    }
   ],
   "source": [
    "from pyironflow.pyironflow import PyironFlow\n",
    "\n",
    "wf = pf.get_workflow()\n",
    "\n",
    "pf = PyironFlow([wf])\n",
    "pf.gui"
   ]
  },
  {
   "cell_type": "markdown",
   "id": "b9812fe0-4179-4a43-8444-c37f205cff39",
   "metadata": {},
   "source": [
    "### Hash database"
   ]
  },
  {
   "cell_type": "code",
   "execution_count": 23,
   "id": "cb5cef62-47bb-41a9-bbf5-1fe68172452d",
   "metadata": {},
   "outputs": [
    {
     "data": {
      "application/vnd.jupyter.widget-view+json": {
       "model_id": "c695d1a7eada4eb3a6dd6bb9c72e94ba",
       "version_major": 2,
       "version_minor": 0
      },
      "text/plain": [
       "HBox(children=(Accordion(children=(Tree(nodes=(Node(icon_style='warning', name='databases'), Node(icon_style='…"
      ]
     },
     "execution_count": 23,
     "metadata": {},
     "output_type": "execute_result"
    }
   ],
   "source": [
    "from pyiron_workflow import Workflow   \n",
    "\n",
    "import pyiron_nodes as pn\n",
    "\n",
    "wf = Workflow('hash_db')\n",
    "wf.db = pn.databases.node_hash_db.create_db()\n",
    "\n",
    "pf = PyironFlow([wf]) #, hash_nodes=True)\n",
    "pf.gui"
   ]
  },
  {
   "cell_type": "code",
   "execution_count": 24,
   "id": "9eb8286d-0abb-43cb-9c7b-c8e59a0f0212",
   "metadata": {},
   "outputs": [
    {
     "data": {
      "application/vnd.jupyter.widget-view+json": {
       "model_id": "45223ec46eaf4eff82446761a4448f6b",
       "version_major": 2,
       "version_minor": 0
      },
      "text/plain": [
       "Output(layout=Layout(border_bottom='1px solid black', border_left='1px solid black', border_right='1px solid b…"
      ]
     },
     "execution_count": 24,
     "metadata": {},
     "output_type": "execute_result"
    }
   ],
   "source": [
    "pf.out_widget"
   ]
  },
  {
   "cell_type": "markdown",
   "id": "6b478083-a50a-42c9-8556-a0fb556f9b4d",
   "metadata": {},
   "source": [
    "### Phonons"
   ]
  },
  {
   "cell_type": "markdown",
   "id": "682297aa-9948-4da5-95fa-4b3e6776bbc3",
   "metadata": {},
   "source": [
    "The following example computes the phonon total density of states. The dos node returns a dataframe. To plot it use from the Node Library the _PlotDataFrame_ module *(Node Library -> plotting -> PlotDataFrame)*"
   ]
  },
  {
   "cell_type": "code",
   "execution_count": 25,
   "id": "6e64336b-18c5-444e-a8a1-24357a2b46f2",
   "metadata": {},
   "outputs": [],
   "source": [
    "from pyiron_workflow import Workflow   \n",
    "\n",
    "import pyiron_nodes as pn\n",
    "\n",
    "wf = Workflow('phonons')\n",
    "wf.engine = pn.atomistic.engine.ase.M3GNet()\n",
    "wf.bulk = pn.atomistic.structure.build.CubicBulkCell('Pb', cell_size=3)\n",
    "wf.phonopy = pn.atomistic.property.phonons.CreatePhonopy(structure=wf.bulk, engine=wf.engine) #, parameters=parameters)\n",
    "wf.dos = pn.atomistic.property.phonons.GetTotalDos(phonopy=wf.phonopy.outputs.phonopy)\n",
    "\n",
    "# wf.run()\n"
   ]
  },
  {
   "cell_type": "code",
   "execution_count": 26,
   "id": "0d5ff59a-27d2-405f-b1cc-0a650e071922",
   "metadata": {},
   "outputs": [
    {
     "data": {
      "text/plain": [
       "True"
      ]
     },
     "execution_count": 26,
     "metadata": {},
     "output_type": "execute_result"
    }
   ],
   "source": [
    "wf.dos.inputs.storage.value.hash_output"
   ]
  },
  {
   "cell_type": "code",
   "execution_count": 27,
   "id": "051bed2f-6100-4ee4-95e5-f70aa38f56cb",
   "metadata": {},
   "outputs": [
    {
     "data": {
      "application/vnd.jupyter.widget-view+json": {
       "model_id": "a67cf6030ca444c280cc0ffdaab2d993",
       "version_major": 2,
       "version_minor": 0
      },
      "text/plain": [
       "HBox(children=(Accordion(children=(Tree(nodes=(Node(icon_style='warning', name='databases'), Node(icon_style='…"
      ]
     },
     "execution_count": 27,
     "metadata": {},
     "output_type": "execute_result"
    }
   ],
   "source": [
    "pf = PyironFlow([wf], hash_nodes=True)\n",
    "pf.gui"
   ]
  },
  {
   "cell_type": "markdown",
   "id": "b7de4906-4a23-4d40-8913-755e1d9ae862",
   "metadata": {},
   "source": [
    "### Built Lammps workflow from scratch"
   ]
  },
  {
   "cell_type": "markdown",
   "id": "8c587b73-2482-43cc-a64e-8a8cdfe4f885",
   "metadata": {},
   "source": [
    "This example demonstrates how to construct a low-level workflow to run a file-based executable using Lammps as a prototype. The concepts can be extended to any type of executable."
   ]
  },
  {
   "cell_type": "code",
   "execution_count": 28,
   "id": "a7f0ced8-a876-421c-b384-500fcc946103",
   "metadata": {},
   "outputs": [],
   "source": [
    "from pyiron_workflow import Workflow   \n",
    "import pyiron_nodes as pn\n"
   ]
  },
  {
   "cell_type": "code",
   "execution_count": 29,
   "id": "2846592e-3e95-4064-8c9f-fa21a455d3a2",
   "metadata": {},
   "outputs": [],
   "source": [
    "wf = Workflow('Lammps')\n",
    "wf.structure = pn.atomistic.structure.build.Bulk('Al', cubic=True)\n",
    "wf.repeat = pn.atomistic.structure.transform.Repeat(structure=wf.structure, repeat_scalar=3)\n",
    "\n",
    "wf.calculator = pn.atomistic.engine.lammps.CalcMD() # temperature=300, n_ionic_steps=10_000)\n",
    "wf.potential = pn.atomistic.engine.lammps.Potential(\n",
    "    structure=wf.structure, name='1995--Angelo-J-E--Ni-Al-H--LAMMPS--ipr1'\n",
    ")\n",
    "\n",
    "wf.init_lammps = pn.atomistic.engine.lammps.InitLammps(\n",
    "        structure=wf.repeat,\n",
    "        potential=wf.potential,\n",
    "        calculator=wf.calculator,\n",
    "        working_directory=\"test2\",\n",
    "    )\n",
    "\n",
    "wf.shell = pn.atomistic.engine.lammps.Shell(\n",
    "        # command=ExecutablePathResolver(module=\"lammps\", code=\"lammps\").path(),\n",
    "        working_directory=wf.init_lammps,\n",
    "    )\n",
    "\n",
    "wf.ParseLogFile = pn.atomistic.engine.lammps.ParseLogFile(\n",
    "    log_file=wf.shell.outputs.log\n",
    ")\n",
    "wf.ParseDumpFile = pn.atomistic.engine.lammps.ParseDumpFile(\n",
    "    dump_file=wf.shell.outputs.dump\n",
    ")\n",
    "wf.Collect = pn.atomistic.engine.lammps.Collect(\n",
    "    out_dump=wf.ParseDumpFile.outputs.dump,\n",
    "    out_log=wf.ParseLogFile.outputs.log,\n",
    "    calc_mode='md',\n",
    ")\n",
    "\n",
    "wf.get_energy_pot = pn.atomistic.engine.lammps.GetEnergyPot(generic=wf.Collect)\n",
    "\n",
    "out = wf.run()"
   ]
  },
  {
   "cell_type": "code",
   "execution_count": 30,
   "id": "64a70d90-410c-4079-a7c4-b5d123e06306",
   "metadata": {},
   "outputs": [
    {
     "data": {
      "text/plain": [
       "array([-362.87999968, -358.5129855 , -358.4579939 , -358.31296039,\n",
       "       -358.55784106, -359.02478623, -358.31887295, -358.83137511,\n",
       "       -358.65856012, -358.41650426, -358.63303643, -358.63670514,\n",
       "       -358.55424417, -358.60848674, -359.21976388, -358.75045594,\n",
       "       -358.70085842, -358.09667742, -358.11768594, -358.43833566,\n",
       "       -358.73646116, -359.09860407, -358.2410861 , -357.79137736,\n",
       "       -357.97615099, -358.66342062, -358.23955412, -358.88205371,\n",
       "       -358.83486582, -359.26242862, -358.55243496, -358.55474489,\n",
       "       -358.21297665, -358.97124696, -358.55524676, -358.56762719,\n",
       "       -359.29673694, -358.80134   , -358.24187177, -358.5103194 ,\n",
       "       -358.91956568, -358.9306468 , -358.32669732, -358.33391415,\n",
       "       -358.16457596, -358.60606464, -358.32974592, -359.15559159,\n",
       "       -359.30010577, -359.47381373, -359.00845451, -358.39813831,\n",
       "       -358.75495891, -357.87957696, -358.21394858, -358.55263975,\n",
       "       -358.86352564, -358.93426393, -358.5099942 , -358.42666832,\n",
       "       -359.05522803, -358.70894362, -359.14412647, -359.34700501,\n",
       "       -358.49378004, -358.45300451, -358.23090609, -358.52393045,\n",
       "       -358.64732583, -359.01309771, -359.10022462, -358.77896538,\n",
       "       -358.16196581, -358.61872171, -358.85181592, -359.18867919,\n",
       "       -358.60552904, -358.50144447, -358.16226177, -358.55923468,\n",
       "       -358.86511983, -358.68141314, -358.78216554, -358.12157467,\n",
       "       -358.32262351, -358.62077218, -358.57645838, -358.73196502,\n",
       "       -358.34543865, -358.21730783, -358.33200514, -358.81335597,\n",
       "       -358.43418908, -358.41064625, -358.65759198, -358.61444817,\n",
       "       -358.607178  , -358.11265699, -358.10823994])"
      ]
     },
     "execution_count": 30,
     "metadata": {},
     "output_type": "execute_result"
    }
   ],
   "source": [
    "wf.get_energy_pot.pull()[0:-1]"
   ]
  },
  {
   "cell_type": "code",
   "execution_count": 31,
   "id": "10975d1d-e834-40e3-9797-a94b7b5c31f8",
   "metadata": {
    "scrolled": true
   },
   "outputs": [
    {
     "data": {
      "application/vnd.jupyter.widget-view+json": {
       "model_id": "322fe30bbbde4758960871756f075742",
       "version_major": 2,
       "version_minor": 0
      },
      "text/plain": [
       "HBox(children=(Accordion(children=(Tree(nodes=(Node(icon_style='warning', name='databases'), Node(icon_style='…"
      ]
     },
     "execution_count": 31,
     "metadata": {},
     "output_type": "execute_result"
    }
   ],
   "source": [
    "from pyironflow.pyironflow import PyironFlow\n",
    "\n",
    "pf = PyironFlow([wf])\n",
    "pf.gui"
   ]
  },
  {
   "cell_type": "markdown",
   "id": "f1cfc2a4-9251-4b26-8a04-70638cee8863",
   "metadata": {},
   "source": [
    "### Use Lammps Macro"
   ]
  },
  {
   "cell_type": "markdown",
   "id": "4126988c-ce19-4f60-89cf-c8ae2e7898fa",
   "metadata": {},
   "source": [
    "The low-level workflow above has been converted into a macro 'Code'. The application of such a high-level macro is shown below. "
   ]
  },
  {
   "cell_type": "code",
   "execution_count": 32,
   "id": "1389fde6-8b41-401a-9a13-cb5f726661fc",
   "metadata": {},
   "outputs": [
    {
     "data": {
      "image/png": "[encoded data removed]",
      "text/plain": [
       "<Figure size 640x480 with 1 Axes>"
      ]
     },
     "metadata": {},
     "output_type": "display_data"
    },
    {
     "data": {
      "text/plain": [
       "{'plot__figure': None}"
      ]
     },
     "execution_count": 32,
     "metadata": {},
     "output_type": "execute_result"
    }
   ],
   "source": [
    "wf = Workflow('lammps_macro')\n",
    "wf.bulk = pn.atomistic.structure.build.CubicBulkCell('Pb', cell_size=3)\n",
    "wf.inp_calc_md = pn.atomistic.calculator.data.InputCalcMD()\n",
    "wf.lammps = pn.atomistic.engine.lammps.Code(structure=wf.bulk, calculator=wf.inp_calc_md) \n",
    "wf.energies = pn.atomistic.engine.lammps.GetEnergyPot(generic=wf.lammps)\n",
    "wf.plot = pn.plotting.Plot(y=wf.energies)\n",
    "\n",
    "wf.run()"
   ]
  },
  {
   "cell_type": "code",
   "execution_count": 33,
   "id": "1cec4223-ff48-4f68-8017-c9f8bb0dbdd1",
   "metadata": {},
   "outputs": [
    {
     "data": {
      "application/vnd.jupyter.widget-view+json": {
       "model_id": "bf30fbef9e324ebb862e596bdae017bf",
       "version_major": 2,
       "version_minor": 0
      },
      "text/plain": [
       "HBox(children=(Accordion(children=(Tree(nodes=(Node(icon_style='warning', name='databases'), Node(icon_style='…"
      ]
     },
     "execution_count": 33,
     "metadata": {},
     "output_type": "execute_result"
    }
   ],
   "source": [
    "pf = PyironFlow([wf])\n",
    "pf.gui"
   ]
  },
  {
   "cell_type": "code",
   "execution_count": 34,
   "id": "e7dc98ca-e134-4cd2-83c9-fc41da544509",
   "metadata": {},
   "outputs": [],
   "source": [
    "pf.wf_widgets[0].wf.bulk.outputs.structure.value.__reduce__();"
   ]
  },
  {
   "cell_type": "code",
   "execution_count": null,
   "id": "beb3de37-5f49-4733-8cea-e331f8680a08",
   "metadata": {},
   "outputs": [],
   "source": []
  }
 ],
 "metadata": {
  "kernelspec": {
   "display_name": "Python 3 (ipykernel)",
   "language": "python",
   "name": "python3"
  },
  "language_info": {
   "codemirror_mode": {
    "name": "ipython",
    "version": 3
   },
   "file_extension": ".py",
   "mimetype": "text/x-python",
   "name": "python",
   "nbconvert_exporter": "python",
   "pygments_lexer": "ipython3",
   "version": "3.12.4"
  }
 },
 "nbformat": 4,
 "nbformat_minor": 5
}
