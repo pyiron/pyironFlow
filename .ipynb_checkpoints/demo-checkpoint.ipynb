{
 "cells": [
  {
   "cell_type": "markdown",
   "id": "8e8fc580-81a6-436d-a00c-cdd3f78b8c00",
   "metadata": {},
   "source": [
    "# PyironFlow: a visual programming environment for pyiron_workflows"
   ]
  },
  {
   "cell_type": "markdown",
   "id": "002c5334-fc90-4032-8f1f-7ad698f8e3c9",
   "metadata": {},
   "source": [
    "Author: Jörg Neugebauer\n",
    "\n",
    "Date: Aug. 16, 2024"
   ]
  },
  {
   "cell_type": "markdown",
   "id": "34b15840-ecf6-4d42-9269-ed235181a08a",
   "metadata": {},
   "source": [
    "Key concepts:\n",
    "- Strict separartion between logical/programmatic part (handled by pyiron_workflows) and gui (handled by a combination of reactflow, a react javascript tool, and ipywidgets to connect to the jupyter ecosystem)\n",
    "- The communication between python and .jsx is handled via traitlets\n",
    "- Graphical and programmatic representation of a workflow, described by its nodes and edges, is fully echangable. The two representations can be seemlessly interchanged, i.e. you can start writing the workflow as code and then transfer it to the gui to extend or run it "
   ]
  },
  {
   "cell_type": "markdown",
   "id": "a8427ed6-22f8-4e03-aeb9-9c57b6eb6724",
   "metadata": {},
   "source": [
    "### Setup configuration"
   ]
  },
  {
   "cell_type": "markdown",
   "id": "83efff2c-20a2-487f-9fe8-ca3cb158f725",
   "metadata": {},
   "source": [
    "#### Include the pyiron_node library into PYTHONPATH (modules need to be importable)"
   ]
  },
  {
   "cell_type": "code",
   "execution_count": null,
   "id": "3be83a1e-f2b0-4d54-91b2-34b39a903c65",
   "metadata": {},
   "outputs": [],
   "source": [
    "%config IPCompleter.evaluation='unsafe'\n",
    "\n",
    "import sys\n",
    "from pathlib import Path\n",
    "sys.path.insert(0, str(Path(Path.cwd()).parent) + '/pyiron_nodes')"
   ]
  },
  {
   "cell_type": "markdown",
   "id": "a7248af3-afa1-4163-90fe-482f868522c6",
   "metadata": {},
   "source": [
    "#### When creating a new conda environment or react widget install the following tools "
   ]
  },
  {
   "cell_type": "markdown",
   "id": "9a37829a-086a-458b-8d7d-5723900ba5ff",
   "metadata": {},
   "source": [
    "Note: You have to install via conda-forge: \n",
    "- nodejs\n",
    "- esbuild\n",
    "- anywidget\n",
    "\n",
    "Uncomment the line below to install the following modules (.jsx side)"
   ]
  },
  {
   "cell_type": "code",
   "execution_count": null,
   "id": "e0f2617d-b647-45eb-9688-6ad3da6401f7",
   "metadata": {
    "scrolled": true
   },
   "outputs": [],
   "source": [
    "# !npm install react react-dom @xyflow/react @anywidget/react"
   ]
  },
  {
   "cell_type": "code",
   "execution_count": 44,
   "id": "4c9f6660-678a-4f08-9239-56d1cbfe904d",
   "metadata": {},
   "outputs": [
    {
     "name": "stdout",
     "output_type": "stream",
     "text": [
      "\u001b[1G\u001b[0K⠙\u001b[1G\u001b[0K⠹\u001b[1G\u001b[0K⠸\u001b[1G\u001b[0K⠼\u001b[1G\u001b[0K⠴\u001b[1G\u001b[0K⠦\u001b[1G\u001b[0K⠧\u001b[1G\u001b[0K⠇\u001b[1G\u001b[0K⠏\u001b[1G\u001b[0K⠋\u001b[1G\u001b[0K\n",
      "added 1 package, and audited 98 packages in 1s\n",
      "\u001b[1G\u001b[0K⠋\u001b[1G\u001b[0K\n",
      "\u001b[1G\u001b[0K⠋\u001b[1G\u001b[0K6 packages are looking for funding\n",
      "\u001b[1G\u001b[0K⠋\u001b[1G\u001b[0K  run `npm fund` for details\n",
      "\u001b[1G\u001b[0K⠋\u001b[1G\u001b[0K\n",
      "found \u001b[32m\u001b[1m0\u001b[22m\u001b[39m vulnerabilities\n",
      "\u001b[1G\u001b[0K⠋\u001b[1G\u001b[0K"
     ]
    }
   ],
   "source": [
    "!npm install elkjs"
   ]
  },
  {
   "cell_type": "markdown",
   "id": "1bc17fad-9a0f-4a30-bf7b-f89c2d6e9c21",
   "metadata": {},
   "source": [
    "#### Run the following line whenever you modify a file in the js/ (javascript) directory "
   ]
  },
  {
   "cell_type": "code",
   "execution_count": 45,
   "id": "7a1876e6-3d07-46da-a618-381a65e177b8",
   "metadata": {},
   "outputs": [
    {
     "name": "stdout",
     "output_type": "stream",
     "text": [
      "\u001b[1G\u001b[0K⠙\u001b[1G\u001b[0K\n",
      "  \u001b[37mstatic/\u001b[0m\u001b[1mwidget.js\u001b[0m    \u001b[33m1.7mb ⚠️\u001b[0m\n",
      "  \u001b[37mstatic/\u001b[0m\u001b[1mwidget.css\u001b[0m  \u001b[36m15.1kb\u001b[0m\n",
      "\n",
      "⚡ \u001b[32mDone in 176ms\u001b[0m\n",
      "\u001b[1G\u001b[0K⠙\u001b[1G\u001b[0K"
     ]
    }
   ],
   "source": [
    "!npx esbuild js/widget.jsx --minify --format=esm --bundle --outdir=static"
   ]
  },
  {
   "cell_type": "markdown",
   "id": "58989109-da22-4424-87a0-02b44be5a4a1",
   "metadata": {},
   "source": [
    "## Simple Demonstrator (How to use *anywidget* to build a reactflow widget)"
   ]
  },
  {
   "cell_type": "code",
   "execution_count": null,
   "id": "bacdd7c5-db0b-45b9-b5c9-960157b3265c",
   "metadata": {},
   "outputs": [],
   "source": [
    "import anywidget\n",
    "import pathlib\n",
    "import traitlets\n",
    "import os\n",
    "import json"
   ]
  },
  {
   "cell_type": "code",
   "execution_count": null,
   "id": "c43f096b-3435-40b7-84f5-d21281af4622",
   "metadata": {},
   "outputs": [],
   "source": [
    "class ReactFlowWidget(anywidget.AnyWidget):\n",
    "    path = pathlib.Path(os.getcwd()) / 'static' \n",
    "    _esm = path / \"widget.js\"\n",
    "    _css = path / \"widget.css\"\n",
    "    nodes = traitlets.Unicode('[]').tag(sync=True)\n",
    "    edges = traitlets.Unicode('[]').tag(sync=True)\n",
    "    commands = traitlets.Unicode('[]').tag(sync=True)"
   ]
  },
  {
   "cell_type": "markdown",
   "id": "cddb7083-b7de-4e5d-b6a3-ff85da9d3180",
   "metadata": {},
   "source": [
    "### Create an empty reactflow window"
   ]
  },
  {
   "cell_type": "code",
   "execution_count": null,
   "id": "86260af7-a89c-4716-b1e2-bd87169a5f8c",
   "metadata": {},
   "outputs": [],
   "source": [
    "w = ReactFlowWidget()\n",
    "w"
   ]
  },
  {
   "cell_type": "markdown",
   "id": "705c599b-2bf3-46ed-bccd-144ee901cb0d",
   "metadata": {},
   "source": [
    "#### Create some nodes and load them into the widget (to see the effect go back the the frame above)"
   ]
  },
  {
   "cell_type": "markdown",
   "id": "6a411836-aca8-4ebf-83f3-03077ce317ab",
   "metadata": {},
   "source": [
    "Note: We have to convert the nodes dictionary to json to load it"
   ]
  },
  {
   "cell_type": "code",
   "execution_count": null,
   "id": "23222809-34df-4d42-b81c-a82bee6e86e3",
   "metadata": {},
   "outputs": [],
   "source": [
    "nodes = [\n",
    "    {\n",
    "      'id': '1',\n",
    "      'data': { 'label': 'Hello' },\n",
    "      'position': { 'x': 0, 'y': 0 },\n",
    "      'type': 'input',\n",
    "      'sourcePosition': 'right',\n",
    "    },\n",
    "    {\n",
    "      'id': '2',\n",
    "      'data': { 'label': 'message' },\n",
    "      'position': { 'x': 250, 'y': 100 },\n",
    "      'type': 'output',\n",
    "      'targetPosition': 'left',      \n",
    "    },\n",
    "    {\n",
    "      'id': '3',\n",
    "      'data': { 'label': 'my_node_1', \n",
    "               'source_labels': ['a', 'b'],\n",
    "               'target_labels': ['in1', 'in_2', 'in_3'],\n",
    "               'target_values': ['1', None, 2],\n",
    "              },\n",
    "      'position': { 'x': 0, 'y': 100 },\n",
    "      'type': 'customNode',\n",
    "      'style': {\n",
    "              'border': '1px black solid',\n",
    "              'padding': 5,\n",
    "              'background': '#999',\n",
    "              'borderRadius': '10px',\n",
    "              'width': '200px',\n",
    "            },    \n",
    "      'targetPosition': 'left',  \n",
    "      'sourcePosition': 'right',  \n",
    "    },\n",
    "    {\n",
    "      'id': '4',\n",
    "      'data': { 'label': 'my_node_2', \n",
    "               'source_labels': ['a', 'c', '12'],\n",
    "               'target_labels': ['in1', 'in_2'],\n",
    "               'target_values': ['1', None],\n",
    "              },\n",
    "      'position': { 'x': 300, 'y': 160 },\n",
    "      'type': 'customNode',\n",
    "      'style': {\n",
    "              'border': '1px black solid',\n",
    "              'padding': 20,\n",
    "              'background': '#1999',\n",
    "            },    \n",
    "      'targetPosition': 'left',  \n",
    "      'sourcePosition': 'right',  \n",
    "    }\n",
    "]\n",
    "\n",
    "nodes_json = json.dumps(nodes)\n",
    "w.nodes = nodes_json"
   ]
  },
  {
   "cell_type": "markdown",
   "id": "df1b3652-820b-4067-b066-1fe3327bebef",
   "metadata": {},
   "source": [
    "Play a bit with the widget. Move the nodes, connect the node handles. You can get all the changes you did graphicall via the nodes and edges property of the widget:"
   ]
  },
  {
   "cell_type": "code",
   "execution_count": null,
   "id": "3e89757b-58ec-4751-ab36-3c2754214142",
   "metadata": {},
   "outputs": [],
   "source": [
    "json.loads(w.edges)"
   ]
  },
  {
   "cell_type": "markdown",
   "id": "717f068f-a6b9-45d1-8d4a-34188df8f089",
   "metadata": {},
   "source": [
    "## PyironFlow Gui"
   ]
  },
  {
   "cell_type": "markdown",
   "id": "a9788019-fbc8-4612-9bc6-7b03b2df0304",
   "metadata": {},
   "source": [
    "#### Definition via workflow"
   ]
  },
  {
   "cell_type": "code",
   "execution_count": null,
   "id": "f4d7c441-ce54-4e1a-b87c-f765de711289",
   "metadata": {},
   "outputs": [],
   "source": [
    "!npx esbuild js/widget.jsx --format=esm --bundle --outdir=static"
   ]
  },
  {
   "cell_type": "code",
   "execution_count": 1,
   "id": "5d9dfc7b-00eb-44e2-8f64-94ca9fa1187a",
   "metadata": {},
   "outputs": [
    {
     "name": "stdout",
     "output_type": "stream",
     "text": [
      "\u001b[1G\u001b[0K⠙\u001b[1G\u001b[0K\n",
      "  \u001b[37mstatic/\u001b[0m\u001b[1mwidget.js\u001b[0m   \u001b[36m308.5kb\u001b[0m\n",
      "  \u001b[37mstatic/\u001b[0m\u001b[1mwidget.css\u001b[0m   \u001b[36m15.1kb\u001b[0m\n",
      "\n",
      "⚡ \u001b[32mDone in 38ms\u001b[0m\n",
      "\u001b[1G\u001b[0K⠙\u001b[1G\u001b[0K"
     ]
    }
   ],
   "source": [
    "!npx esbuild js/widget.jsx --minify --format=esm --bundle --outdir=static"
   ]
  },
  {
   "cell_type": "code",
   "execution_count": 1,
   "id": "2d384fd8-5a61-4a4e-ba9e-8343db77d392",
   "metadata": {},
   "outputs": [],
   "source": [
    "%config IPCompleter.evaluation='unsafe'\n",
    "\n",
    "import sys\n",
    "from pathlib import Path\n",
    "sys.path.insert(0, str(Path(Path.cwd()).parent) + '/pyiron_nodes')"
   ]
  },
  {
   "cell_type": "markdown",
   "id": "01664ecc-b47e-47fa-a21c-a1b9531efd99",
   "metadata": {},
   "source": [
    "### Create two example workflows (to compute elastic constants and an empty one)"
   ]
  },
  {
   "cell_type": "code",
   "execution_count": 3,
   "id": "4f923d3b-3ede-428e-8d6d-fac62264f78c",
   "metadata": {},
   "outputs": [
    {
     "data": {
      "application/vnd.jupyter.widget-view+json": {
       "model_id": "8f9bf38a1f1d4719b323f0e8b7a7d18a",
       "version_major": 2,
       "version_minor": 0
      },
      "text/plain": []
     },
     "metadata": {},
     "output_type": "display_data"
    }
   ],
   "source": [
    "from pyiron_workflow import Workflow   \n",
    "\n",
    "Workflow.register(\"node_library.atomistic\", \"atomistic\") \n",
    "\n",
    "wf = Workflow('compute_elastic_constants')\n",
    "wf.engine = wf.create.atomistic.engine.ase.M3GNet()\n",
    "wf.bulk = wf.create.atomistic.structure.build.bulk('Al', cubic=True)\n",
    "wf.elastic = wf.create.atomistic.property.elastic.elastic_constants(structure=wf.bulk, engine=wf.engine) #, parameters=parameters)\n",
    "# out = elastic.pull()\n",
    "\n",
    "wf_new = Workflow('new_workflow')"
   ]
  },
  {
   "cell_type": "code",
   "execution_count": 6,
   "id": "005814b6-b152-407d-a130-928d32e51741",
   "metadata": {},
   "outputs": [
    {
     "data": {
      "application/vnd.jupyter.widget-view+json": {
       "model_id": "0f3a4de0b2124f999e3ea0855503ddbd",
       "version_major": 2,
       "version_minor": 0
      },
      "text/plain": [
       "HBox(children=(Accordion(children=(Tree(nodes=(Node(icon_style='warning', name='databases'), Node(icon_style='…"
      ]
     },
     "execution_count": 6,
     "metadata": {},
     "output_type": "execute_result"
    }
   ],
   "source": [
    "from python.pyironflow import PyironFlow\n",
    "\n",
    "pf = PyironFlow([wf])\n",
    "pf.gui"
   ]
  },
  {
   "cell_type": "markdown",
   "id": "527a4315-32e3-45a3-bec5-7efd12163e6b",
   "metadata": {},
   "source": [
    "### Get the grapically build or modified workflow"
   ]
  },
  {
   "cell_type": "code",
   "execution_count": null,
   "id": "9d618ec7-9b51-45bd-b9f9-ede1bdcfc0ee",
   "metadata": {},
   "outputs": [],
   "source": [
    "wf = pf.get_workflow()\n",
    "wf.bulk.outputs.channel_dict['structure'].value"
   ]
  },
  {
   "cell_type": "code",
   "execution_count": null,
   "id": "5c6aeaf5-4694-4498-9bb5-7a83e555e08d",
   "metadata": {},
   "outputs": [],
   "source": [
    "pf.wf_widgets[0].gui.nodes"
   ]
  },
  {
   "cell_type": "markdown",
   "id": "c46db326-daf7-453c-919d-e882b8e8df8b",
   "metadata": {},
   "source": [
    "### You can return the workflow back to the gui "
   ]
  },
  {
   "cell_type": "markdown",
   "id": "99101524-fa8a-4ea2-ada8-be2c9e3708e0",
   "metadata": {},
   "source": [
    "Note: \n",
    "- all the nodes and connections are reproduced\n",
    "- the node positions are presently not stored, you have to place them manually"
   ]
  },
  {
   "cell_type": "code",
   "execution_count": null,
   "id": "c9b1cdf2-374f-4752-9a61-7762b61e64a4",
   "metadata": {},
   "outputs": [],
   "source": [
    "wf = pf.get_workflow()\n",
    "pf2 = PyironFlow([wf])\n",
    "pf2.gui"
   ]
  },
  {
   "cell_type": "markdown",
   "id": "b9b8b084-6c81-42e6-85fd-1b9fe60b296b",
   "metadata": {},
   "source": [
    "#### Get the nodes of the graphically represented workflow (remove the semicolon)"
   ]
  },
  {
   "cell_type": "code",
   "execution_count": null,
   "id": "94c103f6-37f0-44da-8fda-19b88d3a4c54",
   "metadata": {},
   "outputs": [],
   "source": [
    "import json\n",
    "json.loads(pf.wf_widgets[0].gui.nodes);"
   ]
  },
  {
   "cell_type": "markdown",
   "id": "31b94459-6a73-4fcf-9d61-7ccdec3170d3",
   "metadata": {},
   "source": [
    "#### Run the workflow manually (you can also do this in the gui)"
   ]
  },
  {
   "cell_type": "code",
   "execution_count": null,
   "id": "49605a78-999f-4b5f-b519-6691fdf36b6e",
   "metadata": {},
   "outputs": [],
   "source": [
    "out = wf.run()"
   ]
  },
  {
   "cell_type": "markdown",
   "id": "0fed749e-8285-428b-8f5d-a6c47d981556",
   "metadata": {},
   "source": [
    "#### Open the log window for debugging"
   ]
  },
  {
   "cell_type": "code",
   "execution_count": null,
   "id": "ae6cee08-34b5-4f88-b963-d857dc15ef20",
   "metadata": {},
   "outputs": [],
   "source": [
    "pf.out_log"
   ]
  },
  {
   "cell_type": "markdown",
   "id": "9813abeb-7b4a-4fe6-beab-4b45251e75df",
   "metadata": {},
   "source": [
    "TODO:\n",
    "  - create new label if same node is included multiple times in the same workflow (feature should be provided on the pyiron_workflow side)\n",
    "  - Include values at ports (if simple data structures)\n",
    "  - Tree view for new nodes\n",
    "  - add top buttons: 'run' (entire workflow)\n",
    "  - automatic arrangement of nodes\n",
    "  - Allow editing input channels (e.g. chemical element)\n",
    "  - Keep state of a node persistent, i.e., if had had run the output etc. should be available without rerunning (keep workflow instance if no changes have been applied)\n",
    "  - Bugs:\n",
    "      - node with multiple outputs cannot be jsonified (get_import_path(node) fails)"
   ]
  },
  {
   "cell_type": "markdown",
   "id": "94f7c453-f7d2-47c4-b4f8-804a766af71f",
   "metadata": {},
   "source": [
    "### Ideas, concepts"
   ]
  },
  {
   "cell_type": "markdown",
   "id": "d1afacbd-b8eb-444d-ae28-e3bdcae7a0a2",
   "metadata": {},
   "source": [
    "The follwoing ipywidget may be useful (e.g. to replace the tabs)"
   ]
  },
  {
   "cell_type": "code",
   "execution_count": 26,
   "id": "37f1b1f6-0cfa-43cd-840a-67f00672060b",
   "metadata": {},
   "outputs": [
    {
     "data": {
      "application/vnd.jupyter.widget-view+json": {
       "model_id": "c7969df5ac8d461ba636a61d6ed1c15b",
       "version_major": 2,
       "version_minor": 0
      },
      "text/plain": [
       "TagsInput(value=['pizza', 'fries'], allow_duplicates=False, tabbable=False)"
      ]
     },
     "execution_count": 26,
     "metadata": {},
     "output_type": "execute_result"
    }
   ],
   "source": [
    "from ipywidgets import TagsInput\n",
    "tabs = TagsInput(\n",
    "    value=['pizza', 'fries'],\n",
    "    # allowed_tags=['pizza', 'fries', 'tomatoes', 'steak'],\n",
    "    allow_duplicates=False\n",
    ")\n",
    "tabs"
   ]
  },
  {
   "cell_type": "code",
   "execution_count": 27,
   "id": "12912768-6c3e-4101-a8ab-c68d5cfc3594",
   "metadata": {},
   "outputs": [],
   "source": [
    "import ipywidgets as widgets\n",
    "from traitlets import Tuple, Any, Unicode, Enum, Int, observe, validate, link\n",
    "\n",
    "class InputTags(widgets.HBox, widgets.ValueWidget):\n",
    "    allowed_tags = Tuple(allow_none=True)\n",
    "    max_tags = Int(allow_none=True, default_value=None, min=1)\n",
    "    options = Tuple()\n",
    "    value = Any()\n",
    "    description = Unicode()\n",
    "    allowed_type = Enum((str,float,None))\n",
    "    _suggestions = Tuple()\n",
    "    def __init__(self, value=None, description=None, allowed_tags=None, allowed_type=str, max_tags=None, color=None, options=None, **kwargs):\n",
    "        '''value=None, description=None, allowed_tags=None, max_tags=None, color=None'''\n",
    "        self._cbox = widgets.Combobox(layout=widgets.Layout(min_width='110px', flex='1', margin = '2px -5px 0px 2px'), \n",
    "                                      placeholder = \"type or select\")\n",
    "        super().__init__(**kwargs)\n",
    "        if description is None:\n",
    "            description=''\n",
    "        self.max_tags = max_tags\n",
    "        self._btn_color = color\n",
    "        self._btns_cont = widgets.HBox([self._cbox], layout=dict(flex='1', min_width='220px'))\n",
    "        self.slct_all_btn = widgets.Button(icon='angle-double-left', tooltip='select all', button_style='info', \n",
    "                                           layout=dict(min_width='32px', width='auto', margin='2px -2px 0px 2px'))\n",
    "        self.clear_all_btn = widgets.Button(icon='times', tooltip='clear all', button_style='warning', \n",
    "                                            layout=dict(min_width='32px', width='auto', margin='2px 0px 0px 2px'))\n",
    "        self.validate_btn = widgets.Button(icon='check', tooltip='add to queue', button_style='success', \n",
    "                                           layout=dict(min_width='32px', width='auto', margin='2px 0px 0px 2px'))\n",
    "        self.validate_btn.on_click(lambda b: self.submit())\n",
    "        self.validate_btn_container = widgets.HBox(layout=dict(margin='0px -2px -2px 0px'))\n",
    "        self.slct_all_btn.on_click(lambda b: self.select_all_startwith(self._cbox.value))\n",
    "        self.clear_all_btn.on_click(lambda b: self.clear_cbox())\n",
    "        self._cbox.observe(self.on_T_change, names='value')\n",
    "        self._cbox.on_submit(lambda change: self.submit())\n",
    "        self.buttons = widgets.HBox([self._btns_cont], layout=dict(flex='1', flex_flow='wrap', margin='1px'))\n",
    "        self._description_widget = widgets.HTML()\n",
    "        self.children = [self._description_widget, self.buttons]\n",
    "        self.description = description\n",
    "        self.allowed_type = allowed_type\n",
    "        self.allowed_tags = allowed_tags\n",
    "        link((self._cbox, 'options'), (self, '_suggestions'))\n",
    "        self.options = options if options is not None else ()\n",
    "        self.value = value if value is not None else ()\n",
    "        \n",
    "    def _isvalid(self, obj):\n",
    "        #allowed_type = (float, int) if self.allowed_type==float else self.allowed_type\n",
    "        if obj is None or isinstance(obj, (list,tuple)):\n",
    "            return True\n",
    "        #elif obj and isinstance(obj, (list, tuple)):\n",
    "        #    return all(isinstance(s, allowed_type) for s in obj)\n",
    "        else:\n",
    "            return False\n",
    "\n",
    "    @observe('description')\n",
    "    def _observe_description(self, change):\n",
    "        desc = change.new\n",
    "        value = f'''<font \"{self._btn_color}\">{desc}</font>'''\n",
    "        width = '86px' if desc!='' else '0px'\n",
    "        self._description_widget.value = value\n",
    "        self._description_widget.layout.width = width\n",
    "    \n",
    "    def _validate_value_type(self, val, allowed_type, allowed_tags=None):\n",
    "        if val is None:\n",
    "            val = ()\n",
    "        val_new = []\n",
    "        for v in val:\n",
    "            if str(v).strip()!='':\n",
    "                if allowed_tags is None or \\\n",
    "                    (allowed_tags is not None and v in allowed_tags):\n",
    "                    try:\n",
    "                        v = allowed_type(v)\n",
    "                        val_new.append(v)\n",
    "                    except ValueError:\n",
    "                        pass\n",
    "        return tuple(val_new)\n",
    "\n",
    "\n",
    "    @validate('allowed_tags')\n",
    "    def _valid_allowed_tags(self, proposal):\n",
    "        val = proposal['value']\n",
    "        if all(isinstance(v,(float,int)) for v in val):\n",
    "            val = tuple(float(v) for v in val)\n",
    "        else:\n",
    "            val = tuple(str(v) for v in val)\n",
    "        return val\n",
    "\n",
    "    @observe('allowed_tags')\n",
    "    def _observe_allowed_tags(self, change):\n",
    "        val = change.new\n",
    "        if val is not None:\n",
    "            if val and isinstance(val[0], float):\n",
    "                self.allowed_type = float\n",
    "            else:\n",
    "                self.allowed_type = str\n",
    "            self.options = val\n",
    "            if self.value is not None:\n",
    "                self.value = tuple(v for v in self.value if v in val)\n",
    "    \n",
    "    @observe('allowed_type')\n",
    "    def _observe_allowed_type(self, change):\n",
    "        self.value = self._validate_value_type(self.value, allowed_type=change.new)\n",
    "        if self.allowed_tags is not None:\n",
    "            at = self._validate_value_type(self.allowed_tags, allowed_type=change.new)\n",
    "            if not at:\n",
    "                at = None\n",
    "            self.allowed_tags = at\n",
    "\n",
    "    @validate('options')\n",
    "    def _valid_options(self, proposal):\n",
    "        val = proposal['value']\n",
    "        opts = self._validate_value_type(val, allowed_type=self.allowed_type, allowed_tags=self.allowed_tags)\n",
    "        if self.allowed_tags is not None:\n",
    "           opts = tuple(sorted(set(opts+self.allowed_tags)))\n",
    "        return opts\n",
    "\n",
    "    @observe('value','options')\n",
    "    def _update_suggestions(self, change):\n",
    "        opts = set(self.options).difference(set(self.value))\n",
    "        self._suggestions = sorted(tuple(str(o) for o in opts))\n",
    "        \n",
    "    @validate('value')\n",
    "    def _valid_value(self, proposal):\n",
    "        val = proposal['value']\n",
    "        assert self._isvalid(val), f'{val} of type {type(val)} must be a list or tuple of {self.allowed_type}'\n",
    "        newval = self._validate_value_type(val, allowed_type=self.allowed_type, allowed_tags=self.allowed_tags)\n",
    "        return tuple(sorted(self.allowed_type(v) for v in newval))[:self.max_tags]\n",
    "    \n",
    "    @observe('value')\n",
    "    def _observe_value(self, change):\n",
    "        btns = [b for b in self.buttons.children[:-1] if b.description in change.new]\n",
    "        oldval = [] if change.old is None else change.old\n",
    "        for v in change.new:\n",
    "            if v not in oldval:\n",
    "                desc = f\"'{v}'\" if self.allowed_type is str else f\"{v}\"\n",
    "                button = widgets.Button(description = desc, tooltip=str(v), disabled=True,\n",
    "                                        layout=dict(width='auto'),\n",
    "                                        style=dict(button_color=self._btn_color))\n",
    "                close_btn = widgets.Button(icon='times', \n",
    "                                            layout=dict(width='32px', margin='0px -5px 0px 0px'),\n",
    "                                            style=dict(button_color=self._btn_color))\n",
    "                close_btn.on_click(self._on_close_button_click)\n",
    "                bbox=widgets.HBox([close_btn,button], layout=dict(align_items='center', width='auto'))\n",
    "                bbox.description = close_btn.tag = v\n",
    "                bbox.tag = 'entry'\n",
    "                btns.append(bbox)\n",
    "        self._cbox.value = ''\n",
    "        opts = set(self.options+self.value)\n",
    "        self.options = tuple(opts)\n",
    "        if self.allowed_tags is None or len(self.allowed_tags) != len(btns):\n",
    "            self._btns_cont.children = (self._cbox, self.validate_btn_container, self.slct_all_btn, self.clear_all_btn)\n",
    "        elif not self.value:\n",
    "            self._btns_cont.children = (self._cbox, self.clear_all_btn,)\n",
    "        else:\n",
    "            self._btns_cont.children = (self.clear_all_btn,)\n",
    "        self.buttons.children = btns + [self._btns_cont]\n",
    "   \n",
    "    @observe('_suggestions')\n",
    "    def _update_placeholder(self, change):\n",
    "        opts = self._suggestions\n",
    "        suff = ''\n",
    "        if not opts:\n",
    "            opts = ('type or select',)\n",
    "        elif len(opts)>5:\n",
    "            suff = '...'\n",
    "            opts = opts[:5]\n",
    "        opts_str = f'{opts}'\n",
    "        if self.allowed_tags is None:\n",
    "            pref = 'suggestions'\n",
    "        else:\n",
    "            pref = 'allowed tags'\n",
    "        if self.allowed_type is float:\n",
    "            typ = 'number'\n",
    "        else:\n",
    "            typ = 'string'\n",
    "        self._cbox.placeholder = f'{pref} ({typ}): {opts_str[1:-1]}{suff}'\n",
    "\n",
    "    def _on_close_button_click(self, b):\n",
    "        self.value = [child.description for child in self.buttons.children[:-1] if child.description!=b.tag]\n",
    "   \n",
    "    def on_T_change(self, change=None):\n",
    "        if change.new.strip() == '':\n",
    "            self.validate_btn_container.children = []\n",
    "        else:\n",
    "            self.validate_btn_container.children = [self.validate_btn]\n",
    "        self.slct_all_btn.tooltip = f\"select all starting with {change.new}\" if change.new!='' else \"select all\"\n",
    "        if change.new!='' and self.allowed_tags is not None:\n",
    "            val = [v for v in self._cbox.options if v.startswith(change.new)]\n",
    "            if len(val)==1:\n",
    "                self.submit(val[0])\n",
    "            if change.new in self._cbox.options and len(val)==1:\n",
    "                self.submit()\n",
    "            \n",
    "    def submit(self, val=None):\n",
    "        val = self._cbox.value.strip() if val is None else val\n",
    "        if val != '':\n",
    "            try:\n",
    "                val = self.allowed_type(val)\n",
    "            except ValueError:\n",
    "                pass\n",
    "            if self.max_tags is None or len(self.value)<self.max_tags:\n",
    "                self.value = self.value + (val,)\n",
    "            else:\n",
    "                self.value = [val]\n",
    "    \n",
    "    def select_all_startwith(self, key):\n",
    "        self.value = [v for v in self._suggestions if v.startswith(key)]\n",
    "    \n",
    "    def clear_cbox(self):\n",
    "        self.value = tuple()"
   ]
  },
  {
   "cell_type": "code",
   "execution_count": 31,
   "id": "38969bc7-937c-41ec-b1bc-a4d91aba8dba",
   "metadata": {},
   "outputs": [
    {
     "data": {
      "application/vnd.jupyter.widget-view+json": {
       "model_id": "f42c51f5939649f2bc0690206355dcda",
       "version_major": 2,
       "version_minor": 0
      },
      "text/plain": [
       "InputTags(value=(), children=(HTML(value=''), HBox(children=(HBox(children=(Combobox(value='', layout=Layout(f…"
      ]
     },
     "execution_count": 31,
     "metadata": {},
     "output_type": "execute_result"
    }
   ],
   "source": [
    "it = InputTags()\n",
    "it"
   ]
  },
  {
   "cell_type": "code",
   "execution_count": 41,
   "id": "788bcb99-e3ee-44be-8be6-980e767612d2",
   "metadata": {},
   "outputs": [
    {
     "data": {
      "text/plain": [
       "{'_dom_classes': <ipywidgets.widgets.trait_types.TypedTuple at 0x10caf7fb0>,\n",
       " '_model_module': <traitlets.traitlets.Unicode at 0x12f66c350>,\n",
       " '_model_module_version': <traitlets.traitlets.Unicode at 0x12f66c470>,\n",
       " '_model_name': <traitlets.traitlets.Unicode at 0x12f30be30>,\n",
       " '_msg_callbacks': <traitlets.traitlets.Instance at 0x12f612390>,\n",
       " '_property_lock': <traitlets.traitlets.Dict at 0x12f612330>,\n",
       " '_states_to_send': <traitlets.traitlets.Set at 0x12f612360>,\n",
       " '_suggestions': <traitlets.traitlets.Tuple at 0x1582e6360>,\n",
       " '_view_count': <traitlets.traitlets.Int at 0x12f612240>,\n",
       " '_view_module': <traitlets.traitlets.Unicode at 0x12f66c4a0>,\n",
       " '_view_module_version': <traitlets.traitlets.Unicode at 0x12f66c530>,\n",
       " '_view_name': <traitlets.traitlets.Unicode at 0x12f66d7c0>,\n",
       " 'allowed_tags': <traitlets.traitlets.Tuple at 0x158b1a750>,\n",
       " 'allowed_type': <traitlets.traitlets.Enum at 0x1582e5f70>,\n",
       " 'box_style': <traitlets.traitlets.CaselessStrEnum at 0x12f66d760>,\n",
       " 'children': <ipywidgets.widgets.trait_types.TypedTuple at 0x12f66d700>,\n",
       " 'comm': <traitlets.traitlets.Any at 0x12f612270>,\n",
       " 'description': <traitlets.traitlets.Unicode at 0x1582e6810>,\n",
       " 'keys': <traitlets.traitlets.List at 0x12f6122a0>,\n",
       " 'layout': <ipywidgets.widgets.trait_types.InstanceDict at 0x11f2ecb60>,\n",
       " 'log': <traitlets.traitlets.Instance at 0x12f4de840>,\n",
       " 'max_tags': <traitlets.traitlets.Int at 0x158b1a9f0>,\n",
       " 'options': <traitlets.traitlets.Tuple at 0x1582e6a80>,\n",
       " 'tabbable': <traitlets.traitlets.Bool at 0x12f4354f0>,\n",
       " 'tooltip': <traitlets.traitlets.Unicode at 0x12f33c1a0>,\n",
       " 'value': <traitlets.traitlets.Any at 0x1582e6720>}"
      ]
     },
     "execution_count": 41,
     "metadata": {},
     "output_type": "execute_result"
    }
   ],
   "source": [
    "it.traits()"
   ]
  },
  {
   "cell_type": "code",
   "execution_count": 24,
   "id": "205e47c2-3250-4c73-b847-e0724c0ba4ef",
   "metadata": {},
   "outputs": [],
   "source": [
    "tabs.tabbable"
   ]
  },
  {
   "cell_type": "code",
   "execution_count": null,
   "id": "1e123ebc-800d-4257-ad51-732aaa051925",
   "metadata": {},
   "outputs": [],
   "source": [
    "from python.pyironflow import PyironFlow\n",
    "\n",
    "pf = PyironFlow([])\n",
    "pf.gui"
   ]
  },
  {
   "cell_type": "code",
   "execution_count": null,
   "id": "fcb19a81-29a2-4241-81d9-ecd91da77731",
   "metadata": {},
   "outputs": [],
   "source": [
    "from pyiron_workflow import Workflow   \n",
    "\n",
    "Workflow.register(\"node_library.databases\", 'databases') \n",
    "\n",
    "wf = Workflow('database')\n",
    "wf.database = wf.create.databases.elasticity.de_jong()\n"
   ]
  },
  {
   "cell_type": "code",
   "execution_count": null,
   "id": "cad9115f-95b9-471d-8183-2ec72e879f9f",
   "metadata": {},
   "outputs": [],
   "source": [
    "df = wf.run()"
   ]
  },
  {
   "cell_type": "code",
   "execution_count": null,
   "id": "1fd76521-f24b-4beb-8d6b-128c73f19881",
   "metadata": {},
   "outputs": [],
   "source": [
    "wf.database.run()"
   ]
  },
  {
   "cell_type": "code",
   "execution_count": 2,
   "id": "a16ebb77-f89a-487c-8c90-9495b76b8b40",
   "metadata": {},
   "outputs": [
    {
     "data": {
      "application/vnd.jupyter.widget-view+json": {
       "model_id": "4317ab2821fe4f6c80485c2f0a2349d3",
       "version_major": 2,
       "version_minor": 0
      },
      "text/plain": []
     },
     "metadata": {},
     "output_type": "display_data"
    }
   ],
   "source": [
    "from pyiron_workflow import Workflow   \n",
    "\n",
    "Workflow.register(\"node_library.atomistic\", \"atomistic\") \n",
    "\n",
    "wf = Workflow('database')\n",
    "wf.bulk = wf.create.atomistic.structure.build.cubic_bulk_cell('Al', cell_size=3)\n",
    "wf.phonopy = wf.create.atomistic.property.phonons.create_phonopy(structure=wf.bulk)\n",
    "wf.dyn_matrix = wf.create.atomistic.property.phonons.get_dynamical_matrix(phonopy=wf.phonopy.outputs.phonopy)\n",
    "wf.eigenvalues = wf.create.atomistic.property.phonons.get_eigenvalues(matrix=wf.dyn_matrix)"
   ]
  },
  {
   "cell_type": "code",
   "execution_count": 3,
   "id": "5b3c291a-78f7-40fa-995c-58702218e33d",
   "metadata": {},
   "outputs": [
    {
     "data": {
      "application/vnd.jupyter.widget-view+json": {
       "model_id": "c3417e4a0af7493b86fae9322b9b524b",
       "version_major": 2,
       "version_minor": 0
      },
      "text/plain": [
       "HBox(children=(Accordion(children=(Tree(nodes=(Node(icon_style='warning', name='databases'), Node(icon_style='…"
      ]
     },
     "execution_count": 3,
     "metadata": {},
     "output_type": "execute_result"
    }
   ],
   "source": [
    "from python.pyironflow import PyironFlow\n",
    "\n",
    "pf = PyironFlow([wf])\n",
    "pf.gui"
   ]
  },
  {
   "cell_type": "code",
   "execution_count": 10,
   "id": "b27a3e6f-0956-43ac-9ba3-796896cc9c6f",
   "metadata": {},
   "outputs": [
    {
     "data": {
      "image/png": "[encoded data removed]",
      "text/plain": [
       "<Figure size 640x480 with 1 Axes>"
      ]
     },
     "metadata": {},
     "output_type": "display_data"
    }
   ],
   "source": [
    "from matplotlib import pyplot as plt\n",
    "\n",
    "\n",
    "pic = plt.hist(wf.eigenvalues.pull(), bins=10)"
   ]
  },
  {
   "cell_type": "code",
   "execution_count": 17,
   "id": "128bb28a-27cd-4208-b73b-698c828ba7e6",
   "metadata": {},
   "outputs": [
    {
     "data": {
      "text/plain": [
       "tuple"
      ]
     },
     "execution_count": 17,
     "metadata": {},
     "output_type": "execute_result"
    }
   ],
   "source": []
  },
  {
   "cell_type": "code",
   "execution_count": 6,
   "id": "f39cfe0f-e3c0-407b-827b-d2508933c794",
   "metadata": {},
   "outputs": [
    {
     "data": {
      "application/vnd.jupyter.widget-view+json": {
       "model_id": "93f4ae7364844ffc92a6b051e4eed766",
       "version_major": 2,
       "version_minor": 0
      },
      "text/plain": [
       "HBox(children=(Accordion(children=(Tree(nodes=(Node(icon_style='warning', name='databases'), Node(icon_style='…"
      ]
     },
     "execution_count": 6,
     "metadata": {},
     "output_type": "execute_result"
    }
   ],
   "source": [
    "from python.pyironflow import PyironFlow\n",
    "\n",
    "pf = PyironFlow([])\n",
    "pf.gui"
   ]
  },
  {
   "cell_type": "code",
   "execution_count": null,
   "id": "f225be2a-90a0-4e5c-b6ed-07518bc1fa6c",
   "metadata": {},
   "outputs": [],
   "source": []
  }
 ],
 "metadata": {
  "kernelspec": {
   "display_name": "Python 3 (ipykernel)",
   "language": "python",
   "name": "python3"
  },
  "language_info": {
   "codemirror_mode": {
    "name": "ipython",
    "version": 3
   },
   "file_extension": ".py",
   "mimetype": "text/x-python",
   "name": "python",
   "nbconvert_exporter": "python",
   "pygments_lexer": "ipython3",
   "version": "3.12.4"
  }
 },
 "nbformat": 4,
 "nbformat_minor": 5
}
